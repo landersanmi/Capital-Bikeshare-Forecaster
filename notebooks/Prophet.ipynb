{
 "cells": [
  {
   "cell_type": "markdown",
   "metadata": {
    "collapsed": true,
    "pycharm": {
     "name": "#%% md\n"
    }
   },
   "source": [
    "# PROPHET"
   ]
  },
  {
   "cell_type": "markdown",
   "source": [
    "### IMPORTS"
   ],
   "metadata": {
    "collapsed": false,
    "pycharm": {
     "name": "#%% md\n"
    }
   }
  },
  {
   "cell_type": "code",
   "execution_count": null,
   "outputs": [],
   "source": [
    "# Ejecutar en Anaconda Prompt\n",
    "!conda install -c conda-forge prophet"
   ],
   "metadata": {
    "collapsed": false,
    "pycharm": {
     "name": "#%%\n",
     "is_executing": true
    }
   }
  },
  {
   "cell_type": "code",
   "execution_count": 1,
   "outputs": [
    {
     "name": "stderr",
     "output_type": "stream",
     "text": [
      "Importing plotly failed. Interactive plots will not work.\n"
     ]
    }
   ],
   "source": [
    "import time\n",
    "import pandas as pd\n",
    "import numpy as np\n",
    "\n",
    "from math import sqrt\n",
    "from sklearn.metrics import mean_squared_error\n",
    "from matplotlib import pyplot as plt\n",
    "from itertools import product\n",
    "from prophet import Prophet\n",
    "from prophet.diagnostics import cross_validation, performance_metrics\n",
    "from prophet.plot import plot_cross_validation_metric"
   ],
   "metadata": {
    "collapsed": false,
    "pycharm": {
     "name": "#%%\n"
    }
   }
  },
  {
   "cell_type": "markdown",
   "source": [
    "### CARGA DE COMPLETE RETURNS Y RENTALS"
   ],
   "metadata": {
    "collapsed": false,
    "pycharm": {
     "name": "#%% md\n"
    }
   }
  },
  {
   "cell_type": "code",
   "execution_count": 2,
   "outputs": [],
   "source": [
    "completeRentalsDf = pd.read_csv('../data/completeData/rentals/completeRentalsDf_EXOGVAR.csv')\n",
    "completeReturnsDf = pd.read_csv('../data/completeData/returns/completeReturnsDf_EXOGVAR.csv')"
   ],
   "metadata": {
    "collapsed": false,
    "pycharm": {
     "name": "#%%\n"
    }
   }
  },
  {
   "cell_type": "code",
   "execution_count": null,
   "outputs": [],
   "source": [
    "completeRentalsDf = pd.read_csv('../data/completeData/rentals/completeRentalsDf_LOG1P_EXOGVAR.csv')\n",
    "completeReturnsDf = pd.read_csv('../data/completeData/returns/completeReturnsDf_LOG1P_EXOGVAR.csv')"
   ],
   "metadata": {
    "collapsed": false,
    "pycharm": {
     "name": "#%%\n"
    }
   }
  },
  {
   "cell_type": "markdown",
   "source": [
    "### TRAIN-VALIDATION-TEST SPLIT"
   ],
   "metadata": {
    "collapsed": false,
    "pycharm": {
     "name": "#%% md\n"
    }
   }
  },
  {
   "cell_type": "code",
   "execution_count": 3,
   "outputs": [],
   "source": [
    "TRAIN_DAYS = 4000\n",
    "TEST_DAYS = 102\n",
    "STATION = '31201'"
   ],
   "metadata": {
    "collapsed": false,
    "pycharm": {
     "name": "#%%\n"
    }
   }
  },
  {
   "cell_type": "code",
   "execution_count": 4,
   "outputs": [
    {
     "data": {
      "text/plain": "                    ds  y  temp  humidity  31201_lag24  31201_lag48  \\\n0  2010-09-27 00:00:00  0  19.0     72.28          0.0          0.0   \n1  2010-09-27 01:00:00  0  17.8     88.03          0.0          0.0   \n2  2010-09-27 02:00:00  0  17.8     88.03          0.0          0.0   \n3  2010-09-27 03:00:00  0  17.9     89.30          0.0          0.0   \n4  2010-09-27 04:00:00  0  17.9     93.58          0.0          0.0   \n5  2010-09-27 05:00:00  0  18.1     93.60          0.0          0.0   \n6  2010-09-27 06:00:00  0  18.9     89.38          0.0          0.0   \n7  2010-09-27 07:00:00  0  19.1     94.17          0.0          0.0   \n8  2010-09-27 08:00:00  1  20.0     93.68          0.0          0.0   \n9  2010-09-27 09:00:00  0  21.8     94.29          0.0          1.0   \n\n   31201_lag168  \n0           0.0  \n1           0.0  \n2           0.0  \n3           0.0  \n4           0.0  \n5           0.0  \n6           0.0  \n7           0.0  \n8           0.0  \n9           0.0  ",
      "text/html": "<div>\n<style scoped>\n    .dataframe tbody tr th:only-of-type {\n        vertical-align: middle;\n    }\n\n    .dataframe tbody tr th {\n        vertical-align: top;\n    }\n\n    .dataframe thead th {\n        text-align: right;\n    }\n</style>\n<table border=\"1\" class=\"dataframe\">\n  <thead>\n    <tr style=\"text-align: right;\">\n      <th></th>\n      <th>ds</th>\n      <th>y</th>\n      <th>temp</th>\n      <th>humidity</th>\n      <th>31201_lag24</th>\n      <th>31201_lag48</th>\n      <th>31201_lag168</th>\n    </tr>\n  </thead>\n  <tbody>\n    <tr>\n      <th>0</th>\n      <td>2010-09-27 00:00:00</td>\n      <td>0</td>\n      <td>19.0</td>\n      <td>72.28</td>\n      <td>0.0</td>\n      <td>0.0</td>\n      <td>0.0</td>\n    </tr>\n    <tr>\n      <th>1</th>\n      <td>2010-09-27 01:00:00</td>\n      <td>0</td>\n      <td>17.8</td>\n      <td>88.03</td>\n      <td>0.0</td>\n      <td>0.0</td>\n      <td>0.0</td>\n    </tr>\n    <tr>\n      <th>2</th>\n      <td>2010-09-27 02:00:00</td>\n      <td>0</td>\n      <td>17.8</td>\n      <td>88.03</td>\n      <td>0.0</td>\n      <td>0.0</td>\n      <td>0.0</td>\n    </tr>\n    <tr>\n      <th>3</th>\n      <td>2010-09-27 03:00:00</td>\n      <td>0</td>\n      <td>17.9</td>\n      <td>89.30</td>\n      <td>0.0</td>\n      <td>0.0</td>\n      <td>0.0</td>\n    </tr>\n    <tr>\n      <th>4</th>\n      <td>2010-09-27 04:00:00</td>\n      <td>0</td>\n      <td>17.9</td>\n      <td>93.58</td>\n      <td>0.0</td>\n      <td>0.0</td>\n      <td>0.0</td>\n    </tr>\n    <tr>\n      <th>5</th>\n      <td>2010-09-27 05:00:00</td>\n      <td>0</td>\n      <td>18.1</td>\n      <td>93.60</td>\n      <td>0.0</td>\n      <td>0.0</td>\n      <td>0.0</td>\n    </tr>\n    <tr>\n      <th>6</th>\n      <td>2010-09-27 06:00:00</td>\n      <td>0</td>\n      <td>18.9</td>\n      <td>89.38</td>\n      <td>0.0</td>\n      <td>0.0</td>\n      <td>0.0</td>\n    </tr>\n    <tr>\n      <th>7</th>\n      <td>2010-09-27 07:00:00</td>\n      <td>0</td>\n      <td>19.1</td>\n      <td>94.17</td>\n      <td>0.0</td>\n      <td>0.0</td>\n      <td>0.0</td>\n    </tr>\n    <tr>\n      <th>8</th>\n      <td>2010-09-27 08:00:00</td>\n      <td>1</td>\n      <td>20.0</td>\n      <td>93.68</td>\n      <td>0.0</td>\n      <td>0.0</td>\n      <td>0.0</td>\n    </tr>\n    <tr>\n      <th>9</th>\n      <td>2010-09-27 09:00:00</td>\n      <td>0</td>\n      <td>21.8</td>\n      <td>94.29</td>\n      <td>0.0</td>\n      <td>1.0</td>\n      <td>0.0</td>\n    </tr>\n  </tbody>\n</table>\n</div>"
     },
     "execution_count": 4,
     "metadata": {},
     "output_type": "execute_result"
    }
   ],
   "source": [
    "df_train = completeRentalsDf.filter(['Date', STATION], axis=1)\n",
    "df_train = df_train.loc[0:TRAIN_DAYS*24-1]\n",
    "df_train.rename(columns={\"Date\": \"ds\", STATION: \"y\"}, inplace=True)\n",
    "\n",
    "df_train_exog = completeRentalsDf.filter(['temp', 'humidity', STATION+'_lag24', STATION+'_lag48', STATION+'_lag168'], axis=1)\n",
    "df_train_exog = df_train_exog.loc[0:TRAIN_DAYS*24-1]\n",
    "\n",
    "df_train = pd.concat([df_train, df_train_exog], axis=1, join=\"inner\")\n",
    "\n",
    "df_train.head(10)"
   ],
   "metadata": {
    "collapsed": false,
    "pycharm": {
     "name": "#%%\n"
    }
   }
  },
  {
   "cell_type": "code",
   "execution_count": 5,
   "outputs": [
    {
     "data": {
      "text/plain": "                        ds  y  temp  humidity  31201_lag24  31201_lag48  \\\n96000  2021-09-09 00:00:00  1  24.8     77.31          1.0          0.0   \n96001  2021-09-09 01:00:00  0  23.6     75.26          0.0          0.0   \n96002  2021-09-09 02:00:00  0  22.8     75.93          0.0          4.0   \n96003  2021-09-09 03:00:00  0  22.1     81.64          0.0          0.0   \n96004  2021-09-09 04:00:00  0  21.1     89.72          0.0          0.0   \n96005  2021-09-09 05:00:00  0  21.0     87.48          0.0          0.0   \n96006  2021-09-09 06:00:00  4  21.0     87.59          3.0          3.0   \n96007  2021-09-09 07:00:00  5  21.0     87.72          4.0          8.0   \n96008  2021-09-09 08:00:00  4  21.1     87.66         11.0         10.0   \n96009  2021-09-09 09:00:00  5  21.1     87.62          7.0          5.0   \n\n       31201_lag168  \n96000           1.0  \n96001           0.0  \n96002           2.0  \n96003           0.0  \n96004           0.0  \n96005           1.0  \n96006           0.0  \n96007           9.0  \n96008           7.0  \n96009           4.0  ",
      "text/html": "<div>\n<style scoped>\n    .dataframe tbody tr th:only-of-type {\n        vertical-align: middle;\n    }\n\n    .dataframe tbody tr th {\n        vertical-align: top;\n    }\n\n    .dataframe thead th {\n        text-align: right;\n    }\n</style>\n<table border=\"1\" class=\"dataframe\">\n  <thead>\n    <tr style=\"text-align: right;\">\n      <th></th>\n      <th>ds</th>\n      <th>y</th>\n      <th>temp</th>\n      <th>humidity</th>\n      <th>31201_lag24</th>\n      <th>31201_lag48</th>\n      <th>31201_lag168</th>\n    </tr>\n  </thead>\n  <tbody>\n    <tr>\n      <th>96000</th>\n      <td>2021-09-09 00:00:00</td>\n      <td>1</td>\n      <td>24.8</td>\n      <td>77.31</td>\n      <td>1.0</td>\n      <td>0.0</td>\n      <td>1.0</td>\n    </tr>\n    <tr>\n      <th>96001</th>\n      <td>2021-09-09 01:00:00</td>\n      <td>0</td>\n      <td>23.6</td>\n      <td>75.26</td>\n      <td>0.0</td>\n      <td>0.0</td>\n      <td>0.0</td>\n    </tr>\n    <tr>\n      <th>96002</th>\n      <td>2021-09-09 02:00:00</td>\n      <td>0</td>\n      <td>22.8</td>\n      <td>75.93</td>\n      <td>0.0</td>\n      <td>4.0</td>\n      <td>2.0</td>\n    </tr>\n    <tr>\n      <th>96003</th>\n      <td>2021-09-09 03:00:00</td>\n      <td>0</td>\n      <td>22.1</td>\n      <td>81.64</td>\n      <td>0.0</td>\n      <td>0.0</td>\n      <td>0.0</td>\n    </tr>\n    <tr>\n      <th>96004</th>\n      <td>2021-09-09 04:00:00</td>\n      <td>0</td>\n      <td>21.1</td>\n      <td>89.72</td>\n      <td>0.0</td>\n      <td>0.0</td>\n      <td>0.0</td>\n    </tr>\n    <tr>\n      <th>96005</th>\n      <td>2021-09-09 05:00:00</td>\n      <td>0</td>\n      <td>21.0</td>\n      <td>87.48</td>\n      <td>0.0</td>\n      <td>0.0</td>\n      <td>1.0</td>\n    </tr>\n    <tr>\n      <th>96006</th>\n      <td>2021-09-09 06:00:00</td>\n      <td>4</td>\n      <td>21.0</td>\n      <td>87.59</td>\n      <td>3.0</td>\n      <td>3.0</td>\n      <td>0.0</td>\n    </tr>\n    <tr>\n      <th>96007</th>\n      <td>2021-09-09 07:00:00</td>\n      <td>5</td>\n      <td>21.0</td>\n      <td>87.72</td>\n      <td>4.0</td>\n      <td>8.0</td>\n      <td>9.0</td>\n    </tr>\n    <tr>\n      <th>96008</th>\n      <td>2021-09-09 08:00:00</td>\n      <td>4</td>\n      <td>21.1</td>\n      <td>87.66</td>\n      <td>11.0</td>\n      <td>10.0</td>\n      <td>7.0</td>\n    </tr>\n    <tr>\n      <th>96009</th>\n      <td>2021-09-09 09:00:00</td>\n      <td>5</td>\n      <td>21.1</td>\n      <td>87.62</td>\n      <td>7.0</td>\n      <td>5.0</td>\n      <td>4.0</td>\n    </tr>\n  </tbody>\n</table>\n</div>"
     },
     "execution_count": 5,
     "metadata": {},
     "output_type": "execute_result"
    }
   ],
   "source": [
    "df_validation = completeRentalsDf.filter(['Date', STATION], axis=1)\n",
    "df_validation = df_validation.loc[TRAIN_DAYS*24:len(df_validation)-TEST_DAYS*24-1]\n",
    "df_validation.rename(columns={\"Date\": \"ds\", STATION:\"y\"}, inplace=True)\n",
    "\n",
    "df_validation_exog = completeRentalsDf.filter(['temp', 'humidity', STATION+'_lag24', STATION+'_lag48', STATION+'_lag168'], axis=1)\n",
    "df_validation_exog = df_validation_exog.loc[TRAIN_DAYS*24:len(df_validation_exog)-TEST_DAYS*24-1]\n",
    "\n",
    "df_validation = pd.concat([df_validation, df_validation_exog], axis=1, join=\"inner\")\n",
    "\n",
    "df_validation.head(10)"
   ],
   "metadata": {
    "collapsed": false,
    "pycharm": {
     "name": "#%%\n"
    }
   }
  },
  {
   "cell_type": "code",
   "execution_count": 6,
   "outputs": [
    {
     "data": {
      "text/plain": "                        ds  y  temp  humidity  31201_lag24  31201_lag48  \\\n98448  2021-12-20 00:00:00  0   1.4     59.09          0.0          2.0   \n98449  2021-12-20 01:00:00  0   0.4     63.23          1.0          0.0   \n98450  2021-12-20 02:00:00  0  -0.1     65.87          0.0          8.0   \n98451  2021-12-20 03:00:00  0  -0.9     66.66          1.0          3.0   \n98452  2021-12-20 04:00:00  0  -1.3     66.55          0.0          0.0   \n98453  2021-12-20 05:00:00  1  -1.9     67.02          0.0          0.0   \n98454  2021-12-20 06:00:00  3  -1.5     64.91          0.0          0.0   \n98455  2021-12-20 07:00:00  0  -2.4     69.45          0.0          0.0   \n98456  2021-12-20 08:00:00  3  -2.0     67.31          1.0          1.0   \n98457  2021-12-20 09:00:00  5  -1.5     64.98          3.0          0.0   \n\n       31201_lag168  \n98448           0.0  \n98449           0.0  \n98450           0.0  \n98451           0.0  \n98452           0.0  \n98453           1.0  \n98454           2.0  \n98455           4.0  \n98456           7.0  \n98457           4.0  ",
      "text/html": "<div>\n<style scoped>\n    .dataframe tbody tr th:only-of-type {\n        vertical-align: middle;\n    }\n\n    .dataframe tbody tr th {\n        vertical-align: top;\n    }\n\n    .dataframe thead th {\n        text-align: right;\n    }\n</style>\n<table border=\"1\" class=\"dataframe\">\n  <thead>\n    <tr style=\"text-align: right;\">\n      <th></th>\n      <th>ds</th>\n      <th>y</th>\n      <th>temp</th>\n      <th>humidity</th>\n      <th>31201_lag24</th>\n      <th>31201_lag48</th>\n      <th>31201_lag168</th>\n    </tr>\n  </thead>\n  <tbody>\n    <tr>\n      <th>98448</th>\n      <td>2021-12-20 00:00:00</td>\n      <td>0</td>\n      <td>1.4</td>\n      <td>59.09</td>\n      <td>0.0</td>\n      <td>2.0</td>\n      <td>0.0</td>\n    </tr>\n    <tr>\n      <th>98449</th>\n      <td>2021-12-20 01:00:00</td>\n      <td>0</td>\n      <td>0.4</td>\n      <td>63.23</td>\n      <td>1.0</td>\n      <td>0.0</td>\n      <td>0.0</td>\n    </tr>\n    <tr>\n      <th>98450</th>\n      <td>2021-12-20 02:00:00</td>\n      <td>0</td>\n      <td>-0.1</td>\n      <td>65.87</td>\n      <td>0.0</td>\n      <td>8.0</td>\n      <td>0.0</td>\n    </tr>\n    <tr>\n      <th>98451</th>\n      <td>2021-12-20 03:00:00</td>\n      <td>0</td>\n      <td>-0.9</td>\n      <td>66.66</td>\n      <td>1.0</td>\n      <td>3.0</td>\n      <td>0.0</td>\n    </tr>\n    <tr>\n      <th>98452</th>\n      <td>2021-12-20 04:00:00</td>\n      <td>0</td>\n      <td>-1.3</td>\n      <td>66.55</td>\n      <td>0.0</td>\n      <td>0.0</td>\n      <td>0.0</td>\n    </tr>\n    <tr>\n      <th>98453</th>\n      <td>2021-12-20 05:00:00</td>\n      <td>1</td>\n      <td>-1.9</td>\n      <td>67.02</td>\n      <td>0.0</td>\n      <td>0.0</td>\n      <td>1.0</td>\n    </tr>\n    <tr>\n      <th>98454</th>\n      <td>2021-12-20 06:00:00</td>\n      <td>3</td>\n      <td>-1.5</td>\n      <td>64.91</td>\n      <td>0.0</td>\n      <td>0.0</td>\n      <td>2.0</td>\n    </tr>\n    <tr>\n      <th>98455</th>\n      <td>2021-12-20 07:00:00</td>\n      <td>0</td>\n      <td>-2.4</td>\n      <td>69.45</td>\n      <td>0.0</td>\n      <td>0.0</td>\n      <td>4.0</td>\n    </tr>\n    <tr>\n      <th>98456</th>\n      <td>2021-12-20 08:00:00</td>\n      <td>3</td>\n      <td>-2.0</td>\n      <td>67.31</td>\n      <td>1.0</td>\n      <td>1.0</td>\n      <td>7.0</td>\n    </tr>\n    <tr>\n      <th>98457</th>\n      <td>2021-12-20 09:00:00</td>\n      <td>5</td>\n      <td>-1.5</td>\n      <td>64.98</td>\n      <td>3.0</td>\n      <td>0.0</td>\n      <td>4.0</td>\n    </tr>\n  </tbody>\n</table>\n</div>"
     },
     "execution_count": 6,
     "metadata": {},
     "output_type": "execute_result"
    }
   ],
   "source": [
    "df_test = completeRentalsDf.filter(['Date', STATION], axis=1)\n",
    "df_test = df_test.loc[len(df_test)-TEST_DAYS*24:len(df_test)-1]\n",
    "df_test.rename(columns={\"Date\": \"ds\", STATION:\"y\"}, inplace=True)\n",
    "\n",
    "df_test_exog = completeRentalsDf.filter(['temp', 'humidity', STATION+'_lag24', STATION+'_lag48', STATION+'_lag168'], axis=1)\n",
    "df_test_exog = df_test_exog.loc[len(df_test_exog)-TEST_DAYS*24-1:len(df_test_exog)-1]\n",
    "\n",
    "df_test = pd.concat([df_test, df_test_exog], axis=1, join=\"inner\")\n",
    "\n",
    "df_test.head(10)"
   ],
   "metadata": {
    "collapsed": false,
    "pycharm": {
     "name": "#%%\n"
    }
   }
  },
  {
   "cell_type": "code",
   "execution_count": 7,
   "outputs": [],
   "source": [
    "df_future_validation = df_validation.drop(columns=['y'])\n",
    "df_future_test = df_test.drop(columns=['y'])"
   ],
   "metadata": {
    "collapsed": false,
    "pycharm": {
     "name": "#%%\n"
    }
   }
  },
  {
   "cell_type": "code",
   "execution_count": 16,
   "outputs": [],
   "source": [
    "def plotDayPrediction(predictions, Y, day):\n",
    "\n",
    "    data = pd.DataFrame()\n",
    "    try:\n",
    "        data['prediction'] = np.round(predictions[day*24:day*24+24],0)\n",
    "        data['real'] = Y[day*24:day*24+24]\n",
    "    except:\n",
    "        print(\"El dia tiene que ser inferior a {}\".format(len(Y)/24) )\n",
    "\n",
    "    plt.figure(figsize=(15,5))\n",
    "    plt.xlabel('Prediccion del día {}'.format(day))\n",
    "    plt.ylabel('Nº Alquileres')\n",
    "    ax1 = data.real.plot(color='blue', grid=True, label='Alquileres reales')\n",
    "    ax2 = data.prediction.plot(color='red', grid=True, label='Predicciones')\n",
    "    h1, l1 = ax1.get_legend_handles_labels()\n",
    "\n",
    "    plt.legend(h1, l1, loc=2)\n",
    "    plt.show()"
   ],
   "metadata": {
    "collapsed": false,
    "pycharm": {
     "name": "#%%\n"
    }
   }
  },
  {
   "cell_type": "markdown",
   "source": [
    "### MODEL"
   ],
   "metadata": {
    "collapsed": false,
    "pycharm": {
     "name": "#%% md\n"
    }
   }
  },
  {
   "cell_type": "code",
   "execution_count": 9,
   "outputs": [
    {
     "data": {
      "text/plain": "<prophet.forecaster.Prophet at 0x1ff46185880>"
     },
     "execution_count": 9,
     "metadata": {},
     "output_type": "execute_result"
    }
   ],
   "source": [
    "model = Prophet(changepoint_prior_scale=0.5, seasonality_prior_scale=0.01, holidays_prior_scale=1 , yearly_seasonality=True, weekly_seasonality=True)\n",
    "model.add_country_holidays(country_name='US')\n",
    "\n",
    "for columName in df_future_validation:\n",
    "    if columName != 'ds' and columName != 'cap': model.add_regressor(columName)\n",
    "\n",
    "model.fit(df_train)"
   ],
   "metadata": {
    "collapsed": false,
    "pycharm": {
     "name": "#%%\n"
    }
   }
  },
  {
   "cell_type": "code",
   "execution_count": 10,
   "outputs": [
    {
     "name": "stdout",
     "output_type": "stream",
     "text": [
      "Validation RMSE = 2.680785391245489\n"
     ]
    }
   ],
   "source": [
    "forecast = model.predict(df_future_validation)\n",
    "forecast['y'] = df_validation['y'].values\n",
    "print(\"Validation RMSE = {}\".format(sqrt(mean_squared_error(forecast['yhat'], forecast['y']))))"
   ],
   "metadata": {
    "collapsed": false,
    "pycharm": {
     "name": "#%%\n"
    }
   }
  },
  {
   "cell_type": "code",
   "execution_count": 17,
   "outputs": [
    {
     "name": "stdout",
     "output_type": "stream",
     "text": [
      "Test RMSE = 2.171945567897869\n"
     ]
    },
    {
     "data": {
      "text/plain": "<Figure size 1080x360 with 1 Axes>",
      "image/png": "[encoded data removed]"
     },
     "metadata": {
      "needs_background": "light"
     },
     "output_type": "display_data"
    }
   ],
   "source": [
    "forecast = model.predict(df_future_test)\n",
    "forecast['y'] = df_test['y'].values\n",
    "print(\"Test RMSE = {}\".format(sqrt(mean_squared_error(forecast['yhat'], forecast['y']))))\n",
    "plotDayPrediction(forecast['yhat'], forecast['y'], 70)"
   ],
   "metadata": {
    "collapsed": false,
    "pycharm": {
     "name": "#%%\n"
    }
   }
  },
  {
   "cell_type": "markdown",
   "source": [
    "### CROSS-VALIDATION"
   ],
   "metadata": {
    "collapsed": false,
    "pycharm": {
     "name": "#%% md\n"
    }
   }
  },
  {
   "cell_type": "code",
   "execution_count": 29,
   "outputs": [
    {
     "name": "stderr",
     "output_type": "stream",
     "text": [
      "INFO:prophet:Making 3 forecasts with cutoffs between 2021-06-07 23:00:00 and 2021-08-26 23:00:00\n",
      "INFO:prophet:Applying in parallel with <concurrent.futures.process.ProcessPoolExecutor object at 0x000001C49C3B0100>\n"
     ]
    },
    {
     "name": "stdout",
     "output_type": "stream",
     "text": [
      "Time: 337.9009985923767\n"
     ]
    },
    {
     "data": {
      "text/plain": "                   ds      yhat  yhat_lower  yhat_upper  y              cutoff\n0 2021-06-08 00:00:00  0.161977   -4.195221    4.231981  1 2021-06-07 23:00:00\n1 2021-06-08 01:00:00  0.191142   -4.017575    4.080262  2 2021-06-07 23:00:00\n2 2021-06-08 02:00:00 -0.491237   -4.977603    3.741172  0 2021-06-07 23:00:00\n3 2021-06-08 03:00:00 -1.406706   -5.780580    2.928596  0 2021-06-07 23:00:00\n4 2021-06-08 04:00:00 -1.413844   -6.038501    2.692990  0 2021-06-07 23:00:00\n5 2021-06-08 05:00:00 -0.169960   -4.670825    4.008481  0 2021-06-07 23:00:00\n6 2021-06-08 06:00:00  1.885127   -2.479671    6.120547  3 2021-06-07 23:00:00\n7 2021-06-08 07:00:00  3.969245   -0.148615    8.299725  5 2021-06-07 23:00:00\n8 2021-06-08 08:00:00  4.498279    0.123168    9.232231  6 2021-06-07 23:00:00\n9 2021-06-08 09:00:00  3.538621   -0.855499    7.630498  1 2021-06-07 23:00:00",
      "text/html": "<div>\n<style scoped>\n    .dataframe tbody tr th:only-of-type {\n        vertical-align: middle;\n    }\n\n    .dataframe tbody tr th {\n        vertical-align: top;\n    }\n\n    .dataframe thead th {\n        text-align: right;\n    }\n</style>\n<table border=\"1\" class=\"dataframe\">\n  <thead>\n    <tr style=\"text-align: right;\">\n      <th></th>\n      <th>ds</th>\n      <th>yhat</th>\n      <th>yhat_lower</th>\n      <th>yhat_upper</th>\n      <th>y</th>\n      <th>cutoff</th>\n    </tr>\n  </thead>\n  <tbody>\n    <tr>\n      <th>0</th>\n      <td>2021-06-08 00:00:00</td>\n      <td>0.161977</td>\n      <td>-4.195221</td>\n      <td>4.231981</td>\n      <td>1</td>\n      <td>2021-06-07 23:00:00</td>\n    </tr>\n    <tr>\n      <th>1</th>\n      <td>2021-06-08 01:00:00</td>\n      <td>0.191142</td>\n      <td>-4.017575</td>\n      <td>4.080262</td>\n      <td>2</td>\n      <td>2021-06-07 23:00:00</td>\n    </tr>\n    <tr>\n      <th>2</th>\n      <td>2021-06-08 02:00:00</td>\n      <td>-0.491237</td>\n      <td>-4.977603</td>\n      <td>3.741172</td>\n      <td>0</td>\n      <td>2021-06-07 23:00:00</td>\n    </tr>\n    <tr>\n      <th>3</th>\n      <td>2021-06-08 03:00:00</td>\n      <td>-1.406706</td>\n      <td>-5.780580</td>\n      <td>2.928596</td>\n      <td>0</td>\n      <td>2021-06-07 23:00:00</td>\n    </tr>\n    <tr>\n      <th>4</th>\n      <td>2021-06-08 04:00:00</td>\n      <td>-1.413844</td>\n      <td>-6.038501</td>\n      <td>2.692990</td>\n      <td>0</td>\n      <td>2021-06-07 23:00:00</td>\n    </tr>\n    <tr>\n      <th>5</th>\n      <td>2021-06-08 05:00:00</td>\n      <td>-0.169960</td>\n      <td>-4.670825</td>\n      <td>4.008481</td>\n      <td>0</td>\n      <td>2021-06-07 23:00:00</td>\n    </tr>\n    <tr>\n      <th>6</th>\n      <td>2021-06-08 06:00:00</td>\n      <td>1.885127</td>\n      <td>-2.479671</td>\n      <td>6.120547</td>\n      <td>3</td>\n      <td>2021-06-07 23:00:00</td>\n    </tr>\n    <tr>\n      <th>7</th>\n      <td>2021-06-08 07:00:00</td>\n      <td>3.969245</td>\n      <td>-0.148615</td>\n      <td>8.299725</td>\n      <td>5</td>\n      <td>2021-06-07 23:00:00</td>\n    </tr>\n    <tr>\n      <th>8</th>\n      <td>2021-06-08 08:00:00</td>\n      <td>4.498279</td>\n      <td>0.123168</td>\n      <td>9.232231</td>\n      <td>6</td>\n      <td>2021-06-07 23:00:00</td>\n    </tr>\n    <tr>\n      <th>9</th>\n      <td>2021-06-08 09:00:00</td>\n      <td>3.538621</td>\n      <td>-0.855499</td>\n      <td>7.630498</td>\n      <td>1</td>\n      <td>2021-06-07 23:00:00</td>\n    </tr>\n  </tbody>\n</table>\n</div>"
     },
     "execution_count": 29,
     "metadata": {},
     "output_type": "execute_result"
    }
   ],
   "source": [
    "starttime = time.time()\n",
    "df_cv = cross_validation(model, initial='3900 days', period='40 days', horizon = '7 days', parallel=\"processes\")\n",
    "print(f'Time: {time.time() - starttime}')\n",
    "df_cv.head(10)"
   ],
   "metadata": {
    "collapsed": false,
    "pycharm": {
     "name": "#%%\n"
    }
   }
  },
  {
   "cell_type": "code",
   "execution_count": 30,
   "outputs": [
    {
     "name": "stderr",
     "output_type": "stream",
     "text": [
      "INFO:prophet:Skipping MAPE because y close to 0\n"
     ]
    },
    {
     "data": {
      "text/plain": "          horizon       mse      rmse       mae     mdape     smape  coverage\n0 0 days 17:00:00  6.438704  2.537460  2.092562  0.728272  1.061926  0.920000\n1 0 days 18:00:00  6.473183  2.544245  2.087877  0.596764  0.984533  0.920000\n2 0 days 19:00:00  6.609048  2.570807  2.129145  0.552990  0.898176  0.926667\n3 0 days 20:00:00  7.153338  2.674572  2.136441  0.515885  0.794427  0.920000\n4 0 days 21:00:00  6.881454  2.623253  2.061816  0.440217  0.681928  0.920000",
      "text/html": "<div>\n<style scoped>\n    .dataframe tbody tr th:only-of-type {\n        vertical-align: middle;\n    }\n\n    .dataframe tbody tr th {\n        vertical-align: top;\n    }\n\n    .dataframe thead th {\n        text-align: right;\n    }\n</style>\n<table border=\"1\" class=\"dataframe\">\n  <thead>\n    <tr style=\"text-align: right;\">\n      <th></th>\n      <th>horizon</th>\n      <th>mse</th>\n      <th>rmse</th>\n      <th>mae</th>\n      <th>mdape</th>\n      <th>smape</th>\n      <th>coverage</th>\n    </tr>\n  </thead>\n  <tbody>\n    <tr>\n      <th>0</th>\n      <td>0 days 17:00:00</td>\n      <td>6.438704</td>\n      <td>2.537460</td>\n      <td>2.092562</td>\n      <td>0.728272</td>\n      <td>1.061926</td>\n      <td>0.920000</td>\n    </tr>\n    <tr>\n      <th>1</th>\n      <td>0 days 18:00:00</td>\n      <td>6.473183</td>\n      <td>2.544245</td>\n      <td>2.087877</td>\n      <td>0.596764</td>\n      <td>0.984533</td>\n      <td>0.920000</td>\n    </tr>\n    <tr>\n      <th>2</th>\n      <td>0 days 19:00:00</td>\n      <td>6.609048</td>\n      <td>2.570807</td>\n      <td>2.129145</td>\n      <td>0.552990</td>\n      <td>0.898176</td>\n      <td>0.926667</td>\n    </tr>\n    <tr>\n      <th>3</th>\n      <td>0 days 20:00:00</td>\n      <td>7.153338</td>\n      <td>2.674572</td>\n      <td>2.136441</td>\n      <td>0.515885</td>\n      <td>0.794427</td>\n      <td>0.920000</td>\n    </tr>\n    <tr>\n      <th>4</th>\n      <td>0 days 21:00:00</td>\n      <td>6.881454</td>\n      <td>2.623253</td>\n      <td>2.061816</td>\n      <td>0.440217</td>\n      <td>0.681928</td>\n      <td>0.920000</td>\n    </tr>\n  </tbody>\n</table>\n</div>"
     },
     "execution_count": 30,
     "metadata": {},
     "output_type": "execute_result"
    }
   ],
   "source": [
    "df_p = performance_metrics(df_cv)\n",
    "df_p.head()"
   ],
   "metadata": {
    "collapsed": false,
    "pycharm": {
     "name": "#%%\n"
    }
   }
  },
  {
   "cell_type": "code",
   "execution_count": 31,
   "outputs": [
    {
     "data": {
      "text/plain": "            horizon       mse      rmse       mae     mdape     smape  \\\n147 6 days 20:00:00  8.059197  2.838873  2.236019  0.451596  0.812659   \n148 6 days 21:00:00  7.934934  2.816901  2.190432  0.418194  0.710986   \n149 6 days 22:00:00  8.213932  2.865996  2.202360  0.382195  0.613809   \n150 6 days 23:00:00  8.129100  2.851158  2.183841  0.369456  0.558044   \n151 7 days 00:00:00  8.756251  2.959096  2.294456  0.401066  0.609070   \n\n     coverage  \n147  0.900000  \n148  0.900000  \n149  0.880000  \n150  0.880000  \n151  0.846667  ",
      "text/html": "<div>\n<style scoped>\n    .dataframe tbody tr th:only-of-type {\n        vertical-align: middle;\n    }\n\n    .dataframe tbody tr th {\n        vertical-align: top;\n    }\n\n    .dataframe thead th {\n        text-align: right;\n    }\n</style>\n<table border=\"1\" class=\"dataframe\">\n  <thead>\n    <tr style=\"text-align: right;\">\n      <th></th>\n      <th>horizon</th>\n      <th>mse</th>\n      <th>rmse</th>\n      <th>mae</th>\n      <th>mdape</th>\n      <th>smape</th>\n      <th>coverage</th>\n    </tr>\n  </thead>\n  <tbody>\n    <tr>\n      <th>147</th>\n      <td>6 days 20:00:00</td>\n      <td>8.059197</td>\n      <td>2.838873</td>\n      <td>2.236019</td>\n      <td>0.451596</td>\n      <td>0.812659</td>\n      <td>0.900000</td>\n    </tr>\n    <tr>\n      <th>148</th>\n      <td>6 days 21:00:00</td>\n      <td>7.934934</td>\n      <td>2.816901</td>\n      <td>2.190432</td>\n      <td>0.418194</td>\n      <td>0.710986</td>\n      <td>0.900000</td>\n    </tr>\n    <tr>\n      <th>149</th>\n      <td>6 days 22:00:00</td>\n      <td>8.213932</td>\n      <td>2.865996</td>\n      <td>2.202360</td>\n      <td>0.382195</td>\n      <td>0.613809</td>\n      <td>0.880000</td>\n    </tr>\n    <tr>\n      <th>150</th>\n      <td>6 days 23:00:00</td>\n      <td>8.129100</td>\n      <td>2.851158</td>\n      <td>2.183841</td>\n      <td>0.369456</td>\n      <td>0.558044</td>\n      <td>0.880000</td>\n    </tr>\n    <tr>\n      <th>151</th>\n      <td>7 days 00:00:00</td>\n      <td>8.756251</td>\n      <td>2.959096</td>\n      <td>2.294456</td>\n      <td>0.401066</td>\n      <td>0.609070</td>\n      <td>0.846667</td>\n    </tr>\n  </tbody>\n</table>\n</div>"
     },
     "execution_count": 31,
     "metadata": {},
     "output_type": "execute_result"
    }
   ],
   "source": [
    "df_p.tail()"
   ],
   "metadata": {
    "collapsed": false,
    "pycharm": {
     "name": "#%%\n"
    }
   }
  },
  {
   "cell_type": "code",
   "execution_count": 32,
   "outputs": [
    {
     "name": "stdout",
     "output_type": "stream",
     "text": [
      "Cross-Validation RMSE = 2.9753622589438735\n"
     ]
    }
   ],
   "source": [
    "print(\"Cross-Validation RMSE = {}\".format(df_p['rmse'].values.mean()))"
   ],
   "metadata": {
    "collapsed": false,
    "pycharm": {
     "name": "#%%\n"
    }
   }
  },
  {
   "cell_type": "code",
   "execution_count": 33,
   "outputs": [
    {
     "name": "stderr",
     "output_type": "stream",
     "text": [
      "C:\\Users\\User\\anaconda3\\envs\\TFG-GPU\\lib\\site-packages\\prophet\\plot.py:539: FutureWarning: casting timedelta64[ns] values to int64 with .astype(...) is deprecated and will raise in a future version. Use .view(...) instead.\n",
      "  x_plt = df_none['horizon'].astype('timedelta64[ns]').astype(np.int64) / float(dt_conversions[i])\n",
      "C:\\Users\\User\\anaconda3\\envs\\TFG-GPU\\lib\\site-packages\\prophet\\plot.py:540: FutureWarning: casting timedelta64[ns] values to int64 with .astype(...) is deprecated and will raise in a future version. Use .view(...) instead.\n",
      "  x_plt_h = df_h['horizon'].astype('timedelta64[ns]').astype(np.int64) / float(dt_conversions[i])\n"
     ]
    },
    {
     "data": {
      "text/plain": "<Figure size 720x432 with 1 Axes>",
      "image/png": "[encoded data removed]"
     },
     "metadata": {},
     "output_type": "display_data"
    }
   ],
   "source": [
    "fig = plot_cross_validation_metric(df_cv, metric='rmse')"
   ],
   "metadata": {
    "collapsed": false,
    "pycharm": {
     "name": "#%%\n"
    }
   }
  },
  {
   "cell_type": "markdown",
   "source": [
    "### HYPERPARAMETER TUNNING - LOG1P DATA"
   ],
   "metadata": {
    "collapsed": false,
    "pycharm": {
     "name": "#%% md\n"
    }
   }
  },
  {
   "cell_type": "code",
   "execution_count": 22,
   "outputs": [
    {
     "name": "stdout",
     "output_type": "stream",
     "text": [
      "INICIO Iteracion Nº 0/144\n"
     ]
    },
    {
     "name": "stderr",
     "output_type": "stream",
     "text": [
      "INFO:prophet:Making 2 forecasts with cutoffs between 2020-12-29 23:00:00 and 2021-12-29 23:00:00\n",
      "INFO:prophet:Applying in parallel with <concurrent.futures.process.ProcessPoolExecutor object at 0x00000175CF51DC10>\n",
      "INFO:prophet:Skipping MAPE because y close to 0\n"
     ]
    },
    {
     "name": "stdout",
     "output_type": "stream",
     "text": [
      "FIN Iteracion Nº 0/144 en 77.09421586990356 segundos\n",
      "INICIO Iteracion Nº 1/144\n"
     ]
    },
    {
     "name": "stderr",
     "output_type": "stream",
     "text": [
      "INFO:prophet:Making 2 forecasts with cutoffs between 2020-12-29 23:00:00 and 2021-12-29 23:00:00\n",
      "INFO:prophet:Applying in parallel with <concurrent.futures.process.ProcessPoolExecutor object at 0x00000175D2B01400>\n",
      "INFO:prophet:Skipping MAPE because y close to 0\n"
     ]
    },
    {
     "name": "stdout",
     "output_type": "stream",
     "text": [
      "FIN Iteracion Nº 1/144 en 88.76646161079407 segundos\n",
      "INICIO Iteracion Nº 2/144\n"
     ]
    },
    {
     "name": "stderr",
     "output_type": "stream",
     "text": [
      "INFO:prophet:Making 2 forecasts with cutoffs between 2020-12-29 23:00:00 and 2021-12-29 23:00:00\n",
      "INFO:prophet:Applying in parallel with <concurrent.futures.process.ProcessPoolExecutor object at 0x00000175CF51DDC0>\n",
      "INFO:prophet:Skipping MAPE because y close to 0\n"
     ]
    },
    {
     "name": "stdout",
     "output_type": "stream",
     "text": [
      "FIN Iteracion Nº 2/144 en 77.2863929271698 segundos\n",
      "INICIO Iteracion Nº 3/144\n"
     ]
    },
    {
     "name": "stderr",
     "output_type": "stream",
     "text": [
      "INFO:prophet:Making 2 forecasts with cutoffs between 2020-12-29 23:00:00 and 2021-12-29 23:00:00\n",
      "INFO:prophet:Applying in parallel with <concurrent.futures.process.ProcessPoolExecutor object at 0x00000175D2AFCF10>\n",
      "INFO:prophet:Skipping MAPE because y close to 0\n"
     ]
    },
    {
     "name": "stdout",
     "output_type": "stream",
     "text": [
      "FIN Iteracion Nº 3/144 en 75.5683901309967 segundos\n",
      "INICIO Iteracion Nº 4/144\n"
     ]
    },
    {
     "name": "stderr",
     "output_type": "stream",
     "text": [
      "INFO:prophet:Making 2 forecasts with cutoffs between 2020-12-29 23:00:00 and 2021-12-29 23:00:00\n",
      "INFO:prophet:Applying in parallel with <concurrent.futures.process.ProcessPoolExecutor object at 0x00000175D2B01C10>\n",
      "INFO:prophet:Skipping MAPE because y close to 0\n"
     ]
    },
    {
     "name": "stdout",
     "output_type": "stream",
     "text": [
      "FIN Iteracion Nº 4/144 en 76.59602308273315 segundos\n",
      "INICIO Iteracion Nº 5/144\n"
     ]
    },
    {
     "name": "stderr",
     "output_type": "stream",
     "text": [
      "INFO:prophet:Making 2 forecasts with cutoffs between 2020-12-29 23:00:00 and 2021-12-29 23:00:00\n",
      "INFO:prophet:Applying in parallel with <concurrent.futures.process.ProcessPoolExecutor object at 0x00000175CF51D1F0>\n",
      "INFO:prophet:Skipping MAPE because y close to 0\n"
     ]
    },
    {
     "name": "stdout",
     "output_type": "stream",
     "text": [
      "FIN Iteracion Nº 5/144 en 59.78045058250427 segundos\n",
      "INICIO Iteracion Nº 6/144\n"
     ]
    },
    {
     "name": "stderr",
     "output_type": "stream",
     "text": [
      "INFO:prophet:Making 2 forecasts with cutoffs between 2020-12-29 23:00:00 and 2021-12-29 23:00:00\n",
      "INFO:prophet:Applying in parallel with <concurrent.futures.process.ProcessPoolExecutor object at 0x00000175D2AFC850>\n",
      "INFO:prophet:Skipping MAPE because y close to 0\n"
     ]
    },
    {
     "name": "stdout",
     "output_type": "stream",
     "text": [
      "FIN Iteracion Nº 6/144 en 68.87228012084961 segundos\n",
      "INICIO Iteracion Nº 7/144\n"
     ]
    },
    {
     "name": "stderr",
     "output_type": "stream",
     "text": [
      "INFO:prophet:Making 2 forecasts with cutoffs between 2020-12-29 23:00:00 and 2021-12-29 23:00:00\n",
      "INFO:prophet:Applying in parallel with <concurrent.futures.process.ProcessPoolExecutor object at 0x00000175D2AF5970>\n",
      "INFO:prophet:Skipping MAPE because y close to 0\n"
     ]
    },
    {
     "name": "stdout",
     "output_type": "stream",
     "text": [
      "FIN Iteracion Nº 7/144 en 68.19868159294128 segundos\n",
      "INICIO Iteracion Nº 8/144\n"
     ]
    },
    {
     "name": "stderr",
     "output_type": "stream",
     "text": [
      "INFO:prophet:Making 2 forecasts with cutoffs between 2020-12-29 23:00:00 and 2021-12-29 23:00:00\n",
      "INFO:prophet:Applying in parallel with <concurrent.futures.process.ProcessPoolExecutor object at 0x00000175D2AFC160>\n",
      "INFO:prophet:Skipping MAPE because y close to 0\n"
     ]
    },
    {
     "name": "stdout",
     "output_type": "stream",
     "text": [
      "FIN Iteracion Nº 8/144 en 95.99327039718628 segundos\n",
      "INICIO Iteracion Nº 9/144\n"
     ]
    },
    {
     "name": "stderr",
     "output_type": "stream",
     "text": [
      "INFO:prophet:Making 2 forecasts with cutoffs between 2020-12-29 23:00:00 and 2021-12-29 23:00:00\n",
      "INFO:prophet:Applying in parallel with <concurrent.futures.process.ProcessPoolExecutor object at 0x00000175CF51DA30>\n",
      "INFO:prophet:Skipping MAPE because y close to 0\n"
     ]
    },
    {
     "name": "stdout",
     "output_type": "stream",
     "text": [
      "FIN Iteracion Nº 9/144 en 66.38445043563843 segundos\n",
      "INICIO Iteracion Nº 10/144\n"
     ]
    },
    {
     "name": "stderr",
     "output_type": "stream",
     "text": [
      "INFO:prophet:Making 2 forecasts with cutoffs between 2020-12-29 23:00:00 and 2021-12-29 23:00:00\n",
      "INFO:prophet:Applying in parallel with <concurrent.futures.process.ProcessPoolExecutor object at 0x00000175D2B01520>\n",
      "INFO:prophet:Skipping MAPE because y close to 0\n"
     ]
    },
    {
     "name": "stdout",
     "output_type": "stream",
     "text": [
      "FIN Iteracion Nº 10/144 en 79.64543509483337 segundos\n",
      "INICIO Iteracion Nº 11/144\n"
     ]
    },
    {
     "name": "stderr",
     "output_type": "stream",
     "text": [
      "INFO:prophet:Making 2 forecasts with cutoffs between 2020-12-29 23:00:00 and 2021-12-29 23:00:00\n",
      "INFO:prophet:Applying in parallel with <concurrent.futures.process.ProcessPoolExecutor object at 0x00000175CF51DE20>\n",
      "INFO:prophet:Skipping MAPE because y close to 0\n"
     ]
    },
    {
     "name": "stdout",
     "output_type": "stream",
     "text": [
      "FIN Iteracion Nº 11/144 en 55.87016701698303 segundos\n",
      "INICIO Iteracion Nº 12/144\n"
     ]
    },
    {
     "name": "stderr",
     "output_type": "stream",
     "text": [
      "INFO:prophet:Making 2 forecasts with cutoffs between 2020-12-29 23:00:00 and 2021-12-29 23:00:00\n",
      "INFO:prophet:Applying in parallel with <concurrent.futures.process.ProcessPoolExecutor object at 0x00000175D2B08310>\n",
      "INFO:prophet:Skipping MAPE because y close to 0\n"
     ]
    },
    {
     "name": "stdout",
     "output_type": "stream",
     "text": [
      "FIN Iteracion Nº 12/144 en 76.00979685783386 segundos\n",
      "INICIO Iteracion Nº 13/144\n"
     ]
    },
    {
     "name": "stderr",
     "output_type": "stream",
     "text": [
      "INFO:prophet:Making 2 forecasts with cutoffs between 2020-12-29 23:00:00 and 2021-12-29 23:00:00\n",
      "INFO:prophet:Applying in parallel with <concurrent.futures.process.ProcessPoolExecutor object at 0x00000175D2B084C0>\n",
      "INFO:prophet:Skipping MAPE because y close to 0\n"
     ]
    },
    {
     "name": "stdout",
     "output_type": "stream",
     "text": [
      "FIN Iteracion Nº 13/144 en 74.35234141349792 segundos\n",
      "INICIO Iteracion Nº 14/144\n"
     ]
    },
    {
     "name": "stderr",
     "output_type": "stream",
     "text": [
      "INFO:prophet:Making 2 forecasts with cutoffs between 2020-12-29 23:00:00 and 2021-12-29 23:00:00\n",
      "INFO:prophet:Applying in parallel with <concurrent.futures.process.ProcessPoolExecutor object at 0x00000175D2AF5310>\n",
      "INFO:prophet:Skipping MAPE because y close to 0\n"
     ]
    },
    {
     "name": "stdout",
     "output_type": "stream",
     "text": [
      "FIN Iteracion Nº 14/144 en 94.5385479927063 segundos\n",
      "INICIO Iteracion Nº 15/144\n"
     ]
    },
    {
     "name": "stderr",
     "output_type": "stream",
     "text": [
      "INFO:prophet:Making 2 forecasts with cutoffs between 2020-12-29 23:00:00 and 2021-12-29 23:00:00\n",
      "INFO:prophet:Applying in parallel with <concurrent.futures.process.ProcessPoolExecutor object at 0x00000175D2B019D0>\n",
      "INFO:prophet:Skipping MAPE because y close to 0\n"
     ]
    },
    {
     "name": "stdout",
     "output_type": "stream",
     "text": [
      "FIN Iteracion Nº 15/144 en 71.97973728179932 segundos\n",
      "INICIO Iteracion Nº 16/144\n"
     ]
    },
    {
     "name": "stderr",
     "output_type": "stream",
     "text": [
      "INFO:prophet:Making 2 forecasts with cutoffs between 2020-12-29 23:00:00 and 2021-12-29 23:00:00\n",
      "INFO:prophet:Applying in parallel with <concurrent.futures.process.ProcessPoolExecutor object at 0x00000175D2AF56D0>\n",
      "INFO:prophet:Skipping MAPE because y close to 0\n"
     ]
    },
    {
     "name": "stdout",
     "output_type": "stream",
     "text": [
      "FIN Iteracion Nº 16/144 en 73.58452343940735 segundos\n",
      "INICIO Iteracion Nº 17/144\n"
     ]
    },
    {
     "name": "stderr",
     "output_type": "stream",
     "text": [
      "INFO:prophet:Making 2 forecasts with cutoffs between 2020-12-29 23:00:00 and 2021-12-29 23:00:00\n",
      "INFO:prophet:Applying in parallel with <concurrent.futures.process.ProcessPoolExecutor object at 0x00000175D2B016A0>\n",
      "INFO:prophet:Skipping MAPE because y close to 0\n"
     ]
    },
    {
     "name": "stdout",
     "output_type": "stream",
     "text": [
      "FIN Iteracion Nº 17/144 en 69.8778383731842 segundos\n",
      "INICIO Iteracion Nº 18/144\n"
     ]
    },
    {
     "name": "stderr",
     "output_type": "stream",
     "text": [
      "INFO:prophet:Making 2 forecasts with cutoffs between 2020-12-29 23:00:00 and 2021-12-29 23:00:00\n",
      "INFO:prophet:Applying in parallel with <concurrent.futures.process.ProcessPoolExecutor object at 0x00000175CF51D790>\n",
      "INFO:prophet:Skipping MAPE because y close to 0\n"
     ]
    },
    {
     "name": "stdout",
     "output_type": "stream",
     "text": [
      "FIN Iteracion Nº 18/144 en 67.00705599784851 segundos\n",
      "INICIO Iteracion Nº 19/144\n"
     ]
    },
    {
     "name": "stderr",
     "output_type": "stream",
     "text": [
      "INFO:prophet:Making 2 forecasts with cutoffs between 2020-12-29 23:00:00 and 2021-12-29 23:00:00\n",
      "INFO:prophet:Applying in parallel with <concurrent.futures.process.ProcessPoolExecutor object at 0x00000175D2AFCC10>\n",
      "INFO:prophet:Skipping MAPE because y close to 0\n"
     ]
    },
    {
     "name": "stdout",
     "output_type": "stream",
     "text": [
      "FIN Iteracion Nº 19/144 en 96.81642484664917 segundos\n",
      "INICIO Iteracion Nº 20/144\n"
     ]
    },
    {
     "name": "stderr",
     "output_type": "stream",
     "text": [
      "INFO:prophet:Making 2 forecasts with cutoffs between 2020-12-29 23:00:00 and 2021-12-29 23:00:00\n",
      "INFO:prophet:Applying in parallel with <concurrent.futures.process.ProcessPoolExecutor object at 0x00000175D2AFCEB0>\n",
      "INFO:prophet:Skipping MAPE because y close to 0\n"
     ]
    },
    {
     "name": "stdout",
     "output_type": "stream",
     "text": [
      "FIN Iteracion Nº 20/144 en 71.67561268806458 segundos\n",
      "INICIO Iteracion Nº 21/144\n"
     ]
    },
    {
     "name": "stderr",
     "output_type": "stream",
     "text": [
      "INFO:prophet:Making 2 forecasts with cutoffs between 2020-12-29 23:00:00 and 2021-12-29 23:00:00\n",
      "INFO:prophet:Applying in parallel with <concurrent.futures.process.ProcessPoolExecutor object at 0x00000175D2AFC970>\n",
      "INFO:prophet:Skipping MAPE because y close to 0\n"
     ]
    },
    {
     "name": "stdout",
     "output_type": "stream",
     "text": [
      "FIN Iteracion Nº 21/144 en 64.96563529968262 segundos\n",
      "INICIO Iteracion Nº 22/144\n"
     ]
    },
    {
     "name": "stderr",
     "output_type": "stream",
     "text": [
      "INFO:prophet:Making 2 forecasts with cutoffs between 2020-12-29 23:00:00 and 2021-12-29 23:00:00\n",
      "INFO:prophet:Applying in parallel with <concurrent.futures.process.ProcessPoolExecutor object at 0x00000175CF51D700>\n",
      "INFO:prophet:Skipping MAPE because y close to 0\n"
     ]
    },
    {
     "name": "stdout",
     "output_type": "stream",
     "text": [
      "FIN Iteracion Nº 22/144 en 70.36909365653992 segundos\n",
      "INICIO Iteracion Nº 23/144\n"
     ]
    },
    {
     "name": "stderr",
     "output_type": "stream",
     "text": [
      "INFO:prophet:Making 2 forecasts with cutoffs between 2020-12-29 23:00:00 and 2021-12-29 23:00:00\n",
      "INFO:prophet:Applying in parallel with <concurrent.futures.process.ProcessPoolExecutor object at 0x00000175D2B080D0>\n",
      "INFO:prophet:Skipping MAPE because y close to 0\n"
     ]
    },
    {
     "name": "stdout",
     "output_type": "stream",
     "text": [
      "FIN Iteracion Nº 23/144 en 68.07298827171326 segundos\n",
      "INICIO Iteracion Nº 24/144\n"
     ]
    },
    {
     "name": "stderr",
     "output_type": "stream",
     "text": [
      "INFO:prophet:Making 2 forecasts with cutoffs between 2020-12-29 23:00:00 and 2021-12-29 23:00:00\n",
      "INFO:prophet:Applying in parallel with <concurrent.futures.process.ProcessPoolExecutor object at 0x00000175CF51D730>\n",
      "INFO:prophet:Skipping MAPE because y close to 0\n"
     ]
    },
    {
     "name": "stdout",
     "output_type": "stream",
     "text": [
      "FIN Iteracion Nº 24/144 en 79.5820004940033 segundos\n",
      "INICIO Iteracion Nº 25/144\n"
     ]
    },
    {
     "name": "stderr",
     "output_type": "stream",
     "text": [
      "INFO:prophet:Making 2 forecasts with cutoffs between 2020-12-29 23:00:00 and 2021-12-29 23:00:00\n",
      "INFO:prophet:Applying in parallel with <concurrent.futures.process.ProcessPoolExecutor object at 0x00000175D2AFCD90>\n",
      "INFO:prophet:Skipping MAPE because y close to 0\n"
     ]
    },
    {
     "name": "stdout",
     "output_type": "stream",
     "text": [
      "FIN Iteracion Nº 25/144 en 76.03159618377686 segundos\n",
      "INICIO Iteracion Nº 26/144\n"
     ]
    },
    {
     "name": "stderr",
     "output_type": "stream",
     "text": [
      "INFO:prophet:Making 2 forecasts with cutoffs between 2020-12-29 23:00:00 and 2021-12-29 23:00:00\n",
      "INFO:prophet:Applying in parallel with <concurrent.futures.process.ProcessPoolExecutor object at 0x00000175D2AF5850>\n",
      "INFO:prophet:Skipping MAPE because y close to 0\n"
     ]
    },
    {
     "name": "stdout",
     "output_type": "stream",
     "text": [
      "FIN Iteracion Nº 26/144 en 73.8189206123352 segundos\n",
      "INICIO Iteracion Nº 27/144\n"
     ]
    },
    {
     "name": "stderr",
     "output_type": "stream",
     "text": [
      "INFO:prophet:Making 2 forecasts with cutoffs between 2020-12-29 23:00:00 and 2021-12-29 23:00:00\n",
      "INFO:prophet:Applying in parallel with <concurrent.futures.process.ProcessPoolExecutor object at 0x00000175CF51DF70>\n",
      "INFO:prophet:Skipping MAPE because y close to 0\n"
     ]
    },
    {
     "name": "stdout",
     "output_type": "stream",
     "text": [
      "FIN Iteracion Nº 27/144 en 67.66261339187622 segundos\n",
      "INICIO Iteracion Nº 28/144\n"
     ]
    },
    {
     "name": "stderr",
     "output_type": "stream",
     "text": [
      "INFO:prophet:Making 2 forecasts with cutoffs between 2020-12-29 23:00:00 and 2021-12-29 23:00:00\n",
      "INFO:prophet:Applying in parallel with <concurrent.futures.process.ProcessPoolExecutor object at 0x00000175CF51D2B0>\n",
      "INFO:prophet:Skipping MAPE because y close to 0\n"
     ]
    },
    {
     "name": "stdout",
     "output_type": "stream",
     "text": [
      "FIN Iteracion Nº 28/144 en 59.36507868766785 segundos\n",
      "INICIO Iteracion Nº 29/144\n"
     ]
    },
    {
     "name": "stderr",
     "output_type": "stream",
     "text": [
      "INFO:prophet:Making 2 forecasts with cutoffs between 2020-12-29 23:00:00 and 2021-12-29 23:00:00\n",
      "INFO:prophet:Applying in parallel with <concurrent.futures.process.ProcessPoolExecutor object at 0x00000175D2B08B20>\n",
      "INFO:prophet:Skipping MAPE because y close to 0\n"
     ]
    },
    {
     "name": "stdout",
     "output_type": "stream",
     "text": [
      "FIN Iteracion Nº 29/144 en 61.152329444885254 segundos\n",
      "INICIO Iteracion Nº 30/144\n"
     ]
    },
    {
     "name": "stderr",
     "output_type": "stream",
     "text": [
      "INFO:prophet:Making 2 forecasts with cutoffs between 2020-12-29 23:00:00 and 2021-12-29 23:00:00\n",
      "INFO:prophet:Applying in parallel with <concurrent.futures.process.ProcessPoolExecutor object at 0x00000175D2B016A0>\n",
      "INFO:prophet:Skipping MAPE because y close to 0\n"
     ]
    },
    {
     "name": "stdout",
     "output_type": "stream",
     "text": [
      "FIN Iteracion Nº 30/144 en 60.5764582157135 segundos\n",
      "INICIO Iteracion Nº 31/144\n"
     ]
    },
    {
     "name": "stderr",
     "output_type": "stream",
     "text": [
      "INFO:prophet:Making 2 forecasts with cutoffs between 2020-12-29 23:00:00 and 2021-12-29 23:00:00\n",
      "INFO:prophet:Applying in parallel with <concurrent.futures.process.ProcessPoolExecutor object at 0x00000175D2B08C40>\n",
      "INFO:prophet:Skipping MAPE because y close to 0\n"
     ]
    },
    {
     "name": "stdout",
     "output_type": "stream",
     "text": [
      "FIN Iteracion Nº 31/144 en 68.90710830688477 segundos\n",
      "INICIO Iteracion Nº 32/144\n"
     ]
    },
    {
     "name": "stderr",
     "output_type": "stream",
     "text": [
      "INFO:prophet:Making 2 forecasts with cutoffs between 2020-12-29 23:00:00 and 2021-12-29 23:00:00\n",
      "INFO:prophet:Applying in parallel with <concurrent.futures.process.ProcessPoolExecutor object at 0x00000175D2B01F70>\n",
      "INFO:prophet:Skipping MAPE because y close to 0\n"
     ]
    },
    {
     "name": "stdout",
     "output_type": "stream",
     "text": [
      "FIN Iteracion Nº 32/144 en 88.83800935745239 segundos\n",
      "INICIO Iteracion Nº 33/144\n"
     ]
    },
    {
     "name": "stderr",
     "output_type": "stream",
     "text": [
      "INFO:prophet:Making 2 forecasts with cutoffs between 2020-12-29 23:00:00 and 2021-12-29 23:00:00\n",
      "INFO:prophet:Applying in parallel with <concurrent.futures.process.ProcessPoolExecutor object at 0x00000175D2AF5160>\n",
      "INFO:prophet:Skipping MAPE because y close to 0\n"
     ]
    },
    {
     "name": "stdout",
     "output_type": "stream",
     "text": [
      "FIN Iteracion Nº 33/144 en 74.84315276145935 segundos\n",
      "INICIO Iteracion Nº 34/144\n"
     ]
    },
    {
     "name": "stderr",
     "output_type": "stream",
     "text": [
      "INFO:prophet:Making 2 forecasts with cutoffs between 2020-12-29 23:00:00 and 2021-12-29 23:00:00\n",
      "INFO:prophet:Applying in parallel with <concurrent.futures.process.ProcessPoolExecutor object at 0x00000175D2B08CD0>\n",
      "INFO:prophet:Skipping MAPE because y close to 0\n"
     ]
    },
    {
     "name": "stdout",
     "output_type": "stream",
     "text": [
      "FIN Iteracion Nº 34/144 en 77.51416277885437 segundos\n",
      "INICIO Iteracion Nº 35/144\n"
     ]
    },
    {
     "name": "stderr",
     "output_type": "stream",
     "text": [
      "INFO:prophet:Making 2 forecasts with cutoffs between 2020-12-29 23:00:00 and 2021-12-29 23:00:00\n",
      "INFO:prophet:Applying in parallel with <concurrent.futures.process.ProcessPoolExecutor object at 0x00000175D2AFC940>\n",
      "INFO:prophet:Skipping MAPE because y close to 0\n"
     ]
    },
    {
     "name": "stdout",
     "output_type": "stream",
     "text": [
      "FIN Iteracion Nº 35/144 en 72.45724511146545 segundos\n",
      "INICIO Iteracion Nº 36/144\n"
     ]
    },
    {
     "name": "stderr",
     "output_type": "stream",
     "text": [
      "INFO:prophet:Making 2 forecasts with cutoffs between 2020-12-29 23:00:00 and 2021-12-29 23:00:00\n",
      "INFO:prophet:Applying in parallel with <concurrent.futures.process.ProcessPoolExecutor object at 0x00000175CF51D880>\n",
      "INFO:prophet:Skipping MAPE because y close to 0\n"
     ]
    },
    {
     "name": "stdout",
     "output_type": "stream",
     "text": [
      "FIN Iteracion Nº 36/144 en 223.61562514305115 segundos\n",
      "INICIO Iteracion Nº 37/144\n"
     ]
    },
    {
     "name": "stderr",
     "output_type": "stream",
     "text": [
      "INFO:prophet:Making 2 forecasts with cutoffs between 2020-12-29 23:00:00 and 2021-12-29 23:00:00\n",
      "INFO:prophet:Applying in parallel with <concurrent.futures.process.ProcessPoolExecutor object at 0x00000175D2B08C10>\n",
      "INFO:prophet:Skipping MAPE because y close to 0\n"
     ]
    },
    {
     "name": "stdout",
     "output_type": "stream",
     "text": [
      "FIN Iteracion Nº 37/144 en 168.20565795898438 segundos\n",
      "INICIO Iteracion Nº 38/144\n"
     ]
    },
    {
     "name": "stderr",
     "output_type": "stream",
     "text": [
      "INFO:prophet:Making 2 forecasts with cutoffs between 2020-12-29 23:00:00 and 2021-12-29 23:00:00\n",
      "INFO:prophet:Applying in parallel with <concurrent.futures.process.ProcessPoolExecutor object at 0x00000175CF51D4C0>\n",
      "INFO:prophet:Skipping MAPE because y close to 0\n"
     ]
    },
    {
     "name": "stdout",
     "output_type": "stream",
     "text": [
      "FIN Iteracion Nº 38/144 en 180.79450869560242 segundos\n",
      "INICIO Iteracion Nº 39/144\n"
     ]
    },
    {
     "name": "stderr",
     "output_type": "stream",
     "text": [
      "INFO:prophet:Making 2 forecasts with cutoffs between 2020-12-29 23:00:00 and 2021-12-29 23:00:00\n",
      "INFO:prophet:Applying in parallel with <concurrent.futures.process.ProcessPoolExecutor object at 0x00000175D2AFCB20>\n",
      "INFO:prophet:Skipping MAPE because y close to 0\n"
     ]
    },
    {
     "name": "stdout",
     "output_type": "stream",
     "text": [
      "FIN Iteracion Nº 39/144 en 189.24894499778748 segundos\n",
      "INICIO Iteracion Nº 40/144\n"
     ]
    },
    {
     "name": "stderr",
     "output_type": "stream",
     "text": [
      "INFO:prophet:Making 2 forecasts with cutoffs between 2020-12-29 23:00:00 and 2021-12-29 23:00:00\n",
      "INFO:prophet:Applying in parallel with <concurrent.futures.process.ProcessPoolExecutor object at 0x00000175D2AF1550>\n",
      "INFO:prophet:Skipping MAPE because y close to 0\n"
     ]
    },
    {
     "name": "stdout",
     "output_type": "stream",
     "text": [
      "FIN Iteracion Nº 40/144 en 171.90603709220886 segundos\n",
      "INICIO Iteracion Nº 41/144\n"
     ]
    },
    {
     "name": "stderr",
     "output_type": "stream",
     "text": [
      "INFO:prophet:Making 2 forecasts with cutoffs between 2020-12-29 23:00:00 and 2021-12-29 23:00:00\n",
      "INFO:prophet:Applying in parallel with <concurrent.futures.process.ProcessPoolExecutor object at 0x00000175D2B08760>\n",
      "INFO:prophet:Skipping MAPE because y close to 0\n"
     ]
    },
    {
     "name": "stdout",
     "output_type": "stream",
     "text": [
      "FIN Iteracion Nº 41/144 en 185.76430702209473 segundos\n",
      "INICIO Iteracion Nº 42/144\n"
     ]
    },
    {
     "name": "stderr",
     "output_type": "stream",
     "text": [
      "INFO:prophet:Making 2 forecasts with cutoffs between 2020-12-29 23:00:00 and 2021-12-29 23:00:00\n",
      "INFO:prophet:Applying in parallel with <concurrent.futures.process.ProcessPoolExecutor object at 0x00000175D2AF1730>\n",
      "INFO:prophet:Skipping MAPE because y close to 0\n"
     ]
    },
    {
     "name": "stdout",
     "output_type": "stream",
     "text": [
      "FIN Iteracion Nº 42/144 en 188.03878831863403 segundos\n",
      "INICIO Iteracion Nº 43/144\n"
     ]
    },
    {
     "name": "stderr",
     "output_type": "stream",
     "text": [
      "INFO:prophet:Making 2 forecasts with cutoffs between 2020-12-29 23:00:00 and 2021-12-29 23:00:00\n",
      "INFO:prophet:Applying in parallel with <concurrent.futures.process.ProcessPoolExecutor object at 0x00000175D2AF5700>\n",
      "INFO:prophet:Skipping MAPE because y close to 0\n"
     ]
    },
    {
     "name": "stdout",
     "output_type": "stream",
     "text": [
      "FIN Iteracion Nº 43/144 en 217.57643485069275 segundos\n",
      "INICIO Iteracion Nº 44/144\n"
     ]
    },
    {
     "name": "stderr",
     "output_type": "stream",
     "text": [
      "INFO:prophet:Making 2 forecasts with cutoffs between 2020-12-29 23:00:00 and 2021-12-29 23:00:00\n",
      "INFO:prophet:Applying in parallel with <concurrent.futures.process.ProcessPoolExecutor object at 0x00000175D2AFC760>\n",
      "INFO:prophet:Skipping MAPE because y close to 0\n"
     ]
    },
    {
     "name": "stdout",
     "output_type": "stream",
     "text": [
      "FIN Iteracion Nº 44/144 en 185.8123049736023 segundos\n",
      "INICIO Iteracion Nº 45/144\n"
     ]
    },
    {
     "name": "stderr",
     "output_type": "stream",
     "text": [
      "INFO:prophet:Making 2 forecasts with cutoffs between 2020-12-29 23:00:00 and 2021-12-29 23:00:00\n",
      "INFO:prophet:Applying in parallel with <concurrent.futures.process.ProcessPoolExecutor object at 0x00000175D2B01E50>\n",
      "INFO:prophet:Skipping MAPE because y close to 0\n"
     ]
    },
    {
     "name": "stdout",
     "output_type": "stream",
     "text": [
      "FIN Iteracion Nº 45/144 en 184.43638134002686 segundos\n",
      "INICIO Iteracion Nº 46/144\n"
     ]
    },
    {
     "name": "stderr",
     "output_type": "stream",
     "text": [
      "INFO:prophet:Making 2 forecasts with cutoffs between 2020-12-29 23:00:00 and 2021-12-29 23:00:00\n",
      "INFO:prophet:Applying in parallel with <concurrent.futures.process.ProcessPoolExecutor object at 0x00000175D2B01040>\n",
      "INFO:prophet:Skipping MAPE because y close to 0\n"
     ]
    },
    {
     "name": "stdout",
     "output_type": "stream",
     "text": [
      "FIN Iteracion Nº 46/144 en 231.12509083747864 segundos\n",
      "INICIO Iteracion Nº 47/144\n"
     ]
    },
    {
     "name": "stderr",
     "output_type": "stream",
     "text": [
      "INFO:prophet:Making 2 forecasts with cutoffs between 2020-12-29 23:00:00 and 2021-12-29 23:00:00\n",
      "INFO:prophet:Applying in parallel with <concurrent.futures.process.ProcessPoolExecutor object at 0x00000175D2AF1A90>\n",
      "INFO:prophet:Skipping MAPE because y close to 0\n"
     ]
    },
    {
     "name": "stdout",
     "output_type": "stream",
     "text": [
      "FIN Iteracion Nº 47/144 en 222.0166597366333 segundos\n",
      "INICIO Iteracion Nº 48/144\n"
     ]
    },
    {
     "name": "stderr",
     "output_type": "stream",
     "text": [
      "INFO:prophet:Making 2 forecasts with cutoffs between 2020-12-29 23:00:00 and 2021-12-29 23:00:00\n",
      "INFO:prophet:Applying in parallel with <concurrent.futures.process.ProcessPoolExecutor object at 0x00000175D2B08E50>\n",
      "INFO:prophet:Skipping MAPE because y close to 0\n"
     ]
    },
    {
     "name": "stdout",
     "output_type": "stream",
     "text": [
      "FIN Iteracion Nº 48/144 en 195.07367825508118 segundos\n",
      "INICIO Iteracion Nº 49/144\n"
     ]
    },
    {
     "name": "stderr",
     "output_type": "stream",
     "text": [
      "INFO:prophet:Making 2 forecasts with cutoffs between 2020-12-29 23:00:00 and 2021-12-29 23:00:00\n",
      "INFO:prophet:Applying in parallel with <concurrent.futures.process.ProcessPoolExecutor object at 0x00000175D2AF1910>\n",
      "INFO:prophet:Skipping MAPE because y close to 0\n"
     ]
    },
    {
     "name": "stdout",
     "output_type": "stream",
     "text": [
      "FIN Iteracion Nº 49/144 en 200.64215302467346 segundos\n",
      "INICIO Iteracion Nº 50/144\n"
     ]
    },
    {
     "name": "stderr",
     "output_type": "stream",
     "text": [
      "INFO:prophet:Making 2 forecasts with cutoffs between 2020-12-29 23:00:00 and 2021-12-29 23:00:00\n",
      "INFO:prophet:Applying in parallel with <concurrent.futures.process.ProcessPoolExecutor object at 0x00000175D2AFC460>\n",
      "INFO:prophet:Skipping MAPE because y close to 0\n"
     ]
    },
    {
     "name": "stdout",
     "output_type": "stream",
     "text": [
      "FIN Iteracion Nº 50/144 en 192.65560340881348 segundos\n",
      "INICIO Iteracion Nº 51/144\n"
     ]
    },
    {
     "name": "stderr",
     "output_type": "stream",
     "text": [
      "INFO:prophet:Making 2 forecasts with cutoffs between 2020-12-29 23:00:00 and 2021-12-29 23:00:00\n",
      "INFO:prophet:Applying in parallel with <concurrent.futures.process.ProcessPoolExecutor object at 0x00000175D2B087F0>\n",
      "INFO:prophet:Skipping MAPE because y close to 0\n"
     ]
    },
    {
     "name": "stdout",
     "output_type": "stream",
     "text": [
      "FIN Iteracion Nº 51/144 en 170.54154253005981 segundos\n",
      "INICIO Iteracion Nº 52/144\n"
     ]
    },
    {
     "name": "stderr",
     "output_type": "stream",
     "text": [
      "INFO:prophet:Making 2 forecasts with cutoffs between 2020-12-29 23:00:00 and 2021-12-29 23:00:00\n",
      "INFO:prophet:Applying in parallel with <concurrent.futures.process.ProcessPoolExecutor object at 0x00000175CF51DC70>\n",
      "INFO:prophet:Skipping MAPE because y close to 0\n"
     ]
    },
    {
     "name": "stdout",
     "output_type": "stream",
     "text": [
      "FIN Iteracion Nº 52/144 en 209.27097535133362 segundos\n",
      "INICIO Iteracion Nº 53/144\n"
     ]
    },
    {
     "name": "stderr",
     "output_type": "stream",
     "text": [
      "INFO:prophet:Making 2 forecasts with cutoffs between 2020-12-29 23:00:00 and 2021-12-29 23:00:00\n",
      "INFO:prophet:Applying in parallel with <concurrent.futures.process.ProcessPoolExecutor object at 0x00000175D2B08AC0>\n",
      "INFO:prophet:Skipping MAPE because y close to 0\n"
     ]
    },
    {
     "name": "stdout",
     "output_type": "stream",
     "text": [
      "FIN Iteracion Nº 53/144 en 203.89288640022278 segundos\n",
      "INICIO Iteracion Nº 54/144\n"
     ]
    },
    {
     "name": "stderr",
     "output_type": "stream",
     "text": [
      "INFO:prophet:Making 2 forecasts with cutoffs between 2020-12-29 23:00:00 and 2021-12-29 23:00:00\n",
      "INFO:prophet:Applying in parallel with <concurrent.futures.process.ProcessPoolExecutor object at 0x00000175D2AFC790>\n",
      "INFO:prophet:Skipping MAPE because y close to 0\n"
     ]
    },
    {
     "name": "stdout",
     "output_type": "stream",
     "text": [
      "FIN Iteracion Nº 54/144 en 192.50386333465576 segundos\n",
      "INICIO Iteracion Nº 55/144\n"
     ]
    },
    {
     "name": "stderr",
     "output_type": "stream",
     "text": [
      "INFO:prophet:Making 2 forecasts with cutoffs between 2020-12-29 23:00:00 and 2021-12-29 23:00:00\n",
      "INFO:prophet:Applying in parallel with <concurrent.futures.process.ProcessPoolExecutor object at 0x00000175D2AF1BE0>\n",
      "INFO:prophet:Skipping MAPE because y close to 0\n"
     ]
    },
    {
     "name": "stdout",
     "output_type": "stream",
     "text": [
      "FIN Iteracion Nº 55/144 en 194.57195925712585 segundos\n",
      "INICIO Iteracion Nº 56/144\n"
     ]
    },
    {
     "name": "stderr",
     "output_type": "stream",
     "text": [
      "INFO:prophet:Making 2 forecasts with cutoffs between 2020-12-29 23:00:00 and 2021-12-29 23:00:00\n",
      "INFO:prophet:Applying in parallel with <concurrent.futures.process.ProcessPoolExecutor object at 0x00000175CF51DB80>\n",
      "INFO:prophet:Skipping MAPE because y close to 0\n"
     ]
    },
    {
     "name": "stdout",
     "output_type": "stream",
     "text": [
      "FIN Iteracion Nº 56/144 en 206.0757966041565 segundos\n",
      "INICIO Iteracion Nº 57/144\n"
     ]
    },
    {
     "name": "stderr",
     "output_type": "stream",
     "text": [
      "INFO:prophet:Making 2 forecasts with cutoffs between 2020-12-29 23:00:00 and 2021-12-29 23:00:00\n",
      "INFO:prophet:Applying in parallel with <concurrent.futures.process.ProcessPoolExecutor object at 0x00000175CF51DE20>\n",
      "INFO:prophet:Skipping MAPE because y close to 0\n"
     ]
    },
    {
     "name": "stdout",
     "output_type": "stream",
     "text": [
      "FIN Iteracion Nº 57/144 en 188.2047381401062 segundos\n",
      "INICIO Iteracion Nº 58/144\n"
     ]
    },
    {
     "name": "stderr",
     "output_type": "stream",
     "text": [
      "INFO:prophet:Making 2 forecasts with cutoffs between 2020-12-29 23:00:00 and 2021-12-29 23:00:00\n",
      "INFO:prophet:Applying in parallel with <concurrent.futures.process.ProcessPoolExecutor object at 0x00000175D2AF5DC0>\n",
      "INFO:prophet:Skipping MAPE because y close to 0\n"
     ]
    },
    {
     "name": "stdout",
     "output_type": "stream",
     "text": [
      "FIN Iteracion Nº 58/144 en 255.20834922790527 segundos\n",
      "INICIO Iteracion Nº 59/144\n"
     ]
    },
    {
     "name": "stderr",
     "output_type": "stream",
     "text": [
      "INFO:prophet:Making 2 forecasts with cutoffs between 2020-12-29 23:00:00 and 2021-12-29 23:00:00\n",
      "INFO:prophet:Applying in parallel with <concurrent.futures.process.ProcessPoolExecutor object at 0x00000175CF51D3A0>\n",
      "INFO:prophet:Skipping MAPE because y close to 0\n"
     ]
    },
    {
     "name": "stdout",
     "output_type": "stream",
     "text": [
      "FIN Iteracion Nº 59/144 en 208.93050932884216 segundos\n",
      "INICIO Iteracion Nº 60/144\n"
     ]
    },
    {
     "name": "stderr",
     "output_type": "stream",
     "text": [
      "INFO:prophet:Making 2 forecasts with cutoffs between 2020-12-29 23:00:00 and 2021-12-29 23:00:00\n",
      "INFO:prophet:Applying in parallel with <concurrent.futures.process.ProcessPoolExecutor object at 0x00000175D2B08CD0>\n",
      "INFO:prophet:Skipping MAPE because y close to 0\n"
     ]
    },
    {
     "name": "stdout",
     "output_type": "stream",
     "text": [
      "FIN Iteracion Nº 60/144 en 153.58236694335938 segundos\n",
      "INICIO Iteracion Nº 61/144\n"
     ]
    },
    {
     "name": "stderr",
     "output_type": "stream",
     "text": [
      "INFO:prophet:Making 2 forecasts with cutoffs between 2020-12-29 23:00:00 and 2021-12-29 23:00:00\n",
      "INFO:prophet:Applying in parallel with <concurrent.futures.process.ProcessPoolExecutor object at 0x00000175CF51D790>\n",
      "INFO:prophet:Skipping MAPE because y close to 0\n"
     ]
    },
    {
     "name": "stdout",
     "output_type": "stream",
     "text": [
      "FIN Iteracion Nº 61/144 en 201.55545592308044 segundos\n",
      "INICIO Iteracion Nº 62/144\n"
     ]
    },
    {
     "name": "stderr",
     "output_type": "stream",
     "text": [
      "INFO:prophet:Making 2 forecasts with cutoffs between 2020-12-29 23:00:00 and 2021-12-29 23:00:00\n",
      "INFO:prophet:Applying in parallel with <concurrent.futures.process.ProcessPoolExecutor object at 0x00000175D2B08040>\n",
      "INFO:prophet:Skipping MAPE because y close to 0\n"
     ]
    },
    {
     "name": "stdout",
     "output_type": "stream",
     "text": [
      "FIN Iteracion Nº 62/144 en 213.87651109695435 segundos\n",
      "INICIO Iteracion Nº 63/144\n"
     ]
    },
    {
     "name": "stderr",
     "output_type": "stream",
     "text": [
      "INFO:prophet:Making 2 forecasts with cutoffs between 2020-12-29 23:00:00 and 2021-12-29 23:00:00\n",
      "INFO:prophet:Applying in parallel with <concurrent.futures.process.ProcessPoolExecutor object at 0x00000175D2AFCEE0>\n",
      "INFO:prophet:Skipping MAPE because y close to 0\n"
     ]
    },
    {
     "name": "stdout",
     "output_type": "stream",
     "text": [
      "FIN Iteracion Nº 63/144 en 186.9415900707245 segundos\n",
      "INICIO Iteracion Nº 64/144\n"
     ]
    },
    {
     "name": "stderr",
     "output_type": "stream",
     "text": [
      "INFO:prophet:Making 2 forecasts with cutoffs between 2020-12-29 23:00:00 and 2021-12-29 23:00:00\n",
      "INFO:prophet:Applying in parallel with <concurrent.futures.process.ProcessPoolExecutor object at 0x00000175D2B01D30>\n",
      "INFO:prophet:Skipping MAPE because y close to 0\n"
     ]
    },
    {
     "name": "stdout",
     "output_type": "stream",
     "text": [
      "FIN Iteracion Nº 64/144 en 227.30682134628296 segundos\n",
      "INICIO Iteracion Nº 65/144\n"
     ]
    },
    {
     "name": "stderr",
     "output_type": "stream",
     "text": [
      "INFO:prophet:Making 2 forecasts with cutoffs between 2020-12-29 23:00:00 and 2021-12-29 23:00:00\n",
      "INFO:prophet:Applying in parallel with <concurrent.futures.process.ProcessPoolExecutor object at 0x00000175D2AF1A60>\n",
      "INFO:prophet:Skipping MAPE because y close to 0\n"
     ]
    },
    {
     "name": "stdout",
     "output_type": "stream",
     "text": [
      "FIN Iteracion Nº 65/144 en 183.3585114479065 segundos\n",
      "INICIO Iteracion Nº 66/144\n"
     ]
    },
    {
     "name": "stderr",
     "output_type": "stream",
     "text": [
      "INFO:prophet:Making 2 forecasts with cutoffs between 2020-12-29 23:00:00 and 2021-12-29 23:00:00\n",
      "INFO:prophet:Applying in parallel with <concurrent.futures.process.ProcessPoolExecutor object at 0x00000175D2B01BB0>\n",
      "INFO:prophet:Skipping MAPE because y close to 0\n"
     ]
    },
    {
     "name": "stdout",
     "output_type": "stream",
     "text": [
      "FIN Iteracion Nº 66/144 en 191.17275428771973 segundos\n",
      "INICIO Iteracion Nº 67/144\n"
     ]
    },
    {
     "name": "stderr",
     "output_type": "stream",
     "text": [
      "INFO:prophet:Making 2 forecasts with cutoffs between 2020-12-29 23:00:00 and 2021-12-29 23:00:00\n",
      "INFO:prophet:Applying in parallel with <concurrent.futures.process.ProcessPoolExecutor object at 0x00000175D2B013D0>\n",
      "INFO:prophet:Skipping MAPE because y close to 0\n"
     ]
    },
    {
     "name": "stdout",
     "output_type": "stream",
     "text": [
      "FIN Iteracion Nº 67/144 en 171.71826720237732 segundos\n",
      "INICIO Iteracion Nº 68/144\n"
     ]
    },
    {
     "name": "stderr",
     "output_type": "stream",
     "text": [
      "INFO:prophet:Making 2 forecasts with cutoffs between 2020-12-29 23:00:00 and 2021-12-29 23:00:00\n",
      "INFO:prophet:Applying in parallel with <concurrent.futures.process.ProcessPoolExecutor object at 0x00000175D2B014F0>\n",
      "INFO:prophet:Skipping MAPE because y close to 0\n"
     ]
    },
    {
     "name": "stdout",
     "output_type": "stream",
     "text": [
      "FIN Iteracion Nº 68/144 en 169.00589299201965 segundos\n",
      "INICIO Iteracion Nº 69/144\n"
     ]
    },
    {
     "name": "stderr",
     "output_type": "stream",
     "text": [
      "INFO:prophet:Making 2 forecasts with cutoffs between 2020-12-29 23:00:00 and 2021-12-29 23:00:00\n",
      "INFO:prophet:Applying in parallel with <concurrent.futures.process.ProcessPoolExecutor object at 0x00000175D2B01610>\n",
      "INFO:prophet:Skipping MAPE because y close to 0\n"
     ]
    },
    {
     "name": "stdout",
     "output_type": "stream",
     "text": [
      "FIN Iteracion Nº 69/144 en 190.09177327156067 segundos\n",
      "INICIO Iteracion Nº 70/144\n"
     ]
    },
    {
     "name": "stderr",
     "output_type": "stream",
     "text": [
      "INFO:prophet:Making 2 forecasts with cutoffs between 2020-12-29 23:00:00 and 2021-12-29 23:00:00\n",
      "INFO:prophet:Applying in parallel with <concurrent.futures.process.ProcessPoolExecutor object at 0x00000175D2AFCD60>\n",
      "INFO:prophet:Skipping MAPE because y close to 0\n"
     ]
    },
    {
     "name": "stdout",
     "output_type": "stream",
     "text": [
      "FIN Iteracion Nº 70/144 en 208.2332239151001 segundos\n",
      "INICIO Iteracion Nº 71/144\n"
     ]
    },
    {
     "name": "stderr",
     "output_type": "stream",
     "text": [
      "INFO:prophet:Making 2 forecasts with cutoffs between 2020-12-29 23:00:00 and 2021-12-29 23:00:00\n",
      "INFO:prophet:Applying in parallel with <concurrent.futures.process.ProcessPoolExecutor object at 0x00000175CF51D130>\n",
      "INFO:prophet:Skipping MAPE because y close to 0\n"
     ]
    },
    {
     "name": "stdout",
     "output_type": "stream",
     "text": [
      "FIN Iteracion Nº 71/144 en 208.75951433181763 segundos\n",
      "INICIO Iteracion Nº 72/144\n"
     ]
    },
    {
     "name": "stderr",
     "output_type": "stream",
     "text": [
      "INFO:prophet:Making 2 forecasts with cutoffs between 2020-12-29 23:00:00 and 2021-12-29 23:00:00\n",
      "INFO:prophet:Applying in parallel with <concurrent.futures.process.ProcessPoolExecutor object at 0x00000175D2AFCC10>\n",
      "INFO:prophet:Skipping MAPE because y close to 0\n"
     ]
    },
    {
     "name": "stdout",
     "output_type": "stream",
     "text": [
      "FIN Iteracion Nº 72/144 en 544.4352533817291 segundos\n",
      "INICIO Iteracion Nº 73/144\n"
     ]
    },
    {
     "name": "stderr",
     "output_type": "stream",
     "text": [
      "INFO:prophet:Making 2 forecasts with cutoffs between 2020-12-29 23:00:00 and 2021-12-29 23:00:00\n",
      "INFO:prophet:Applying in parallel with <concurrent.futures.process.ProcessPoolExecutor object at 0x00000175D2B016A0>\n",
      "INFO:prophet:Skipping MAPE because y close to 0\n"
     ]
    },
    {
     "name": "stdout",
     "output_type": "stream",
     "text": [
      "FIN Iteracion Nº 73/144 en 603.6451215744019 segundos\n",
      "INICIO Iteracion Nº 74/144\n"
     ]
    },
    {
     "name": "stderr",
     "output_type": "stream",
     "text": [
      "INFO:prophet:Making 2 forecasts with cutoffs between 2020-12-29 23:00:00 and 2021-12-29 23:00:00\n",
      "INFO:prophet:Applying in parallel with <concurrent.futures.process.ProcessPoolExecutor object at 0x00000175D2AF5940>\n",
      "INFO:prophet:Skipping MAPE because y close to 0\n"
     ]
    },
    {
     "name": "stdout",
     "output_type": "stream",
     "text": [
      "FIN Iteracion Nº 74/144 en 592.8719878196716 segundos\n",
      "INICIO Iteracion Nº 75/144\n"
     ]
    },
    {
     "name": "stderr",
     "output_type": "stream",
     "text": [
      "INFO:prophet:Making 2 forecasts with cutoffs between 2020-12-29 23:00:00 and 2021-12-29 23:00:00\n",
      "INFO:prophet:Applying in parallel with <concurrent.futures.process.ProcessPoolExecutor object at 0x00000175D2B01130>\n",
      "INFO:prophet:Skipping MAPE because y close to 0\n"
     ]
    },
    {
     "name": "stdout",
     "output_type": "stream",
     "text": [
      "FIN Iteracion Nº 75/144 en 633.9810311794281 segundos\n",
      "INICIO Iteracion Nº 76/144\n"
     ]
    },
    {
     "name": "stderr",
     "output_type": "stream",
     "text": [
      "INFO:prophet:Making 2 forecasts with cutoffs between 2020-12-29 23:00:00 and 2021-12-29 23:00:00\n",
      "INFO:prophet:Applying in parallel with <concurrent.futures.process.ProcessPoolExecutor object at 0x00000175D2AF5970>\n",
      "INFO:prophet:Skipping MAPE because y close to 0\n"
     ]
    },
    {
     "name": "stdout",
     "output_type": "stream",
     "text": [
      "FIN Iteracion Nº 76/144 en 750.4602100849152 segundos\n",
      "INICIO Iteracion Nº 77/144\n"
     ]
    },
    {
     "name": "stderr",
     "output_type": "stream",
     "text": [
      "INFO:prophet:Making 2 forecasts with cutoffs between 2020-12-29 23:00:00 and 2021-12-29 23:00:00\n",
      "INFO:prophet:Applying in parallel with <concurrent.futures.process.ProcessPoolExecutor object at 0x00000175D2AFC8E0>\n",
      "INFO:prophet:Skipping MAPE because y close to 0\n"
     ]
    },
    {
     "name": "stdout",
     "output_type": "stream",
     "text": [
      "FIN Iteracion Nº 77/144 en 550.3567137718201 segundos\n",
      "INICIO Iteracion Nº 78/144\n"
     ]
    },
    {
     "name": "stderr",
     "output_type": "stream",
     "text": [
      "INFO:prophet:Making 2 forecasts with cutoffs between 2020-12-29 23:00:00 and 2021-12-29 23:00:00\n",
      "INFO:prophet:Applying in parallel with <concurrent.futures.process.ProcessPoolExecutor object at 0x00000175D2B088E0>\n",
      "INFO:prophet:Skipping MAPE because y close to 0\n"
     ]
    },
    {
     "name": "stdout",
     "output_type": "stream",
     "text": [
      "FIN Iteracion Nº 78/144 en 662.6999416351318 segundos\n",
      "INICIO Iteracion Nº 79/144\n"
     ]
    },
    {
     "name": "stderr",
     "output_type": "stream",
     "text": [
      "INFO:prophet:Making 2 forecasts with cutoffs between 2020-12-29 23:00:00 and 2021-12-29 23:00:00\n",
      "INFO:prophet:Applying in parallel with <concurrent.futures.process.ProcessPoolExecutor object at 0x00000175D2AF5C10>\n",
      "INFO:prophet:Skipping MAPE because y close to 0\n"
     ]
    },
    {
     "name": "stdout",
     "output_type": "stream",
     "text": [
      "FIN Iteracion Nº 79/144 en 625.6344954967499 segundos\n",
      "INICIO Iteracion Nº 80/144\n"
     ]
    },
    {
     "name": "stderr",
     "output_type": "stream",
     "text": [
      "INFO:prophet:Making 2 forecasts with cutoffs between 2020-12-29 23:00:00 and 2021-12-29 23:00:00\n",
      "INFO:prophet:Applying in parallel with <concurrent.futures.process.ProcessPoolExecutor object at 0x00000175D2AF5700>\n",
      "INFO:prophet:Skipping MAPE because y close to 0\n"
     ]
    },
    {
     "name": "stdout",
     "output_type": "stream",
     "text": [
      "FIN Iteracion Nº 80/144 en 598.3431553840637 segundos\n",
      "INICIO Iteracion Nº 81/144\n"
     ]
    },
    {
     "name": "stderr",
     "output_type": "stream",
     "text": [
      "INFO:prophet:Making 2 forecasts with cutoffs between 2020-12-29 23:00:00 and 2021-12-29 23:00:00\n",
      "INFO:prophet:Applying in parallel with <concurrent.futures.process.ProcessPoolExecutor object at 0x00000175D2AF5370>\n",
      "INFO:prophet:Skipping MAPE because y close to 0\n"
     ]
    },
    {
     "name": "stdout",
     "output_type": "stream",
     "text": [
      "FIN Iteracion Nº 81/144 en 581.7616128921509 segundos\n",
      "INICIO Iteracion Nº 82/144\n"
     ]
    },
    {
     "name": "stderr",
     "output_type": "stream",
     "text": [
      "INFO:prophet:Making 2 forecasts with cutoffs between 2020-12-29 23:00:00 and 2021-12-29 23:00:00\n",
      "INFO:prophet:Applying in parallel with <concurrent.futures.process.ProcessPoolExecutor object at 0x00000175D2B08790>\n",
      "INFO:prophet:Skipping MAPE because y close to 0\n"
     ]
    },
    {
     "name": "stdout",
     "output_type": "stream",
     "text": [
      "FIN Iteracion Nº 82/144 en 477.46512746810913 segundos\n",
      "INICIO Iteracion Nº 83/144\n"
     ]
    },
    {
     "name": "stderr",
     "output_type": "stream",
     "text": [
      "INFO:prophet:Making 2 forecasts with cutoffs between 2020-12-29 23:00:00 and 2021-12-29 23:00:00\n",
      "INFO:prophet:Applying in parallel with <concurrent.futures.process.ProcessPoolExecutor object at 0x00000175D2AF15B0>\n",
      "INFO:prophet:Skipping MAPE because y close to 0\n"
     ]
    },
    {
     "name": "stdout",
     "output_type": "stream",
     "text": [
      "FIN Iteracion Nº 83/144 en 651.1228485107422 segundos\n",
      "INICIO Iteracion Nº 84/144\n"
     ]
    },
    {
     "name": "stderr",
     "output_type": "stream",
     "text": [
      "INFO:prophet:Making 2 forecasts with cutoffs between 2020-12-29 23:00:00 and 2021-12-29 23:00:00\n",
      "INFO:prophet:Applying in parallel with <concurrent.futures.process.ProcessPoolExecutor object at 0x00000175D2AFCDF0>\n",
      "INFO:prophet:Skipping MAPE because y close to 0\n"
     ]
    },
    {
     "name": "stdout",
     "output_type": "stream",
     "text": [
      "FIN Iteracion Nº 84/144 en 675.8209581375122 segundos\n",
      "INICIO Iteracion Nº 85/144\n"
     ]
    },
    {
     "name": "stderr",
     "output_type": "stream",
     "text": [
      "INFO:prophet:Making 2 forecasts with cutoffs between 2020-12-29 23:00:00 and 2021-12-29 23:00:00\n",
      "INFO:prophet:Applying in parallel with <concurrent.futures.process.ProcessPoolExecutor object at 0x00000175D2AF1790>\n",
      "INFO:prophet:Skipping MAPE because y close to 0\n"
     ]
    },
    {
     "name": "stdout",
     "output_type": "stream",
     "text": [
      "FIN Iteracion Nº 85/144 en 621.8752055168152 segundos\n",
      "INICIO Iteracion Nº 86/144\n"
     ]
    },
    {
     "name": "stderr",
     "output_type": "stream",
     "text": [
      "INFO:prophet:Making 2 forecasts with cutoffs between 2020-12-29 23:00:00 and 2021-12-29 23:00:00\n",
      "INFO:prophet:Applying in parallel with <concurrent.futures.process.ProcessPoolExecutor object at 0x00000175CF51DC40>\n",
      "INFO:prophet:Skipping MAPE because y close to 0\n"
     ]
    },
    {
     "name": "stdout",
     "output_type": "stream",
     "text": [
      "FIN Iteracion Nº 86/144 en 543.123672246933 segundos\n",
      "INICIO Iteracion Nº 87/144\n"
     ]
    },
    {
     "name": "stderr",
     "output_type": "stream",
     "text": [
      "INFO:prophet:Making 2 forecasts with cutoffs between 2020-12-29 23:00:00 and 2021-12-29 23:00:00\n",
      "INFO:prophet:Applying in parallel with <concurrent.futures.process.ProcessPoolExecutor object at 0x00000175D2AF1970>\n",
      "INFO:prophet:Skipping MAPE because y close to 0\n"
     ]
    },
    {
     "name": "stdout",
     "output_type": "stream",
     "text": [
      "FIN Iteracion Nº 87/144 en 729.3810548782349 segundos\n",
      "INICIO Iteracion Nº 88/144\n"
     ]
    },
    {
     "name": "stderr",
     "output_type": "stream",
     "text": [
      "INFO:prophet:Making 2 forecasts with cutoffs between 2020-12-29 23:00:00 and 2021-12-29 23:00:00\n",
      "INFO:prophet:Applying in parallel with <concurrent.futures.process.ProcessPoolExecutor object at 0x00000175D2AF5CA0>\n",
      "INFO:prophet:Skipping MAPE because y close to 0\n"
     ]
    },
    {
     "name": "stdout",
     "output_type": "stream",
     "text": [
      "FIN Iteracion Nº 88/144 en 751.8341953754425 segundos\n",
      "INICIO Iteracion Nº 89/144\n"
     ]
    },
    {
     "name": "stderr",
     "output_type": "stream",
     "text": [
      "INFO:prophet:Making 2 forecasts with cutoffs between 2020-12-29 23:00:00 and 2021-12-29 23:00:00\n",
      "INFO:prophet:Applying in parallel with <concurrent.futures.process.ProcessPoolExecutor object at 0x00000175D2AFC3D0>\n",
      "INFO:prophet:Skipping MAPE because y close to 0\n"
     ]
    },
    {
     "name": "stdout",
     "output_type": "stream",
     "text": [
      "FIN Iteracion Nº 89/144 en 668.1945414543152 segundos\n",
      "INICIO Iteracion Nº 90/144\n"
     ]
    },
    {
     "name": "stderr",
     "output_type": "stream",
     "text": [
      "INFO:prophet:Making 2 forecasts with cutoffs between 2020-12-29 23:00:00 and 2021-12-29 23:00:00\n",
      "INFO:prophet:Applying in parallel with <concurrent.futures.process.ProcessPoolExecutor object at 0x00000175D2B089A0>\n",
      "INFO:prophet:Skipping MAPE because y close to 0\n"
     ]
    },
    {
     "name": "stdout",
     "output_type": "stream",
     "text": [
      "FIN Iteracion Nº 90/144 en 637.7463314533234 segundos\n",
      "INICIO Iteracion Nº 91/144\n"
     ]
    },
    {
     "name": "stderr",
     "output_type": "stream",
     "text": [
      "INFO:prophet:Making 2 forecasts with cutoffs between 2020-12-29 23:00:00 and 2021-12-29 23:00:00\n",
      "INFO:prophet:Applying in parallel with <concurrent.futures.process.ProcessPoolExecutor object at 0x00000175D2B01C70>\n",
      "INFO:prophet:Skipping MAPE because y close to 0\n"
     ]
    },
    {
     "name": "stdout",
     "output_type": "stream",
     "text": [
      "FIN Iteracion Nº 91/144 en 630.3573889732361 segundos\n",
      "INICIO Iteracion Nº 92/144\n"
     ]
    },
    {
     "name": "stderr",
     "output_type": "stream",
     "text": [
      "INFO:prophet:Making 2 forecasts with cutoffs between 2020-12-29 23:00:00 and 2021-12-29 23:00:00\n",
      "INFO:prophet:Applying in parallel with <concurrent.futures.process.ProcessPoolExecutor object at 0x00000175D2B01EB0>\n",
      "INFO:prophet:Skipping MAPE because y close to 0\n"
     ]
    },
    {
     "name": "stdout",
     "output_type": "stream",
     "text": [
      "FIN Iteracion Nº 92/144 en 661.1971437931061 segundos\n",
      "INICIO Iteracion Nº 93/144\n"
     ]
    },
    {
     "name": "stderr",
     "output_type": "stream",
     "text": [
      "INFO:prophet:Making 2 forecasts with cutoffs between 2020-12-29 23:00:00 and 2021-12-29 23:00:00\n",
      "INFO:prophet:Applying in parallel with <concurrent.futures.process.ProcessPoolExecutor object at 0x00000175D2B01430>\n",
      "INFO:prophet:Skipping MAPE because y close to 0\n"
     ]
    },
    {
     "name": "stdout",
     "output_type": "stream",
     "text": [
      "FIN Iteracion Nº 93/144 en 678.3000209331512 segundos\n",
      "INICIO Iteracion Nº 94/144\n"
     ]
    },
    {
     "name": "stderr",
     "output_type": "stream",
     "text": [
      "INFO:prophet:Making 2 forecasts with cutoffs between 2020-12-29 23:00:00 and 2021-12-29 23:00:00\n",
      "INFO:prophet:Applying in parallel with <concurrent.futures.process.ProcessPoolExecutor object at 0x00000175D2B087F0>\n",
      "INFO:prophet:Skipping MAPE because y close to 0\n"
     ]
    },
    {
     "name": "stdout",
     "output_type": "stream",
     "text": [
      "FIN Iteracion Nº 94/144 en 751.3335325717926 segundos\n",
      "INICIO Iteracion Nº 95/144\n"
     ]
    },
    {
     "name": "stderr",
     "output_type": "stream",
     "text": [
      "INFO:prophet:Making 2 forecasts with cutoffs between 2020-12-29 23:00:00 and 2021-12-29 23:00:00\n",
      "INFO:prophet:Applying in parallel with <concurrent.futures.process.ProcessPoolExecutor object at 0x00000175CF51DB20>\n",
      "INFO:prophet:Skipping MAPE because y close to 0\n"
     ]
    },
    {
     "name": "stdout",
     "output_type": "stream",
     "text": [
      "FIN Iteracion Nº 95/144 en 678.3129596710205 segundos\n",
      "INICIO Iteracion Nº 96/144\n"
     ]
    },
    {
     "name": "stderr",
     "output_type": "stream",
     "text": [
      "INFO:prophet:Making 2 forecasts with cutoffs between 2020-12-29 23:00:00 and 2021-12-29 23:00:00\n",
      "INFO:prophet:Applying in parallel with <concurrent.futures.process.ProcessPoolExecutor object at 0x00000175D2AFCA60>\n",
      "INFO:prophet:Skipping MAPE because y close to 0\n"
     ]
    },
    {
     "name": "stdout",
     "output_type": "stream",
     "text": [
      "FIN Iteracion Nº 96/144 en 709.4480359554291 segundos\n",
      "INICIO Iteracion Nº 97/144\n"
     ]
    },
    {
     "name": "stderr",
     "output_type": "stream",
     "text": [
      "INFO:prophet:Making 2 forecasts with cutoffs between 2020-12-29 23:00:00 and 2021-12-29 23:00:00\n",
      "INFO:prophet:Applying in parallel with <concurrent.futures.process.ProcessPoolExecutor object at 0x00000175D2AFCA30>\n",
      "INFO:prophet:Skipping MAPE because y close to 0\n"
     ]
    },
    {
     "name": "stdout",
     "output_type": "stream",
     "text": [
      "FIN Iteracion Nº 97/144 en 590.7335202693939 segundos\n",
      "INICIO Iteracion Nº 98/144\n"
     ]
    },
    {
     "name": "stderr",
     "output_type": "stream",
     "text": [
      "INFO:prophet:Making 2 forecasts with cutoffs between 2020-12-29 23:00:00 and 2021-12-29 23:00:00\n",
      "INFO:prophet:Applying in parallel with <concurrent.futures.process.ProcessPoolExecutor object at 0x00000175CF51DAF0>\n",
      "INFO:prophet:Skipping MAPE because y close to 0\n"
     ]
    },
    {
     "name": "stdout",
     "output_type": "stream",
     "text": [
      "FIN Iteracion Nº 98/144 en 567.0098476409912 segundos\n",
      "INICIO Iteracion Nº 99/144\n"
     ]
    },
    {
     "name": "stderr",
     "output_type": "stream",
     "text": [
      "INFO:prophet:Making 2 forecasts with cutoffs between 2020-12-29 23:00:00 and 2021-12-29 23:00:00\n",
      "INFO:prophet:Applying in parallel with <concurrent.futures.process.ProcessPoolExecutor object at 0x00000175D2B01490>\n",
      "INFO:prophet:Skipping MAPE because y close to 0\n"
     ]
    },
    {
     "name": "stdout",
     "output_type": "stream",
     "text": [
      "FIN Iteracion Nº 99/144 en 770.2159287929535 segundos\n",
      "INICIO Iteracion Nº 100/144\n"
     ]
    },
    {
     "name": "stderr",
     "output_type": "stream",
     "text": [
      "INFO:prophet:Making 2 forecasts with cutoffs between 2020-12-29 23:00:00 and 2021-12-29 23:00:00\n",
      "INFO:prophet:Applying in parallel with <concurrent.futures.process.ProcessPoolExecutor object at 0x00000175D2AFC430>\n",
      "INFO:prophet:Skipping MAPE because y close to 0\n"
     ]
    },
    {
     "name": "stdout",
     "output_type": "stream",
     "text": [
      "FIN Iteracion Nº 100/144 en 695.866378068924 segundos\n",
      "INICIO Iteracion Nº 101/144\n"
     ]
    },
    {
     "name": "stderr",
     "output_type": "stream",
     "text": [
      "INFO:prophet:Making 2 forecasts with cutoffs between 2020-12-29 23:00:00 and 2021-12-29 23:00:00\n",
      "INFO:prophet:Applying in parallel with <concurrent.futures.process.ProcessPoolExecutor object at 0x00000175CF51DC10>\n",
      "INFO:prophet:Skipping MAPE because y close to 0\n"
     ]
    },
    {
     "name": "stdout",
     "output_type": "stream",
     "text": [
      "FIN Iteracion Nº 101/144 en 701.8988115787506 segundos\n",
      "INICIO Iteracion Nº 102/144\n"
     ]
    },
    {
     "name": "stderr",
     "output_type": "stream",
     "text": [
      "INFO:prophet:Making 2 forecasts with cutoffs between 2020-12-29 23:00:00 and 2021-12-29 23:00:00\n",
      "INFO:prophet:Applying in parallel with <concurrent.futures.process.ProcessPoolExecutor object at 0x00000175D2B01760>\n",
      "INFO:prophet:Skipping MAPE because y close to 0\n"
     ]
    },
    {
     "name": "stdout",
     "output_type": "stream",
     "text": [
      "FIN Iteracion Nº 102/144 en 636.5110597610474 segundos\n",
      "INICIO Iteracion Nº 103/144\n"
     ]
    },
    {
     "name": "stderr",
     "output_type": "stream",
     "text": [
      "INFO:prophet:Making 2 forecasts with cutoffs between 2020-12-29 23:00:00 and 2021-12-29 23:00:00\n",
      "INFO:prophet:Applying in parallel with <concurrent.futures.process.ProcessPoolExecutor object at 0x00000175D2AF1790>\n",
      "INFO:prophet:Skipping MAPE because y close to 0\n"
     ]
    },
    {
     "name": "stdout",
     "output_type": "stream",
     "text": [
      "FIN Iteracion Nº 103/144 en 622.5858707427979 segundos\n",
      "INICIO Iteracion Nº 104/144\n"
     ]
    },
    {
     "name": "stderr",
     "output_type": "stream",
     "text": [
      "INFO:prophet:Making 2 forecasts with cutoffs between 2020-12-29 23:00:00 and 2021-12-29 23:00:00\n",
      "INFO:prophet:Applying in parallel with <concurrent.futures.process.ProcessPoolExecutor object at 0x00000175D2AF5DC0>\n",
      "INFO:prophet:Skipping MAPE because y close to 0\n"
     ]
    },
    {
     "name": "stdout",
     "output_type": "stream",
     "text": [
      "FIN Iteracion Nº 104/144 en 816.7475924491882 segundos\n",
      "INICIO Iteracion Nº 105/144\n"
     ]
    },
    {
     "name": "stderr",
     "output_type": "stream",
     "text": [
      "INFO:prophet:Making 2 forecasts with cutoffs between 2020-12-29 23:00:00 and 2021-12-29 23:00:00\n",
      "INFO:prophet:Applying in parallel with <concurrent.futures.process.ProcessPoolExecutor object at 0x00000175D2AFC160>\n",
      "INFO:prophet:Skipping MAPE because y close to 0\n"
     ]
    },
    {
     "name": "stdout",
     "output_type": "stream",
     "text": [
      "FIN Iteracion Nº 105/144 en 810.9061164855957 segundos\n",
      "INICIO Iteracion Nº 106/144\n"
     ]
    },
    {
     "name": "stderr",
     "output_type": "stream",
     "text": [
      "INFO:prophet:Making 2 forecasts with cutoffs between 2020-12-29 23:00:00 and 2021-12-29 23:00:00\n",
      "INFO:prophet:Applying in parallel with <concurrent.futures.process.ProcessPoolExecutor object at 0x00000175D2AF13A0>\n",
      "INFO:prophet:Skipping MAPE because y close to 0\n"
     ]
    },
    {
     "name": "stdout",
     "output_type": "stream",
     "text": [
      "FIN Iteracion Nº 106/144 en 515.723230600357 segundos\n",
      "INICIO Iteracion Nº 107/144\n"
     ]
    },
    {
     "name": "stderr",
     "output_type": "stream",
     "text": [
      "INFO:prophet:Making 2 forecasts with cutoffs between 2020-12-29 23:00:00 and 2021-12-29 23:00:00\n",
      "INFO:prophet:Applying in parallel with <concurrent.futures.process.ProcessPoolExecutor object at 0x00000175D2AF1040>\n",
      "INFO:prophet:Skipping MAPE because y close to 0\n"
     ]
    },
    {
     "name": "stdout",
     "output_type": "stream",
     "text": [
      "FIN Iteracion Nº 107/144 en 674.3759708404541 segundos\n",
      "INICIO Iteracion Nº 108/144\n"
     ]
    },
    {
     "name": "stderr",
     "output_type": "stream",
     "text": [
      "INFO:prophet:Making 2 forecasts with cutoffs between 2020-12-29 23:00:00 and 2021-12-29 23:00:00\n",
      "INFO:prophet:Applying in parallel with <concurrent.futures.process.ProcessPoolExecutor object at 0x00000175D2AFCC10>\n",
      "INFO:prophet:Skipping MAPE because y close to 0\n"
     ]
    },
    {
     "name": "stdout",
     "output_type": "stream",
     "text": [
      "FIN Iteracion Nº 108/144 en 911.0229411125183 segundos\n",
      "INICIO Iteracion Nº 109/144\n"
     ]
    },
    {
     "name": "stderr",
     "output_type": "stream",
     "text": [
      "INFO:prophet:Making 2 forecasts with cutoffs between 2020-12-29 23:00:00 and 2021-12-29 23:00:00\n",
      "INFO:prophet:Applying in parallel with <concurrent.futures.process.ProcessPoolExecutor object at 0x00000175D2AF5CA0>\n",
      "INFO:prophet:Skipping MAPE because y close to 0\n"
     ]
    },
    {
     "name": "stdout",
     "output_type": "stream",
     "text": [
      "FIN Iteracion Nº 109/144 en 897.4149084091187 segundos\n",
      "INICIO Iteracion Nº 110/144\n"
     ]
    },
    {
     "name": "stderr",
     "output_type": "stream",
     "text": [
      "INFO:prophet:Making 2 forecasts with cutoffs between 2020-12-29 23:00:00 and 2021-12-29 23:00:00\n",
      "INFO:prophet:Applying in parallel with <concurrent.futures.process.ProcessPoolExecutor object at 0x00000175D2AF18B0>\n",
      "INFO:prophet:Skipping MAPE because y close to 0\n"
     ]
    },
    {
     "name": "stdout",
     "output_type": "stream",
     "text": [
      "FIN Iteracion Nº 110/144 en 707.4545674324036 segundos\n",
      "INICIO Iteracion Nº 111/144\n"
     ]
    },
    {
     "name": "stderr",
     "output_type": "stream",
     "text": [
      "INFO:prophet:Making 2 forecasts with cutoffs between 2020-12-29 23:00:00 and 2021-12-29 23:00:00\n",
      "INFO:prophet:Applying in parallel with <concurrent.futures.process.ProcessPoolExecutor object at 0x00000175D2B08F10>\n",
      "INFO:prophet:Skipping MAPE because y close to 0\n"
     ]
    },
    {
     "name": "stdout",
     "output_type": "stream",
     "text": [
      "FIN Iteracion Nº 111/144 en 927.2573220729828 segundos\n",
      "INICIO Iteracion Nº 112/144\n"
     ]
    },
    {
     "name": "stderr",
     "output_type": "stream",
     "text": [
      "INFO:prophet:Making 2 forecasts with cutoffs between 2020-12-29 23:00:00 and 2021-12-29 23:00:00\n",
      "INFO:prophet:Applying in parallel with <concurrent.futures.process.ProcessPoolExecutor object at 0x00000175D2B08A00>\n",
      "INFO:prophet:Skipping MAPE because y close to 0\n"
     ]
    },
    {
     "name": "stdout",
     "output_type": "stream",
     "text": [
      "FIN Iteracion Nº 112/144 en 771.3696341514587 segundos\n",
      "INICIO Iteracion Nº 113/144\n"
     ]
    },
    {
     "name": "stderr",
     "output_type": "stream",
     "text": [
      "INFO:prophet:Making 2 forecasts with cutoffs between 2020-12-29 23:00:00 and 2021-12-29 23:00:00\n",
      "INFO:prophet:Applying in parallel with <concurrent.futures.process.ProcessPoolExecutor object at 0x00000175D2AFCBE0>\n",
      "INFO:prophet:Skipping MAPE because y close to 0\n"
     ]
    },
    {
     "name": "stdout",
     "output_type": "stream",
     "text": [
      "FIN Iteracion Nº 113/144 en 859.0758309364319 segundos\n",
      "INICIO Iteracion Nº 114/144\n"
     ]
    },
    {
     "name": "stderr",
     "output_type": "stream",
     "text": [
      "INFO:prophet:Making 2 forecasts with cutoffs between 2020-12-29 23:00:00 and 2021-12-29 23:00:00\n",
      "INFO:prophet:Applying in parallel with <concurrent.futures.process.ProcessPoolExecutor object at 0x00000175CF51D580>\n",
      "INFO:prophet:Skipping MAPE because y close to 0\n"
     ]
    },
    {
     "name": "stdout",
     "output_type": "stream",
     "text": [
      "FIN Iteracion Nº 114/144 en 808.7734639644623 segundos\n",
      "INICIO Iteracion Nº 115/144\n"
     ]
    },
    {
     "name": "stderr",
     "output_type": "stream",
     "text": [
      "INFO:prophet:Making 2 forecasts with cutoffs between 2020-12-29 23:00:00 and 2021-12-29 23:00:00\n",
      "INFO:prophet:Applying in parallel with <concurrent.futures.process.ProcessPoolExecutor object at 0x00000175D2AF5CD0>\n",
      "INFO:prophet:Skipping MAPE because y close to 0\n"
     ]
    },
    {
     "name": "stdout",
     "output_type": "stream",
     "text": [
      "FIN Iteracion Nº 115/144 en 755.8195967674255 segundos\n",
      "INICIO Iteracion Nº 116/144\n"
     ]
    },
    {
     "name": "stderr",
     "output_type": "stream",
     "text": [
      "INFO:prophet:Making 2 forecasts with cutoffs between 2020-12-29 23:00:00 and 2021-12-29 23:00:00\n",
      "INFO:prophet:Applying in parallel with <concurrent.futures.process.ProcessPoolExecutor object at 0x00000175D2AFCC70>\n",
      "INFO:prophet:Skipping MAPE because y close to 0\n"
     ]
    },
    {
     "name": "stdout",
     "output_type": "stream",
     "text": [
      "FIN Iteracion Nº 116/144 en 712.5660443305969 segundos\n",
      "INICIO Iteracion Nº 117/144\n"
     ]
    },
    {
     "name": "stderr",
     "output_type": "stream",
     "text": [
      "INFO:prophet:Making 2 forecasts with cutoffs between 2020-12-29 23:00:00 and 2021-12-29 23:00:00\n",
      "INFO:prophet:Applying in parallel with <concurrent.futures.process.ProcessPoolExecutor object at 0x00000175D2B01400>\n",
      "INFO:prophet:Skipping MAPE because y close to 0\n"
     ]
    },
    {
     "name": "stdout",
     "output_type": "stream",
     "text": [
      "FIN Iteracion Nº 117/144 en 766.013703584671 segundos\n",
      "INICIO Iteracion Nº 118/144\n"
     ]
    },
    {
     "name": "stderr",
     "output_type": "stream",
     "text": [
      "INFO:prophet:Making 2 forecasts with cutoffs between 2020-12-29 23:00:00 and 2021-12-29 23:00:00\n",
      "INFO:prophet:Applying in parallel with <concurrent.futures.process.ProcessPoolExecutor object at 0x00000175D2B08D60>\n",
      "INFO:prophet:Skipping MAPE because y close to 0\n"
     ]
    },
    {
     "name": "stdout",
     "output_type": "stream",
     "text": [
      "FIN Iteracion Nº 118/144 en 891.3996818065643 segundos\n",
      "INICIO Iteracion Nº 119/144\n"
     ]
    },
    {
     "name": "stderr",
     "output_type": "stream",
     "text": [
      "INFO:prophet:Making 2 forecasts with cutoffs between 2020-12-29 23:00:00 and 2021-12-29 23:00:00\n",
      "INFO:prophet:Applying in parallel with <concurrent.futures.process.ProcessPoolExecutor object at 0x00000175D2B08520>\n",
      "INFO:prophet:Skipping MAPE because y close to 0\n"
     ]
    },
    {
     "name": "stdout",
     "output_type": "stream",
     "text": [
      "FIN Iteracion Nº 119/144 en 804.5146555900574 segundos\n",
      "INICIO Iteracion Nº 120/144\n"
     ]
    },
    {
     "name": "stderr",
     "output_type": "stream",
     "text": [
      "INFO:prophet:Making 2 forecasts with cutoffs between 2020-12-29 23:00:00 and 2021-12-29 23:00:00\n",
      "INFO:prophet:Applying in parallel with <concurrent.futures.process.ProcessPoolExecutor object at 0x00000175D2AF16D0>\n",
      "INFO:prophet:Skipping MAPE because y close to 0\n"
     ]
    },
    {
     "name": "stdout",
     "output_type": "stream",
     "text": [
      "FIN Iteracion Nº 120/144 en 854.7545697689056 segundos\n",
      "INICIO Iteracion Nº 121/144\n"
     ]
    },
    {
     "name": "stderr",
     "output_type": "stream",
     "text": [
      "INFO:prophet:Making 2 forecasts with cutoffs between 2020-12-29 23:00:00 and 2021-12-29 23:00:00\n",
      "INFO:prophet:Applying in parallel with <concurrent.futures.process.ProcessPoolExecutor object at 0x00000175D2AF5310>\n",
      "INFO:prophet:Skipping MAPE because y close to 0\n"
     ]
    },
    {
     "name": "stdout",
     "output_type": "stream",
     "text": [
      "FIN Iteracion Nº 121/144 en 740.5236732959747 segundos\n",
      "INICIO Iteracion Nº 122/144\n"
     ]
    },
    {
     "name": "stderr",
     "output_type": "stream",
     "text": [
      "INFO:prophet:Making 2 forecasts with cutoffs between 2020-12-29 23:00:00 and 2021-12-29 23:00:00\n",
      "INFO:prophet:Applying in parallel with <concurrent.futures.process.ProcessPoolExecutor object at 0x00000175D2B01610>\n",
      "INFO:prophet:Skipping MAPE because y close to 0\n"
     ]
    },
    {
     "name": "stdout",
     "output_type": "stream",
     "text": [
      "FIN Iteracion Nº 122/144 en 877.2400488853455 segundos\n",
      "INICIO Iteracion Nº 123/144\n"
     ]
    },
    {
     "name": "stderr",
     "output_type": "stream",
     "text": [
      "INFO:prophet:Making 2 forecasts with cutoffs between 2020-12-29 23:00:00 and 2021-12-29 23:00:00\n",
      "INFO:prophet:Applying in parallel with <concurrent.futures.process.ProcessPoolExecutor object at 0x00000175D2AFCB50>\n",
      "INFO:prophet:Skipping MAPE because y close to 0\n"
     ]
    },
    {
     "name": "stdout",
     "output_type": "stream",
     "text": [
      "FIN Iteracion Nº 123/144 en 655.6914412975311 segundos\n",
      "INICIO Iteracion Nº 124/144\n"
     ]
    },
    {
     "name": "stderr",
     "output_type": "stream",
     "text": [
      "INFO:prophet:Making 2 forecasts with cutoffs between 2020-12-29 23:00:00 and 2021-12-29 23:00:00\n",
      "INFO:prophet:Applying in parallel with <concurrent.futures.process.ProcessPoolExecutor object at 0x00000175D2B08F70>\n",
      "INFO:prophet:Skipping MAPE because y close to 0\n"
     ]
    },
    {
     "name": "stdout",
     "output_type": "stream",
     "text": [
      "FIN Iteracion Nº 124/144 en 830.9408526420593 segundos\n",
      "INICIO Iteracion Nº 125/144\n"
     ]
    },
    {
     "name": "stderr",
     "output_type": "stream",
     "text": [
      "INFO:prophet:Making 2 forecasts with cutoffs between 2020-12-29 23:00:00 and 2021-12-29 23:00:00\n",
      "INFO:prophet:Applying in parallel with <concurrent.futures.process.ProcessPoolExecutor object at 0x00000175D2AF5CD0>\n",
      "INFO:prophet:Skipping MAPE because y close to 0\n"
     ]
    },
    {
     "name": "stdout",
     "output_type": "stream",
     "text": [
      "FIN Iteracion Nº 125/144 en 724.8928270339966 segundos\n",
      "INICIO Iteracion Nº 126/144\n"
     ]
    },
    {
     "name": "stderr",
     "output_type": "stream",
     "text": [
      "INFO:prophet:Making 2 forecasts with cutoffs between 2020-12-29 23:00:00 and 2021-12-29 23:00:00\n",
      "INFO:prophet:Applying in parallel with <concurrent.futures.process.ProcessPoolExecutor object at 0x00000175D2B019A0>\n",
      "INFO:prophet:Skipping MAPE because y close to 0\n"
     ]
    },
    {
     "name": "stdout",
     "output_type": "stream",
     "text": [
      "FIN Iteracion Nº 126/144 en 765.2313582897186 segundos\n",
      "INICIO Iteracion Nº 127/144\n"
     ]
    },
    {
     "name": "stderr",
     "output_type": "stream",
     "text": [
      "INFO:prophet:Making 2 forecasts with cutoffs between 2020-12-29 23:00:00 and 2021-12-29 23:00:00\n",
      "INFO:prophet:Applying in parallel with <concurrent.futures.process.ProcessPoolExecutor object at 0x00000175CF51DB80>\n",
      "INFO:prophet:Skipping MAPE because y close to 0\n"
     ]
    },
    {
     "name": "stdout",
     "output_type": "stream",
     "text": [
      "FIN Iteracion Nº 127/144 en 878.7529859542847 segundos\n",
      "INICIO Iteracion Nº 128/144\n"
     ]
    },
    {
     "name": "stderr",
     "output_type": "stream",
     "text": [
      "INFO:prophet:Making 2 forecasts with cutoffs between 2020-12-29 23:00:00 and 2021-12-29 23:00:00\n",
      "INFO:prophet:Applying in parallel with <concurrent.futures.process.ProcessPoolExecutor object at 0x00000175D2AFC160>\n",
      "INFO:prophet:Skipping MAPE because y close to 0\n"
     ]
    },
    {
     "name": "stdout",
     "output_type": "stream",
     "text": [
      "FIN Iteracion Nº 128/144 en 853.0695753097534 segundos\n",
      "INICIO Iteracion Nº 129/144\n"
     ]
    },
    {
     "name": "stderr",
     "output_type": "stream",
     "text": [
      "INFO:prophet:Making 2 forecasts with cutoffs between 2020-12-29 23:00:00 and 2021-12-29 23:00:00\n",
      "INFO:prophet:Applying in parallel with <concurrent.futures.process.ProcessPoolExecutor object at 0x00000175D2AFCCA0>\n",
      "INFO:prophet:Skipping MAPE because y close to 0\n"
     ]
    },
    {
     "name": "stdout",
     "output_type": "stream",
     "text": [
      "FIN Iteracion Nº 129/144 en 914.0201025009155 segundos\n",
      "INICIO Iteracion Nº 130/144\n"
     ]
    },
    {
     "name": "stderr",
     "output_type": "stream",
     "text": [
      "INFO:prophet:Making 2 forecasts with cutoffs between 2020-12-29 23:00:00 and 2021-12-29 23:00:00\n",
      "INFO:prophet:Applying in parallel with <concurrent.futures.process.ProcessPoolExecutor object at 0x00000175D2AFC700>\n",
      "INFO:prophet:Skipping MAPE because y close to 0\n"
     ]
    },
    {
     "name": "stdout",
     "output_type": "stream",
     "text": [
      "FIN Iteracion Nº 130/144 en 805.1428623199463 segundos\n",
      "INICIO Iteracion Nº 131/144\n"
     ]
    },
    {
     "name": "stderr",
     "output_type": "stream",
     "text": [
      "INFO:prophet:Making 2 forecasts with cutoffs between 2020-12-29 23:00:00 and 2021-12-29 23:00:00\n",
      "INFO:prophet:Applying in parallel with <concurrent.futures.process.ProcessPoolExecutor object at 0x00000175D2B08D90>\n",
      "INFO:prophet:Skipping MAPE because y close to 0\n"
     ]
    },
    {
     "name": "stdout",
     "output_type": "stream",
     "text": [
      "FIN Iteracion Nº 131/144 en 817.3824636936188 segundos\n",
      "INICIO Iteracion Nº 132/144\n"
     ]
    },
    {
     "name": "stderr",
     "output_type": "stream",
     "text": [
      "INFO:prophet:Making 2 forecasts with cutoffs between 2020-12-29 23:00:00 and 2021-12-29 23:00:00\n",
      "INFO:prophet:Applying in parallel with <concurrent.futures.process.ProcessPoolExecutor object at 0x00000175D2B08520>\n",
      "INFO:prophet:Skipping MAPE because y close to 0\n"
     ]
    },
    {
     "name": "stdout",
     "output_type": "stream",
     "text": [
      "FIN Iteracion Nº 132/144 en 986.305077791214 segundos\n",
      "INICIO Iteracion Nº 133/144\n"
     ]
    },
    {
     "name": "stderr",
     "output_type": "stream",
     "text": [
      "INFO:prophet:Making 2 forecasts with cutoffs between 2020-12-29 23:00:00 and 2021-12-29 23:00:00\n",
      "INFO:prophet:Applying in parallel with <concurrent.futures.process.ProcessPoolExecutor object at 0x00000175D2B08EE0>\n",
      "INFO:prophet:Skipping MAPE because y close to 0\n"
     ]
    },
    {
     "name": "stdout",
     "output_type": "stream",
     "text": [
      "FIN Iteracion Nº 133/144 en 814.6665740013123 segundos\n",
      "INICIO Iteracion Nº 134/144\n"
     ]
    },
    {
     "name": "stderr",
     "output_type": "stream",
     "text": [
      "INFO:prophet:Making 2 forecasts with cutoffs between 2020-12-29 23:00:00 and 2021-12-29 23:00:00\n",
      "INFO:prophet:Applying in parallel with <concurrent.futures.process.ProcessPoolExecutor object at 0x00000175D2B018E0>\n",
      "INFO:prophet:Skipping MAPE because y close to 0\n"
     ]
    },
    {
     "name": "stdout",
     "output_type": "stream",
     "text": [
      "FIN Iteracion Nº 134/144 en 686.1709923744202 segundos\n",
      "INICIO Iteracion Nº 135/144\n"
     ]
    },
    {
     "name": "stderr",
     "output_type": "stream",
     "text": [
      "INFO:prophet:Making 2 forecasts with cutoffs between 2020-12-29 23:00:00 and 2021-12-29 23:00:00\n",
      "INFO:prophet:Applying in parallel with <concurrent.futures.process.ProcessPoolExecutor object at 0x00000175D2B08700>\n",
      "INFO:prophet:Skipping MAPE because y close to 0\n"
     ]
    },
    {
     "name": "stdout",
     "output_type": "stream",
     "text": [
      "FIN Iteracion Nº 135/144 en 844.3469533920288 segundos\n",
      "INICIO Iteracion Nº 136/144\n"
     ]
    },
    {
     "name": "stderr",
     "output_type": "stream",
     "text": [
      "INFO:prophet:Making 2 forecasts with cutoffs between 2020-12-29 23:00:00 and 2021-12-29 23:00:00\n",
      "INFO:prophet:Applying in parallel with <concurrent.futures.process.ProcessPoolExecutor object at 0x00000175D2AFC9A0>\n",
      "INFO:prophet:Skipping MAPE because y close to 0\n"
     ]
    },
    {
     "name": "stdout",
     "output_type": "stream",
     "text": [
      "FIN Iteracion Nº 136/144 en 844.9931311607361 segundos\n",
      "INICIO Iteracion Nº 137/144\n"
     ]
    },
    {
     "name": "stderr",
     "output_type": "stream",
     "text": [
      "INFO:prophet:Making 2 forecasts with cutoffs between 2020-12-29 23:00:00 and 2021-12-29 23:00:00\n",
      "INFO:prophet:Applying in parallel with <concurrent.futures.process.ProcessPoolExecutor object at 0x00000175CF51D5E0>\n",
      "INFO:prophet:Skipping MAPE because y close to 0\n"
     ]
    },
    {
     "name": "stdout",
     "output_type": "stream",
     "text": [
      "FIN Iteracion Nº 137/144 en 824.0144231319427 segundos\n",
      "INICIO Iteracion Nº 138/144\n"
     ]
    },
    {
     "name": "stderr",
     "output_type": "stream",
     "text": [
      "INFO:prophet:Making 2 forecasts with cutoffs between 2020-12-29 23:00:00 and 2021-12-29 23:00:00\n",
      "INFO:prophet:Applying in parallel with <concurrent.futures.process.ProcessPoolExecutor object at 0x00000175CF51D3D0>\n",
      "INFO:prophet:Skipping MAPE because y close to 0\n"
     ]
    },
    {
     "name": "stdout",
     "output_type": "stream",
     "text": [
      "FIN Iteracion Nº 138/144 en 908.0589187145233 segundos\n",
      "INICIO Iteracion Nº 139/144\n"
     ]
    },
    {
     "name": "stderr",
     "output_type": "stream",
     "text": [
      "INFO:prophet:Making 2 forecasts with cutoffs between 2020-12-29 23:00:00 and 2021-12-29 23:00:00\n",
      "INFO:prophet:Applying in parallel with <concurrent.futures.process.ProcessPoolExecutor object at 0x00000175CF51DC10>\n",
      "INFO:prophet:Skipping MAPE because y close to 0\n"
     ]
    },
    {
     "name": "stdout",
     "output_type": "stream",
     "text": [
      "FIN Iteracion Nº 139/144 en 805.9094769954681 segundos\n",
      "INICIO Iteracion Nº 140/144\n"
     ]
    },
    {
     "name": "stderr",
     "output_type": "stream",
     "text": [
      "INFO:prophet:Making 2 forecasts with cutoffs between 2020-12-29 23:00:00 and 2021-12-29 23:00:00\n",
      "INFO:prophet:Applying in parallel with <concurrent.futures.process.ProcessPoolExecutor object at 0x00000175D2B01310>\n",
      "INFO:prophet:Skipping MAPE because y close to 0\n"
     ]
    },
    {
     "name": "stdout",
     "output_type": "stream",
     "text": [
      "FIN Iteracion Nº 140/144 en 796.096818447113 segundos\n",
      "INICIO Iteracion Nº 141/144\n"
     ]
    },
    {
     "name": "stderr",
     "output_type": "stream",
     "text": [
      "INFO:prophet:Making 2 forecasts with cutoffs between 2020-12-29 23:00:00 and 2021-12-29 23:00:00\n",
      "INFO:prophet:Applying in parallel with <concurrent.futures.process.ProcessPoolExecutor object at 0x00000175D2AFCB50>\n",
      "INFO:prophet:Skipping MAPE because y close to 0\n"
     ]
    },
    {
     "name": "stdout",
     "output_type": "stream",
     "text": [
      "FIN Iteracion Nº 141/144 en 931.4346680641174 segundos\n",
      "INICIO Iteracion Nº 142/144\n"
     ]
    },
    {
     "name": "stderr",
     "output_type": "stream",
     "text": [
      "INFO:prophet:Making 2 forecasts with cutoffs between 2020-12-29 23:00:00 and 2021-12-29 23:00:00\n",
      "INFO:prophet:Applying in parallel with <concurrent.futures.process.ProcessPoolExecutor object at 0x00000175D2AFCD90>\n",
      "INFO:prophet:Skipping MAPE because y close to 0\n"
     ]
    },
    {
     "name": "stdout",
     "output_type": "stream",
     "text": [
      "FIN Iteracion Nº 142/144 en 824.647406578064 segundos\n",
      "INICIO Iteracion Nº 143/144\n"
     ]
    },
    {
     "name": "stderr",
     "output_type": "stream",
     "text": [
      "INFO:prophet:Making 2 forecasts with cutoffs between 2020-12-29 23:00:00 and 2021-12-29 23:00:00\n",
      "INFO:prophet:Applying in parallel with <concurrent.futures.process.ProcessPoolExecutor object at 0x00000175D2B01A90>\n",
      "INFO:prophet:Skipping MAPE because y close to 0\n"
     ]
    },
    {
     "name": "stdout",
     "output_type": "stream",
     "text": [
      "FIN Iteracion Nº 143/144 en 915.5613987445831 segundos\n",
      "     changepoint_prior_scale  seasonality_prior_scale  holidays_prior_scale  \\\n",
      "0                      0.001                     0.01                  0.01   \n",
      "1                      0.001                     0.01                  0.10   \n",
      "2                      0.001                     0.01                  0.50   \n",
      "3                      0.001                     0.01                  1.00   \n",
      "4                      0.001                     0.01                  3.00   \n",
      "..                       ...                      ...                   ...   \n",
      "139                    0.500                    10.00                  0.10   \n",
      "140                    0.500                    10.00                  0.50   \n",
      "141                    0.500                    10.00                  1.00   \n",
      "142                    0.500                    10.00                  3.00   \n",
      "143                    0.500                    10.00                 10.00   \n",
      "\n",
      "          mse      rmse       mae     smape  coverage  \n",
      "0    0.114093  0.300398  0.247130  1.863637  0.897727  \n",
      "1    0.114233  0.300607  0.247317  1.863780  0.897727  \n",
      "2    0.114012  0.300381  0.247326  1.862983  0.897727  \n",
      "3    0.114078  0.300401  0.247231  1.863649  0.897727  \n",
      "4    0.113955  0.300321  0.247353  1.862863  0.897727  \n",
      "..        ...       ...       ...       ...       ...  \n",
      "139  0.110790  0.298081  0.246101  1.859579  0.897727  \n",
      "140  0.110670  0.298033  0.246062  1.859278  0.897727  \n",
      "141  0.110653  0.297886  0.246087  1.859187  0.886364  \n",
      "142  0.110831  0.298409  0.246069  1.859789  0.886364  \n",
      "143  0.110510  0.297991  0.246086  1.858795  0.897727  \n",
      "\n",
      "[144 rows x 8 columns]\n"
     ]
    }
   ],
   "source": [
    "param_grid = {\n",
    "    'changepoint_prior_scale': [0.001, 0.01, 0.1, 0.5],\n",
    "    'seasonality_prior_scale': [0.01, 0.1, 0.5, 1, 3, 10],\n",
    "    'holidays_prior_scale': [0.01, 0.1, 0.5, 1, 3, 10],\n",
    "    #'seasonality_mode': ['additive', 'multiplicative'],\n",
    "}\n",
    "\n",
    "# Generate all combinations of parameters\n",
    "all_params = [dict(zip(param_grid.keys(), v)) for v in product(*param_grid.values())]\n",
    "mses, rmses, maes, smapes, coverages = [], [], [], [], []\n",
    "\n",
    "\n",
    "def cross_val(i, params, totalParams):\n",
    "    print(\"INICIO Iteracion Nº {}/{}\".format(i, totalParams))\n",
    "    starttime = time.time()\n",
    "    model = Prophet(**params)\n",
    "    for columnName in df_future:\n",
    "        if columnName != 'ds' and columnName != 'cap': model.add_regressor(columnName)\n",
    "    model.fit(df_train)\n",
    "\n",
    "    df_cv = cross_validation(model, initial='3400 days', period='365 days', horizon = '2 days', parallel=\"processes\")\n",
    "    df_p = performance_metrics(df_cv)\n",
    "    mses.append(df_p['mse'].values.mean())\n",
    "    rmses.append(df_p['rmse'].values.mean())\n",
    "    maes.append(df_p['mae'].values.mean())\n",
    "    smapes.append(df_p['smape'].values.mean())\n",
    "    coverages.append(df_p['coverage'].values.mean())\n",
    "    print(\"FIN Iteracion Nº {}/{} en {} segundos\".format(i, totalParams, time.time()-starttime))\n",
    "\n",
    "# Use cross validation to evaluate all parameters\n",
    "for i, params in enumerate(all_params):\n",
    "    cross_val(i,params,len(all_params))\n",
    "\n",
    "\n",
    "'''\n",
    "processes = []\n",
    "for i in range(0, len(all_params), 3):\n",
    "    cross_val_thread, args=(i,all_params[i],len(all_params),))\n",
    "    p2 = Process(target=cross_val_thread, args=(i+1,all_params[i+1],len(all_params),))\n",
    "    p3 = Process(target=cross_val_thread, args=(i+2,all_params[i+2],len(all_params),))\n",
    "    processes.append(p1)\n",
    "    processes.append(p2)\n",
    "    processes.append(p3)\n",
    "    p1.start()\n",
    "    p2.start()\n",
    "    p3.start()\n",
    "    for p in processes:\n",
    "        p.join()\n",
    "\n",
    "print(\"Proceso terminado\")\n",
    "'''\n",
    "\n",
    "# Find the best parameters\n",
    "tuning_results = pd.DataFrame(all_params)\n",
    "tuning_results['mse'] = mses\n",
    "tuning_results['rmse'] = rmses\n",
    "tuning_results['mae'] = maes\n",
    "tuning_results['smape'] = smapes\n",
    "tuning_results['coverage'] = coverages\n",
    "\n",
    "print(tuning_results)"
   ],
   "metadata": {
    "collapsed": false,
    "pycharm": {
     "name": "#%%\n"
    }
   }
  },
  {
   "cell_type": "code",
   "execution_count": 24,
   "outputs": [],
   "source": [
    "tuning_results.to_csv('tunning_results.csv', index=False)"
   ],
   "metadata": {
    "collapsed": false,
    "pycharm": {
     "name": "#%%\n"
    }
   }
  },
  {
   "cell_type": "code",
   "execution_count": 30,
   "outputs": [],
   "source": [
    "tuning_results = pd.read_csv('tunning_results.csv')"
   ],
   "metadata": {
    "collapsed": false,
    "pycharm": {
     "name": "#%%\n"
    }
   }
  },
  {
   "cell_type": "code",
   "execution_count": 31,
   "outputs": [
    {
     "name": "stdout",
     "output_type": "stream",
     "text": [
      "     changepoint_prior_scale  seasonality_prior_scale  holidays_prior_scale  \\\n",
      "108                      0.5                     0.01                  0.01   \n",
      "\n",
      "          mse      rmse       mae     smape  coverage  \n",
      "108  0.109901  0.297027  0.245216  1.858082  0.897727  \n"
     ]
    }
   ],
   "source": [
    "print(tuning_results[tuning_results['rmse'] == min(tuning_results['rmse'])])"
   ],
   "metadata": {
    "collapsed": false,
    "pycharm": {
     "name": "#%%\n"
    }
   }
  },
  {
   "cell_type": "code",
   "execution_count": 32,
   "outputs": [
    {
     "name": "stdout",
     "output_type": "stream",
     "text": [
      "     changepoint_prior_scale  seasonality_prior_scale  holidays_prior_scale  \\\n",
      "108                      0.5                     0.01                  0.01   \n",
      "\n",
      "          mse      rmse       mae     smape  coverage  \n",
      "108  0.109901  0.297027  0.245216  1.858082  0.897727  \n"
     ]
    }
   ],
   "source": [
    "print(tuning_results[tuning_results['mae'] == min(tuning_results['mae'])])"
   ],
   "metadata": {
    "collapsed": false,
    "pycharm": {
     "name": "#%%\n"
    }
   }
  },
  {
   "cell_type": "code",
   "execution_count": 33,
   "outputs": [
    {
     "name": "stdout",
     "output_type": "stream",
     "text": [
      "     changepoint_prior_scale  seasonality_prior_scale  holidays_prior_scale  \\\n",
      "22                     0.001                     1.00                  3.00   \n",
      "29                     0.001                     3.00                 10.00   \n",
      "32                     0.001                    10.00                  0.50   \n",
      "37                     0.010                     0.01                  0.10   \n",
      "73                     0.100                     0.01                  0.10   \n",
      "82                     0.100                     0.10                  3.00   \n",
      "96                     0.100                     3.00                  0.01   \n",
      "99                     0.100                     3.00                  1.00   \n",
      "106                    0.100                    10.00                  3.00   \n",
      "111                    0.500                     0.01                  1.00   \n",
      "114                    0.500                     0.10                  0.01   \n",
      "117                    0.500                     0.10                  1.00   \n",
      "118                    0.500                     0.10                  3.00   \n",
      "122                    0.500                     0.50                  0.50   \n",
      "\n",
      "          mse      rmse       mae     smape  coverage  \n",
      "22   0.114305  0.300918  0.247847  1.863245  0.909091  \n",
      "29   0.114414  0.301091  0.248017  1.863220  0.909091  \n",
      "32   0.114301  0.300971  0.247974  1.862693  0.909091  \n",
      "37   0.116688  0.304484  0.247112  1.874563  0.909091  \n",
      "73   0.113821  0.301875  0.246138  1.868170  0.909091  \n",
      "82   0.114028  0.302185  0.246720  1.867838  0.909091  \n",
      "96   0.113991  0.302155  0.246599  1.867646  0.909091  \n",
      "99   0.113912  0.302140  0.246667  1.867562  0.909091  \n",
      "106  0.113853  0.302022  0.246680  1.867389  0.909091  \n",
      "111  0.110486  0.297678  0.245531  1.859651  0.909091  \n",
      "114  0.110409  0.297735  0.245834  1.858593  0.909091  \n",
      "117  0.110375  0.297710  0.246089  1.858381  0.909091  \n",
      "118  0.110533  0.297994  0.246064  1.858888  0.909091  \n",
      "122  0.110600  0.297946  0.246104  1.859046  0.909091  \n"
     ]
    }
   ],
   "source": [
    "print(tuning_results[tuning_results['coverage'] == max(tuning_results['coverage'])])"
   ],
   "metadata": {
    "collapsed": false,
    "pycharm": {
     "name": "#%%\n"
    }
   }
  },
  {
   "cell_type": "code",
   "execution_count": 34,
   "outputs": [
    {
     "name": "stdout",
     "output_type": "stream",
     "text": [
      "     changepoint_prior_scale  seasonality_prior_scale  holidays_prior_scale  \\\n",
      "127                      0.5                      1.0                   0.1   \n",
      "\n",
      "          mse      rmse       mae     smape  coverage  rmse - mae  \n",
      "127  0.109996  0.297311  0.245985  1.857379  0.897727    0.051325  \n"
     ]
    }
   ],
   "source": [
    "tuning_results['rmse - mae'] = tuning_results['rmse']-tuning_results['mae']\n",
    "print(tuning_results[tuning_results['rmse - mae'] == min(tuning_results['rmse - mae'])])"
   ],
   "metadata": {
    "collapsed": false,
    "pycharm": {
     "name": "#%%\n"
    }
   }
  },
  {
   "cell_type": "code",
   "execution_count": 37,
   "outputs": [
    {
     "data": {
      "text/plain": "     changepoint_prior_scale  seasonality_prior_scale  holidays_prior_scale  \\\n127                      0.5                     1.00                  0.10   \n117                      0.5                     0.10                  1.00   \n113                      0.5                     0.01                 10.00   \n130                      0.5                     1.00                  3.00   \n141                      0.5                    10.00                  1.00   \n108                      0.5                     0.01                  0.01   \n124                      0.5                     0.50                  3.00   \n121                      0.5                     0.50                  0.10   \n122                      0.5                     0.50                  0.50   \n137                      0.5                     3.00                 10.00   \n\n          mse      rmse       mae     smape  coverage  rmse - mae  \n127  0.109996  0.297311  0.245985  1.857379  0.897727    0.051325  \n117  0.110375  0.297710  0.246089  1.858381  0.909091    0.051621  \n113  0.109961  0.297120  0.245499  1.858123  0.886364    0.051621  \n130  0.110633  0.297897  0.246117  1.859122  0.886364    0.051780  \n141  0.110653  0.297886  0.246087  1.859187  0.886364    0.051799  \n108  0.109901  0.297027  0.245216  1.858082  0.897727    0.051811  \n124  0.110409  0.297873  0.246059  1.858509  0.897727    0.051813  \n121  0.110550  0.297909  0.246082  1.858924  0.886364    0.051827  \n122  0.110600  0.297946  0.246104  1.859046  0.909091    0.051842  \n137  0.110542  0.297923  0.246065  1.858900  0.897727    0.051858  ",
      "text/html": "<div>\n<style scoped>\n    .dataframe tbody tr th:only-of-type {\n        vertical-align: middle;\n    }\n\n    .dataframe tbody tr th {\n        vertical-align: top;\n    }\n\n    .dataframe thead th {\n        text-align: right;\n    }\n</style>\n<table border=\"1\" class=\"dataframe\">\n  <thead>\n    <tr style=\"text-align: right;\">\n      <th></th>\n      <th>changepoint_prior_scale</th>\n      <th>seasonality_prior_scale</th>\n      <th>holidays_prior_scale</th>\n      <th>mse</th>\n      <th>rmse</th>\n      <th>mae</th>\n      <th>smape</th>\n      <th>coverage</th>\n      <th>rmse - mae</th>\n    </tr>\n  </thead>\n  <tbody>\n    <tr>\n      <th>127</th>\n      <td>0.5</td>\n      <td>1.00</td>\n      <td>0.10</td>\n      <td>0.109996</td>\n      <td>0.297311</td>\n      <td>0.245985</td>\n      <td>1.857379</td>\n      <td>0.897727</td>\n      <td>0.051325</td>\n    </tr>\n    <tr>\n      <th>117</th>\n      <td>0.5</td>\n      <td>0.10</td>\n      <td>1.00</td>\n      <td>0.110375</td>\n      <td>0.297710</td>\n      <td>0.246089</td>\n      <td>1.858381</td>\n      <td>0.909091</td>\n      <td>0.051621</td>\n    </tr>\n    <tr>\n      <th>113</th>\n      <td>0.5</td>\n      <td>0.01</td>\n      <td>10.00</td>\n      <td>0.109961</td>\n      <td>0.297120</td>\n      <td>0.245499</td>\n      <td>1.858123</td>\n      <td>0.886364</td>\n      <td>0.051621</td>\n    </tr>\n    <tr>\n      <th>130</th>\n      <td>0.5</td>\n      <td>1.00</td>\n      <td>3.00</td>\n      <td>0.110633</td>\n      <td>0.297897</td>\n      <td>0.246117</td>\n      <td>1.859122</td>\n      <td>0.886364</td>\n      <td>0.051780</td>\n    </tr>\n    <tr>\n      <th>141</th>\n      <td>0.5</td>\n      <td>10.00</td>\n      <td>1.00</td>\n      <td>0.110653</td>\n      <td>0.297886</td>\n      <td>0.246087</td>\n      <td>1.859187</td>\n      <td>0.886364</td>\n      <td>0.051799</td>\n    </tr>\n    <tr>\n      <th>108</th>\n      <td>0.5</td>\n      <td>0.01</td>\n      <td>0.01</td>\n      <td>0.109901</td>\n      <td>0.297027</td>\n      <td>0.245216</td>\n      <td>1.858082</td>\n      <td>0.897727</td>\n      <td>0.051811</td>\n    </tr>\n    <tr>\n      <th>124</th>\n      <td>0.5</td>\n      <td>0.50</td>\n      <td>3.00</td>\n      <td>0.110409</td>\n      <td>0.297873</td>\n      <td>0.246059</td>\n      <td>1.858509</td>\n      <td>0.897727</td>\n      <td>0.051813</td>\n    </tr>\n    <tr>\n      <th>121</th>\n      <td>0.5</td>\n      <td>0.50</td>\n      <td>0.10</td>\n      <td>0.110550</td>\n      <td>0.297909</td>\n      <td>0.246082</td>\n      <td>1.858924</td>\n      <td>0.886364</td>\n      <td>0.051827</td>\n    </tr>\n    <tr>\n      <th>122</th>\n      <td>0.5</td>\n      <td>0.50</td>\n      <td>0.50</td>\n      <td>0.110600</td>\n      <td>0.297946</td>\n      <td>0.246104</td>\n      <td>1.859046</td>\n      <td>0.909091</td>\n      <td>0.051842</td>\n    </tr>\n    <tr>\n      <th>137</th>\n      <td>0.5</td>\n      <td>3.00</td>\n      <td>10.00</td>\n      <td>0.110542</td>\n      <td>0.297923</td>\n      <td>0.246065</td>\n      <td>1.858900</td>\n      <td>0.897727</td>\n      <td>0.051858</td>\n    </tr>\n  </tbody>\n</table>\n</div>"
     },
     "execution_count": 37,
     "metadata": {},
     "output_type": "execute_result"
    }
   ],
   "source": [
    "tuning_results.sort_values(by=['rmse - mae'], inplace=True)\n",
    "tuning_results.head(10)"
   ],
   "metadata": {
    "collapsed": false,
    "pycharm": {
     "name": "#%%\n"
    }
   }
  },
  {
   "cell_type": "code",
   "execution_count": 38,
   "outputs": [
    {
     "name": "stdout",
     "output_type": "stream",
     "text": [
      "0.2970267682930477\n"
     ]
    }
   ],
   "source": [
    "print(min(tuning_results['rmse']))"
   ],
   "metadata": {
    "collapsed": false,
    "pycharm": {
     "name": "#%%\n"
    }
   }
  },
  {
   "cell_type": "code",
   "execution_count": null,
   "outputs": [],
   "source": [],
   "metadata": {
    "collapsed": false,
    "pycharm": {
     "name": "#%%\n"
    }
   }
  }
 ],
 "metadata": {
  "kernelspec": {
   "display_name": "Python 3",
   "language": "python",
   "name": "python3"
  },
  "language_info": {
   "codemirror_mode": {
    "name": "ipython",
    "version": 2
   },
   "file_extension": ".py",
   "mimetype": "text/x-python",
   "name": "python",
   "nbconvert_exporter": "python",
   "pygments_lexer": "ipython2",
   "version": "2.7.6"
  }
 },
 "nbformat": 4,
 "nbformat_minor": 0
}