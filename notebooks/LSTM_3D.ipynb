{
 "cells": [
  {
   "cell_type": "markdown",
   "metadata": {
    "collapsed": true,
    "pycharm": {
     "name": "#%% md\n"
    }
   },
   "source": [
    "# LSTM 3D"
   ]
  },
  {
   "cell_type": "markdown",
   "source": [
    "### LIBRERIAS"
   ],
   "metadata": {
    "collapsed": false,
    "pycharm": {
     "name": "#%% md\n"
    }
   }
  },
  {
   "cell_type": "code",
   "execution_count": 1,
   "outputs": [],
   "source": [
    "import math\n",
    "import pandas as pd\n",
    "import numpy as np\n",
    "import tensorflow as tf\n",
    "import matplotlib.pyplot as plt\n",
    "\n",
    "from sklearn.metrics import mean_squared_error\n",
    "from tensorflow.keras.models import Sequential\n",
    "from tensorflow.keras.layers import Dense, LSTM"
   ],
   "metadata": {
    "collapsed": false,
    "pycharm": {
     "name": "#%%\n"
    }
   }
  },
  {
   "cell_type": "markdown",
   "source": [
    "### CARGA DE DATOS\n",
    "#### Normales"
   ],
   "metadata": {
    "collapsed": false,
    "pycharm": {
     "name": "#%% md\n"
    }
   }
  },
  {
   "cell_type": "code",
   "execution_count": 41,
   "outputs": [],
   "source": [
    "completeRentalsExogDf = pd.read_csv('../data/completeData/rentals/completeRentalsDf_EXOGVAR.csv')\n",
    "completeReturnsExogDf = pd.read_csv('../data/completeData/returns/completeReturnsDf_EXOGVAR.csv')\n",
    "completeRentalsExogDf.set_index('Date', inplace=True)\n",
    "completeReturnsExogDf.set_index('Date', inplace=True)\n",
    "completeRentalsExogDf.drop('Date.1', inplace=True, axis=1)\n",
    "completeReturnsExogDf.drop('Date.1', inplace=True, axis=1)"
   ],
   "metadata": {
    "collapsed": false,
    "pycharm": {
     "name": "#%%\n"
    }
   }
  },
  {
   "cell_type": "code",
   "execution_count": 42,
   "outputs": [],
   "source": [
    "completeRentalsDf = pd.read_csv('../data/completeData/rentals/completeRentalsDf.csv')\n",
    "completeReturnsDf = pd.read_csv('../data/completeData/returns/completeReturnsDf.csv')\n",
    "completeRentalsDf.set_index('Date', inplace=True)\n",
    "completeReturnsDf.set_index('Date', inplace=True)"
   ],
   "metadata": {
    "collapsed": false,
    "pycharm": {
     "name": "#%%\n"
    }
   }
  },
  {
   "cell_type": "markdown",
   "source": [
    "#### LOG1P"
   ],
   "metadata": {
    "collapsed": false,
    "pycharm": {
     "name": "#%% md\n"
    }
   }
  },
  {
   "cell_type": "code",
   "execution_count": 20,
   "outputs": [],
   "source": [
    "completeRentalsExogDf = pd.read_csv('../data/completeData/rentals/completeRentalsDf_LOG1P_EXOGVAR.csv')\n",
    "completeReturnsExogDf = pd.read_csv('../data/completeData/returns/completeReturnsDf_LOG1P_EXOGVAR.csv')\n",
    "completeRentalsExogDf.set_index('Date', inplace=True)\n",
    "completeReturnsExogDf.set_index('Date', inplace=True)\n",
    "completeRentalsExogDf.drop('Date.1', inplace=True, axis=1)\n",
    "completeReturnsExogDf.drop('Date.1', inplace=True, axis=1)"
   ],
   "metadata": {
    "collapsed": false,
    "pycharm": {
     "name": "#%%\n"
    }
   }
  },
  {
   "cell_type": "code",
   "execution_count": 21,
   "outputs": [],
   "source": [
    "completeRentalsDf = pd.read_csv('../data/completeData/rentals/completeRentalsDf_LOG1P.csv')\n",
    "completeReturnsDf = pd.read_csv('../data/completeData/returns/completeReturnsDf_LOG1P.csv')\n",
    "completeRentalsDf.set_index('Date', inplace=True)\n",
    "completeReturnsDf.set_index('Date', inplace=True)"
   ],
   "metadata": {
    "collapsed": false,
    "pycharm": {
     "name": "#%%\n"
    }
   }
  },
  {
   "cell_type": "markdown",
   "source": [
    "### CREACION DE LOS CONJUNTOS TRAIN/VALIDATION/TEST"
   ],
   "metadata": {
    "collapsed": false,
    "pycharm": {
     "name": "#%% md\n"
    }
   }
  },
  {
   "cell_type": "code",
   "execution_count": 22,
   "outputs": [
    {
     "name": "stdout",
     "output_type": "stream",
     "text": [
      "Shape del dataframe 'X' --> (100896, 4197)\n",
      "Shape del dataframe 'Y' --> (100896, 1388)\n"
     ]
    }
   ],
   "source": [
    "Xrentals = completeRentalsExogDf.drop(completeRentalsDf.columns, axis=1)\n",
    "\n",
    "Xweather = Xrentals.transpose().iloc[len(Xrentals.transpose())-33:len(Xrentals.transpose())].transpose()\n",
    "Xrentals = Xrentals.add_suffix('_rentals').transpose()\n",
    "Xrentals = Xrentals.iloc[0:len(Xrentals)-33,:].transpose()\n",
    "\n",
    "Xreturns = completeReturnsExogDf.drop(completeReturnsDf.columns, axis=1)\n",
    "Xreturns = Xreturns.add_suffix('_returns').transpose()\n",
    "Xreturns = Xreturns.iloc[0:len(Xreturns)-33,:].transpose()\n",
    "\n",
    "X = Xrentals.join(Xreturns).join(Xweather)\n",
    "\n",
    "Yrentals = completeRentalsDf[168:].add_suffix('_rentals')\n",
    "Yreturns = completeReturnsDf[168:].add_suffix('_returns')\n",
    "\n",
    "Y = Yrentals.join(Yreturns)\n",
    "\n",
    "print(\"Shape del dataframe 'X' --> {}\".format(X.shape))\n",
    "print(\"Shape del dataframe 'Y' --> {}\".format(Y.shape))"
   ],
   "metadata": {
    "collapsed": false,
    "pycharm": {
     "name": "#%%\n"
    }
   }
  },
  {
   "cell_type": "code",
   "execution_count": 23,
   "outputs": [
    {
     "data": {
      "text/plain": "                     0_lag24_rentals  31000_lag24_rentals  \\\nDate                                                        \n2010-09-27 00:00:00              0.0                  0.0   \n2010-09-27 01:00:00              0.0                  0.0   \n2010-09-27 02:00:00              0.0                  0.0   \n2010-09-27 03:00:00              0.0                  0.0   \n2010-09-27 04:00:00              0.0                  0.0   \n\n                     31001_lag24_rentals  31002_lag24_rentals  \\\nDate                                                            \n2010-09-27 00:00:00                  0.0             0.000000   \n2010-09-27 01:00:00                  0.0             0.000000   \n2010-09-27 02:00:00                  0.0             0.693147   \n2010-09-27 03:00:00                  0.0             0.000000   \n2010-09-27 04:00:00                  0.0             0.000000   \n\n                     31003_lag24_rentals  31004_lag24_rentals  \\\nDate                                                            \n2010-09-27 00:00:00                  0.0             0.693147   \n2010-09-27 01:00:00                  0.0             0.000000   \n2010-09-27 02:00:00                  0.0             0.000000   \n2010-09-27 03:00:00                  0.0             0.000000   \n2010-09-27 04:00:00                  0.0             0.000000   \n\n                     31005_lag24_rentals  31006_lag24_rentals  \\\nDate                                                            \n2010-09-27 00:00:00                  0.0                  0.0   \n2010-09-27 01:00:00                  0.0                  0.0   \n2010-09-27 02:00:00                  0.0                  0.0   \n2010-09-27 03:00:00                  0.0                  0.0   \n2010-09-27 04:00:00                  0.0                  0.0   \n\n                     31007_lag24_rentals  31008_lag24_rentals  ...  Holiday  \\\nDate                                                           ...            \n2010-09-27 00:00:00                  0.0                  0.0  ...      0.0   \n2010-09-27 01:00:00                  0.0                  0.0  ...      0.0   \n2010-09-27 02:00:00                  0.0                  0.0  ...      0.0   \n2010-09-27 03:00:00                  0.0                  0.0  ...      0.0   \n2010-09-27 04:00:00                  0.0                  0.0  ...      0.0   \n\n                     After-Holiday  System OOS  Weekday_Friday  \\\nDate                                                             \n2010-09-27 00:00:00            0.0         0.0             0.0   \n2010-09-27 01:00:00            0.0         0.0             0.0   \n2010-09-27 02:00:00            0.0         0.0             0.0   \n2010-09-27 03:00:00            0.0         0.0             0.0   \n2010-09-27 04:00:00            0.0         0.0             0.0   \n\n                     Weekday_Monday  Weekday_Saturday  Weekday_Sunday  \\\nDate                                                                    \n2010-09-27 00:00:00             1.0               0.0             0.0   \n2010-09-27 01:00:00             1.0               0.0             0.0   \n2010-09-27 02:00:00             1.0               0.0             0.0   \n2010-09-27 03:00:00             1.0               0.0             0.0   \n2010-09-27 04:00:00             1.0               0.0             0.0   \n\n                     Weekday_Thursday  Weekday_Tuesday  Weekday_Wednesday  \nDate                                                                       \n2010-09-27 00:00:00               0.0              0.0                0.0  \n2010-09-27 01:00:00               0.0              0.0                0.0  \n2010-09-27 02:00:00               0.0              0.0                0.0  \n2010-09-27 03:00:00               0.0              0.0                0.0  \n2010-09-27 04:00:00               0.0              0.0                0.0  \n\n[5 rows x 4197 columns]",
      "text/html": "<div>\n<style scoped>\n    .dataframe tbody tr th:only-of-type {\n        vertical-align: middle;\n    }\n\n    .dataframe tbody tr th {\n        vertical-align: top;\n    }\n\n    .dataframe thead th {\n        text-align: right;\n    }\n</style>\n<table border=\"1\" class=\"dataframe\">\n  <thead>\n    <tr style=\"text-align: right;\">\n      <th></th>\n      <th>0_lag24_rentals</th>\n      <th>31000_lag24_rentals</th>\n      <th>31001_lag24_rentals</th>\n      <th>31002_lag24_rentals</th>\n      <th>31003_lag24_rentals</th>\n      <th>31004_lag24_rentals</th>\n      <th>31005_lag24_rentals</th>\n      <th>31006_lag24_rentals</th>\n      <th>31007_lag24_rentals</th>\n      <th>31008_lag24_rentals</th>\n      <th>...</th>\n      <th>Holiday</th>\n      <th>After-Holiday</th>\n      <th>System OOS</th>\n      <th>Weekday_Friday</th>\n      <th>Weekday_Monday</th>\n      <th>Weekday_Saturday</th>\n      <th>Weekday_Sunday</th>\n      <th>Weekday_Thursday</th>\n      <th>Weekday_Tuesday</th>\n      <th>Weekday_Wednesday</th>\n    </tr>\n    <tr>\n      <th>Date</th>\n      <th></th>\n      <th></th>\n      <th></th>\n      <th></th>\n      <th></th>\n      <th></th>\n      <th></th>\n      <th></th>\n      <th></th>\n      <th></th>\n      <th></th>\n      <th></th>\n      <th></th>\n      <th></th>\n      <th></th>\n      <th></th>\n      <th></th>\n      <th></th>\n      <th></th>\n      <th></th>\n      <th></th>\n    </tr>\n  </thead>\n  <tbody>\n    <tr>\n      <th>2010-09-27 00:00:00</th>\n      <td>0.0</td>\n      <td>0.0</td>\n      <td>0.0</td>\n      <td>0.000000</td>\n      <td>0.0</td>\n      <td>0.693147</td>\n      <td>0.0</td>\n      <td>0.0</td>\n      <td>0.0</td>\n      <td>0.0</td>\n      <td>...</td>\n      <td>0.0</td>\n      <td>0.0</td>\n      <td>0.0</td>\n      <td>0.0</td>\n      <td>1.0</td>\n      <td>0.0</td>\n      <td>0.0</td>\n      <td>0.0</td>\n      <td>0.0</td>\n      <td>0.0</td>\n    </tr>\n    <tr>\n      <th>2010-09-27 01:00:00</th>\n      <td>0.0</td>\n      <td>0.0</td>\n      <td>0.0</td>\n      <td>0.000000</td>\n      <td>0.0</td>\n      <td>0.000000</td>\n      <td>0.0</td>\n      <td>0.0</td>\n      <td>0.0</td>\n      <td>0.0</td>\n      <td>...</td>\n      <td>0.0</td>\n      <td>0.0</td>\n      <td>0.0</td>\n      <td>0.0</td>\n      <td>1.0</td>\n      <td>0.0</td>\n      <td>0.0</td>\n      <td>0.0</td>\n      <td>0.0</td>\n      <td>0.0</td>\n    </tr>\n    <tr>\n      <th>2010-09-27 02:00:00</th>\n      <td>0.0</td>\n      <td>0.0</td>\n      <td>0.0</td>\n      <td>0.693147</td>\n      <td>0.0</td>\n      <td>0.000000</td>\n      <td>0.0</td>\n      <td>0.0</td>\n      <td>0.0</td>\n      <td>0.0</td>\n      <td>...</td>\n      <td>0.0</td>\n      <td>0.0</td>\n      <td>0.0</td>\n      <td>0.0</td>\n      <td>1.0</td>\n      <td>0.0</td>\n      <td>0.0</td>\n      <td>0.0</td>\n      <td>0.0</td>\n      <td>0.0</td>\n    </tr>\n    <tr>\n      <th>2010-09-27 03:00:00</th>\n      <td>0.0</td>\n      <td>0.0</td>\n      <td>0.0</td>\n      <td>0.000000</td>\n      <td>0.0</td>\n      <td>0.000000</td>\n      <td>0.0</td>\n      <td>0.0</td>\n      <td>0.0</td>\n      <td>0.0</td>\n      <td>...</td>\n      <td>0.0</td>\n      <td>0.0</td>\n      <td>0.0</td>\n      <td>0.0</td>\n      <td>1.0</td>\n      <td>0.0</td>\n      <td>0.0</td>\n      <td>0.0</td>\n      <td>0.0</td>\n      <td>0.0</td>\n    </tr>\n    <tr>\n      <th>2010-09-27 04:00:00</th>\n      <td>0.0</td>\n      <td>0.0</td>\n      <td>0.0</td>\n      <td>0.000000</td>\n      <td>0.0</td>\n      <td>0.000000</td>\n      <td>0.0</td>\n      <td>0.0</td>\n      <td>0.0</td>\n      <td>0.0</td>\n      <td>...</td>\n      <td>0.0</td>\n      <td>0.0</td>\n      <td>0.0</td>\n      <td>0.0</td>\n      <td>1.0</td>\n      <td>0.0</td>\n      <td>0.0</td>\n      <td>0.0</td>\n      <td>0.0</td>\n      <td>0.0</td>\n    </tr>\n  </tbody>\n</table>\n<p>5 rows × 4197 columns</p>\n</div>"
     },
     "execution_count": 23,
     "metadata": {},
     "output_type": "execute_result"
    }
   ],
   "source": [
    "X.head(5)"
   ],
   "metadata": {
    "collapsed": false,
    "pycharm": {
     "name": "#%%\n"
    }
   }
  },
  {
   "cell_type": "code",
   "execution_count": 24,
   "outputs": [
    {
     "data": {
      "text/plain": "                     0_rentals  31000_rentals  31001_rentals  31002_rentals  \\\nDate                                                                          \n2010-09-27 00:00:00        0.0            0.0            0.0            0.0   \n2010-09-27 01:00:00        0.0            0.0            0.0            0.0   \n2010-09-27 02:00:00        0.0            0.0            0.0            0.0   \n2010-09-27 03:00:00        0.0            0.0            0.0            0.0   \n2010-09-27 04:00:00        0.0            0.0            0.0            0.0   \n\n                     31003_rentals  31004_rentals  31005_rentals  \\\nDate                                                               \n2010-09-27 00:00:00            0.0            0.0       0.693147   \n2010-09-27 01:00:00            0.0            0.0       0.000000   \n2010-09-27 02:00:00            0.0            0.0       0.000000   \n2010-09-27 03:00:00            0.0            0.0       0.000000   \n2010-09-27 04:00:00            0.0            0.0       0.000000   \n\n                     31006_rentals  31007_rentals  31008_rentals  ...  \\\nDate                                                              ...   \n2010-09-27 00:00:00            0.0            0.0            0.0  ...   \n2010-09-27 01:00:00            0.0            0.0            0.0  ...   \n2010-09-27 02:00:00            0.0            0.0            0.0  ...   \n2010-09-27 03:00:00            0.0            0.0            0.0  ...   \n2010-09-27 04:00:00            0.0            0.0            0.0  ...   \n\n                     32600_returns  32601_returns  32602_returns  \\\nDate                                                               \n2010-09-27 00:00:00            0.0            0.0            0.0   \n2010-09-27 01:00:00            0.0            0.0            0.0   \n2010-09-27 02:00:00            0.0            0.0            0.0   \n2010-09-27 03:00:00            0.0            0.0            0.0   \n2010-09-27 04:00:00            0.0            0.0            0.0   \n\n                     32603_returns  32604_returns  32605_returns  \\\nDate                                                               \n2010-09-27 00:00:00            0.0            0.0            0.0   \n2010-09-27 01:00:00            0.0            0.0            0.0   \n2010-09-27 02:00:00            0.0            0.0            0.0   \n2010-09-27 03:00:00            0.0            0.0            0.0   \n2010-09-27 04:00:00            0.0            0.0            0.0   \n\n                     32606_returns  32607_returns  32608_returns  \\\nDate                                                               \n2010-09-27 00:00:00            0.0            0.0            0.0   \n2010-09-27 01:00:00            0.0            0.0            0.0   \n2010-09-27 02:00:00            0.0            0.0            0.0   \n2010-09-27 03:00:00            0.0            0.0            0.0   \n2010-09-27 04:00:00            0.0            0.0            0.0   \n\n                     32609_returns  \nDate                                \n2010-09-27 00:00:00            0.0  \n2010-09-27 01:00:00            0.0  \n2010-09-27 02:00:00            0.0  \n2010-09-27 03:00:00            0.0  \n2010-09-27 04:00:00            0.0  \n\n[5 rows x 1388 columns]",
      "text/html": "<div>\n<style scoped>\n    .dataframe tbody tr th:only-of-type {\n        vertical-align: middle;\n    }\n\n    .dataframe tbody tr th {\n        vertical-align: top;\n    }\n\n    .dataframe thead th {\n        text-align: right;\n    }\n</style>\n<table border=\"1\" class=\"dataframe\">\n  <thead>\n    <tr style=\"text-align: right;\">\n      <th></th>\n      <th>0_rentals</th>\n      <th>31000_rentals</th>\n      <th>31001_rentals</th>\n      <th>31002_rentals</th>\n      <th>31003_rentals</th>\n      <th>31004_rentals</th>\n      <th>31005_rentals</th>\n      <th>31006_rentals</th>\n      <th>31007_rentals</th>\n      <th>31008_rentals</th>\n      <th>...</th>\n      <th>32600_returns</th>\n      <th>32601_returns</th>\n      <th>32602_returns</th>\n      <th>32603_returns</th>\n      <th>32604_returns</th>\n      <th>32605_returns</th>\n      <th>32606_returns</th>\n      <th>32607_returns</th>\n      <th>32608_returns</th>\n      <th>32609_returns</th>\n    </tr>\n    <tr>\n      <th>Date</th>\n      <th></th>\n      <th></th>\n      <th></th>\n      <th></th>\n      <th></th>\n      <th></th>\n      <th></th>\n      <th></th>\n      <th></th>\n      <th></th>\n      <th></th>\n      <th></th>\n      <th></th>\n      <th></th>\n      <th></th>\n      <th></th>\n      <th></th>\n      <th></th>\n      <th></th>\n      <th></th>\n      <th></th>\n    </tr>\n  </thead>\n  <tbody>\n    <tr>\n      <th>2010-09-27 00:00:00</th>\n      <td>0.0</td>\n      <td>0.0</td>\n      <td>0.0</td>\n      <td>0.0</td>\n      <td>0.0</td>\n      <td>0.0</td>\n      <td>0.693147</td>\n      <td>0.0</td>\n      <td>0.0</td>\n      <td>0.0</td>\n      <td>...</td>\n      <td>0.0</td>\n      <td>0.0</td>\n      <td>0.0</td>\n      <td>0.0</td>\n      <td>0.0</td>\n      <td>0.0</td>\n      <td>0.0</td>\n      <td>0.0</td>\n      <td>0.0</td>\n      <td>0.0</td>\n    </tr>\n    <tr>\n      <th>2010-09-27 01:00:00</th>\n      <td>0.0</td>\n      <td>0.0</td>\n      <td>0.0</td>\n      <td>0.0</td>\n      <td>0.0</td>\n      <td>0.0</td>\n      <td>0.000000</td>\n      <td>0.0</td>\n      <td>0.0</td>\n      <td>0.0</td>\n      <td>...</td>\n      <td>0.0</td>\n      <td>0.0</td>\n      <td>0.0</td>\n      <td>0.0</td>\n      <td>0.0</td>\n      <td>0.0</td>\n      <td>0.0</td>\n      <td>0.0</td>\n      <td>0.0</td>\n      <td>0.0</td>\n    </tr>\n    <tr>\n      <th>2010-09-27 02:00:00</th>\n      <td>0.0</td>\n      <td>0.0</td>\n      <td>0.0</td>\n      <td>0.0</td>\n      <td>0.0</td>\n      <td>0.0</td>\n      <td>0.000000</td>\n      <td>0.0</td>\n      <td>0.0</td>\n      <td>0.0</td>\n      <td>...</td>\n      <td>0.0</td>\n      <td>0.0</td>\n      <td>0.0</td>\n      <td>0.0</td>\n      <td>0.0</td>\n      <td>0.0</td>\n      <td>0.0</td>\n      <td>0.0</td>\n      <td>0.0</td>\n      <td>0.0</td>\n    </tr>\n    <tr>\n      <th>2010-09-27 03:00:00</th>\n      <td>0.0</td>\n      <td>0.0</td>\n      <td>0.0</td>\n      <td>0.0</td>\n      <td>0.0</td>\n      <td>0.0</td>\n      <td>0.000000</td>\n      <td>0.0</td>\n      <td>0.0</td>\n      <td>0.0</td>\n      <td>...</td>\n      <td>0.0</td>\n      <td>0.0</td>\n      <td>0.0</td>\n      <td>0.0</td>\n      <td>0.0</td>\n      <td>0.0</td>\n      <td>0.0</td>\n      <td>0.0</td>\n      <td>0.0</td>\n      <td>0.0</td>\n    </tr>\n    <tr>\n      <th>2010-09-27 04:00:00</th>\n      <td>0.0</td>\n      <td>0.0</td>\n      <td>0.0</td>\n      <td>0.0</td>\n      <td>0.0</td>\n      <td>0.0</td>\n      <td>0.000000</td>\n      <td>0.0</td>\n      <td>0.0</td>\n      <td>0.0</td>\n      <td>...</td>\n      <td>0.0</td>\n      <td>0.0</td>\n      <td>0.0</td>\n      <td>0.0</td>\n      <td>0.0</td>\n      <td>0.0</td>\n      <td>0.0</td>\n      <td>0.0</td>\n      <td>0.0</td>\n      <td>0.0</td>\n    </tr>\n  </tbody>\n</table>\n<p>5 rows × 1388 columns</p>\n</div>"
     },
     "execution_count": 24,
     "metadata": {},
     "output_type": "execute_result"
    }
   ],
   "source": [
    "Y.head(5)"
   ],
   "metadata": {
    "collapsed": false,
    "pycharm": {
     "name": "#%%\n"
    }
   }
  },
  {
   "cell_type": "code",
   "execution_count": 25,
   "outputs": [
    {
     "name": "stdout",
     "output_type": "stream",
     "text": [
      "Shape del dataframe 'X_train' --> (96000, 4197) // 'X_validation --> (2448, 4197) //  X_test --> (2448, 4197)\n",
      "Shape del dataframe 'Y_train' --> (96000, 1388) // 'Y_validation --> (2448, 1388) // Y_test --> (2448, 1388)\n"
     ]
    }
   ],
   "source": [
    "TRAIN_DAYS = 4000\n",
    "VALIDATION_DAYS = 102\n",
    "\n",
    "X_train = X[0:TRAIN_DAYS*24]\n",
    "X_validation = X[TRAIN_DAYS*24:(TRAIN_DAYS+VALIDATION_DAYS)*24]\n",
    "X_test = X[(TRAIN_DAYS+VALIDATION_DAYS)*24:X.shape[0]]\n",
    "\n",
    "Y_train = Y[0:TRAIN_DAYS*24]\n",
    "Y_validation = Y[TRAIN_DAYS*24:(TRAIN_DAYS+VALIDATION_DAYS)*24]\n",
    "Y_test = Y[(TRAIN_DAYS+VALIDATION_DAYS)*24:X.shape[0]]\n",
    "\n",
    "print(\"Shape del dataframe 'X_train' --> {} // 'X_validation --> {} //  X_test --> {}\".format(X_train.shape,X_validation.shape, X_test.shape))\n",
    "print(\"Shape del dataframe 'Y_train' --> {} // 'Y_validation --> {} // Y_test --> {}\".format(Y_train.shape, Y_validation.shape, Y_test.shape))"
   ],
   "metadata": {
    "collapsed": false,
    "pycharm": {
     "name": "#%%\n"
    }
   }
  },
  {
   "cell_type": "code",
   "execution_count": 26,
   "outputs": [],
   "source": [
    "Y_validation_indexes = Y_validation.index.values\n",
    "Y_validation_columns = Y_validation.columns\n",
    "Y_test_indexes = Y_test.index.values\n",
    "Y_test_columns = Y_test.columns"
   ],
   "metadata": {
    "collapsed": false,
    "pycharm": {
     "name": "#%%\n"
    }
   }
  },
  {
   "cell_type": "code",
   "execution_count": 27,
   "outputs": [
    {
     "name": "stdout",
     "output_type": "stream",
     "text": [
      "Shape del dataframe 'X_train' --> (4000, 24, 4197) // 'X_validation --> (102, 24, 4197) //  X_test --> (102, 24, 4197)\n",
      "Shape del dataframe 'Y_train' --> (4000, 24, 1388) // 'Y_validation --> (102, 24, 1388) // Y_test --> (102, 24, 1388)\n"
     ]
    }
   ],
   "source": [
    "X_train = X_train.to_numpy().reshape(int(len(X_train)/24), -1, X_train.shape[1])\n",
    "X_validation = X_validation.to_numpy().reshape(int(len(X_validation) / 24), -1, X_validation.shape[1])\n",
    "X_test = X_test.to_numpy().reshape(int(len(X_test) / 24), -1, X_test.shape[1])\n",
    "\n",
    "Y_train = Y_train.to_numpy().reshape(int(len(Y_train)/24), -1, Y_train.shape[1])\n",
    "Y_validation = Y_validation.to_numpy().reshape(int(len(Y_validation)/24), -1, Y_validation.shape[1])\n",
    "Y_test = Y_test.to_numpy().reshape(int(len(Y_test) / 24), -1, Y_test.shape[1])\n",
    "\n",
    "print(\"Shape del dataframe 'X_train' --> {} // 'X_validation --> {} //  X_test --> {}\".format(X_train.shape,X_validation.shape, X_test.shape))\n",
    "print(\"Shape del dataframe 'Y_train' --> {} // 'Y_validation --> {} // Y_test --> {}\".format(Y_train.shape, Y_validation.shape, Y_test.shape))"
   ],
   "metadata": {
    "collapsed": false,
    "pycharm": {
     "name": "#%%\n"
    }
   }
  },
  {
   "cell_type": "markdown",
   "source": [
    "### Modelo LSTM"
   ],
   "metadata": {
    "collapsed": false,
    "pycharm": {
     "name": "#%% md\n"
    }
   }
  },
  {
   "cell_type": "code",
   "execution_count": 28,
   "outputs": [],
   "source": [
    "# Con epochs o batch size altos los modelos no terminan de entrenarse por fallo\n",
    "epochs = 50\n",
    "batch_size = 512"
   ],
   "metadata": {
    "collapsed": false,
    "pycharm": {
     "name": "#%%\n"
    }
   }
  },
  {
   "cell_type": "markdown",
   "source": [
    "#### Adam Optimizer"
   ],
   "metadata": {
    "collapsed": false,
    "pycharm": {
     "name": "#%% md\n"
    }
   }
  },
  {
   "cell_type": "code",
   "execution_count": 11,
   "outputs": [
    {
     "name": "stdout",
     "output_type": "stream",
     "text": [
      "Model: \"sequential\"\n",
      "_________________________________________________________________\n",
      "Layer (type)                 Output Shape              Param #   \n",
      "=================================================================\n",
      "lstm (LSTM)                  (None, 24, 1388)          31013472  \n",
      "_________________________________________________________________\n",
      "dense (Dense)                (None, 24, 1388)          1927932   \n",
      "=================================================================\n",
      "Total params: 32,941,404\n",
      "Trainable params: 32,941,404\n",
      "Non-trainable params: 0\n",
      "_________________________________________________________________\n",
      "None\n"
     ]
    }
   ],
   "source": [
    "model = Sequential()\n",
    "\n",
    "model.add(LSTM(Y_train.shape[2], input_shape=(X_train.shape[1], X_train.shape[2]), return_sequences = True))\n",
    "model.add(Dense(Y_train.shape[2]))\n",
    "model.compile(loss='mean_squared_error', optimizer='adam', metrics=['mae'])\n",
    "\n",
    "print(model.summary())"
   ],
   "metadata": {
    "collapsed": false,
    "pycharm": {
     "name": "#%%\n"
    }
   }
  },
  {
   "cell_type": "code",
   "execution_count": 12,
   "outputs": [
    {
     "name": "stdout",
     "output_type": "stream",
     "text": [
      "Epoch 1/50\n",
      "8/8 [==============================] - 8s 323ms/step - loss: 2.3916 - mae: 0.6566\n",
      "Epoch 2/50\n",
      "8/8 [==============================] - 3s 315ms/step - loss: 1.8360 - mae: 0.5768\n",
      "Epoch 3/50\n",
      "8/8 [==============================] - 2s 306ms/step - loss: 1.6235 - mae: 0.5182\n",
      "Epoch 4/50\n",
      "8/8 [==============================] - 2s 308ms/step - loss: 1.5148 - mae: 0.4871\n",
      "Epoch 5/50\n",
      "8/8 [==============================] - 2s 307ms/step - loss: 1.4380 - mae: 0.4658\n",
      "Epoch 6/50\n",
      "8/8 [==============================] - 2s 301ms/step - loss: 1.3760 - mae: 0.4515\n",
      "Epoch 7/50\n",
      "8/8 [==============================] - 2s 305ms/step - loss: 1.3258 - mae: 0.4416\n",
      "Epoch 8/50\n",
      "8/8 [==============================] - 2s 303ms/step - loss: 1.2838 - mae: 0.4322\n",
      "Epoch 9/50\n",
      "8/8 [==============================] - 2s 303ms/step - loss: 1.2480 - mae: 0.4244\n",
      "Epoch 10/50\n",
      "8/8 [==============================] - 2s 301ms/step - loss: 1.2169 - mae: 0.4188\n",
      "Epoch 11/50\n",
      "8/8 [==============================] - 2s 304ms/step - loss: 1.1890 - mae: 0.4120\n",
      "Epoch 12/50\n",
      "8/8 [==============================] - 2s 311ms/step - loss: 1.1634 - mae: 0.4099\n",
      "Epoch 13/50\n",
      "8/8 [==============================] - 3s 314ms/step - loss: 1.1387 - mae: 0.4049\n",
      "Epoch 14/50\n",
      "8/8 [==============================] - 2s 306ms/step - loss: 1.1175 - mae: 0.4007\n",
      "Epoch 15/50\n",
      "8/8 [==============================] - 2s 305ms/step - loss: 1.0982 - mae: 0.3968\n",
      "Epoch 16/50\n",
      "8/8 [==============================] - 2s 309ms/step - loss: 1.0807 - mae: 0.3946\n",
      "Epoch 17/50\n",
      "8/8 [==============================] - 2s 308ms/step - loss: 1.0629 - mae: 0.3918\n",
      "Epoch 18/50\n",
      "8/8 [==============================] - 2s 306ms/step - loss: 1.0474 - mae: 0.3888\n",
      "Epoch 19/50\n",
      "8/8 [==============================] - 2s 307ms/step - loss: 1.0335 - mae: 0.3863\n",
      "Epoch 20/50\n",
      "8/8 [==============================] - 2s 305ms/step - loss: 1.0211 - mae: 0.3846\n",
      "Epoch 21/50\n",
      "8/8 [==============================] - 2s 309ms/step - loss: 1.0098 - mae: 0.3823\n",
      "Epoch 22/50\n",
      "8/8 [==============================] - 2s 308ms/step - loss: 1.0018 - mae: 0.3815\n",
      "Epoch 23/50\n",
      "8/8 [==============================] - 2s 311ms/step - loss: 0.9909 - mae: 0.3783\n",
      "Epoch 24/50\n",
      "8/8 [==============================] - 2s 310ms/step - loss: 0.9781 - mae: 0.3774\n",
      "Epoch 25/50\n",
      "8/8 [==============================] - 2s 309ms/step - loss: 0.9695 - mae: 0.3748\n",
      "Epoch 26/50\n",
      "8/8 [==============================] - 2s 304ms/step - loss: 0.9597 - mae: 0.3734\n",
      "Epoch 27/50\n",
      "8/8 [==============================] - 2s 310ms/step - loss: 0.9527 - mae: 0.3714\n",
      "Epoch 28/50\n",
      "8/8 [==============================] - 2s 310ms/step - loss: 0.9449 - mae: 0.3705\n",
      "Epoch 29/50\n",
      "8/8 [==============================] - 2s 312ms/step - loss: 0.9359 - mae: 0.3693\n",
      "Epoch 30/50\n",
      "8/8 [==============================] - 2s 309ms/step - loss: 0.9289 - mae: 0.3677\n",
      "Epoch 31/50\n",
      "8/8 [==============================] - 2s 310ms/step - loss: 0.9238 - mae: 0.3665\n",
      "Epoch 32/50\n",
      "8/8 [==============================] - 2s 308ms/step - loss: 0.9186 - mae: 0.3656\n",
      "Epoch 33/50\n",
      "8/8 [==============================] - 3s 318ms/step - loss: 0.9145 - mae: 0.3651\n",
      "Epoch 34/50\n",
      "8/8 [==============================] - 2s 308ms/step - loss: 0.9070 - mae: 0.3625\n",
      "Epoch 35/50\n",
      "8/8 [==============================] - 2s 309ms/step - loss: 0.9003 - mae: 0.3616\n",
      "Epoch 36/50\n",
      "8/8 [==============================] - 2s 311ms/step - loss: 0.8940 - mae: 0.3612\n",
      "Epoch 37/50\n",
      "8/8 [==============================] - 2s 302ms/step - loss: 0.8881 - mae: 0.3594\n",
      "Epoch 38/50\n",
      "8/8 [==============================] - 2s 309ms/step - loss: 0.8834 - mae: 0.3585\n",
      "Epoch 39/50\n",
      "8/8 [==============================] - 2s 311ms/step - loss: 0.8770 - mae: 0.3574\n",
      "Epoch 40/50\n",
      "8/8 [==============================] - 2s 307ms/step - loss: 0.8825 - mae: 0.3582\n",
      "Epoch 41/50\n",
      "8/8 [==============================] - 2s 306ms/step - loss: 0.8715 - mae: 0.3563\n",
      "Epoch 42/50\n",
      "8/8 [==============================] - 2s 308ms/step - loss: 0.8650 - mae: 0.3554\n",
      "Epoch 43/50\n",
      "8/8 [==============================] - 2s 309ms/step - loss: 0.8603 - mae: 0.3545\n",
      "Epoch 44/50\n",
      "8/8 [==============================] - 2s 304ms/step - loss: 0.8554 - mae: 0.3534\n",
      "Epoch 45/50\n",
      "8/8 [==============================] - 2s 310ms/step - loss: 0.8560 - mae: 0.3528\n",
      "Epoch 46/50\n",
      "8/8 [==============================] - 2s 310ms/step - loss: 0.8546 - mae: 0.3533\n",
      "Epoch 47/50\n",
      "8/8 [==============================] - 2s 309ms/step - loss: 0.8494 - mae: 0.3515\n",
      "Epoch 48/50\n",
      "8/8 [==============================] - 2s 308ms/step - loss: 0.8418 - mae: 0.3503\n",
      "Epoch 49/50\n",
      "8/8 [==============================] - 3s 314ms/step - loss: 0.8456 - mae: 0.3502\n",
      "Epoch 50/50\n",
      "8/8 [==============================] - 2s 289ms/step - loss: 0.8423 - mae: 0.3509\n"
     ]
    }
   ],
   "source": [
    "with tf.device('/GPU:0'):\n",
    "    model.fit(X_train, Y_train, batch_size=batch_size, epochs=epochs)"
   ],
   "metadata": {
    "collapsed": false,
    "pycharm": {
     "name": "#%%\n"
    }
   }
  },
  {
   "cell_type": "code",
   "execution_count": 13,
   "outputs": [
    {
     "name": "stdout",
     "output_type": "stream",
     "text": [
      " Test rmse: 1.0063249714093208\n",
      " Test loss: 1.0126899480819702\n",
      " Test mae: 0.4593697488307953\n"
     ]
    }
   ],
   "source": [
    "score = model.evaluate(X_validation, Y_validation, batch_size=batch_size, verbose=0)\n",
    "\n",
    "for i,metric in enumerate(model.metrics_names):\n",
    "    if (metric =='loss'): print(' Test rmse: {}'.format( math.sqrt(score[i])))\n",
    "    print(' Test {}: {}'.format(metric, score[i]))"
   ],
   "metadata": {
    "collapsed": false,
    "pycharm": {
     "name": "#%%\n"
    }
   }
  },
  {
   "cell_type": "code",
   "execution_count": 14,
   "outputs": [],
   "source": [
    "predictions = np.round(model.predict(X_validation))\n",
    "predictions = predictions.reshape(predictions.shape[0]*predictions.shape[1], predictions.shape[2])\n",
    "df_predictions = pd.DataFrame(predictions, index=Y_validation_indexes, columns=Y_validation_columns)\n",
    "Y_validation = Y_validation.reshape(Y_validation.shape[0]*Y_validation.shape[1], Y_validation.shape[2])\n",
    "df_Y_validation = pd.DataFrame(Y_validation, index=Y_validation_indexes, columns=Y_validation_columns)"
   ],
   "metadata": {
    "collapsed": false,
    "pycharm": {
     "name": "#%%\n"
    }
   }
  },
  {
   "cell_type": "code",
   "execution_count": 15,
   "outputs": [
    {
     "name": "stdout",
     "output_type": "stream",
     "text": [
      "31201 Station rentals RMSE: 2.5022049100272956\n",
      "31201 Station returns RMSE: 2.3824487594706563\n"
     ]
    }
   ],
   "source": [
    "print('31201 Station rentals RMSE: {}'.format(math.sqrt(mean_squared_error(df_predictions['31201_rentals'].values, df_Y_validation['31201_rentals'].values))))\n",
    "print('31201 Station returns RMSE: {}'.format(math.sqrt(mean_squared_error(df_predictions['31201_returns'].values, df_Y_validation['31201_returns'].values))))"
   ],
   "metadata": {
    "collapsed": false,
    "pycharm": {
     "name": "#%%\n"
    }
   }
  },
  {
   "cell_type": "markdown",
   "source": [
    "#### - TEST evaluation"
   ],
   "metadata": {
    "collapsed": false,
    "pycharm": {
     "name": "#%% md\n"
    }
   }
  },
  {
   "cell_type": "code",
   "execution_count": 16,
   "outputs": [
    {
     "name": "stdout",
     "output_type": "stream",
     "text": [
      " Test rmse: 0.7916257412688789\n",
      " Test loss: 0.626671314239502\n",
      " Test mae: 0.32995688915252686\n"
     ]
    }
   ],
   "source": [
    "score = model.evaluate(X_test, Y_test, batch_size=batch_size, verbose=0)\n",
    "for i,metric in enumerate(model.metrics_names):\n",
    "    if (metric =='loss'): print(' Test rmse: {}'.format( math.sqrt(score[i])))\n",
    "    print(' Test {}: {}'.format(metric, score[i]))"
   ],
   "metadata": {
    "collapsed": false,
    "pycharm": {
     "name": "#%%\n"
    }
   }
  },
  {
   "cell_type": "code",
   "execution_count": 17,
   "outputs": [],
   "source": [
    "predictions = np.round(model.predict(X_test))\n",
    "predictions = predictions.reshape(predictions.shape[0]*predictions.shape[1], predictions.shape[2])\n",
    "df_predictions = pd.DataFrame(predictions, index=Y_test_indexes, columns=Y_test_columns)\n",
    "Y_test = Y_test.reshape(Y_test.shape[0]*Y_test.shape[1], Y_test.shape[2])\n",
    "df_Y_test = pd.DataFrame(Y_test, index=Y_test_indexes, columns=Y_test_columns)"
   ],
   "metadata": {
    "collapsed": false,
    "pycharm": {
     "name": "#%%\n"
    }
   }
  },
  {
   "cell_type": "code",
   "execution_count": 18,
   "outputs": [
    {
     "name": "stdout",
     "output_type": "stream",
     "text": [
      "31201 Station rentals RMSE: 1.9468006266021598\n",
      "31201 Station returns RMSE: 1.9472202409246537\n"
     ]
    }
   ],
   "source": [
    "print('31201 Station rentals RMSE: {}'.format(math.sqrt(mean_squared_error(df_predictions['31201_rentals'].values, df_Y_test['31201_rentals'].values))))\n",
    "print('31201 Station returns RMSE: {}'.format(math.sqrt(mean_squared_error(df_predictions['31201_returns'].values, df_Y_test['31201_returns'].values))))"
   ],
   "metadata": {
    "collapsed": false,
    "pycharm": {
     "name": "#%%\n"
    }
   }
  },
  {
   "cell_type": "markdown",
   "source": [
    "#### - Visualization"
   ],
   "metadata": {
    "collapsed": false
   }
  },
  {
   "cell_type": "code",
   "execution_count": 19,
   "outputs": [],
   "source": [
    "def plotDayPrediction(predictions, Y, day, log1pData):\n",
    "\n",
    "    data = pd.DataFrame()\n",
    "    try:\n",
    "        if log1pData:\n",
    "            data['prediction'] = np.round(np.expm1(predictions[day]),0)\n",
    "            data['real'] = np.expm1(Y[day])\n",
    "        else:\n",
    "            data['prediction'] = predictions[24*(day-1):24*day]\n",
    "            data['real'] = Y[24*(day-1):24*day]\n",
    "    except:\n",
    "        print(\"El dia tiene que ser inferior a {}\".format(len(Y)) )\n",
    "\n",
    "    plt.figure(figsize=(12,5))\n",
    "    plt.xlabel('Prediction of day ' + str(day))\n",
    "\n",
    "    ax1 = data.prediction.plot(color='red', grid=True, label='Forecast')\n",
    "    ax2 = data.real.plot(color='blue', grid=True, label='Actual')\n",
    "    h1, l1 = ax1.get_legend_handles_labels()\n",
    "\n",
    "    plt.legend(h1, l1, loc=2)\n",
    "    plt.show()"
   ],
   "metadata": {
    "collapsed": false,
    "pycharm": {
     "name": "#%%\n"
    }
   }
  },
  {
   "cell_type": "code",
   "execution_count": 20,
   "outputs": [
    {
     "data": {
      "text/plain": "<Figure size 864x360 with 1 Axes>",
      "image/png": "[encoded data removed]"
     },
     "metadata": {
      "needs_background": "light"
     },
     "output_type": "display_data"
    }
   ],
   "source": [
    "plotDayPrediction(df_predictions['31201_rentals'].values, df_Y_test['31201_rentals'].values, 18, False)"
   ],
   "metadata": {
    "collapsed": false,
    "pycharm": {
     "name": "#%%\n"
    }
   }
  },
  {
   "cell_type": "code",
   "execution_count": 21,
   "outputs": [
    {
     "data": {
      "text/plain": "<Figure size 864x360 with 1 Axes>",
      "image/png": "[encoded data removed]"
     },
     "metadata": {
      "needs_background": "light"
     },
     "output_type": "display_data"
    }
   ],
   "source": [
    "plotDayPrediction(df_predictions['31201_returns'].values, df_Y_test['31201_returns'].values, 18, False)"
   ],
   "metadata": {
    "collapsed": false,
    "pycharm": {
     "name": "#%%\n"
    }
   }
  },
  {
   "cell_type": "markdown",
   "source": [
    "#### Adamax Optimizer"
   ],
   "metadata": {
    "collapsed": false,
    "pycharm": {
     "name": "#%% md\n"
    }
   }
  },
  {
   "cell_type": "code",
   "execution_count": 30,
   "outputs": [
    {
     "name": "stdout",
     "output_type": "stream",
     "text": [
      "Model: \"sequential_1\"\n",
      "_________________________________________________________________\n",
      "Layer (type)                 Output Shape              Param #   \n",
      "=================================================================\n",
      "lstm_1 (LSTM)                (None, 24, 1388)          31013472  \n",
      "_________________________________________________________________\n",
      "dense_1 (Dense)              (None, 24, 1388)          1927932   \n",
      "=================================================================\n",
      "Total params: 32,941,404\n",
      "Trainable params: 32,941,404\n",
      "Non-trainable params: 0\n",
      "_________________________________________________________________\n",
      "None\n"
     ]
    }
   ],
   "source": [
    "model = Sequential()\n",
    "\n",
    "model.add(LSTM(Y_train.shape[2], input_shape=(X_train.shape[1], X_train.shape[2]), return_sequences = True))\n",
    "model.add(Dense(Y_train.shape[2]))\n",
    "model.compile(loss='mean_squared_error', optimizer='adamax', metrics=['mae'])\n",
    "\n",
    "print(model.summary())"
   ],
   "metadata": {
    "collapsed": false,
    "pycharm": {
     "name": "#%%\n"
    }
   }
  },
  {
   "cell_type": "code",
   "execution_count": 31,
   "outputs": [
    {
     "name": "stdout",
     "output_type": "stream",
     "text": [
      "Epoch 1/50\n",
      "8/8 [==============================] - 5s 295ms/step - loss: 2.4071 - mae: 0.6435\n",
      "Epoch 2/50\n",
      "8/8 [==============================] - 2s 296ms/step - loss: 1.8872 - mae: 0.5877\n",
      "Epoch 3/50\n",
      "8/8 [==============================] - 2s 297ms/step - loss: 1.6862 - mae: 0.5331\n",
      "Epoch 4/50\n",
      "8/8 [==============================] - 2s 300ms/step - loss: 1.5767 - mae: 0.5062\n",
      "Epoch 5/50\n",
      "8/8 [==============================] - 2s 302ms/step - loss: 1.5095 - mae: 0.4896\n",
      "Epoch 6/50\n",
      "8/8 [==============================] - 2s 306ms/step - loss: 1.4562 - mae: 0.4753\n",
      "Epoch 7/50\n",
      "8/8 [==============================] - 2s 301ms/step - loss: 1.4135 - mae: 0.4664\n",
      "Epoch 8/50\n",
      "8/8 [==============================] - 2s 299ms/step - loss: 1.3778 - mae: 0.4580\n",
      "Epoch 9/50\n",
      "8/8 [==============================] - 2s 303ms/step - loss: 1.3471 - mae: 0.4515\n",
      "Epoch 10/50\n",
      "8/8 [==============================] - 2s 300ms/step - loss: 1.3199 - mae: 0.4463\n",
      "Epoch 11/50\n",
      "8/8 [==============================] - 2s 301ms/step - loss: 1.2956 - mae: 0.4407\n",
      "Epoch 12/50\n",
      "8/8 [==============================] - 2s 301ms/step - loss: 1.2730 - mae: 0.4371\n",
      "Epoch 13/50\n",
      "8/8 [==============================] - 2s 300ms/step - loss: 1.2524 - mae: 0.4328\n",
      "Epoch 14/50\n",
      "8/8 [==============================] - 2s 300ms/step - loss: 1.2328 - mae: 0.4291\n",
      "Epoch 15/50\n",
      "8/8 [==============================] - 2s 298ms/step - loss: 1.2145 - mae: 0.4253\n",
      "Epoch 16/50\n",
      "8/8 [==============================] - 2s 304ms/step - loss: 1.1972 - mae: 0.4221\n",
      "Epoch 17/50\n",
      "8/8 [==============================] - 2s 302ms/step - loss: 1.1820 - mae: 0.4194\n",
      "Epoch 18/50\n",
      "8/8 [==============================] - 2s 299ms/step - loss: 1.1658 - mae: 0.4157\n",
      "Epoch 19/50\n",
      "8/8 [==============================] - 2s 302ms/step - loss: 1.1514 - mae: 0.4134\n",
      "Epoch 20/50\n",
      "8/8 [==============================] - 2s 301ms/step - loss: 1.1375 - mae: 0.4110\n",
      "Epoch 21/50\n",
      "8/8 [==============================] - 2s 300ms/step - loss: 1.1246 - mae: 0.4075\n",
      "Epoch 22/50\n",
      "8/8 [==============================] - 2s 301ms/step - loss: 1.1124 - mae: 0.4065\n",
      "Epoch 23/50\n",
      "8/8 [==============================] - 2s 300ms/step - loss: 1.1004 - mae: 0.4034\n",
      "Epoch 24/50\n",
      "8/8 [==============================] - 2s 301ms/step - loss: 1.0900 - mae: 0.4021\n",
      "Epoch 25/50\n",
      "8/8 [==============================] - 2s 300ms/step - loss: 1.0795 - mae: 0.3993\n",
      "Epoch 26/50\n",
      "8/8 [==============================] - 2s 307ms/step - loss: 1.0696 - mae: 0.3985\n",
      "Epoch 27/50\n",
      "8/8 [==============================] - 2s 299ms/step - loss: 1.0603 - mae: 0.3964\n",
      "Epoch 28/50\n",
      "8/8 [==============================] - 2s 301ms/step - loss: 1.0514 - mae: 0.3947\n",
      "Epoch 29/50\n",
      "8/8 [==============================] - 2s 300ms/step - loss: 1.0430 - mae: 0.3933\n",
      "Epoch 30/50\n",
      "8/8 [==============================] - 2s 303ms/step - loss: 1.0348 - mae: 0.3924\n",
      "Epoch 31/50\n",
      "8/8 [==============================] - 2s 303ms/step - loss: 1.0272 - mae: 0.3903\n",
      "Epoch 32/50\n",
      "8/8 [==============================] - 2s 304ms/step - loss: 1.0193 - mae: 0.3890\n",
      "Epoch 33/50\n",
      "8/8 [==============================] - 2s 301ms/step - loss: 1.0122 - mae: 0.3883\n",
      "Epoch 34/50\n",
      "8/8 [==============================] - 2s 300ms/step - loss: 1.0053 - mae: 0.3871\n",
      "Epoch 35/50\n",
      "8/8 [==============================] - 2s 302ms/step - loss: 0.9985 - mae: 0.3854\n",
      "Epoch 36/50\n",
      "8/8 [==============================] - 2s 301ms/step - loss: 0.9917 - mae: 0.3842\n",
      "Epoch 37/50\n",
      "8/8 [==============================] - 2s 301ms/step - loss: 0.9855 - mae: 0.3833\n",
      "Epoch 38/50\n",
      "8/8 [==============================] - 2s 300ms/step - loss: 0.9803 - mae: 0.3825\n",
      "Epoch 39/50\n",
      "8/8 [==============================] - 2s 298ms/step - loss: 0.9743 - mae: 0.3805\n",
      "Epoch 40/50\n",
      "8/8 [==============================] - 2s 303ms/step - loss: 0.9682 - mae: 0.3806\n",
      "Epoch 41/50\n",
      "8/8 [==============================] - 2s 302ms/step - loss: 0.9620 - mae: 0.3786\n",
      "Epoch 42/50\n",
      "8/8 [==============================] - 2s 304ms/step - loss: 0.9570 - mae: 0.3780\n",
      "Epoch 43/50\n",
      "8/8 [==============================] - 2s 305ms/step - loss: 0.9530 - mae: 0.3775\n",
      "Epoch 44/50\n",
      "8/8 [==============================] - 2s 303ms/step - loss: 0.9469 - mae: 0.3760\n",
      "Epoch 45/50\n",
      "8/8 [==============================] - 2s 305ms/step - loss: 0.9421 - mae: 0.3750\n",
      "Epoch 46/50\n",
      "8/8 [==============================] - 2s 300ms/step - loss: 0.9376 - mae: 0.3741\n",
      "Epoch 47/50\n",
      "8/8 [==============================] - 2s 303ms/step - loss: 0.9329 - mae: 0.3738\n",
      "Epoch 48/50\n",
      "8/8 [==============================] - 2s 302ms/step - loss: 0.9291 - mae: 0.3725\n",
      "Epoch 49/50\n",
      "8/8 [==============================] - 2s 303ms/step - loss: 0.9256 - mae: 0.3718\n",
      "Epoch 50/50\n",
      "8/8 [==============================] - 2s 286ms/step - loss: 0.9212 - mae: 0.3715\n"
     ]
    }
   ],
   "source": [
    "with tf.device('/GPU:0'):\n",
    "    model.fit(X_train, Y_train, batch_size=batch_size, epochs=epochs)"
   ],
   "metadata": {
    "collapsed": false,
    "pycharm": {
     "name": "#%%\n"
    }
   }
  },
  {
   "cell_type": "code",
   "execution_count": 32,
   "outputs": [
    {
     "name": "stdout",
     "output_type": "stream",
     "text": [
      " Test rmse: 1.0150175185171577\n",
      " Test loss: 1.0302605628967285\n",
      " Test mae: 0.4697500467300415\n"
     ]
    }
   ],
   "source": [
    "score = model.evaluate(X_validation, Y_validation, batch_size=batch_size, verbose=0)\n",
    "for i,metric in enumerate(model.metrics_names):\n",
    "    if (metric =='loss'): print(' Test rmse: {}'.format( math.sqrt(score[i])))\n",
    "    print(' Test {}: {}'.format(metric, score[i]))"
   ],
   "metadata": {
    "collapsed": false,
    "pycharm": {
     "name": "#%%\n"
    }
   }
  },
  {
   "cell_type": "code",
   "execution_count": 33,
   "outputs": [],
   "source": [
    "predictions = np.round(model.predict(X_validation))\n",
    "predictions = predictions.reshape(predictions.shape[0]*predictions.shape[1], predictions.shape[2])\n",
    "df_predictions = pd.DataFrame(predictions, index=Y_validation_indexes, columns=Y_validation_columns)\n",
    "Y_validation = Y_validation.reshape(Y_validation.shape[0]*Y_validation.shape[1], Y_validation.shape[2])\n",
    "df_Y_validation = pd.DataFrame(Y_validation, index=Y_validation_indexes, columns=Y_validation_columns)"
   ],
   "metadata": {
    "collapsed": false,
    "pycharm": {
     "name": "#%%\n"
    }
   }
  },
  {
   "cell_type": "code",
   "execution_count": 34,
   "outputs": [
    {
     "name": "stdout",
     "output_type": "stream",
     "text": [
      "31201 Station rentals RMSE: 2.514500431159369\n",
      "31201 Station returns RMSE: 2.4438130497691968\n",
      "31200 Station rentals RMSE: 2.5347261393111467\n",
      "31200 Station returns RMSE: 2.535129007559047\n",
      "31101 Station rentals RMSE: 2.3372690896397916\n",
      "31101 Station returns RMSE: 2.0902825277343813\n",
      "31230 Station rentals RMSE: 1.7229468220563242\n",
      "31230 Station returns RMSE: 1.9609129859741588\n",
      "31611 Station rentals RMSE: 1.432580741773163\n",
      "31611 Station returns RMSE: 1.4430926303842317\n"
     ]
    }
   ],
   "source": [
    "print('31201 Station rentals RMSE: {}'.format(math.sqrt(mean_squared_error(df_predictions['31201_rentals'].values, df_Y_validation['31201_rentals'].values))))\n",
    "print('31201 Station returns RMSE: {}'.format(math.sqrt(mean_squared_error(df_predictions['31201_returns'].values, df_Y_validation['31201_returns'].values))))\n",
    "print('31200 Station rentals RMSE: {}'.format(math.sqrt(mean_squared_error(df_predictions['31200_rentals'].values, df_Y_validation['31200_rentals'].values))))\n",
    "print('31200 Station returns RMSE: {}'.format(math.sqrt(mean_squared_error(df_predictions['31200_returns'].values, df_Y_validation['31200_returns'].values))))\n",
    "print('31101 Station rentals RMSE: {}'.format(math.sqrt(mean_squared_error(df_predictions['31101_rentals'].values, df_Y_validation['31101_rentals'].values))))\n",
    "print('31101 Station returns RMSE: {}'.format(math.sqrt(mean_squared_error(df_predictions['31101_returns'].values, df_Y_validation['31101_returns'].values))))\n",
    "print('31230 Station rentals RMSE: {}'.format(math.sqrt(mean_squared_error(df_predictions['31230_rentals'].values, df_Y_validation['31230_rentals'].values))))\n",
    "print('31230 Station returns RMSE: {}'.format(math.sqrt(mean_squared_error(df_predictions['31230_returns'].values, df_Y_validation['31230_returns'].values))))\n",
    "print('31611 Station rentals RMSE: {}'.format(math.sqrt(mean_squared_error(df_predictions['31611_rentals'].values, df_Y_validation['31611_rentals'].values))))\n",
    "print('31611 Station returns RMSE: {}'.format(math.sqrt(mean_squared_error(df_predictions['31611_returns'].values, df_Y_validation['31611_returns'].values))))"
   ],
   "metadata": {
    "collapsed": false,
    "pycharm": {
     "name": "#%%\n"
    }
   }
  },
  {
   "cell_type": "markdown",
   "source": [
    "#### - TEST evaluation"
   ],
   "metadata": {
    "collapsed": false,
    "pycharm": {
     "name": "#%% md\n"
    }
   }
  },
  {
   "cell_type": "code",
   "execution_count": 35,
   "outputs": [
    {
     "name": "stdout",
     "output_type": "stream",
     "text": [
      " Test rmse: 0.797352329980196\n",
      " Test loss: 0.6357707381248474\n",
      " Test mae: 0.33957770466804504\n"
     ]
    }
   ],
   "source": [
    "score = model.evaluate(X_test, Y_test, batch_size=batch_size, verbose=0)\n",
    "for i,metric in enumerate(model.metrics_names):\n",
    "    if (metric =='loss'): print(' Test rmse: {}'.format( math.sqrt(score[i])))\n",
    "    print(' Test {}: {}'.format(metric, score[i]))"
   ],
   "metadata": {
    "collapsed": false,
    "pycharm": {
     "name": "#%%\n"
    }
   }
  },
  {
   "cell_type": "code",
   "execution_count": 36,
   "outputs": [],
   "source": [
    "predictions = np.round(model.predict(X_test))\n",
    "predictions = predictions.reshape(predictions.shape[0]*predictions.shape[1], predictions.shape[2])\n",
    "df_predictions = pd.DataFrame(predictions, index=Y_test_indexes, columns=Y_test_columns)\n",
    "Y_test = Y_test.reshape(Y_test.shape[0]*Y_test.shape[1], Y_test.shape[2])\n",
    "df_Y_test = pd.DataFrame(Y_test, index=Y_test_indexes, columns=Y_test_columns)"
   ],
   "metadata": {
    "collapsed": false,
    "pycharm": {
     "name": "#%%\n"
    }
   }
  },
  {
   "cell_type": "code",
   "execution_count": 37,
   "outputs": [
    {
     "name": "stdout",
     "output_type": "stream",
     "text": [
      "31201 Station rentals RMSE: 1.9431251359903836\n",
      "31201 Station returns RMSE: 1.9406007761899458\n",
      "31200 Station rentals RMSE: 1.6378638646773078\n",
      "31200 Station returns RMSE: 1.9447011968675392\n",
      "31101 Station rentals RMSE: 1.7769861391024104\n",
      "31101 Station returns RMSE: 1.8328876463610655\n",
      "31230 Station rentals RMSE: 1.2227420166231657\n",
      "31230 Station returns RMSE: 1.4595583090498099\n",
      "31611 Station rentals RMSE: 1.0650800086550312\n",
      "31611 Station returns RMSE: 1.1710352383304974\n"
     ]
    }
   ],
   "source": [
    "print('31201 Station rentals RMSE: {}'.format(math.sqrt(mean_squared_error(df_predictions['31201_rentals'].values, df_Y_test['31201_rentals'].values))))\n",
    "print('31201 Station returns RMSE: {}'.format(math.sqrt(mean_squared_error(df_predictions['31201_returns'].values, df_Y_test['31201_returns'].values))))\n",
    "print('31200 Station rentals RMSE: {}'.format(math.sqrt(mean_squared_error(df_predictions['31200_rentals'].values, df_Y_test['31200_rentals'].values))))\n",
    "print('31200 Station returns RMSE: {}'.format(math.sqrt(mean_squared_error(df_predictions['31200_returns'].values, df_Y_test['31200_returns'].values))))\n",
    "print('31101 Station rentals RMSE: {}'.format(math.sqrt(mean_squared_error(df_predictions['31101_rentals'].values, df_Y_test['31101_rentals'].values))))\n",
    "print('31101 Station returns RMSE: {}'.format(math.sqrt(mean_squared_error(df_predictions['31101_returns'].values, df_Y_test['31101_returns'].values))))\n",
    "print('31230 Station rentals RMSE: {}'.format(math.sqrt(mean_squared_error(df_predictions['31230_rentals'].values, df_Y_test['31230_rentals'].values))))\n",
    "print('31230 Station returns RMSE: {}'.format(math.sqrt(mean_squared_error(df_predictions['31230_returns'].values, df_Y_test['31230_returns'].values))))\n",
    "print('31611 Station rentals RMSE: {}'.format(math.sqrt(mean_squared_error(df_predictions['31611_rentals'].values, df_Y_test['31611_rentals'].values))))\n",
    "print('31611 Station returns RMSE: {}'.format(math.sqrt(mean_squared_error(df_predictions['31611_returns'].values, df_Y_test['31611_returns'].values))))"
   ],
   "metadata": {
    "collapsed": false,
    "pycharm": {
     "name": "#%%\n"
    }
   }
  },
  {
   "cell_type": "markdown",
   "source": [
    "#### - Visualization"
   ],
   "metadata": {
    "collapsed": false
   }
  },
  {
   "cell_type": "code",
   "execution_count": 38,
   "outputs": [
    {
     "data": {
      "text/plain": "<Figure size 864x360 with 1 Axes>",
      "image/png": "[encoded data removed]"
     },
     "metadata": {
      "needs_background": "light"
     },
     "output_type": "display_data"
    }
   ],
   "source": [
    "plotDayPrediction(df_predictions['31201_rentals'].values, df_Y_test['31201_rentals'].values, 18, False)"
   ],
   "metadata": {
    "collapsed": false,
    "pycharm": {
     "name": "#%%\n"
    }
   }
  },
  {
   "cell_type": "code",
   "execution_count": 39,
   "outputs": [
    {
     "data": {
      "text/plain": "<Figure size 864x360 with 1 Axes>",
      "image/png": "[encoded data removed]"
     },
     "metadata": {
      "needs_background": "light"
     },
     "output_type": "display_data"
    }
   ],
   "source": [
    "plotDayPrediction(df_predictions['31201_returns'].values, df_Y_test['31201_returns'].values, 18, False)"
   ],
   "metadata": {
    "collapsed": false,
    "pycharm": {
     "name": "#%%\n"
    }
   }
  },
  {
   "cell_type": "markdown",
   "source": [
    "#### Adamax Optimizer / LOG1P Data"
   ],
   "metadata": {
    "collapsed": false,
    "pycharm": {
     "name": "#%% md\n"
    }
   }
  },
  {
   "cell_type": "code",
   "execution_count": 11,
   "outputs": [
    {
     "name": "stdout",
     "output_type": "stream",
     "text": [
      "Model: \"sequential\"\n",
      "_________________________________________________________________\n",
      "Layer (type)                 Output Shape              Param #   \n",
      "=================================================================\n",
      "lstm (LSTM)                  (None, 24, 1388)          31013472  \n",
      "_________________________________________________________________\n",
      "dense (Dense)                (None, 24, 1388)          1927932   \n",
      "=================================================================\n",
      "Total params: 32,941,404\n",
      "Trainable params: 32,941,404\n",
      "Non-trainable params: 0\n",
      "_________________________________________________________________\n",
      "None\n"
     ]
    }
   ],
   "source": [
    "model = Sequential()\n",
    "\n",
    "model.add(LSTM(Y_train.shape[2], input_shape=(X_train.shape[1], X_train.shape[2]), return_sequences = True))\n",
    "model.add(Dense(Y_train.shape[2]))\n",
    "model.compile(loss='mean_squared_error', optimizer='adamax', metrics=['mae'])\n",
    "\n",
    "print(model.summary())"
   ],
   "metadata": {
    "collapsed": false,
    "pycharm": {
     "name": "#%%\n"
    }
   }
  },
  {
   "cell_type": "code",
   "execution_count": 12,
   "outputs": [
    {
     "name": "stdout",
     "output_type": "stream",
     "text": [
      "Epoch 1/50\n",
      "8/8 [==============================] - 7s 291ms/step - loss: 0.2436 - mae: 0.3309\n",
      "Epoch 2/50\n",
      "8/8 [==============================] - 2s 304ms/step - loss: 0.1567 - mae: 0.2542\n",
      "Epoch 3/50\n",
      "8/8 [==============================] - 2s 294ms/step - loss: 0.1358 - mae: 0.2303\n",
      "Epoch 4/50\n",
      "8/8 [==============================] - 2s 292ms/step - loss: 0.1235 - mae: 0.2132\n",
      "Epoch 5/50\n",
      "8/8 [==============================] - 2s 287ms/step - loss: 0.1171 - mae: 0.2016\n",
      "Epoch 6/50\n",
      "8/8 [==============================] - 2s 289ms/step - loss: 0.1127 - mae: 0.1950\n",
      "Epoch 7/50\n",
      "8/8 [==============================] - 2s 288ms/step - loss: 0.1087 - mae: 0.1899\n",
      "Epoch 8/50\n",
      "8/8 [==============================] - 2s 289ms/step - loss: 0.1049 - mae: 0.1856\n",
      "Epoch 9/50\n",
      "8/8 [==============================] - 2s 288ms/step - loss: 0.1020 - mae: 0.1819\n",
      "Epoch 10/50\n",
      "8/8 [==============================] - 2s 290ms/step - loss: 0.0998 - mae: 0.1790\n",
      "Epoch 11/50\n",
      "8/8 [==============================] - 2s 286ms/step - loss: 0.0979 - mae: 0.1762\n",
      "Epoch 12/50\n",
      "8/8 [==============================] - 2s 289ms/step - loss: 0.0962 - mae: 0.1738\n",
      "Epoch 13/50\n",
      "8/8 [==============================] - 2s 287ms/step - loss: 0.0947 - mae: 0.1715\n",
      "Epoch 14/50\n",
      "8/8 [==============================] - 2s 287ms/step - loss: 0.0934 - mae: 0.1695\n",
      "Epoch 15/50\n",
      "8/8 [==============================] - 2s 288ms/step - loss: 0.0922 - mae: 0.1678\n",
      "Epoch 16/50\n",
      "8/8 [==============================] - 2s 288ms/step - loss: 0.0912 - mae: 0.1662\n",
      "Epoch 17/50\n",
      "8/8 [==============================] - 2s 289ms/step - loss: 0.0903 - mae: 0.1650\n",
      "Epoch 18/50\n",
      "8/8 [==============================] - 2s 284ms/step - loss: 0.0894 - mae: 0.1635\n",
      "Epoch 19/50\n",
      "8/8 [==============================] - 2s 290ms/step - loss: 0.0886 - mae: 0.1624\n",
      "Epoch 20/50\n",
      "8/8 [==============================] - 2s 291ms/step - loss: 0.0879 - mae: 0.1614\n",
      "Epoch 21/50\n",
      "8/8 [==============================] - 2s 285ms/step - loss: 0.0872 - mae: 0.1603\n",
      "Epoch 22/50\n",
      "8/8 [==============================] - 2s 292ms/step - loss: 0.0865 - mae: 0.1593\n",
      "Epoch 23/50\n",
      "8/8 [==============================] - 2s 288ms/step - loss: 0.0860 - mae: 0.1586\n",
      "Epoch 24/50\n",
      "8/8 [==============================] - 2s 288ms/step - loss: 0.0855 - mae: 0.1578\n",
      "Epoch 25/50\n",
      "8/8 [==============================] - 2s 290ms/step - loss: 0.0850 - mae: 0.1570\n",
      "Epoch 26/50\n",
      "8/8 [==============================] - 2s 294ms/step - loss: 0.0845 - mae: 0.1564\n",
      "Epoch 27/50\n",
      "8/8 [==============================] - 2s 289ms/step - loss: 0.0841 - mae: 0.1556\n",
      "Epoch 28/50\n",
      "8/8 [==============================] - 2s 289ms/step - loss: 0.0837 - mae: 0.1551\n",
      "Epoch 29/50\n",
      "8/8 [==============================] - 2s 291ms/step - loss: 0.0833 - mae: 0.1544\n",
      "Epoch 30/50\n",
      "8/8 [==============================] - 2s 289ms/step - loss: 0.0828 - mae: 0.1537\n",
      "Epoch 31/50\n",
      "8/8 [==============================] - 2s 291ms/step - loss: 0.0826 - mae: 0.1533\n",
      "Epoch 32/50\n",
      "8/8 [==============================] - 2s 289ms/step - loss: 0.0823 - mae: 0.1528\n",
      "Epoch 33/50\n",
      "8/8 [==============================] - 2s 294ms/step - loss: 0.0819 - mae: 0.1523\n",
      "Epoch 34/50\n",
      "8/8 [==============================] - 2s 291ms/step - loss: 0.0815 - mae: 0.1517\n",
      "Epoch 35/50\n",
      "8/8 [==============================] - 2s 294ms/step - loss: 0.0812 - mae: 0.1512\n",
      "Epoch 36/50\n",
      "8/8 [==============================] - 2s 288ms/step - loss: 0.0810 - mae: 0.1508\n",
      "Epoch 37/50\n",
      "8/8 [==============================] - 2s 288ms/step - loss: 0.0808 - mae: 0.1503\n",
      "Epoch 38/50\n",
      "8/8 [==============================] - 2s 290ms/step - loss: 0.0805 - mae: 0.1501\n",
      "Epoch 39/50\n",
      "8/8 [==============================] - 2s 292ms/step - loss: 0.0802 - mae: 0.1495\n",
      "Epoch 40/50\n",
      "8/8 [==============================] - 2s 289ms/step - loss: 0.0800 - mae: 0.1491\n",
      "Epoch 41/50\n",
      "8/8 [==============================] - 2s 290ms/step - loss: 0.0798 - mae: 0.1490\n",
      "Epoch 42/50\n",
      "8/8 [==============================] - 2s 293ms/step - loss: 0.0797 - mae: 0.1485\n",
      "Epoch 43/50\n",
      "8/8 [==============================] - 2s 291ms/step - loss: 0.0794 - mae: 0.1483\n",
      "Epoch 44/50\n",
      "8/8 [==============================] - 2s 290ms/step - loss: 0.0792 - mae: 0.1480\n",
      "Epoch 45/50\n",
      "8/8 [==============================] - 2s 293ms/step - loss: 0.0790 - mae: 0.1475\n",
      "Epoch 46/50\n",
      "8/8 [==============================] - 2s 289ms/step - loss: 0.0788 - mae: 0.1473\n",
      "Epoch 47/50\n",
      "8/8 [==============================] - 2s 291ms/step - loss: 0.0787 - mae: 0.1469\n",
      "Epoch 48/50\n",
      "8/8 [==============================] - 2s 290ms/step - loss: 0.0784 - mae: 0.1466\n",
      "Epoch 49/50\n",
      "8/8 [==============================] - 2s 289ms/step - loss: 0.0783 - mae: 0.1465\n",
      "Epoch 50/50\n",
      "8/8 [==============================] - 2s 278ms/step - loss: 0.0782 - mae: 0.1461\n"
     ]
    }
   ],
   "source": [
    "with tf.device('/GPU:0'):\n",
    "    model.fit(X_train, Y_train, batch_size=batch_size, epochs=epochs)"
   ],
   "metadata": {
    "collapsed": false,
    "pycharm": {
     "name": "#%%\n"
    }
   }
  },
  {
   "cell_type": "code",
   "execution_count": 13,
   "outputs": [
    {
     "name": "stdout",
     "output_type": "stream",
     "text": [
      " Test rmse: 0.3468033690853211\n",
      " Test loss: 0.12027257680892944\n",
      " Test mae: 0.2073768973350525\n"
     ]
    }
   ],
   "source": [
    "score = model.evaluate(X_validation, Y_validation, batch_size=batch_size, verbose=0)\n",
    "\n",
    "for i,metric in enumerate(model.metrics_names):\n",
    "    if (metric =='loss'):\n",
    "        print(' Test rmse: {}'.format( math.sqrt(score[i])))\n",
    "    print(' Test {}: {}'.format(metric, score[i]))"
   ],
   "metadata": {
    "collapsed": false,
    "pycharm": {
     "name": "#%%\n"
    }
   }
  },
  {
   "cell_type": "code",
   "execution_count": 14,
   "outputs": [],
   "source": [
    "predictions = np.round(model.predict(X_validation))\n",
    "predictions = predictions.reshape(predictions.shape[0]*predictions.shape[1], predictions.shape[2])\n",
    "df_predictions = pd.DataFrame(predictions, index=Y_validation_indexes, columns=Y_validation_columns)\n",
    "df_predictions = round(np.expm1(df_predictions))\n",
    "Y_validation = Y_validation.reshape(Y_validation.shape[0]*Y_validation.shape[1], Y_validation.shape[2])\n",
    "df_Y_validation = pd.DataFrame(Y_validation, index=Y_validation_indexes, columns=Y_validation_columns)\n",
    "df_Y_validation = np.expm1(df_Y_validation)"
   ],
   "metadata": {
    "collapsed": false,
    "pycharm": {
     "name": "#%%\n"
    }
   }
  },
  {
   "cell_type": "code",
   "execution_count": 15,
   "outputs": [
    {
     "name": "stdout",
     "output_type": "stream",
     "text": [
      "31201 Station rentals RMSE: 2.8815108146879127\n",
      "31201 Station returns RMSE: 2.890145528597235\n"
     ]
    }
   ],
   "source": [
    "print('31201 Station rentals RMSE: {}'.format(math.sqrt(mean_squared_error(df_predictions['31201_rentals'].values, df_Y_validation['31201_rentals'].values))))\n",
    "print('31201 Station returns RMSE: {}'.format(math.sqrt(mean_squared_error(df_predictions['31201_returns'].values, df_Y_validation['31201_returns'].values))))"
   ],
   "metadata": {
    "collapsed": false,
    "pycharm": {
     "name": "#%%\n"
    }
   }
  },
  {
   "cell_type": "markdown",
   "source": [
    "#### - TEST evaluation"
   ],
   "metadata": {
    "collapsed": false
   }
  },
  {
   "cell_type": "code",
   "execution_count": 34,
   "outputs": [
    {
     "name": "stdout",
     "output_type": "stream",
     "text": [
      " Test rmse: 0.29874657160096607\n",
      " Test loss: 0.08924951404333115\n",
      " Test mae: 0.1626519411802292\n"
     ]
    }
   ],
   "source": [
    "score = model.evaluate(X_test, Y_test, batch_size=batch_size,verbose=0)\n",
    "\n",
    "for i,metric in enumerate(model.metrics_names):\n",
    "    if (metric =='loss'):\n",
    "        print(' Test rmse: {}'.format( math.sqrt(score[i])))\n",
    "    print(' Test {}: {}'.format(metric, score[i]))"
   ],
   "metadata": {
    "collapsed": false,
    "pycharm": {
     "name": "#%%\n"
    }
   }
  },
  {
   "cell_type": "code",
   "execution_count": 18,
   "outputs": [],
   "source": [
    "predictions = model.predict(X_test)\n",
    "predictions = predictions.reshape(predictions.shape[0]*predictions.shape[1], predictions.shape[2])\n",
    "df_predictions = pd.DataFrame(predictions, index=Y_test_indexes, columns=Y_test_columns)\n",
    "df_predictions = round(np.expm1(df_predictions))\n",
    "Y_test = Y_test.reshape(Y_test.shape[0]*Y_test.shape[1], Y_test.shape[2])\n",
    "df_Y_test = pd.DataFrame(Y_test, index=Y_test_indexes, columns=Y_test_columns)\n",
    "df_Y_test = np.expm1(df_Y_test)"
   ],
   "metadata": {
    "collapsed": false,
    "pycharm": {
     "name": "#%%\n"
    }
   }
  },
  {
   "cell_type": "code",
   "execution_count": 19,
   "outputs": [
    {
     "name": "stdout",
     "output_type": "stream",
     "text": [
      "31201 Station rentals RMSE: 2.093407017561676\n",
      "31201 Station returns RMSE: 1.9453312636901192\n"
     ]
    }
   ],
   "source": [
    "print('31201 Station rentals RMSE: {}'.format(math.sqrt(mean_squared_error(df_predictions['31201_rentals'].values, df_Y_test['31201_rentals'].values))))\n",
    "print('31201 Station returns RMSE: {}'.format(math.sqrt(mean_squared_error(df_predictions['31201_returns'].values, df_Y_test['31201_returns'].values))))"
   ],
   "metadata": {
    "collapsed": false,
    "pycharm": {
     "name": "#%%\n"
    }
   }
  },
  {
   "cell_type": "markdown",
   "source": [
    "### Adamax Optimizer / Bigger Dense Layer / LOG1P Data"
   ],
   "metadata": {
    "collapsed": false,
    "pycharm": {
     "name": "#%% md\n"
    }
   }
  },
  {
   "cell_type": "code",
   "execution_count": 29,
   "outputs": [
    {
     "name": "stdout",
     "output_type": "stream",
     "text": [
      "Model: \"sequential_1\"\n",
      "_________________________________________________________________\n",
      "Layer (type)                 Output Shape              Param #   \n",
      "=================================================================\n",
      "lstm_1 (LSTM)                (None, 24, 2048)          51167232  \n",
      "_________________________________________________________________\n",
      "dense_1 (Dense)              (None, 24, 2048)          4196352   \n",
      "_________________________________________________________________\n",
      "dense_2 (Dense)              (None, 24, 1388)          2844012   \n",
      "=================================================================\n",
      "Total params: 58,207,596\n",
      "Trainable params: 58,207,596\n",
      "Non-trainable params: 0\n",
      "_________________________________________________________________\n",
      "None\n"
     ]
    }
   ],
   "source": [
    "model = Sequential()\n",
    "\n",
    "model.add(LSTM(2048, input_shape=(X_train.shape[1], X_train.shape[2]), return_sequences = True))\n",
    "model.add(Dense(2048, activation='relu'))\n",
    "model.add(Dense(Y_train.shape[2]))\n",
    "model.compile(loss='mean_squared_error', optimizer='adamax', metrics=['mae'])\n",
    "\n",
    "print(model.summary())"
   ],
   "metadata": {
    "collapsed": false,
    "pycharm": {
     "name": "#%%\n"
    }
   }
  },
  {
   "cell_type": "code",
   "execution_count": 30,
   "outputs": [
    {
     "name": "stdout",
     "output_type": "stream",
     "text": [
      "Epoch 1/50\n",
      "8/8 [==============================] - 5s 465ms/step - loss: 0.2020 - mae: 0.2864\n",
      "Epoch 2/50\n",
      "8/8 [==============================] - 4s 481ms/step - loss: 0.1267 - mae: 0.2080\n",
      "Epoch 3/50\n",
      "8/8 [==============================] - 4s 470ms/step - loss: 0.1158 - mae: 0.1882\n",
      "Epoch 4/50\n",
      "8/8 [==============================] - 4s 471ms/step - loss: 0.1123 - mae: 0.1823\n",
      "Epoch 5/50\n",
      "8/8 [==============================] - 4s 466ms/step - loss: 0.1095 - mae: 0.1778\n",
      "Epoch 6/50\n",
      "8/8 [==============================] - 4s 469ms/step - loss: 0.1065 - mae: 0.1745\n",
      "Epoch 7/50\n",
      "8/8 [==============================] - 4s 469ms/step - loss: 0.1029 - mae: 0.1717\n",
      "Epoch 8/50\n",
      "8/8 [==============================] - 4s 472ms/step - loss: 0.0992 - mae: 0.1684\n",
      "Epoch 9/50\n",
      "8/8 [==============================] - 4s 473ms/step - loss: 0.0964 - mae: 0.1658\n",
      "Epoch 10/50\n",
      "8/8 [==============================] - 4s 474ms/step - loss: 0.0943 - mae: 0.1636\n",
      "Epoch 11/50\n",
      "8/8 [==============================] - 4s 475ms/step - loss: 0.0926 - mae: 0.1614\n",
      "Epoch 12/50\n",
      "8/8 [==============================] - 4s 473ms/step - loss: 0.0913 - mae: 0.1597\n",
      "Epoch 13/50\n",
      "8/8 [==============================] - 4s 474ms/step - loss: 0.0902 - mae: 0.1579\n",
      "Epoch 14/50\n",
      "8/8 [==============================] - 4s 473ms/step - loss: 0.0892 - mae: 0.1569\n",
      "Epoch 15/50\n",
      "8/8 [==============================] - 4s 477ms/step - loss: 0.0883 - mae: 0.1562\n",
      "Epoch 16/50\n",
      "8/8 [==============================] - 4s 473ms/step - loss: 0.0874 - mae: 0.1550\n",
      "Epoch 17/50\n",
      "8/8 [==============================] - 4s 475ms/step - loss: 0.0868 - mae: 0.1539\n",
      "Epoch 18/50\n",
      "8/8 [==============================] - 4s 476ms/step - loss: 0.0860 - mae: 0.1532\n",
      "Epoch 19/50\n",
      "8/8 [==============================] - 4s 475ms/step - loss: 0.0854 - mae: 0.1524\n",
      "Epoch 20/50\n",
      "8/8 [==============================] - 4s 474ms/step - loss: 0.0850 - mae: 0.1517\n",
      "Epoch 21/50\n",
      "8/8 [==============================] - 4s 476ms/step - loss: 0.0843 - mae: 0.1509\n",
      "Epoch 22/50\n",
      "8/8 [==============================] - 4s 473ms/step - loss: 0.0839 - mae: 0.1502\n",
      "Epoch 23/50\n",
      "8/8 [==============================] - 4s 472ms/step - loss: 0.0834 - mae: 0.1498\n",
      "Epoch 24/50\n",
      "8/8 [==============================] - 4s 475ms/step - loss: 0.0829 - mae: 0.1493\n",
      "Epoch 25/50\n",
      "8/8 [==============================] - 4s 476ms/step - loss: 0.0825 - mae: 0.1488\n",
      "Epoch 26/50\n",
      "8/8 [==============================] - 4s 478ms/step - loss: 0.0823 - mae: 0.1483\n",
      "Epoch 27/50\n",
      "8/8 [==============================] - 4s 475ms/step - loss: 0.0818 - mae: 0.1480\n",
      "Epoch 28/50\n",
      "8/8 [==============================] - 4s 474ms/step - loss: 0.0815 - mae: 0.1475\n",
      "Epoch 29/50\n",
      "8/8 [==============================] - 4s 476ms/step - loss: 0.0812 - mae: 0.1473\n",
      "Epoch 30/50\n",
      "8/8 [==============================] - 4s 472ms/step - loss: 0.0809 - mae: 0.1466\n",
      "Epoch 31/50\n",
      "8/8 [==============================] - 4s 474ms/step - loss: 0.0804 - mae: 0.1463\n",
      "Epoch 32/50\n",
      "8/8 [==============================] - 4s 474ms/step - loss: 0.0801 - mae: 0.1460\n",
      "Epoch 33/50\n",
      "8/8 [==============================] - 4s 471ms/step - loss: 0.0803 - mae: 0.1457\n",
      "Epoch 34/50\n",
      "8/8 [==============================] - 4s 479ms/step - loss: 0.0799 - mae: 0.1454\n",
      "Epoch 35/50\n",
      "8/8 [==============================] - 4s 475ms/step - loss: 0.0795 - mae: 0.1452\n",
      "Epoch 36/50\n",
      "8/8 [==============================] - 4s 479ms/step - loss: 0.0790 - mae: 0.1443\n",
      "Epoch 37/50\n",
      "8/8 [==============================] - 4s 474ms/step - loss: 0.0790 - mae: 0.1442\n",
      "Epoch 38/50\n",
      "8/8 [==============================] - 4s 476ms/step - loss: 0.0787 - mae: 0.1440\n",
      "Epoch 39/50\n",
      "8/8 [==============================] - 4s 474ms/step - loss: 0.0785 - mae: 0.1434\n",
      "Epoch 40/50\n",
      "8/8 [==============================] - 4s 482ms/step - loss: 0.0782 - mae: 0.1433\n",
      "Epoch 41/50\n",
      "8/8 [==============================] - 4s 476ms/step - loss: 0.0779 - mae: 0.1429\n",
      "Epoch 42/50\n",
      "8/8 [==============================] - 4s 473ms/step - loss: 0.0777 - mae: 0.1427\n",
      "Epoch 43/50\n",
      "8/8 [==============================] - 4s 478ms/step - loss: 0.0776 - mae: 0.1426\n",
      "Epoch 44/50\n",
      "8/8 [==============================] - 4s 473ms/step - loss: 0.0774 - mae: 0.1418\n",
      "Epoch 45/50\n",
      "8/8 [==============================] - 4s 474ms/step - loss: 0.0773 - mae: 0.1419\n",
      "Epoch 46/50\n",
      "8/8 [==============================] - 4s 474ms/step - loss: 0.0770 - mae: 0.1418\n",
      "Epoch 47/50\n",
      "8/8 [==============================] - 4s 474ms/step - loss: 0.0767 - mae: 0.1413\n",
      "Epoch 48/50\n",
      "8/8 [==============================] - 4s 499ms/step - loss: 0.0767 - mae: 0.1413\n",
      "Epoch 49/50\n",
      "8/8 [==============================] - 4s 518ms/step - loss: 0.0763 - mae: 0.1408\n",
      "Epoch 50/50\n",
      "8/8 [==============================] - 4s 499ms/step - loss: 0.0762 - mae: 0.1406\n"
     ]
    }
   ],
   "source": [
    "with tf.device('/GPU:0'):\n",
    "    model.fit(X_train, Y_train, batch_size=batch_size, epochs=epochs)"
   ],
   "metadata": {
    "collapsed": false,
    "pycharm": {
     "name": "#%%\n"
    }
   }
  },
  {
   "cell_type": "code",
   "execution_count": 31,
   "outputs": [
    {
     "name": "stdout",
     "output_type": "stream",
     "text": [
      " Test rmse: 0.3470058142947214\n",
      " Test loss: 0.12041303515434265\n",
      " Test mae: 0.20630519092082977\n"
     ]
    }
   ],
   "source": [
    "score = model.evaluate(X_validation, Y_validation, batch_size=batch_size, verbose=0)\n",
    "\n",
    "for i,metric in enumerate(model.metrics_names):\n",
    "    if (metric =='loss'):\n",
    "        print(' Test rmse: {}'.format( math.sqrt(score[i])))\n",
    "    print(' Test {}: {}'.format(metric, score[i]))"
   ],
   "metadata": {
    "collapsed": false,
    "pycharm": {
     "name": "#%%\n"
    }
   }
  },
  {
   "cell_type": "code",
   "execution_count": 32,
   "outputs": [],
   "source": [
    "predictions = np.round(model.predict(X_validation))\n",
    "predictions = predictions.reshape(predictions.shape[0]*predictions.shape[1], predictions.shape[2])\n",
    "df_predictions = pd.DataFrame(predictions, index=Y_validation_indexes, columns=Y_validation_columns)\n",
    "df_predictions = round(np.expm1(df_predictions))\n",
    "Y_validation = Y_validation.reshape(Y_validation.shape[0]*Y_validation.shape[1], Y_validation.shape[2])\n",
    "df_Y_validation = pd.DataFrame(Y_validation, index=Y_validation_indexes, columns=Y_validation_columns)\n",
    "df_Y_validation = np.expm1(df_Y_validation)"
   ],
   "metadata": {
    "collapsed": false,
    "pycharm": {
     "name": "#%%\n"
    }
   }
  },
  {
   "cell_type": "code",
   "execution_count": 33,
   "outputs": [
    {
     "name": "stdout",
     "output_type": "stream",
     "text": [
      "31201 Station rentals RMSE: 2.8474274595246323\n",
      "31201 Station returns RMSE: 2.82806603818579\n"
     ]
    }
   ],
   "source": [
    "print('31201 Station rentals RMSE: {}'.format(math.sqrt(mean_squared_error(df_predictions['31201_rentals'].values, df_Y_validation['31201_rentals'].values))))\n",
    "print('31201 Station returns RMSE: {}'.format(math.sqrt(mean_squared_error(df_predictions['31201_returns'].values, df_Y_validation['31201_returns'].values))))"
   ],
   "metadata": {
    "collapsed": false,
    "pycharm": {
     "name": "#%%\n"
    }
   }
  },
  {
   "cell_type": "markdown",
   "source": [
    "#### - TEST evaluation"
   ],
   "metadata": {
    "collapsed": false,
    "pycharm": {
     "name": "#%% md\n"
    }
   }
  },
  {
   "cell_type": "code",
   "execution_count": 35,
   "outputs": [
    {
     "name": "stdout",
     "output_type": "stream",
     "text": [
      " Test rmse: 0.29874657160096607\n",
      " Test loss: 0.08924951404333115\n",
      " Test mae: 0.1626519411802292\n"
     ]
    }
   ],
   "source": [
    "score = model.evaluate(X_test, Y_test, batch_size=batch_size,verbose=0)\n",
    "\n",
    "for i,metric in enumerate(model.metrics_names):\n",
    "    if (metric =='loss'):\n",
    "        print(' Test rmse: {}'.format( math.sqrt(score[i])))\n",
    "    print(' Test {}: {}'.format(metric, score[i]))"
   ],
   "metadata": {
    "collapsed": false,
    "pycharm": {
     "name": "#%%\n"
    }
   }
  },
  {
   "cell_type": "code",
   "execution_count": 36,
   "outputs": [],
   "source": [
    "predictions = model.predict(X_test)\n",
    "predictions = predictions.reshape(predictions.shape[0]*predictions.shape[1], predictions.shape[2])\n",
    "df_predictions = pd.DataFrame(predictions, index=Y_test_indexes, columns=Y_test_columns)\n",
    "df_predictions = round(np.expm1(df_predictions))\n",
    "Y_test = Y_test.reshape(Y_test.shape[0]*Y_test.shape[1], Y_test.shape[2])\n",
    "df_Y_test = pd.DataFrame(Y_test, index=Y_test_indexes, columns=Y_test_columns)\n",
    "df_Y_test = np.expm1(df_Y_test)"
   ],
   "metadata": {
    "collapsed": false,
    "pycharm": {
     "name": "#%%\n"
    }
   }
  },
  {
   "cell_type": "code",
   "execution_count": 37,
   "outputs": [
    {
     "name": "stdout",
     "output_type": "stream",
     "text": [
      "31201 Station rentals RMSE: 2.06758755574065\n",
      "31201 Station returns RMSE: 1.940916500714314\n"
     ]
    }
   ],
   "source": [
    "print('31201 Station rentals RMSE: {}'.format(math.sqrt(mean_squared_error(df_predictions['31201_rentals'].values, df_Y_test['31201_rentals'].values))))\n",
    "print('31201 Station returns RMSE: {}'.format(math.sqrt(mean_squared_error(df_predictions['31201_returns'].values, df_Y_test['31201_returns'].values))))"
   ],
   "metadata": {
    "collapsed": false,
    "pycharm": {
     "name": "#%%\n"
    }
   }
  }
 ],
 "metadata": {
  "kernelspec": {
   "display_name": "Python 3",
   "language": "python",
   "name": "python3"
  },
  "language_info": {
   "codemirror_mode": {
    "name": "ipython",
    "version": 2
   },
   "file_extension": ".py",
   "mimetype": "text/x-python",
   "name": "python",
   "nbconvert_exporter": "python",
   "pygments_lexer": "ipython2",
   "version": "2.7.6"
  }
 },
 "nbformat": 4,
 "nbformat_minor": 0
}