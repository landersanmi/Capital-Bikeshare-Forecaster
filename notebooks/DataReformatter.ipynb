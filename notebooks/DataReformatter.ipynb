{
 "cells": [
  {
   "cell_type": "markdown",
   "source": [
    "# DATA REFORMATTER\n",
    "Notebook que contiene el proceso realizado para la extracción, modificación y guardado de los datos relacionados con los alquileres, devoluciones, estaciones y datos meteorológicos."
   ],
   "metadata": {
    "collapsed": false,
    "pycharm": {
     "name": "#%% md\n"
    }
   }
  },
  {
   "cell_type": "markdown",
   "source": [
    "## LIBRERÍAS"
   ],
   "metadata": {
    "collapsed": false,
    "pycharm": {
     "name": "#%% md\n"
    }
   }
  },
  {
   "cell_type": "code",
   "execution_count": 2,
   "id": "9290181c-5ef1-42e2-af37-2d9667f34abe",
   "metadata": {
    "pycharm": {
     "name": "#%%\n"
    }
   },
   "outputs": [],
   "source": [
    "import pandas as pd\n",
    "import numpy as np\n",
    "import os\n",
    "import urllib.request, json\n",
    "\n",
    "from datetime import datetime, timedelta\n",
    "from sklearn import preprocessing"
   ]
  },
  {
   "cell_type": "markdown",
   "id": "7b787329-79db-4027-9179-06dd9b3385d8",
   "metadata": {
    "pycharm": {
     "name": "#%% md\n"
    }
   },
   "source": [
    "## FORMATEO DE LOS DATOS DE TRAYECTOS\n",
    "Se parte de unos cuantos CSVs, que contienen los datos que representan los diferentes trayectos que se han realizado en el sistema de Capital Bikeshare. Estos han sido descargados desde la [página oficial](https://s3.amazonaws.com/capitalbikeshare-data/index.html), donde a día de hoy se publican mensualmente los datos que ha recopilado el sistema. Estos datos han sido previamente procesados, es decir, se han eliminado los viajes de menos de 1 minuto (falsos comienzos) y los realizados por los técnicos en las estaciones de prueba. Si observamos estos datos, podemos darnos cuenta de que no todos siguen el mismo formato y almacenan ciertos atributos que no son relevantes para este estudio.\n",
    "\n",
    "Diferencias en los años:\n",
    "* 2010 y 2011 contienen todos los datos en un solo fichero y 2010 comienza desde  el día 20/09.\n",
    "* 2012 - 2017 los datos se separan en cuatro trimestres --> [Q1, Q2, Q3 Y Q4].\n",
    "* 2018 - 2022 los datos se separan por meses.\n",
    "* A partir de 2020 se añadieron y renombraron atributos."
   ]
  },
  {
   "cell_type": "code",
   "execution_count": 15,
   "id": "27b77e3a-4333-43b0-b5e0-56d5a9f74923",
   "metadata": {
    "pycharm": {
     "name": "#%%\n"
    }
   },
   "outputs": [],
   "source": [
    "def getYearDf(year):\n",
    "    \"\"\"\n",
    "    Generate an anual dataframe from Capital Bikeshare data\n",
    "    Arguments:\n",
    "        year: an integer\n",
    "    Returns:\n",
    "        Anual dataframe of selected year trips.\n",
    "    \"\"\"\n",
    "\n",
    "    dfYear = pd.DataFrame()\n",
    "\n",
    "    # 2010-2011\n",
    "    if year in range(2010, 2012):\n",
    "        df = pd.read_csv(\"../data/tripdata/downloaded/\" + str(year) + \"-capitalbikeshare-tripdata/\" + str(year) + \"-capitalbikeshare-tripdata.csv\")\n",
    "        df.drop(columns=['Duration', 'Bike number', 'Member type'], inplace=True)\n",
    "        df['Start date'] = pd.to_datetime(df['Start date'])\n",
    "        return df\n",
    "    \n",
    "    # 2012-2017\n",
    "    elif year in range(2012, 2018):\n",
    "        for trimester in range(1,5):\n",
    "            df = pd.read_csv(\"../data/tripdata/downloaded/\" + str(year) +\"-capitalbikeshare-tripdata/\" + str(year) + \"Q\" + str(trimester) +\"-capitalbikeshare-tripdata.csv\")\n",
    "            df.drop(columns=['Duration', 'Bike number', 'Member type'], inplace=True)\n",
    "            df['Start date'] = pd.to_datetime(df['Start date'])\n",
    "            dfYear = dfYear.append(df, ignore_index = True)\n",
    "        return dfYear\n",
    "    \n",
    "    # 2018-2019\n",
    "    elif year in range(2018, 2020):\n",
    "        for month in range(1, 13):\n",
    "            if month < 10: month = '0'+ str(month)\n",
    "            \n",
    "            try:\n",
    "                df = pd.read_csv(\"../data/tripdata/downloaded/\" + str(year) + str(month) +\"-capitalbikeshare-tripdata/\" + str(year) + str(month) +\"-capitalbikeshare-tripdata.csv\")\n",
    "            except:\n",
    "                #Caso en el que el fichero 01-2018 esta con '_' en vez de '-'\n",
    "                df = pd.read_csv(\"../data/tripdata/downloaded/\" + str(year) + str(month) +\"-capitalbikeshare-tripdata/\" + str(year) + str(month) +\"_capitalbikeshare_tripdata.csv\")\n",
    "            \n",
    "            df.drop(columns=['Duration', 'Bike number', 'Member type'], inplace=True)\n",
    "            df['Start date'] = pd.to_datetime(df['Start date'])\n",
    "            dfYear = dfYear.append(df, ignore_index=True)\n",
    "        return dfYear\n",
    "    \n",
    "    # 2020-2021\n",
    "    elif year >= 2020:\n",
    "        for month in range(1, 13):\n",
    "            if month < 10: month = '0'+ str(month)\n",
    "            try:\n",
    "                df = pd.read_csv(\"../data/tripdata/downloaded/\" + str(year) + str(month) +\"-capitalbikeshare-tripdata/\" + str(year) + str(month) +\"-capitalbikeshare-tripdata.csv\")\n",
    "            except:\n",
    "                break # Puede no existir información de todos los meses del ultimo año\n",
    "            \n",
    "            try:\n",
    "                df.drop(columns=['ride_id', 'rideable_type', 'start_lat', 'start_lng', 'end_lat', 'end_lng', 'member_casual'], inplace=True)\n",
    "                df.rename(columns={\"started_at\": \"Start date\", \n",
    "                                   \"ended_at\": \"End date\",\n",
    "                                   \"start_station_name\":\"Start station\",\n",
    "                                   \"start_station_id\": \"Start station number\",\n",
    "                                   \"end_station_name\":\"End station\",\n",
    "                                   \"end_station_id\": \"End station number\"},\n",
    "                          inplace=True)\n",
    "            except:\n",
    "                df.drop(columns=['Duration', 'Bike number', 'Member type'], inplace=True)\n",
    "            finally:\n",
    "                df = df.dropna(subset=['Start station', 'End station'], how='all')\n",
    "                df['Start date'] = pd.to_datetime(df['Start date'])\n",
    "                dfYear = dfYear.append(df, ignore_index=True)\n",
    "                dfYear = dfYear.fillna({\"Start station number\": 0, \"End station number\": 0})\n",
    "                dfYear = dfYear[dfYear['Start station number'] != 'MTL-ECO5-03']\n",
    "        return dfYear.astype({\"Start station number\": int, \"End station number\": int})"
   ]
  },
  {
   "cell_type": "code",
   "execution_count": 16,
   "outputs": [],
   "source": [
    "def splitDfInDays(df, initDate, endDate):\n",
    "    \"\"\"\n",
    "    Split a Dataframe into daily CSV data\n",
    "    Arguments:\n",
    "        df: dataframe to split\n",
    "        initDate: first day of the split\n",
    "        endDate: last day of the split\n",
    "    Returns:\n",
    "        Generates daily CSV data into tripData/transformed/\n",
    "    \"\"\"\n",
    "    for day in np.arange(initDate, endDate, timedelta(days=1)).astype(datetime):\n",
    "        nextDay = day + timedelta(days=1)\n",
    "        dfSplitedDay = df[(df['Start date'] >= day) & (df['Start date'] < nextDay)]\n",
    "        if len(dfSplitedDay.index) > 0:\n",
    "            try:\n",
    "                dfSplitedDay.to_csv(os.path.join('../data/tripdata/transformed/' + str(initDate.year) +  '/' + str(day.date()) + '.csv'), index=False)\n",
    "            except:\n",
    "                if not os.path.exists('../data/tripdata/transformed/'):\n",
    "                    os.mkdir('../data/tripdata/transformed/')\n",
    "                if not os.path.exists('../data/tripdata/transformed/' + str(initDate.year)):\n",
    "                    os.mkdir('../data/tripdata/transformed/' + str(initDate.year))\n",
    "            dfSplitedDay.to_csv(os.path.join('../data/tripdata/transformed/' + str(initDate.year) +  '/' + str(day.date()) + '.csv'), index=False)"
   ],
   "metadata": {
    "collapsed": false,
    "pycharm": {
     "name": "#%%\n"
    }
   }
  },
  {
   "cell_type": "code",
   "execution_count": 17,
   "id": "0adaa211-deef-467d-9544-bc86e263818f",
   "metadata": {
    "pycharm": {
     "name": "#%%\n"
    }
   },
   "outputs": [],
   "source": [
    "def dataReformatter(startYear, endYear):\n",
    "    \"\"\"\n",
    "    Give the correct format to the data retrieved from Capital Bikeshare\n",
    "    Arguments:\n",
    "        startYear: first year of the reformatting\n",
    "        endYear: last year of the reformatting\n",
    "    Returns:\n",
    "        Generates reformatted daily CSV data into tripData/transformed/\n",
    "    \"\"\"\n",
    "    for year in range(startYear, endYear+1):\n",
    "        df = getYearDf(year)\n",
    "        initDate, endDate = datetime(year,1,1), datetime(year+1,1,1)\n",
    "        splitDfInDays(df, initDate, endDate)\n",
    "        print(\"Año {} formateado con exito!\".format(year))"
   ]
  },
  {
   "cell_type": "markdown",
   "source": [
    "Con las funciones anteriores creadas, podemos proceder a formatear todo el conjunto de datos descargados. Se generarán CSVs por cada día, conteniendo todos los mismos atributos."
   ],
   "metadata": {
    "collapsed": false,
    "pycharm": {
     "name": "#%% md\n"
    }
   }
  },
  {
   "cell_type": "code",
   "execution_count": 18,
   "id": "e65d3e7a-023f-4ae2-bbfa-7aa07421a384",
   "metadata": {
    "pycharm": {
     "name": "#%%\n"
    }
   },
   "outputs": [
    {
     "name": "stdout",
     "output_type": "stream",
     "text": [
      "Año 2010 formateado con exito!\n",
      "Año 2011 formateado con exito!\n",
      "Año 2012 formateado con exito!\n",
      "Año 2013 formateado con exito!\n",
      "Año 2014 formateado con exito!\n",
      "Año 2015 formateado con exito!\n",
      "Año 2016 formateado con exito!\n",
      "Año 2017 formateado con exito!\n",
      "Año 2018 formateado con exito!\n",
      "Año 2019 formateado con exito!\n",
      "Año 2020 formateado con exito!\n"
     ]
    },
    {
     "name": "stderr",
     "output_type": "stream",
     "text": [
      "C:\\Users\\User\\AppData\\Local\\Temp\\ipykernel_22976\\4003686355.py:11: DtypeWarning: Columns (5,7) have mixed types.Specify dtype option on import or set low_memory=False.\n",
      "  df = getYearDf(year)\n"
     ]
    },
    {
     "name": "stdout",
     "output_type": "stream",
     "text": [
      "Año 2021 formateado con exito!\n",
      "Año 2022 formateado con exito!\n"
     ]
    }
   ],
   "source": [
    "dataReformatter(2010, 2022)"
   ]
  },
  {
   "cell_type": "markdown",
   "id": "8be57b1b-93a8-44bf-a082-a858c2a3a1e3",
   "metadata": {
    "pycharm": {
     "name": "#%% md\n"
    }
   },
   "source": [
    "## RECOPILACION DEL DATASET DE TRAYECTOS FORMATEADO\n",
    "Para facilitar el manejo de los datos, se recopilará el conjunto de CSVs con los datos diarios en un único CSV."
   ]
  },
  {
   "cell_type": "code",
   "execution_count": 27,
   "id": "9c31e3a8-9043-4eb7-aede-3de622111d71",
   "metadata": {
    "pycharm": {
     "name": "#%%\n"
    }
   },
   "outputs": [],
   "source": [
    "def getCompleteDf(initDate, endDate):\n",
    "    \"\"\"\n",
    "    Collect daily trip data into unique CSV.\n",
    "    Arguments:\n",
    "        initDate: date to start collecting data\n",
    "        endDate: date to end collecting data\n",
    "    Returns:\n",
    "        Returns Dataframe containing the daily data collected.\n",
    "    \"\"\"\n",
    "    completeDf = pd.DataFrame()\n",
    "    for i,day in enumerate(np.arange(initDate, endDate, timedelta(days=1)).astype(datetime)):\n",
    "        if i!= 0 and i%365==0: print(\"Año {} agregado con exito!\". format(day.year-1))\n",
    "        try:\n",
    "            df = pd.read_csv(\"../data/tripdata/transformed/\" + str(day.year) +\"/\" + str(day.date()) +\".csv\")\n",
    "            df = df.sort_values([\"Start date\", \"End date\"])\n",
    "            completeDf = completeDf.append(df, ignore_index = True)\n",
    "        except:\n",
    "            print(\"No existe el dia {}\".format(day)) # Casos que no existen como 23-26/01/2016\n",
    "    return completeDf"
   ]
  },
  {
   "cell_type": "code",
   "execution_count": 28,
   "outputs": [
    {
     "name": "stdout",
     "output_type": "stream",
     "text": [
      "Año 2010 agregado con exito!\n",
      "Año 2011 agregado con exito!\n",
      "Año 2012 agregado con exito!\n",
      "Año 2013 agregado con exito!\n",
      "Año 2014 agregado con exito!\n",
      "No existe el dia 2016-01-23 00:00:00\n",
      "No existe el dia 2016-01-24 00:00:00\n",
      "No existe el dia 2016-01-25 00:00:00\n",
      "No existe el dia 2016-01-26 00:00:00\n",
      "Año 2015 agregado con exito!\n",
      "Año 2016 agregado con exito!\n",
      "Año 2017 agregado con exito!\n",
      "Año 2018 agregado con exito!\n",
      "Año 2019 agregado con exito!\n",
      "Año 2020 agregado con exito!\n"
     ]
    }
   ],
   "source": [
    "initDate = datetime(2010,9,20)\n",
    "endDate = datetime(2022,4,1)\n",
    "completeDf = getCompleteDf(initDate, endDate)"
   ],
   "metadata": {
    "collapsed": false,
    "pycharm": {
     "name": "#%%\n"
    }
   }
  },
  {
   "cell_type": "markdown",
   "source": [
    "Se visualiza el comienzo y el final del Dataframe completo, comprobando que las fechas coinciden con el rango seleccionado en la función anterior."
   ],
   "metadata": {
    "collapsed": false,
    "pycharm": {
     "name": "#%% md\n"
    }
   }
  },
  {
   "cell_type": "code",
   "execution_count": 35,
   "id": "8c38e6b4-9552-4404-8f8c-9b1d9ee6a158",
   "metadata": {
    "pycharm": {
     "name": "#%%\n"
    }
   },
   "outputs": [
    {
     "name": "stdout",
     "output_type": "stream",
     "text": [
      "El conjunto de datos sobre alquileres de bicias tiene 31358265 filas/trayectos y 6 columnas\n"
     ]
    },
    {
     "data": {
      "text/plain": "            Start date             End date  Start station number  \\\n0  2010-09-20 11:27:04  2010-09-20 11:43:56                 31208   \n1  2010-09-20 11:41:22  2010-09-20 11:42:23                 31209   \n2  2010-09-20 12:05:37  2010-09-20 12:50:27                 31600   \n3  2010-09-20 12:06:05  2010-09-20 12:29:32                 31600   \n4  2010-09-20 12:10:43  2010-09-20 12:34:17                 31100   \n\n                   Start station  End station number  \\\n0       M St & New Jersey Ave SE               31108   \n1                 1st & N St  SE               31209   \n2                  5th & K St NW               31100   \n3                  5th & K St NW               31602   \n4  19th St & Pennsylvania Ave NW               31201   \n\n                     End station  \n0                  4th & M St SW  \n1                 1st & N St  SE  \n2  19th St & Pennsylvania Ave NW  \n3        Park Rd & Holmead Pl NW  \n4                 15th & P St NW  ",
      "text/html": "<div>\n<style scoped>\n    .dataframe tbody tr th:only-of-type {\n        vertical-align: middle;\n    }\n\n    .dataframe tbody tr th {\n        vertical-align: top;\n    }\n\n    .dataframe thead th {\n        text-align: right;\n    }\n</style>\n<table border=\"1\" class=\"dataframe\">\n  <thead>\n    <tr style=\"text-align: right;\">\n      <th></th>\n      <th>Start date</th>\n      <th>End date</th>\n      <th>Start station number</th>\n      <th>Start station</th>\n      <th>End station number</th>\n      <th>End station</th>\n    </tr>\n  </thead>\n  <tbody>\n    <tr>\n      <th>0</th>\n      <td>2010-09-20 11:27:04</td>\n      <td>2010-09-20 11:43:56</td>\n      <td>31208</td>\n      <td>M St &amp; New Jersey Ave SE</td>\n      <td>31108</td>\n      <td>4th &amp; M St SW</td>\n    </tr>\n    <tr>\n      <th>1</th>\n      <td>2010-09-20 11:41:22</td>\n      <td>2010-09-20 11:42:23</td>\n      <td>31209</td>\n      <td>1st &amp; N St  SE</td>\n      <td>31209</td>\n      <td>1st &amp; N St  SE</td>\n    </tr>\n    <tr>\n      <th>2</th>\n      <td>2010-09-20 12:05:37</td>\n      <td>2010-09-20 12:50:27</td>\n      <td>31600</td>\n      <td>5th &amp; K St NW</td>\n      <td>31100</td>\n      <td>19th St &amp; Pennsylvania Ave NW</td>\n    </tr>\n    <tr>\n      <th>3</th>\n      <td>2010-09-20 12:06:05</td>\n      <td>2010-09-20 12:29:32</td>\n      <td>31600</td>\n      <td>5th &amp; K St NW</td>\n      <td>31602</td>\n      <td>Park Rd &amp; Holmead Pl NW</td>\n    </tr>\n    <tr>\n      <th>4</th>\n      <td>2010-09-20 12:10:43</td>\n      <td>2010-09-20 12:34:17</td>\n      <td>31100</td>\n      <td>19th St &amp; Pennsylvania Ave NW</td>\n      <td>31201</td>\n      <td>15th &amp; P St NW</td>\n    </tr>\n  </tbody>\n</table>\n</div>"
     },
     "execution_count": 35,
     "metadata": {},
     "output_type": "execute_result"
    }
   ],
   "source": [
    "print(\"El conjunto de datos sobre alquileres de bicias tiene {} filas/trayectos y {} columnas\".format(completeDf.shape[0], completeDf.shape[1]))\n",
    "completeDf.head(5)"
   ]
  },
  {
   "cell_type": "code",
   "execution_count": 36,
   "id": "8ca8e435-820e-43df-a267-f6984cddceb2",
   "metadata": {
    "pycharm": {
     "name": "#%%\n"
    }
   },
   "outputs": [
    {
     "data": {
      "text/plain": "                   Start date             End date  Start station number  \\\n31358260  2022-03-31 23:57:02  2022-04-01 00:29:14                 31202   \n31358261  2022-03-31 23:57:03  2022-04-01 00:00:12                 31105   \n31358262  2022-03-31 23:57:08  2022-04-01 00:09:45                 31202   \n31358263  2022-03-31 23:58:13  2022-04-01 00:26:31                 31230   \n31358264  2022-03-31 23:58:55  2022-04-01 00:01:40                 31328   \n\n                          Start station  End station number  \\\n31358260                 14th & R St NW               31654   \n31358261           14th & Harvard St NW               31401   \n31358262                 14th & R St NW               31527   \n31358263  Metro Center / 12th & G St NW               31260   \n31358264              21st St & G st NW               31275   \n\n                             End station  \n31358260       King Greenleaf Rec Center  \n31358261          14th St & Spring Rd NW  \n31358262         North Capitol & R St NE  \n31358263                 23rd & E St NW   \n31358264  New Hampshire Ave & 24th St NW  ",
      "text/html": "<div>\n<style scoped>\n    .dataframe tbody tr th:only-of-type {\n        vertical-align: middle;\n    }\n\n    .dataframe tbody tr th {\n        vertical-align: top;\n    }\n\n    .dataframe thead th {\n        text-align: right;\n    }\n</style>\n<table border=\"1\" class=\"dataframe\">\n  <thead>\n    <tr style=\"text-align: right;\">\n      <th></th>\n      <th>Start date</th>\n      <th>End date</th>\n      <th>Start station number</th>\n      <th>Start station</th>\n      <th>End station number</th>\n      <th>End station</th>\n    </tr>\n  </thead>\n  <tbody>\n    <tr>\n      <th>31358260</th>\n      <td>2022-03-31 23:57:02</td>\n      <td>2022-04-01 00:29:14</td>\n      <td>31202</td>\n      <td>14th &amp; R St NW</td>\n      <td>31654</td>\n      <td>King Greenleaf Rec Center</td>\n    </tr>\n    <tr>\n      <th>31358261</th>\n      <td>2022-03-31 23:57:03</td>\n      <td>2022-04-01 00:00:12</td>\n      <td>31105</td>\n      <td>14th &amp; Harvard St NW</td>\n      <td>31401</td>\n      <td>14th St &amp; Spring Rd NW</td>\n    </tr>\n    <tr>\n      <th>31358262</th>\n      <td>2022-03-31 23:57:08</td>\n      <td>2022-04-01 00:09:45</td>\n      <td>31202</td>\n      <td>14th &amp; R St NW</td>\n      <td>31527</td>\n      <td>North Capitol &amp; R St NE</td>\n    </tr>\n    <tr>\n      <th>31358263</th>\n      <td>2022-03-31 23:58:13</td>\n      <td>2022-04-01 00:26:31</td>\n      <td>31230</td>\n      <td>Metro Center / 12th &amp; G St NW</td>\n      <td>31260</td>\n      <td>23rd &amp; E St NW</td>\n    </tr>\n    <tr>\n      <th>31358264</th>\n      <td>2022-03-31 23:58:55</td>\n      <td>2022-04-01 00:01:40</td>\n      <td>31328</td>\n      <td>21st St &amp; G st NW</td>\n      <td>31275</td>\n      <td>New Hampshire Ave &amp; 24th St NW</td>\n    </tr>\n  </tbody>\n</table>\n</div>"
     },
     "execution_count": 36,
     "metadata": {},
     "output_type": "execute_result"
    }
   ],
   "source": [
    "completeDf.tail(5)"
   ]
  },
  {
   "cell_type": "markdown",
   "id": "6a26b8ef-d9a8-440d-b293-710966326831",
   "metadata": {
    "pycharm": {
     "name": "#%% md\n"
    }
   },
   "source": [
    "### GUARDADO DEL DATASET COMPLETO"
   ]
  },
  {
   "cell_type": "code",
   "execution_count": 31,
   "id": "922edcb5-f6fd-4041-aab5-13f6d7439bfd",
   "metadata": {
    "pycharm": {
     "name": "#%%\n"
    }
   },
   "outputs": [],
   "source": [
    "completeDf.to_csv('../data/completeData/completeDf.csv', index=False)"
   ]
  },
  {
   "cell_type": "markdown",
   "id": "2f269cd2-61f9-4230-96ca-4302b539619d",
   "metadata": {
    "pycharm": {
     "name": "#%% md\n"
    }
   },
   "source": [
    "### CARGA DEL DATASET COMPLETO"
   ]
  },
  {
   "cell_type": "code",
   "execution_count": 34,
   "id": "377bab84-062a-4213-8ecf-910487f3ba96",
   "metadata": {
    "pycharm": {
     "name": "#%%\n"
    }
   },
   "outputs": [],
   "source": [
    "df = pd.read_csv('../data/completeData/completeDf.csv')"
   ]
  },
  {
   "cell_type": "markdown",
   "id": "7614784f-7290-443d-af6b-7e64e781d66e",
   "metadata": {
    "pycharm": {
     "name": "#%% md\n"
    }
   },
   "source": [
    "## COMPROBACIÓN Y CREACIÓN DEL CONJUNTO DE ESTACIONES\n",
    "La siguiente imagen obtenida de la página de Capital Bikeshare, muestra en un mapa las diferentes estaciones y bicicletas sueltas que existen en el sistema, referentes a un instante de tiempo específico. Podemos observar que se abarca un gran área de Washington DC y alrededores."
   ]
  },
  {
   "cell_type": "markdown",
   "id": "07fe6311-ed19-4faf-97cc-7f013527eabb",
   "metadata": {
    "pycharm": {
     "name": "#%% md\n"
    }
   },
   "source": [
    "<img src=\"stations.png\">"
   ]
  },
  {
   "cell_type": "markdown",
   "source": [
    "### COMPROBACION DE LAS ESTACIONES EXISTENTES EN EL CONJUNTO DE DATOS\n",
    "Por un lado, se comprobará cuáles son las estaciones en las que se ha iniciado algún trayecto."
   ],
   "metadata": {
    "collapsed": false,
    "pycharm": {
     "name": "#%% md\n"
    }
   }
  },
  {
   "cell_type": "code",
   "execution_count": 211,
   "outputs": [
    {
     "name": "stdout",
     "output_type": "stream",
     "text": [
      "Existen 697 estaciones en las que se han iniciado trayectos\n"
     ]
    }
   ],
   "source": [
    "dfStationsStart = df[[\"Start station number\", \"Start station\"]]\n",
    "dfStationsStart = dfStationsStart.drop_duplicates(subset =[\"Start station number\"], keep = \"last\")\n",
    "dfStationsStart = dfStationsStart.sort_values([\"Start station number\", \"Start station\"])\n",
    "print(\"Existen {} estaciones en las que se han iniciado trayectos\".format(dfStationsStart.shape[0]))"
   ],
   "metadata": {
    "collapsed": false,
    "pycharm": {
     "name": "#%%\n"
    }
   }
  },
  {
   "cell_type": "markdown",
   "source": [
    "Por otro lado, se comprueba en cuáles se han finalizado algún trayecto."
   ],
   "metadata": {
    "collapsed": false,
    "pycharm": {
     "name": "#%% md\n"
    }
   }
  },
  {
   "cell_type": "code",
   "execution_count": 212,
   "outputs": [
    {
     "name": "stdout",
     "output_type": "stream",
     "text": [
      "Existen 698 estaciones en las que se han finalizado trayectos\n"
     ]
    }
   ],
   "source": [
    "dfStationsEnd = df[[\"End station number\", \"End station\"]]\n",
    "dfStationsEnd = dfStationsEnd.drop_duplicates(subset =[\"End station number\"], keep = \"last\")\n",
    "dfStationsEnd = dfStationsEnd.sort_values([\"End station number\", \"End station\"])\n",
    "print(\"Existen {} estaciones en las que se han finalizado trayectos\".format(dfStationsEnd.shape[0]))"
   ],
   "metadata": {
    "collapsed": false,
    "pycharm": {
     "name": "#%%\n"
    }
   }
  },
  {
   "cell_type": "markdown",
   "source": [
    "Se mezclan los dos conjuntos de estaciones y se crea uno único."
   ],
   "metadata": {
    "collapsed": false,
    "pycharm": {
     "name": "#%% md\n"
    }
   }
  },
  {
   "cell_type": "code",
   "execution_count": 213,
   "outputs": [
    {
     "name": "stdout",
     "output_type": "stream",
     "text": [
      "Existen 698 estaciones finales\n"
     ]
    }
   ],
   "source": [
    "dfStationsEnd.rename(columns={\"End station number\": \"Start station number\", \"End station\": \"Start station\"}, inplace=True)\n",
    "dfStationsStart = dfStationsStart.append(dfStationsEnd)\n",
    "dfStations = pd.DataFrame()\n",
    "dfStations = dfStationsStart.drop_duplicates(subset =[\"Start station number\", \"Start station\"], keep = \"last\")\n",
    "dfStations = dfStations.rename(columns={\"Start station number\": \"Station ID\", \"Start station\": \"Name\"})\n",
    "dfStations = dfStations.set_index('Station ID')\n",
    "print(\"Existen {} estaciones finales\".format(dfStations.shape[0]))"
   ],
   "metadata": {
    "collapsed": false,
    "pycharm": {
     "name": "#%%\n"
    }
   }
  },
  {
   "cell_type": "markdown",
   "source": [
    "### AÑADIR INFORMACIÓN DEL GBFS AL DATAFRAME DE ESTACIONES\n",
    "Existen APIs que ofrecen la información en tiempo real de diferentes características de un sistema de bicicletas compartidas. En este vamos a obtener la información que se ofrece de las diferentes estaciones del sistema y se agregara a la información de las estaciones."
   ],
   "metadata": {
    "collapsed": false,
    "pycharm": {
     "name": "#%% md\n"
    }
   }
  },
  {
   "cell_type": "code",
   "execution_count": 214,
   "outputs": [],
   "source": [
    "url = \"https://gbfs.capitalbikeshare.com/gbfs/en/station_information.json\"\n",
    "response = urllib.request.urlopen(url)\n",
    "stationsInfoJson = json.loads(response.read())\n",
    "stationsInfoJson = stationsInfoJson['data']['stations']\n",
    "dfStations[\"GBFS Name\"], dfStations[\"Capacity\"], dfStations[\"Lon\"], dfStations[\"Lat\"]  = np.nan, 0, 0, 0\n",
    "\n",
    "for i in range(0, len(stationsInfoJson)):\n",
    "    try:\n",
    "        dfStations.loc[int(stationsInfoJson[i]['short_name']), 'GBFS Name'] = stationsInfoJson[i]['name']\n",
    "        dfStations.loc[int(stationsInfoJson[i]['short_name']), 'Capacity'] = stationsInfoJson[i]['capacity']\n",
    "        dfStations.loc[int(stationsInfoJson[i]['short_name']), 'Lon'] = stationsInfoJson[i]['lon']\n",
    "        dfStations.loc[int(stationsInfoJson[i]['short_name']), 'Lat'] = stationsInfoJson[i]['lat']\n",
    "    except:\n",
    "        print(\"No existe la estacion Nº {}\".format(stationsInfoJson[i]['short_name']))"
   ],
   "metadata": {
    "collapsed": false,
    "pycharm": {
     "name": "#%%\n"
    }
   }
  },
  {
   "cell_type": "code",
   "execution_count": 215,
   "outputs": [
    {
     "data": {
      "text/plain": "                              Name               GBFS Name  Capacity  \\\nStation ID                                                             \n0                              NaN                     NaN         0   \n31000          Eads St & 15th St S     Eads St & 15th St S        15   \n31001          18th St & S Eads St                     NaN         0   \n31002       Crystal Dr & 20th St S  Crystal Dr & 20th St S        17   \n31003       Crystal Dr & 15th St S  Crystal Dr & 15th St S        16   \n\n                  Lon        Lat  \nStation ID                        \n0            0.000000   0.000000  \n31000      -77.053230  38.858971  \n31001        0.000000   0.000000  \n31002      -77.049232  38.856425  \n31003      -77.049417  38.861056  ",
      "text/html": "<div>\n<style scoped>\n    .dataframe tbody tr th:only-of-type {\n        vertical-align: middle;\n    }\n\n    .dataframe tbody tr th {\n        vertical-align: top;\n    }\n\n    .dataframe thead th {\n        text-align: right;\n    }\n</style>\n<table border=\"1\" class=\"dataframe\">\n  <thead>\n    <tr style=\"text-align: right;\">\n      <th></th>\n      <th>Name</th>\n      <th>GBFS Name</th>\n      <th>Capacity</th>\n      <th>Lon</th>\n      <th>Lat</th>\n    </tr>\n    <tr>\n      <th>Station ID</th>\n      <th></th>\n      <th></th>\n      <th></th>\n      <th></th>\n      <th></th>\n    </tr>\n  </thead>\n  <tbody>\n    <tr>\n      <th>0</th>\n      <td>NaN</td>\n      <td>NaN</td>\n      <td>0</td>\n      <td>0.000000</td>\n      <td>0.000000</td>\n    </tr>\n    <tr>\n      <th>31000</th>\n      <td>Eads St &amp; 15th St S</td>\n      <td>Eads St &amp; 15th St S</td>\n      <td>15</td>\n      <td>-77.053230</td>\n      <td>38.858971</td>\n    </tr>\n    <tr>\n      <th>31001</th>\n      <td>18th St &amp; S Eads St</td>\n      <td>NaN</td>\n      <td>0</td>\n      <td>0.000000</td>\n      <td>0.000000</td>\n    </tr>\n    <tr>\n      <th>31002</th>\n      <td>Crystal Dr &amp; 20th St S</td>\n      <td>Crystal Dr &amp; 20th St S</td>\n      <td>17</td>\n      <td>-77.049232</td>\n      <td>38.856425</td>\n    </tr>\n    <tr>\n      <th>31003</th>\n      <td>Crystal Dr &amp; 15th St S</td>\n      <td>Crystal Dr &amp; 15th St S</td>\n      <td>16</td>\n      <td>-77.049417</td>\n      <td>38.861056</td>\n    </tr>\n  </tbody>\n</table>\n</div>"
     },
     "execution_count": 215,
     "metadata": {},
     "output_type": "execute_result"
    }
   ],
   "source": [
    "dfStations.head(5)"
   ],
   "metadata": {
    "collapsed": false,
    "pycharm": {
     "name": "#%%\n"
    }
   }
  },
  {
   "cell_type": "code",
   "execution_count": 216,
   "outputs": [
    {
     "data": {
      "text/plain": "                                       Name                        GBFS Name  \\\nStation ID                                                                     \n32609       W Columbia St & N Washington St  W Columbia St & N Washington St   \n32900               Motivate BX Tech office                              NaN   \n32901                        6035 Warehouse                              NaN   \n32902                  Motivate Tech Office                              NaN   \n32906             V1 Warehouse Test Station                              NaN   \n\n            Capacity        Lon        Lat  \nStation ID                                  \n32609             12 -77.166917  38.885621  \n32900              0   0.000000   0.000000  \n32901              0   0.000000   0.000000  \n32902              0   0.000000   0.000000  \n32906              0   0.000000   0.000000  ",
      "text/html": "<div>\n<style scoped>\n    .dataframe tbody tr th:only-of-type {\n        vertical-align: middle;\n    }\n\n    .dataframe tbody tr th {\n        vertical-align: top;\n    }\n\n    .dataframe thead th {\n        text-align: right;\n    }\n</style>\n<table border=\"1\" class=\"dataframe\">\n  <thead>\n    <tr style=\"text-align: right;\">\n      <th></th>\n      <th>Name</th>\n      <th>GBFS Name</th>\n      <th>Capacity</th>\n      <th>Lon</th>\n      <th>Lat</th>\n    </tr>\n    <tr>\n      <th>Station ID</th>\n      <th></th>\n      <th></th>\n      <th></th>\n      <th></th>\n      <th></th>\n    </tr>\n  </thead>\n  <tbody>\n    <tr>\n      <th>32609</th>\n      <td>W Columbia St &amp; N Washington St</td>\n      <td>W Columbia St &amp; N Washington St</td>\n      <td>12</td>\n      <td>-77.166917</td>\n      <td>38.885621</td>\n    </tr>\n    <tr>\n      <th>32900</th>\n      <td>Motivate BX Tech office</td>\n      <td>NaN</td>\n      <td>0</td>\n      <td>0.000000</td>\n      <td>0.000000</td>\n    </tr>\n    <tr>\n      <th>32901</th>\n      <td>6035 Warehouse</td>\n      <td>NaN</td>\n      <td>0</td>\n      <td>0.000000</td>\n      <td>0.000000</td>\n    </tr>\n    <tr>\n      <th>32902</th>\n      <td>Motivate Tech Office</td>\n      <td>NaN</td>\n      <td>0</td>\n      <td>0.000000</td>\n      <td>0.000000</td>\n    </tr>\n    <tr>\n      <th>32906</th>\n      <td>V1 Warehouse Test Station</td>\n      <td>NaN</td>\n      <td>0</td>\n      <td>0.000000</td>\n      <td>0.000000</td>\n    </tr>\n  </tbody>\n</table>\n</div>"
     },
     "execution_count": 216,
     "metadata": {},
     "output_type": "execute_result"
    }
   ],
   "source": [
    "dfStations.tail(5)"
   ],
   "metadata": {
    "collapsed": false,
    "pycharm": {
     "name": "#%%\n"
    }
   }
  },
  {
   "cell_type": "markdown",
   "source": [
    "Tras comprobar el conjunto entero de estaciones, se opta por borrar las cuatro últimas, que parecen ser estaciones de prueba usadas por los técnicos."
   ],
   "metadata": {
    "collapsed": false,
    "pycharm": {
     "name": "#%% md\n"
    }
   }
  },
  {
   "cell_type": "code",
   "execution_count": 217,
   "outputs": [],
   "source": [
    "invalidStationsId = [32900, 32901, 32902, 32906]\n",
    "for id in invalidStationsId: dfStations = dfStations.drop(id)"
   ],
   "metadata": {
    "collapsed": false,
    "pycharm": {
     "name": "#%%\n"
    }
   }
  },
  {
   "cell_type": "markdown",
   "source": [
    "Se desconoce la razón por la que algunas estaciones existen en el histórico de datos de alquileres, pero no en el GBFS."
   ],
   "metadata": {
    "collapsed": false,
    "pycharm": {
     "name": "#%% md\n"
    }
   }
  },
  {
   "cell_type": "markdown",
   "source": [
    "### GUARDADO DEL DATASET DE ESTACIONES"
   ],
   "metadata": {
    "collapsed": false,
    "pycharm": {
     "name": "#%% md\n"
    }
   }
  },
  {
   "cell_type": "code",
   "execution_count": 218,
   "outputs": [],
   "source": [
    "dfStations.to_csv(\"../data/completeData/stations.csv\")"
   ],
   "metadata": {
    "collapsed": false,
    "pycharm": {
     "name": "#%%\n"
    }
   }
  },
  {
   "cell_type": "markdown",
   "id": "39b566bc-4cee-49f2-9286-89094aa3b19a",
   "metadata": {
    "pycharm": {
     "name": "#%% md\n"
    }
   },
   "source": [
    "## CAMBIO DE FORMATO A ALQUILERES Y DEVOLUCIONES POR ESTACION\n",
    "El objetivo del proyecto es predecir la oferta y la demanda que va a existir en cada una de las estaciones, por lo que es necesario transformar los datos de trayectos en dos conjuntos de alquileres y devoluciones por estación y hora."
   ]
  },
  {
   "cell_type": "code",
   "execution_count": 226,
   "id": "37c50ac8-7411-4de7-9cf3-18e73d7689a2",
   "metadata": {
    "pycharm": {
     "name": "#%%\n"
    }
   },
   "outputs": [],
   "source": [
    "def convertDailyDataToRentalsAndReturns(initDate, endDate, timeStep):\n",
    "    \"\"\"\n",
    "    Generate daily CSV data containing rentals and returns.\n",
    "    Arguments:\n",
    "        initDate: date to start generating data\n",
    "        endDate: date to end generating data\n",
    "    Returns:\n",
    "        Creates a collection of CSVs located in tripdata/transformed/ containing rentals and returns data for each station.\n",
    "    \"\"\"\n",
    "    stations = pd.read_csv('../data/completeData/stations.csv')\n",
    "    columnsNames = np.append(\"Date\", stations['Station ID'].unique())\n",
    "    dfMisplacedReturns = pd.DataFrame()  # Aqui se almacenaran temporalmente las devoluciones que estan fuera del intervalo de tiempo\n",
    "\n",
    "    for i,day in enumerate(np.arange(initDate, endDate, timedelta(days=1)).astype(datetime)):\n",
    "        if i!= 0 and i%365==0: print(\"Año {} transformado con exito!\". format(day.year-1))\n",
    "        nextDay = day + timedelta(days=1)\n",
    "        dfRentals = dfReturns = pd.DataFrame(columns= columnsNames)\n",
    "        try:\n",
    "            df = pd.read_csv(\"../data/tripdata/transformed/\" + str(day.year) +\"/\" + str(day.date()) +\".csv\")\n",
    "            df['Start date'] = pd.to_datetime(df['Start date'])\n",
    "            df['End date'] = pd.to_datetime(df['End date'])\n",
    "        except:\n",
    "            # Casos que no existen como 23-26/01/2016 se rellenan con 0s\n",
    "            print(\"No existe el dia {}\".format(day))\n",
    "            emptyDayDf = pd.DataFrame(columns = columnsNames)\n",
    "            for j,step in enumerate(np.arange(day.date(), nextDay, timeStep).astype(datetime)):\n",
    "                dfzeros = pd.DataFrame([[0]*len(columnsNames)],columns=columnsNames)\n",
    "                emptyDayDf = emptyDayDf.append(dfzeros, ignore_index=True)\n",
    "                emptyDayDf[\"Date\"][j] = str(step)\n",
    "            emptyDayDf.to_csv('../data/tripdata/transformed/' + str(day.date().year) + '/RENTALS-' + str(day.date()) + '.csv', index=False)\n",
    "            emptyDayDf.to_csv('../data/tripdata/transformed/' + str(day.date().year) + '/RETURNS-' + str(day.date()) + '.csv', index=False)\n",
    "            continue\n",
    "\n",
    "        if len(dfMisplacedReturns)> 0:\n",
    "            df = df.append(dfMisplacedReturns)\n",
    "            dfMisplacedReturns = pd.DataFrame()\n",
    "        dfMisplacedReturns = df[df['End date'] > nextDay]\n",
    "\n",
    "        for j,step in enumerate(np.arange(day.date(), nextDay, timeStep).astype(datetime)):\n",
    "\n",
    "            nextStep = step + timeStep\n",
    "            dfSplitedStepStart = df[(df['Start date'] >= step) & (df['Start date'] < nextStep)]\n",
    "            dfSplitedStepEnd = df[(df['End date'] >= step) & (df['End date'] < nextStep)]\n",
    "\n",
    "            dfzeros = pd.DataFrame([[0]*len(columnsNames)],columns=columnsNames)\n",
    "            dfRentals = dfRentals.append(dfzeros, ignore_index=True)\n",
    "            dfReturns = dfReturns.append(dfzeros, ignore_index=True)\n",
    "\n",
    "            dfRentals[\"Date\"][j], dfReturns[\"Date\"][j] = str(step), str(step)\n",
    "\n",
    "            rentals = dfSplitedStepStart['Start station number'].value_counts()\n",
    "            returns = dfSplitedStepEnd['End station number'].value_counts()\n",
    "\n",
    "            if len(rentals.index) > 0:\n",
    "                for index, value in rentals.items():\n",
    "                    try:\n",
    "                        dfRentals[str(index)][j] += value\n",
    "                    except:\n",
    "                        print(\"No existe el indice {} en dfRentals\".format(index))\n",
    "\n",
    "            if len(returns.index) > 0:\n",
    "                for index, value in returns.items():\n",
    "                    try:\n",
    "                        dfReturns[str(index)][j] += value\n",
    "                    except:\n",
    "                        print(\"No existe el indice {} en dfReturns\".format(index))\n",
    "\n",
    "        dfRentals.to_csv('../data/tripdata/transformed/' + str(day.date().year) + '/RENTALS-' + str(day.date()) + '.csv', index=False)\n",
    "        dfReturns.to_csv('../data/tripdata/transformed/' + str(day.date().year) + '/RETURNS-' + str(day.date()) + '.csv', index=False)"
   ]
  },
  {
   "cell_type": "code",
   "execution_count": 227,
   "outputs": [
    {
     "name": "stdout",
     "output_type": "stream",
     "text": [
      "Año 2010 transformado con exito!\n",
      "Año 2011 transformado con exito!\n",
      "Año 2012 transformado con exito!\n",
      "Año 2013 transformado con exito!\n",
      "Año 2014 transformado con exito!\n",
      "No existe el dia 2016-01-23 00:00:00\n",
      "No existe el dia 2016-01-24 00:00:00\n",
      "No existe el dia 2016-01-25 00:00:00\n",
      "No existe el dia 2016-01-26 00:00:00\n",
      "Año 2015 transformado con exito!\n",
      "Año 2016 transformado con exito!\n",
      "Año 2017 transformado con exito!\n",
      "Año 2018 transformado con exito!\n",
      "No existe el indice 32901 en dfReturns\n",
      "No existe el indice 32901 en dfReturns\n",
      "No existe el indice 32901 en dfReturns\n",
      "No existe el indice 32901 en dfReturns\n",
      "No existe el indice 32901 en dfReturns\n",
      "No existe el indice 32900 en dfRentals\n",
      "No existe el indice 32900 en dfReturns\n",
      "No existe el indice 32900 en dfRentals\n",
      "No existe el indice 32900 en dfReturns\n",
      "No existe el indice 32900 en dfRentals\n",
      "No existe el indice 32900 en dfReturns\n",
      "No existe el indice 32900 en dfRentals\n",
      "No existe el indice 32900 en dfReturns\n",
      "No existe el indice 32900 en dfRentals\n",
      "No existe el indice 32900 en dfReturns\n",
      "No existe el indice 32901 en dfReturns\n",
      "No existe el indice 32901 en dfReturns\n",
      "No existe el indice 32901 en dfReturns\n",
      "No existe el indice 32901 en dfReturns\n",
      "No existe el indice 32901 en dfReturns\n",
      "No existe el indice 32900 en dfRentals\n",
      "No existe el indice 32900 en dfReturns\n",
      "No existe el indice 32900 en dfRentals\n",
      "No existe el indice 32900 en dfReturns\n",
      "No existe el indice 32901 en dfReturns\n",
      "No existe el indice 32901 en dfReturns\n",
      "No existe el indice 32901 en dfReturns\n",
      "No existe el indice 32901 en dfReturns\n",
      "No existe el indice 32901 en dfReturns\n",
      "No existe el indice 32901 en dfReturns\n",
      "No existe el indice 32901 en dfReturns\n",
      "No existe el indice 32901 en dfReturns\n",
      "No existe el indice 32901 en dfReturns\n",
      "No existe el indice 32901 en dfReturns\n",
      "No existe el indice 32900 en dfRentals\n",
      "No existe el indice 32900 en dfReturns\n",
      "No existe el indice 32900 en dfRentals\n",
      "No existe el indice 32900 en dfReturns\n",
      "No existe el indice 32901 en dfReturns\n",
      "No existe el indice 32901 en dfReturns\n",
      "No existe el indice 32901 en dfReturns\n",
      "No existe el indice 32901 en dfReturns\n",
      "No existe el indice 32901 en dfReturns\n",
      "No existe el indice 32900 en dfRentals\n",
      "No existe el indice 32900 en dfReturns\n",
      "No existe el indice 32901 en dfReturns\n",
      "No existe el indice 32901 en dfReturns\n",
      "No existe el indice 32901 en dfReturns\n",
      "No existe el indice 32901 en dfReturns\n",
      "No existe el indice 32901 en dfReturns\n",
      "No existe el indice 32901 en dfReturns\n",
      "No existe el indice 32901 en dfReturns\n",
      "No existe el indice 32901 en dfReturns\n",
      "No existe el indice 32900 en dfRentals\n",
      "No existe el indice 32900 en dfReturns\n",
      "No existe el indice 32900 en dfRentals\n",
      "No existe el indice 32900 en dfReturns\n",
      "No existe el indice 32900 en dfRentals\n",
      "No existe el indice 32900 en dfReturns\n",
      "No existe el indice 32901 en dfReturns\n",
      "No existe el indice 32901 en dfReturns\n",
      "No existe el indice 32901 en dfReturns\n",
      "No existe el indice 32901 en dfReturns\n",
      "No existe el indice 32901 en dfReturns\n",
      "No existe el indice 32901 en dfReturns\n",
      "No existe el indice 32901 en dfReturns\n",
      "No existe el indice 32901 en dfReturns\n",
      "No existe el indice 32901 en dfReturns\n",
      "No existe el indice 32901 en dfReturns\n",
      "No existe el indice 32901 en dfReturns\n",
      "No existe el indice 32901 en dfReturns\n",
      "No existe el indice 32901 en dfReturns\n",
      "No existe el indice 32901 en dfReturns\n",
      "No existe el indice 32901 en dfReturns\n",
      "No existe el indice 32901 en dfReturns\n",
      "No existe el indice 32901 en dfReturns\n",
      "No existe el indice 32901 en dfReturns\n",
      "No existe el indice 32901 en dfReturns\n",
      "No existe el indice 32901 en dfReturns\n",
      "No existe el indice 32901 en dfReturns\n",
      "No existe el indice 32901 en dfReturns\n",
      "No existe el indice 32901 en dfReturns\n",
      "No existe el indice 32901 en dfReturns\n",
      "No existe el indice 32901 en dfReturns\n",
      "No existe el indice 32901 en dfReturns\n",
      "No existe el indice 32900 en dfRentals\n",
      "No existe el indice 32900 en dfReturns\n",
      "No existe el indice 32900 en dfRentals\n",
      "No existe el indice 32900 en dfReturns\n",
      "No existe el indice 32900 en dfRentals\n",
      "No existe el indice 32900 en dfReturns\n",
      "No existe el indice 32900 en dfRentals\n",
      "No existe el indice 32900 en dfReturns\n",
      "No existe el indice 32901 en dfReturns\n",
      "No existe el indice 32901 en dfReturns\n",
      "No existe el indice 32901 en dfReturns\n",
      "No existe el indice 32901 en dfReturns\n",
      "No existe el indice 32901 en dfReturns\n",
      "No existe el indice 32901 en dfReturns\n",
      "No existe el indice 32901 en dfReturns\n",
      "No existe el indice 32901 en dfReturns\n",
      "No existe el indice 32901 en dfReturns\n",
      "No existe el indice 32901 en dfReturns\n",
      "No existe el indice 32901 en dfReturns\n",
      "No existe el indice 32901 en dfReturns\n",
      "No existe el indice 32901 en dfReturns\n",
      "No existe el indice 32901 en dfReturns\n",
      "No existe el indice 32901 en dfReturns\n",
      "No existe el indice 32901 en dfReturns\n",
      "No existe el indice 32901 en dfReturns\n",
      "No existe el indice 32901 en dfReturns\n",
      "No existe el indice 32901 en dfReturns\n",
      "No existe el indice 32900 en dfRentals\n",
      "No existe el indice 32900 en dfReturns\n",
      "No existe el indice 32900 en dfRentals\n",
      "No existe el indice 32900 en dfReturns\n",
      "No existe el indice 32901 en dfReturns\n",
      "No existe el indice 32901 en dfReturns\n",
      "No existe el indice 32901 en dfReturns\n",
      "No existe el indice 32901 en dfReturns\n",
      "No existe el indice 32901 en dfReturns\n",
      "No existe el indice 32901 en dfReturns\n",
      "No existe el indice 32901 en dfReturns\n",
      "No existe el indice 32901 en dfReturns\n",
      "No existe el indice 32901 en dfReturns\n",
      "No existe el indice 32901 en dfReturns\n",
      "No existe el indice 32901 en dfReturns\n",
      "No existe el indice 32901 en dfReturns\n",
      "No existe el indice 32901 en dfReturns\n",
      "No existe el indice 32901 en dfReturns\n",
      "No existe el indice 32901 en dfReturns\n",
      "No existe el indice 32901 en dfReturns\n",
      "No existe el indice 32901 en dfReturns\n",
      "No existe el indice 32901 en dfReturns\n",
      "No existe el indice 32901 en dfReturns\n",
      "No existe el indice 32901 en dfReturns\n",
      "No existe el indice 32901 en dfReturns\n",
      "No existe el indice 32901 en dfReturns\n",
      "No existe el indice 32901 en dfReturns\n",
      "No existe el indice 32901 en dfReturns\n",
      "No existe el indice 32901 en dfReturns\n",
      "No existe el indice 32901 en dfReturns\n",
      "No existe el indice 32901 en dfReturns\n",
      "No existe el indice 32901 en dfReturns\n",
      "No existe el indice 32901 en dfReturns\n",
      "No existe el indice 32901 en dfReturns\n",
      "No existe el indice 32900 en dfRentals\n",
      "No existe el indice 32900 en dfReturns\n",
      "No existe el indice 32900 en dfRentals\n",
      "No existe el indice 32900 en dfReturns\n",
      "No existe el indice 32901 en dfReturns\n",
      "No existe el indice 32901 en dfReturns\n",
      "No existe el indice 32901 en dfReturns\n",
      "No existe el indice 32901 en dfReturns\n",
      "No existe el indice 32901 en dfReturns\n",
      "No existe el indice 32901 en dfReturns\n",
      "No existe el indice 32901 en dfReturns\n",
      "No existe el indice 32901 en dfReturns\n",
      "No existe el indice 32901 en dfReturns\n",
      "No existe el indice 32901 en dfReturns\n",
      "No existe el indice 32901 en dfReturns\n",
      "No existe el indice 32901 en dfReturns\n",
      "No existe el indice 32901 en dfReturns\n",
      "No existe el indice 32901 en dfReturns\n",
      "No existe el indice 32901 en dfReturns\n",
      "No existe el indice 32901 en dfReturns\n",
      "No existe el indice 32901 en dfReturns\n",
      "No existe el indice 32901 en dfReturns\n",
      "No existe el indice 32901 en dfReturns\n",
      "No existe el indice 32901 en dfReturns\n",
      "No existe el indice 32901 en dfReturns\n",
      "No existe el indice 32901 en dfReturns\n",
      "No existe el indice 32901 en dfReturns\n",
      "No existe el indice 32901 en dfReturns\n",
      "No existe el indice 32901 en dfReturns\n",
      "No existe el indice 32901 en dfReturns\n",
      "No existe el indice 32901 en dfReturns\n",
      "No existe el indice 32901 en dfReturns\n",
      "No existe el indice 32901 en dfReturns\n",
      "No existe el indice 32901 en dfReturns\n",
      "No existe el indice 32901 en dfReturns\n",
      "No existe el indice 32901 en dfReturns\n",
      "No existe el indice 32900 en dfRentals\n",
      "No existe el indice 32900 en dfReturns\n",
      "No existe el indice 32901 en dfReturns\n",
      "No existe el indice 32901 en dfReturns\n",
      "No existe el indice 32901 en dfReturns\n",
      "No existe el indice 32901 en dfReturns\n",
      "No existe el indice 32901 en dfReturns\n",
      "No existe el indice 32900 en dfRentals\n",
      "No existe el indice 32900 en dfReturns\n",
      "No existe el indice 32900 en dfRentals\n",
      "No existe el indice 32900 en dfReturns\n",
      "No existe el indice 32901 en dfReturns\n",
      "No existe el indice 32901 en dfReturns\n",
      "No existe el indice 32901 en dfReturns\n",
      "No existe el indice 32901 en dfReturns\n",
      "No existe el indice 32901 en dfReturns\n",
      "No existe el indice 32901 en dfReturns\n",
      "No existe el indice 32900 en dfRentals\n",
      "No existe el indice 32900 en dfReturns\n",
      "No existe el indice 32900 en dfRentals\n",
      "No existe el indice 32900 en dfReturns\n",
      "No existe el indice 32900 en dfRentals\n",
      "No existe el indice 32900 en dfReturns\n",
      "No existe el indice 32901 en dfReturns\n",
      "No existe el indice 32901 en dfReturns\n",
      "No existe el indice 32901 en dfReturns\n",
      "No existe el indice 32901 en dfReturns\n",
      "No existe el indice 32901 en dfReturns\n",
      "No existe el indice 32901 en dfReturns\n",
      "No existe el indice 32901 en dfReturns\n",
      "No existe el indice 32901 en dfReturns\n",
      "No existe el indice 32901 en dfReturns\n",
      "No existe el indice 32901 en dfReturns\n",
      "No existe el indice 32900 en dfRentals\n",
      "No existe el indice 32900 en dfReturns\n",
      "No existe el indice 32901 en dfReturns\n",
      "No existe el indice 32900 en dfRentals\n",
      "No existe el indice 32900 en dfReturns\n",
      "No existe el indice 32901 en dfReturns\n",
      "No existe el indice 32901 en dfReturns\n",
      "No existe el indice 32901 en dfReturns\n",
      "No existe el indice 32901 en dfReturns\n",
      "No existe el indice 32901 en dfReturns\n",
      "No existe el indice 32901 en dfReturns\n",
      "No existe el indice 32901 en dfReturns\n",
      "No existe el indice 32901 en dfReturns\n",
      "No existe el indice 32901 en dfReturns\n",
      "No existe el indice 32901 en dfReturns\n",
      "No existe el indice 32901 en dfReturns\n",
      "No existe el indice 32901 en dfReturns\n",
      "No existe el indice 32901 en dfReturns\n",
      "No existe el indice 32901 en dfReturns\n",
      "No existe el indice 32901 en dfReturns\n",
      "No existe el indice 32901 en dfReturns\n",
      "No existe el indice 32901 en dfReturns\n",
      "No existe el indice 32901 en dfReturns\n",
      "No existe el indice 32901 en dfReturns\n",
      "No existe el indice 32901 en dfReturns\n",
      "No existe el indice 32901 en dfReturns\n",
      "No existe el indice 32901 en dfReturns\n",
      "No existe el indice 32901 en dfReturns\n",
      "No existe el indice 32901 en dfReturns\n",
      "No existe el indice 32901 en dfReturns\n",
      "No existe el indice 32901 en dfReturns\n",
      "No existe el indice 32900 en dfRentals\n",
      "No existe el indice 32900 en dfReturns\n",
      "No existe el indice 32900 en dfRentals\n",
      "No existe el indice 32900 en dfReturns\n",
      "No existe el indice 32901 en dfReturns\n",
      "No existe el indice 32901 en dfReturns\n",
      "No existe el indice 32900 en dfRentals\n",
      "No existe el indice 32900 en dfReturns\n",
      "No existe el indice 32900 en dfRentals\n",
      "No existe el indice 32901 en dfReturns\n",
      "No existe el indice 32901 en dfReturns\n",
      "No existe el indice 32901 en dfReturns\n",
      "No existe el indice 32901 en dfReturns\n",
      "No existe el indice 32901 en dfReturns\n",
      "No existe el indice 32901 en dfReturns\n",
      "No existe el indice 32901 en dfReturns\n",
      "No existe el indice 32901 en dfReturns\n",
      "No existe el indice 32901 en dfReturns\n",
      "No existe el indice 32901 en dfReturns\n",
      "No existe el indice 32901 en dfReturns\n",
      "No existe el indice 32901 en dfReturns\n",
      "No existe el indice 32901 en dfReturns\n",
      "No existe el indice 32901 en dfReturns\n",
      "No existe el indice 32900 en dfReturns\n",
      "No existe el indice 32901 en dfReturns\n",
      "No existe el indice 32900 en dfRentals\n",
      "No existe el indice 32900 en dfReturns\n",
      "No existe el indice 32901 en dfReturns\n",
      "No existe el indice 32900 en dfRentals\n",
      "No existe el indice 32900 en dfReturns\n",
      "No existe el indice 32900 en dfRentals\n",
      "No existe el indice 32900 en dfReturns\n",
      "No existe el indice 32901 en dfReturns\n",
      "No existe el indice 32901 en dfReturns\n",
      "No existe el indice 32901 en dfReturns\n",
      "No existe el indice 32901 en dfReturns\n",
      "No existe el indice 32901 en dfReturns\n",
      "No existe el indice 32901 en dfReturns\n",
      "No existe el indice 32900 en dfRentals\n",
      "No existe el indice 32900 en dfReturns\n",
      "No existe el indice 32900 en dfRentals\n",
      "No existe el indice 32901 en dfReturns\n",
      "No existe el indice 32900 en dfReturns\n",
      "No existe el indice 32900 en dfRentals\n",
      "No existe el indice 32900 en dfReturns\n",
      "No existe el indice 32900 en dfRentals\n",
      "No existe el indice 32900 en dfReturns\n",
      "No existe el indice 32901 en dfReturns\n",
      "No existe el indice 32901 en dfReturns\n",
      "No existe el indice 32901 en dfReturns\n",
      "No existe el indice 32901 en dfReturns\n",
      "No existe el indice 32901 en dfReturns\n",
      "No existe el indice 32901 en dfReturns\n",
      "No existe el indice 32900 en dfRentals\n",
      "No existe el indice 32900 en dfReturns\n",
      "No existe el indice 32901 en dfReturns\n",
      "No existe el indice 32901 en dfReturns\n",
      "No existe el indice 32901 en dfReturns\n",
      "No existe el indice 32901 en dfReturns\n",
      "No existe el indice 32901 en dfReturns\n",
      "No existe el indice 32901 en dfReturns\n",
      "No existe el indice 32901 en dfReturns\n",
      "No existe el indice 32901 en dfReturns\n",
      "No existe el indice 32901 en dfReturns\n",
      "No existe el indice 32901 en dfReturns\n",
      "No existe el indice 32901 en dfReturns\n",
      "No existe el indice 32901 en dfReturns\n",
      "No existe el indice 32901 en dfReturns\n",
      "No existe el indice 32901 en dfReturns\n",
      "No existe el indice 32901 en dfReturns\n",
      "No existe el indice 32901 en dfReturns\n",
      "No existe el indice 32901 en dfReturns\n",
      "No existe el indice 32901 en dfReturns\n",
      "No existe el indice 32901 en dfReturns\n",
      "No existe el indice 32900 en dfRentals\n",
      "No existe el indice 32900 en dfReturns\n",
      "No existe el indice 32900 en dfRentals\n",
      "No existe el indice 32900 en dfReturns\n",
      "No existe el indice 32900 en dfRentals\n",
      "No existe el indice 32900 en dfReturns\n",
      "No existe el indice 32900 en dfRentals\n",
      "No existe el indice 32900 en dfReturns\n",
      "No existe el indice 32901 en dfReturns\n",
      "No existe el indice 32901 en dfReturns\n",
      "No existe el indice 32901 en dfReturns\n",
      "No existe el indice 32900 en dfRentals\n",
      "No existe el indice 32900 en dfReturns\n",
      "No existe el indice 32901 en dfReturns\n",
      "No existe el indice 32900 en dfRentals\n",
      "No existe el indice 32901 en dfReturns\n",
      "No existe el indice 32900 en dfReturns\n",
      "No existe el indice 32900 en dfRentals\n",
      "No existe el indice 32900 en dfReturns\n",
      "No existe el indice 32900 en dfRentals\n",
      "No existe el indice 32900 en dfReturns\n",
      "No existe el indice 32900 en dfRentals\n",
      "No existe el indice 32900 en dfReturns\n",
      "No existe el indice 32901 en dfReturns\n",
      "No existe el indice 32900 en dfRentals\n",
      "No existe el indice 32900 en dfReturns\n",
      "No existe el indice 32901 en dfReturns\n",
      "No existe el indice 32901 en dfReturns\n",
      "No existe el indice 32900 en dfRentals\n",
      "No existe el indice 32900 en dfReturns\n",
      "No existe el indice 32901 en dfReturns\n",
      "No existe el indice 32901 en dfReturns\n",
      "No existe el indice 32900 en dfRentals\n",
      "No existe el indice 32900 en dfReturns\n",
      "No existe el indice 32901 en dfReturns\n",
      "No existe el indice 32901 en dfReturns\n",
      "No existe el indice 32900 en dfRentals\n",
      "No existe el indice 32900 en dfReturns\n",
      "No existe el indice 32900 en dfRentals\n",
      "No existe el indice 32900 en dfReturns\n",
      "No existe el indice 32900 en dfRentals\n",
      "No existe el indice 32900 en dfReturns\n",
      "No existe el indice 32900 en dfRentals\n",
      "No existe el indice 32900 en dfReturns\n",
      "No existe el indice 32900 en dfRentals\n",
      "No existe el indice 32902 en dfRentals\n",
      "No existe el indice 32900 en dfReturns\n",
      "No existe el indice 32900 en dfRentals\n",
      "No existe el indice 32900 en dfReturns\n",
      "No existe el indice 32901 en dfReturns\n",
      "No existe el indice 32901 en dfReturns\n",
      "No existe el indice 32901 en dfReturns\n",
      "No existe el indice 32901 en dfReturns\n",
      "No existe el indice 32901 en dfReturns\n",
      "No existe el indice 32901 en dfReturns\n",
      "No existe el indice 32901 en dfReturns\n",
      "No existe el indice 32900 en dfRentals\n",
      "No existe el indice 32900 en dfReturns\n",
      "No existe el indice 32900 en dfRentals\n",
      "No existe el indice 32900 en dfReturns\n",
      "No existe el indice 32901 en dfReturns\n",
      "No existe el indice 32900 en dfRentals\n",
      "No existe el indice 32900 en dfReturns\n",
      "No existe el indice 32900 en dfRentals\n",
      "No existe el indice 32900 en dfReturns\n",
      "No existe el indice 32900 en dfRentals\n",
      "No existe el indice 32900 en dfReturns\n",
      "No existe el indice 32901 en dfReturns\n",
      "No existe el indice 32901 en dfReturns\n",
      "No existe el indice 32900 en dfRentals\n",
      "No existe el indice 32900 en dfReturns\n",
      "No existe el indice 32901 en dfReturns\n",
      "No existe el indice 32901 en dfReturns\n",
      "No existe el indice 32901 en dfReturns\n",
      "No existe el indice 32901 en dfReturns\n",
      "No existe el indice 32901 en dfReturns\n",
      "No existe el indice 32901 en dfReturns\n",
      "No existe el indice 32901 en dfReturns\n",
      "No existe el indice 32901 en dfReturns\n",
      "No existe el indice 32901 en dfReturns\n",
      "No existe el indice 32901 en dfReturns\n",
      "No existe el indice 32901 en dfReturns\n",
      "No existe el indice 32901 en dfReturns\n",
      "No existe el indice 32901 en dfReturns\n",
      "No existe el indice 32901 en dfReturns\n",
      "No existe el indice 32901 en dfReturns\n",
      "No existe el indice 32901 en dfReturns\n",
      "No existe el indice 32901 en dfReturns\n",
      "No existe el indice 32902 en dfRentals\n",
      "No existe el indice 32902 en dfReturns\n",
      "No existe el indice 32901 en dfReturns\n",
      "No existe el indice 32901 en dfReturns\n",
      "No existe el indice 32901 en dfReturns\n",
      "No existe el indice 32902 en dfRentals\n",
      "No existe el indice 32902 en dfReturns\n",
      "No existe el indice 32902 en dfRentals\n",
      "No existe el indice 32902 en dfReturns\n",
      "No existe el indice 32901 en dfReturns\n",
      "No existe el indice 32901 en dfReturns\n",
      "No existe el indice 32901 en dfReturns\n",
      "No existe el indice 32900 en dfRentals\n",
      "No existe el indice 32900 en dfReturns\n",
      "No existe el indice 32900 en dfRentals\n",
      "No existe el indice 32900 en dfReturns\n",
      "No existe el indice 32901 en dfReturns\n",
      "No existe el indice 32901 en dfReturns\n",
      "No existe el indice 32901 en dfReturns\n",
      "No existe el indice 32901 en dfReturns\n",
      "No existe el indice 32900 en dfRentals\n",
      "No existe el indice 32900 en dfReturns\n",
      "No existe el indice 32901 en dfReturns\n",
      "No existe el indice 32901 en dfReturns\n",
      "No existe el indice 32901 en dfReturns\n",
      "No existe el indice 32900 en dfRentals\n",
      "No existe el indice 32900 en dfReturns\n",
      "No existe el indice 32901 en dfReturns\n",
      "No existe el indice 32901 en dfReturns\n",
      "No existe el indice 32900 en dfRentals\n",
      "No existe el indice 32900 en dfReturns\n",
      "No existe el indice 32900 en dfRentals\n",
      "No existe el indice 32900 en dfReturns\n",
      "No existe el indice 32901 en dfReturns\n",
      "No existe el indice 32900 en dfRentals\n",
      "No existe el indice 32900 en dfReturns\n",
      "No existe el indice 32900 en dfRentals\n",
      "No existe el indice 32900 en dfReturns\n",
      "No existe el indice 32900 en dfRentals\n",
      "No existe el indice 32900 en dfReturns\n",
      "No existe el indice 32901 en dfReturns\n",
      "No existe el indice 32901 en dfReturns\n",
      "No existe el indice 32901 en dfReturns\n",
      "No existe el indice 32901 en dfReturns\n",
      "No existe el indice 32901 en dfReturns\n",
      "No existe el indice 32901 en dfReturns\n",
      "No existe el indice 32901 en dfReturns\n",
      "No existe el indice 32901 en dfReturns\n",
      "No existe el indice 32901 en dfReturns\n",
      "No existe el indice 32901 en dfReturns\n",
      "No existe el indice 32901 en dfReturns\n",
      "No existe el indice 32901 en dfReturns\n",
      "No existe el indice 32901 en dfReturns\n",
      "No existe el indice 32901 en dfReturns\n",
      "No existe el indice 32901 en dfReturns\n",
      "No existe el indice 32901 en dfReturns\n",
      "No existe el indice 32901 en dfReturns\n",
      "No existe el indice 32901 en dfReturns\n",
      "No existe el indice 32901 en dfReturns\n",
      "No existe el indice 32901 en dfReturns\n",
      "No existe el indice 32901 en dfReturns\n",
      "No existe el indice 32901 en dfReturns\n",
      "No existe el indice 32901 en dfReturns\n",
      "No existe el indice 32901 en dfReturns\n",
      "No existe el indice 32901 en dfReturns\n",
      "No existe el indice 32901 en dfReturns\n",
      "No existe el indice 32901 en dfReturns\n",
      "No existe el indice 32901 en dfReturns\n",
      "No existe el indice 32901 en dfReturns\n",
      "No existe el indice 32901 en dfReturns\n",
      "No existe el indice 32901 en dfReturns\n",
      "No existe el indice 32901 en dfReturns\n",
      "No existe el indice 32901 en dfReturns\n",
      "No existe el indice 32901 en dfReturns\n",
      "No existe el indice 32900 en dfRentals\n",
      "No existe el indice 32900 en dfReturns\n",
      "No existe el indice 32900 en dfRentals\n",
      "No existe el indice 32900 en dfReturns\n",
      "No existe el indice 32900 en dfRentals\n",
      "No existe el indice 32900 en dfReturns\n",
      "No existe el indice 32901 en dfReturns\n",
      "No existe el indice 32901 en dfReturns\n",
      "No existe el indice 32900 en dfRentals\n",
      "No existe el indice 32900 en dfReturns\n",
      "No existe el indice 32902 en dfReturns\n",
      "No existe el indice 32901 en dfReturns\n",
      "Año 2019 transformado con exito!\n",
      "No existe el indice 32900 en dfRentals\n",
      "No existe el indice 32900 en dfReturns\n",
      "No existe el indice 32901 en dfReturns\n",
      "No existe el indice 32901 en dfReturns\n",
      "No existe el indice 32901 en dfReturns\n",
      "No existe el indice 32900 en dfRentals\n",
      "No existe el indice 32900 en dfReturns\n",
      "No existe el indice 32900 en dfRentals\n",
      "No existe el indice 32900 en dfReturns\n",
      "No existe el indice 32900 en dfRentals\n",
      "No existe el indice 32900 en dfReturns\n",
      "No existe el indice 32900 en dfRentals\n",
      "No existe el indice 32900 en dfReturns\n",
      "No existe el indice 32900 en dfRentals\n",
      "No existe el indice 32900 en dfReturns\n",
      "No existe el indice 32901 en dfReturns\n",
      "No existe el indice 32901 en dfReturns\n",
      "No existe el indice 32901 en dfRentals\n",
      "No existe el indice 32901 en dfReturns\n",
      "No existe el indice 32901 en dfReturns\n",
      "No existe el indice 32901 en dfReturns\n",
      "No existe el indice 32900 en dfRentals\n",
      "No existe el indice 32900 en dfReturns\n",
      "No existe el indice 32901 en dfReturns\n",
      "No existe el indice 32901 en dfReturns\n",
      "No existe el indice 32901 en dfRentals\n",
      "No existe el indice 32901 en dfReturns\n",
      "No existe el indice 32901 en dfReturns\n",
      "No existe el indice 32901 en dfReturns\n",
      "No existe el indice 32900 en dfRentals\n",
      "No existe el indice 32900 en dfReturns\n",
      "No existe el indice 32901 en dfRentals\n",
      "No existe el indice 32900 en dfRentals\n",
      "No existe el indice 32901 en dfReturns\n",
      "No existe el indice 32900 en dfReturns\n",
      "No existe el indice 32901 en dfReturns\n",
      "No existe el indice 32901 en dfRentals\n",
      "No existe el indice 32901 en dfReturns\n",
      "No existe el indice 32901 en dfReturns\n",
      "No existe el indice 32901 en dfRentals\n",
      "No existe el indice 32901 en dfReturns\n",
      "No existe el indice 32901 en dfReturns\n",
      "No existe el indice 32901 en dfReturns\n",
      "No existe el indice 32900 en dfRentals\n",
      "No existe el indice 32900 en dfReturns\n",
      "No existe el indice 32900 en dfRentals\n",
      "No existe el indice 32900 en dfReturns\n",
      "No existe el indice 32900 en dfRentals\n",
      "No existe el indice 32900 en dfReturns\n",
      "No existe el indice 32900 en dfRentals\n",
      "No existe el indice 32900 en dfReturns\n",
      "No existe el indice 32901 en dfReturns\n",
      "No existe el indice 32901 en dfReturns\n",
      "No existe el indice 32901 en dfReturns\n",
      "No existe el indice 32901 en dfReturns\n",
      "No existe el indice 32901 en dfReturns\n",
      "No existe el indice 32901 en dfReturns\n",
      "No existe el indice 32901 en dfReturns\n",
      "No existe el indice 32901 en dfReturns\n",
      "No existe el indice 32901 en dfReturns\n",
      "No existe el indice 32901 en dfReturns\n",
      "No existe el indice 32901 en dfReturns\n",
      "No existe el indice 32901 en dfReturns\n",
      "No existe el indice 32901 en dfReturns\n",
      "No existe el indice 32900 en dfRentals\n",
      "No existe el indice 32900 en dfReturns\n",
      "No existe el indice 32900 en dfRentals\n",
      "No existe el indice 32900 en dfReturns\n",
      "No existe el indice 32901 en dfReturns\n",
      "No existe el indice 32901 en dfReturns\n",
      "No existe el indice 32900 en dfReturns\n",
      "No existe el indice 32901 en dfReturns\n",
      "No existe el indice 32901 en dfReturns\n",
      "No existe el indice 32901 en dfReturns\n",
      "No existe el indice 32901 en dfReturns\n",
      "No existe el indice 32900 en dfRentals\n",
      "No existe el indice 32900 en dfReturns\n",
      "No existe el indice 32900 en dfRentals\n",
      "No existe el indice 32900 en dfReturns\n",
      "No existe el indice 32900 en dfRentals\n",
      "No existe el indice 32900 en dfReturns\n",
      "No existe el indice 32900 en dfRentals\n",
      "No existe el indice 32901 en dfReturns\n",
      "No existe el indice 32900 en dfReturns\n",
      "No existe el indice 32900 en dfRentals\n",
      "No existe el indice 32900 en dfReturns\n",
      "No existe el indice 32900 en dfRentals\n",
      "No existe el indice 32900 en dfReturns\n",
      "No existe el indice 32901 en dfRentals\n",
      "No existe el indice 32901 en dfReturns\n",
      "No existe el indice 32901 en dfReturns\n",
      "No existe el indice 32901 en dfReturns\n",
      "No existe el indice 32901 en dfReturns\n",
      "No existe el indice 32901 en dfReturns\n",
      "No existe el indice 32901 en dfReturns\n",
      "No existe el indice 32901 en dfReturns\n",
      "No existe el indice 32901 en dfReturns\n",
      "No existe el indice 32901 en dfReturns\n",
      "No existe el indice 32901 en dfRentals\n",
      "No existe el indice 32901 en dfReturns\n",
      "No existe el indice 32901 en dfReturns\n",
      "No existe el indice 32901 en dfReturns\n",
      "No existe el indice 32901 en dfReturns\n",
      "No existe el indice 32901 en dfReturns\n",
      "No existe el indice 32901 en dfReturns\n",
      "No existe el indice 32901 en dfReturns\n",
      "No existe el indice 32900 en dfRentals\n",
      "No existe el indice 32900 en dfReturns\n",
      "No existe el indice 32901 en dfReturns\n",
      "No existe el indice 32901 en dfRentals\n",
      "No existe el indice 32901 en dfReturns\n",
      "No existe el indice 32901 en dfReturns\n",
      "No existe el indice 32901 en dfReturns\n",
      "No existe el indice 32901 en dfReturns\n",
      "No existe el indice 32901 en dfReturns\n",
      "No existe el indice 32901 en dfReturns\n",
      "No existe el indice 32901 en dfReturns\n",
      "No existe el indice 32901 en dfReturns\n",
      "No existe el indice 32901 en dfReturns\n",
      "No existe el indice 32900 en dfRentals\n",
      "No existe el indice 32900 en dfReturns\n",
      "No existe el indice 32900 en dfRentals\n",
      "No existe el indice 32900 en dfReturns\n",
      "No existe el indice 32900 en dfRentals\n",
      "No existe el indice 32900 en dfReturns\n",
      "No existe el indice 32901 en dfRentals\n",
      "No existe el indice 32901 en dfReturns\n",
      "No existe el indice 32901 en dfReturns\n",
      "No existe el indice 32901 en dfReturns\n",
      "No existe el indice 32901 en dfReturns\n",
      "No existe el indice 32901 en dfReturns\n",
      "No existe el indice 32901 en dfReturns\n",
      "No existe el indice 32900 en dfRentals\n",
      "No existe el indice 32900 en dfReturns\n",
      "No existe el indice 32900 en dfRentals\n",
      "No existe el indice 32900 en dfReturns\n",
      "No existe el indice 32901 en dfReturns\n",
      "No existe el indice 32901 en dfRentals\n",
      "No existe el indice 32901 en dfReturns\n",
      "No existe el indice 32901 en dfReturns\n",
      "No existe el indice 32901 en dfReturns\n",
      "No existe el indice 32901 en dfReturns\n",
      "No existe el indice 32901 en dfReturns\n",
      "No existe el indice 32901 en dfReturns\n",
      "No existe el indice 32900 en dfRentals\n",
      "No existe el indice 32900 en dfReturns\n",
      "No existe el indice 32901 en dfReturns\n",
      "No existe el indice 32901 en dfReturns\n",
      "No existe el indice 32901 en dfReturns\n",
      "No existe el indice 32901 en dfReturns\n",
      "No existe el indice 32901 en dfReturns\n",
      "No existe el indice 32901 en dfReturns\n",
      "No existe el indice 32901 en dfReturns\n",
      "No existe el indice 32901 en dfReturns\n",
      "No existe el indice 32901 en dfReturns\n",
      "No existe el indice 32901 en dfReturns\n",
      "No existe el indice 32901 en dfReturns\n",
      "No existe el indice 32901 en dfReturns\n",
      "No existe el indice 32901 en dfReturns\n",
      "No existe el indice 32901 en dfReturns\n",
      "No existe el indice 32901 en dfReturns\n",
      "No existe el indice 32901 en dfReturns\n",
      "No existe el indice 32901 en dfReturns\n",
      "No existe el indice 32901 en dfReturns\n",
      "No existe el indice 32901 en dfReturns\n",
      "No existe el indice 32901 en dfReturns\n",
      "No existe el indice 32901 en dfReturns\n",
      "No existe el indice 32901 en dfReturns\n",
      "No existe el indice 32901 en dfReturns\n",
      "No existe el indice 32901 en dfReturns\n",
      "No existe el indice 32901 en dfReturns\n",
      "No existe el indice 32901 en dfReturns\n",
      "No existe el indice 32901 en dfReturns\n",
      "No existe el indice 32901 en dfReturns\n",
      "No existe el indice 32901 en dfReturns\n",
      "No existe el indice 32901 en dfReturns\n",
      "No existe el indice 32901 en dfReturns\n",
      "No existe el indice 32900 en dfRentals\n",
      "No existe el indice 32900 en dfReturns\n",
      "No existe el indice 32900 en dfRentals\n",
      "No existe el indice 32900 en dfReturns\n",
      "No existe el indice 32900 en dfRentals\n",
      "No existe el indice 32900 en dfReturns\n",
      "No existe el indice 32901 en dfReturns\n",
      "No existe el indice 32901 en dfReturns\n",
      "No existe el indice 32900 en dfRentals\n",
      "No existe el indice 32900 en dfReturns\n",
      "No existe el indice 32901 en dfReturns\n",
      "No existe el indice 32901 en dfReturns\n",
      "No existe el indice 32901 en dfReturns\n",
      "No existe el indice 32901 en dfReturns\n",
      "No existe el indice 32901 en dfReturns\n",
      "No existe el indice 32901 en dfReturns\n",
      "No existe el indice 32901 en dfReturns\n",
      "No existe el indice 32900 en dfRentals\n",
      "No existe el indice 32900 en dfReturns\n",
      "No existe el indice 32900 en dfRentals\n",
      "No existe el indice 32900 en dfReturns\n",
      "No existe el indice 32900 en dfRentals\n",
      "No existe el indice 32900 en dfReturns\n",
      "No existe el indice 32901 en dfReturns\n",
      "No existe el indice 32901 en dfReturns\n",
      "No existe el indice 32901 en dfReturns\n",
      "No existe el indice 32901 en dfReturns\n",
      "No existe el indice 32901 en dfReturns\n",
      "No existe el indice 32901 en dfReturns\n",
      "No existe el indice 32901 en dfRentals\n",
      "No existe el indice 32901 en dfReturns\n",
      "No existe el indice 32901 en dfReturns\n",
      "No existe el indice 32901 en dfReturns\n",
      "No existe el indice 32900 en dfRentals\n",
      "No existe el indice 32900 en dfReturns\n",
      "No existe el indice 32901 en dfReturns\n",
      "No existe el indice 32900 en dfRentals\n",
      "No existe el indice 32900 en dfReturns\n",
      "No existe el indice 32900 en dfRentals\n",
      "No existe el indice 32900 en dfReturns\n",
      "No existe el indice 32901 en dfReturns\n",
      "No existe el indice 32901 en dfReturns\n",
      "No existe el indice 32901 en dfReturns\n",
      "No existe el indice 32901 en dfReturns\n",
      "No existe el indice 32900 en dfRentals\n",
      "No existe el indice 32900 en dfReturns\n",
      "No existe el indice 32900 en dfRentals\n",
      "No existe el indice 32900 en dfReturns\n",
      "No existe el indice 32901 en dfReturns\n",
      "No existe el indice 32901 en dfRentals\n",
      "No existe el indice 32901 en dfReturns\n",
      "No existe el indice 32901 en dfReturns\n",
      "No existe el indice 32901 en dfReturns\n",
      "No existe el indice 32901 en dfReturns\n",
      "No existe el indice 32901 en dfReturns\n",
      "No existe el indice 32901 en dfReturns\n",
      "No existe el indice 32901 en dfReturns\n",
      "No existe el indice 32901 en dfReturns\n",
      "No existe el indice 32901 en dfReturns\n",
      "No existe el indice 32901 en dfReturns\n",
      "No existe el indice 32901 en dfRentals\n",
      "No existe el indice 32901 en dfReturns\n",
      "No existe el indice 32901 en dfReturns\n",
      "No existe el indice 32901 en dfReturns\n",
      "No existe el indice 32901 en dfRentals\n",
      "No existe el indice 32901 en dfReturns\n",
      "No existe el indice 32901 en dfReturns\n",
      "No existe el indice 32901 en dfReturns\n",
      "No existe el indice 32901 en dfReturns\n",
      "No existe el indice 32901 en dfReturns\n",
      "No existe el indice 32901 en dfReturns\n",
      "No existe el indice 32901 en dfReturns\n",
      "No existe el indice 32901 en dfReturns\n",
      "No existe el indice 32901 en dfReturns\n",
      "No existe el indice 32901 en dfReturns\n",
      "No existe el indice 32901 en dfReturns\n",
      "No existe el indice 32901 en dfReturns\n",
      "No existe el indice 32901 en dfReturns\n",
      "No existe el indice 32901 en dfReturns\n",
      "No existe el indice 32901 en dfReturns\n",
      "No existe el indice 32901 en dfReturns\n",
      "No existe el indice 32901 en dfReturns\n",
      "No existe el indice 32901 en dfRentals\n",
      "No existe el indice 32901 en dfReturns\n",
      "No existe el indice 32901 en dfReturns\n",
      "No existe el indice 32901 en dfReturns\n",
      "No existe el indice 32901 en dfReturns\n",
      "No existe el indice 32901 en dfReturns\n",
      "No existe el indice 32901 en dfReturns\n",
      "No existe el indice 32901 en dfReturns\n",
      "No existe el indice 32901 en dfReturns\n",
      "No existe el indice 32901 en dfReturns\n",
      "No existe el indice 32901 en dfReturns\n",
      "No existe el indice 32901 en dfReturns\n",
      "No existe el indice 32901 en dfReturns\n",
      "No existe el indice 32901 en dfReturns\n",
      "No existe el indice 32901 en dfReturns\n",
      "No existe el indice 32901 en dfReturns\n",
      "No existe el indice 32901 en dfReturns\n",
      "No existe el indice 32901 en dfReturns\n",
      "No existe el indice 32901 en dfReturns\n",
      "No existe el indice 32901 en dfReturns\n",
      "No existe el indice 32901 en dfReturns\n",
      "No existe el indice 32901 en dfReturns\n",
      "No existe el indice 32901 en dfReturns\n",
      "No existe el indice 32901 en dfReturns\n",
      "No existe el indice 32901 en dfReturns\n",
      "No existe el indice 32901 en dfReturns\n",
      "No existe el indice 32901 en dfReturns\n",
      "No existe el indice 32901 en dfReturns\n",
      "No existe el indice 32901 en dfReturns\n",
      "No existe el indice 32901 en dfReturns\n",
      "No existe el indice 32901 en dfReturns\n",
      "No existe el indice 32901 en dfReturns\n",
      "No existe el indice 32901 en dfReturns\n",
      "No existe el indice 32901 en dfReturns\n",
      "No existe el indice 32901 en dfReturns\n",
      "No existe el indice 32901 en dfRentals\n",
      "No existe el indice 32901 en dfReturns\n",
      "No existe el indice 32901 en dfReturns\n",
      "No existe el indice 32901 en dfReturns\n",
      "No existe el indice 32901 en dfRentals\n",
      "No existe el indice 32901 en dfReturns\n",
      "No existe el indice 32901 en dfReturns\n",
      "No existe el indice 32901 en dfReturns\n",
      "No existe el indice 32901 en dfReturns\n",
      "No existe el indice 32901 en dfReturns\n",
      "No existe el indice 32901 en dfReturns\n",
      "No existe el indice 32901 en dfReturns\n",
      "No existe el indice 32901 en dfReturns\n",
      "No existe el indice 32901 en dfReturns\n",
      "No existe el indice 32901 en dfReturns\n",
      "No existe el indice 32901 en dfReturns\n",
      "No existe el indice 32901 en dfReturns\n",
      "No existe el indice 32901 en dfRentals\n",
      "No existe el indice 32901 en dfReturns\n",
      "No existe el indice 32901 en dfReturns\n",
      "No existe el indice 32901 en dfReturns\n",
      "No existe el indice 32901 en dfReturns\n",
      "No existe el indice 32901 en dfReturns\n",
      "No existe el indice 32901 en dfReturns\n",
      "No existe el indice 32901 en dfReturns\n",
      "No existe el indice 32901 en dfReturns\n",
      "No existe el indice 32901 en dfReturns\n",
      "No existe el indice 32901 en dfReturns\n",
      "No existe el indice 32901 en dfReturns\n",
      "No existe el indice 32901 en dfReturns\n",
      "No existe el indice 32901 en dfReturns\n",
      "No existe el indice 32901 en dfReturns\n",
      "No existe el indice 32901 en dfReturns\n",
      "No existe el indice 32901 en dfReturns\n",
      "No existe el indice 32901 en dfReturns\n",
      "No existe el indice 32901 en dfReturns\n",
      "No existe el indice 32901 en dfReturns\n",
      "No existe el indice 32901 en dfReturns\n",
      "No existe el indice 32901 en dfRentals\n",
      "No existe el indice 32901 en dfRentals\n",
      "No existe el indice 32901 en dfReturns\n",
      "No existe el indice 32901 en dfReturns\n",
      "No existe el indice 32901 en dfReturns\n",
      "No existe el indice 32901 en dfReturns\n",
      "No existe el indice 32901 en dfReturns\n",
      "No existe el indice 32901 en dfRentals\n",
      "No existe el indice 32901 en dfReturns\n",
      "No existe el indice 32901 en dfReturns\n",
      "No existe el indice 32901 en dfReturns\n",
      "No existe el indice 32901 en dfReturns\n",
      "No existe el indice 32901 en dfReturns\n",
      "No existe el indice 32901 en dfReturns\n",
      "No existe el indice 32901 en dfReturns\n",
      "No existe el indice 32901 en dfReturns\n",
      "No existe el indice 32901 en dfReturns\n",
      "No existe el indice 32901 en dfReturns\n",
      "No existe el indice 32901 en dfReturns\n",
      "No existe el indice 32901 en dfReturns\n",
      "No existe el indice 32901 en dfReturns\n",
      "No existe el indice 32901 en dfReturns\n",
      "No existe el indice 32901 en dfReturns\n",
      "No existe el indice 32901 en dfReturns\n",
      "No existe el indice 32901 en dfReturns\n",
      "No existe el indice 32901 en dfReturns\n",
      "No existe el indice 32901 en dfReturns\n",
      "No existe el indice 32901 en dfReturns\n",
      "No existe el indice 32901 en dfReturns\n",
      "No existe el indice 32901 en dfReturns\n",
      "No existe el indice 32901 en dfReturns\n",
      "No existe el indice 32901 en dfReturns\n",
      "No existe el indice 32901 en dfReturns\n",
      "No existe el indice 32901 en dfReturns\n",
      "No existe el indice 32901 en dfReturns\n",
      "No existe el indice 32901 en dfReturns\n",
      "No existe el indice 32901 en dfReturns\n",
      "No existe el indice 32901 en dfReturns\n",
      "No existe el indice 32901 en dfReturns\n",
      "No existe el indice 32901 en dfReturns\n",
      "No existe el indice 32901 en dfReturns\n",
      "No existe el indice 32901 en dfReturns\n",
      "No existe el indice 32901 en dfReturns\n",
      "No existe el indice 32901 en dfReturns\n",
      "No existe el indice 32901 en dfReturns\n",
      "No existe el indice 32901 en dfReturns\n",
      "No existe el indice 32901 en dfReturns\n",
      "No existe el indice 32901 en dfReturns\n",
      "No existe el indice 32901 en dfReturns\n",
      "No existe el indice 32901 en dfReturns\n",
      "No existe el indice 32901 en dfReturns\n",
      "No existe el indice 32901 en dfReturns\n",
      "No existe el indice 32901 en dfReturns\n",
      "No existe el indice 32901 en dfReturns\n",
      "No existe el indice 32901 en dfReturns\n",
      "No existe el indice 32901 en dfReturns\n",
      "No existe el indice 32901 en dfReturns\n",
      "No existe el indice 32901 en dfReturns\n",
      "No existe el indice 32901 en dfReturns\n",
      "No existe el indice 32901 en dfReturns\n",
      "No existe el indice 32901 en dfReturns\n",
      "No existe el indice 32901 en dfReturns\n",
      "No existe el indice 32901 en dfReturns\n",
      "No existe el indice 32901 en dfReturns\n",
      "No existe el indice 32901 en dfReturns\n",
      "No existe el indice 32901 en dfReturns\n",
      "No existe el indice 32901 en dfReturns\n",
      "No existe el indice 32901 en dfReturns\n",
      "No existe el indice 32901 en dfReturns\n",
      "No existe el indice 32901 en dfReturns\n",
      "No existe el indice 32901 en dfReturns\n",
      "No existe el indice 32901 en dfReturns\n",
      "No existe el indice 32901 en dfReturns\n",
      "No existe el indice 32901 en dfReturns\n",
      "No existe el indice 32901 en dfReturns\n",
      "No existe el indice 32901 en dfReturns\n",
      "No existe el indice 32901 en dfReturns\n",
      "No existe el indice 32901 en dfReturns\n",
      "No existe el indice 32901 en dfReturns\n",
      "No existe el indice 32901 en dfReturns\n",
      "No existe el indice 32901 en dfReturns\n",
      "No existe el indice 32901 en dfReturns\n",
      "No existe el indice 32901 en dfReturns\n",
      "No existe el indice 32901 en dfReturns\n",
      "No existe el indice 32901 en dfReturns\n",
      "No existe el indice 32901 en dfReturns\n",
      "No existe el indice 32901 en dfReturns\n",
      "No existe el indice 32901 en dfReturns\n",
      "No existe el indice 32901 en dfReturns\n",
      "No existe el indice 32901 en dfReturns\n",
      "No existe el indice 32901 en dfReturns\n",
      "No existe el indice 32901 en dfReturns\n",
      "No existe el indice 32901 en dfReturns\n",
      "No existe el indice 32901 en dfRentals\n",
      "Año 2020 transformado con exito!\n",
      "No existe el indice 32901 en dfReturns\n",
      "No existe el indice 32901 en dfReturns\n",
      "No existe el indice 32901 en dfRentals\n",
      "No existe el indice 32901 en dfReturns\n",
      "No existe el indice 32901 en dfReturns\n",
      "No existe el indice 32901 en dfReturns\n",
      "No existe el indice 32901 en dfReturns\n",
      "No existe el indice 32901 en dfReturns\n",
      "No existe el indice 32901 en dfReturns\n",
      "No existe el indice 32901 en dfReturns\n",
      "No existe el indice 32901 en dfReturns\n",
      "No existe el indice 32901 en dfReturns\n",
      "No existe el indice 32901 en dfReturns\n",
      "No existe el indice 32901 en dfReturns\n",
      "No existe el indice 32901 en dfReturns\n",
      "No existe el indice 32901 en dfReturns\n",
      "No existe el indice 32901 en dfReturns\n",
      "No existe el indice 32901 en dfReturns\n",
      "No existe el indice 32901 en dfReturns\n",
      "No existe el indice 32901 en dfReturns\n",
      "No existe el indice 32901 en dfReturns\n",
      "No existe el indice 32901 en dfReturns\n",
      "No existe el indice 32901 en dfReturns\n",
      "No existe el indice 32901 en dfReturns\n",
      "No existe el indice 32901 en dfReturns\n",
      "No existe el indice 32901 en dfReturns\n",
      "No existe el indice 32901 en dfReturns\n",
      "No existe el indice 32901 en dfReturns\n",
      "No existe el indice 32901 en dfReturns\n",
      "No existe el indice 32901 en dfReturns\n",
      "No existe el indice 32901 en dfReturns\n",
      "No existe el indice 32901 en dfReturns\n",
      "No existe el indice 32901 en dfReturns\n",
      "No existe el indice 32901 en dfReturns\n",
      "No existe el indice 32901 en dfReturns\n",
      "No existe el indice 32901 en dfReturns\n",
      "No existe el indice 32901 en dfReturns\n",
      "No existe el indice 32901 en dfReturns\n",
      "No existe el indice 32901 en dfReturns\n",
      "No existe el indice 32901 en dfReturns\n",
      "No existe el indice 32901 en dfReturns\n",
      "No existe el indice 32901 en dfReturns\n",
      "No existe el indice 32901 en dfReturns\n",
      "No existe el indice 32901 en dfReturns\n",
      "No existe el indice 32901 en dfReturns\n",
      "No existe el indice 32902 en dfReturns\n",
      "No existe el indice 32902 en dfReturns\n",
      "No existe el indice 32906 en dfReturns\n",
      "No existe el indice 32901 en dfReturns\n",
      "No existe el indice 32901 en dfRentals\n",
      "No existe el indice 32901 en dfReturns\n",
      "No existe el indice 32901 en dfReturns\n",
      "No existe el indice 32901 en dfRentals\n",
      "No existe el indice 32901 en dfReturns\n",
      "No existe el indice 32901 en dfReturns\n",
      "No existe el indice 32901 en dfReturns\n",
      "No existe el indice 32901 en dfReturns\n",
      "No existe el indice 32901 en dfReturns\n",
      "No existe el indice 32901 en dfReturns\n",
      "No existe el indice 32901 en dfRentals\n",
      "No existe el indice 32901 en dfRentals\n"
     ]
    }
   ],
   "source": [
    "initDate, endDate = datetime(2010,9,20), datetime(2022,4,1)\n",
    "timeStep = timedelta(minutes=60)\n",
    "convertDailyDataToRentalsAndReturns(initDate, endDate, timeStep)"
   ],
   "metadata": {
    "collapsed": false,
    "pycharm": {
     "name": "#%%\n"
    }
   }
  },
  {
   "cell_type": "markdown",
   "id": "4303e6d8-ab32-409b-bb35-e361325220eb",
   "metadata": {
    "pycharm": {
     "name": "#%% md\n"
    }
   },
   "source": [
    "## RECOPILACIÓN DEL DATASET COMPLETO FORMATEADO A ALQUILERES Y DEVOLUCIONES POR ESTACIÓN\n",
    "Como se ha hecho en el caso de los trayectos, se van a generar dos Dataframes completos para alquileres y devoluciones."
   ]
  },
  {
   "cell_type": "code",
   "execution_count": 229,
   "id": "1177b5c1-5705-4cbd-8cd4-cb4940e27a69",
   "metadata": {
    "pycharm": {
     "name": "#%%\n"
    }
   },
   "outputs": [],
   "source": [
    "def getCompleteRentalsAndReturns(initDate, endDate):\n",
    "    \"\"\"\n",
    "    Generate complete CSV data containing rentals and returns.\n",
    "    Arguments:\n",
    "        initDate: date to start collecting data\n",
    "        endDate: date to end collecting data\n",
    "    Returns:\n",
    "        Creates a pair of CSVs located in completeData/ containing complete rentals and returns data for each station.\n",
    "    \"\"\"\n",
    "    completeRentalsDf = completeReturnsDf = pd.DataFrame()\n",
    "    for i,day in enumerate(np.arange(initDate, endDate, timedelta(days=1)).astype(datetime)):\n",
    "        if i!= 0 and i%365==0: print(\"Año {} recopilado con exito!\". format(day.year-1))\n",
    "        try:\n",
    "            dfRentals = pd.read_csv(\"../data/tripdata/transformed/\" + str(day.year) +\"/RENTALS-\" + str(day.date()) +\".csv\")\n",
    "            dfReturns = pd.read_csv(\"../data/tripdata/transformed/\" + str(day.year) +\"/RETURNS-\" + str(day.date()) +\".csv\")\n",
    "            completeRentalsDf = completeRentalsDf.append(dfRentals, ignore_index = True)\n",
    "            completeReturnsDf = completeReturnsDf.append(dfReturns, ignore_index = True)\n",
    "        except:\n",
    "            print(\"No existe el dia {}\".format(day))\n",
    "    return completeRentalsDf, completeReturnsDf"
   ]
  },
  {
   "cell_type": "code",
   "execution_count": 230,
   "outputs": [
    {
     "name": "stdout",
     "output_type": "stream",
     "text": [
      "Año 2010 recopilado con exito!\n",
      "Año 2011 recopilado con exito!\n",
      "Año 2012 recopilado con exito!\n",
      "Año 2013 recopilado con exito!\n",
      "Año 2014 recopilado con exito!\n",
      "Año 2015 recopilado con exito!\n",
      "Año 2016 recopilado con exito!\n",
      "Año 2017 recopilado con exito!\n",
      "Año 2018 recopilado con exito!\n",
      "Año 2019 recopilado con exito!\n",
      "Año 2020 recopilado con exito!\n"
     ]
    }
   ],
   "source": [
    "initDate, endDate = datetime(2010,9,20), datetime(2022,4,1)\n",
    "completeRentalsDf, completeReturnsDf = getCompleteRentalsAndReturns(initDate, endDate)"
   ],
   "metadata": {
    "collapsed": false,
    "pycharm": {
     "name": "#%%\n"
    }
   }
  },
  {
   "cell_type": "code",
   "execution_count": 231,
   "id": "6e82fe95-4f99-45a6-a4fa-c5b1e892ae36",
   "metadata": {
    "pycharm": {
     "name": "#%%\n"
    }
   },
   "outputs": [
    {
     "data": {
      "text/plain": "                       Date   0  31000  31001  31002  31003  31004  31005  \\\n101059  2022-03-31 19:00:00  15      0      0      0      1      0      1   \n101060  2022-03-31 20:00:00  16      1      0      1      0      0      1   \n101061  2022-03-31 21:00:00   1      0      0      0      0      0      1   \n101062  2022-03-31 22:00:00   5      0      0      0      0      0      0   \n101063  2022-03-31 23:00:00   5      0      0      0      0      0      0   \n\n        31006  31007  ...  32600  32601  32602  32603  32604  32605  32606  \\\n101059      1      0  ...      0      0      0      0      0      0      0   \n101060      1      0  ...      0      0      0      0      0      2      0   \n101061      0      0  ...      0      0      0      0      0      0      0   \n101062      0      0  ...      0      0      0      0      0      0      0   \n101063      0      0  ...      0      0      0      0      0      0      0   \n\n        32607  32608  32609  \n101059      0      0      1  \n101060      0      0      0  \n101061      0      0      0  \n101062      0      0      0  \n101063      0      0      0  \n\n[5 rows x 695 columns]",
      "text/html": "<div>\n<style scoped>\n    .dataframe tbody tr th:only-of-type {\n        vertical-align: middle;\n    }\n\n    .dataframe tbody tr th {\n        vertical-align: top;\n    }\n\n    .dataframe thead th {\n        text-align: right;\n    }\n</style>\n<table border=\"1\" class=\"dataframe\">\n  <thead>\n    <tr style=\"text-align: right;\">\n      <th></th>\n      <th>Date</th>\n      <th>0</th>\n      <th>31000</th>\n      <th>31001</th>\n      <th>31002</th>\n      <th>31003</th>\n      <th>31004</th>\n      <th>31005</th>\n      <th>31006</th>\n      <th>31007</th>\n      <th>...</th>\n      <th>32600</th>\n      <th>32601</th>\n      <th>32602</th>\n      <th>32603</th>\n      <th>32604</th>\n      <th>32605</th>\n      <th>32606</th>\n      <th>32607</th>\n      <th>32608</th>\n      <th>32609</th>\n    </tr>\n  </thead>\n  <tbody>\n    <tr>\n      <th>101059</th>\n      <td>2022-03-31 19:00:00</td>\n      <td>15</td>\n      <td>0</td>\n      <td>0</td>\n      <td>0</td>\n      <td>1</td>\n      <td>0</td>\n      <td>1</td>\n      <td>1</td>\n      <td>0</td>\n      <td>...</td>\n      <td>0</td>\n      <td>0</td>\n      <td>0</td>\n      <td>0</td>\n      <td>0</td>\n      <td>0</td>\n      <td>0</td>\n      <td>0</td>\n      <td>0</td>\n      <td>1</td>\n    </tr>\n    <tr>\n      <th>101060</th>\n      <td>2022-03-31 20:00:00</td>\n      <td>16</td>\n      <td>1</td>\n      <td>0</td>\n      <td>1</td>\n      <td>0</td>\n      <td>0</td>\n      <td>1</td>\n      <td>1</td>\n      <td>0</td>\n      <td>...</td>\n      <td>0</td>\n      <td>0</td>\n      <td>0</td>\n      <td>0</td>\n      <td>0</td>\n      <td>2</td>\n      <td>0</td>\n      <td>0</td>\n      <td>0</td>\n      <td>0</td>\n    </tr>\n    <tr>\n      <th>101061</th>\n      <td>2022-03-31 21:00:00</td>\n      <td>1</td>\n      <td>0</td>\n      <td>0</td>\n      <td>0</td>\n      <td>0</td>\n      <td>0</td>\n      <td>1</td>\n      <td>0</td>\n      <td>0</td>\n      <td>...</td>\n      <td>0</td>\n      <td>0</td>\n      <td>0</td>\n      <td>0</td>\n      <td>0</td>\n      <td>0</td>\n      <td>0</td>\n      <td>0</td>\n      <td>0</td>\n      <td>0</td>\n    </tr>\n    <tr>\n      <th>101062</th>\n      <td>2022-03-31 22:00:00</td>\n      <td>5</td>\n      <td>0</td>\n      <td>0</td>\n      <td>0</td>\n      <td>0</td>\n      <td>0</td>\n      <td>0</td>\n      <td>0</td>\n      <td>0</td>\n      <td>...</td>\n      <td>0</td>\n      <td>0</td>\n      <td>0</td>\n      <td>0</td>\n      <td>0</td>\n      <td>0</td>\n      <td>0</td>\n      <td>0</td>\n      <td>0</td>\n      <td>0</td>\n    </tr>\n    <tr>\n      <th>101063</th>\n      <td>2022-03-31 23:00:00</td>\n      <td>5</td>\n      <td>0</td>\n      <td>0</td>\n      <td>0</td>\n      <td>0</td>\n      <td>0</td>\n      <td>0</td>\n      <td>0</td>\n      <td>0</td>\n      <td>...</td>\n      <td>0</td>\n      <td>0</td>\n      <td>0</td>\n      <td>0</td>\n      <td>0</td>\n      <td>0</td>\n      <td>0</td>\n      <td>0</td>\n      <td>0</td>\n      <td>0</td>\n    </tr>\n  </tbody>\n</table>\n<p>5 rows × 695 columns</p>\n</div>"
     },
     "execution_count": 231,
     "metadata": {},
     "output_type": "execute_result"
    }
   ],
   "source": [
    "completeRentalsDf.tail(5)"
   ]
  },
  {
   "cell_type": "code",
   "execution_count": 232,
   "id": "4f8d015a-ee3c-4689-bbe5-92f7127dca25",
   "metadata": {
    "pycharm": {
     "name": "#%%\n"
    }
   },
   "outputs": [
    {
     "data": {
      "text/plain": "                       Date   0  31000  31001  31002  31003  31004  31005  \\\n101059  2022-03-31 19:00:00  20      0      0      0      2      0      0   \n101060  2022-03-31 20:00:00  12      1      0      1      0      0      2   \n101061  2022-03-31 21:00:00   6      0      0      0      0      0      0   \n101062  2022-03-31 22:00:00  13      0      0      0      0      0      0   \n101063  2022-03-31 23:00:00   5      1      0      0      0      0      0   \n\n        31006  31007  ...  32600  32601  32602  32603  32604  32605  32606  \\\n101059      0      0  ...      0      0      0      0      0      0      0   \n101060      0      0  ...      0      0      0      0      0      1      0   \n101061      1      0  ...      1      0      0      0      0      0      0   \n101062      0      0  ...      0      0      0      0      0      0      0   \n101063      0      0  ...      0      0      0      0      0      0      0   \n\n        32607  32608  32609  \n101059      0      0      0  \n101060      0      0      1  \n101061      0      0      0  \n101062      0      0      0  \n101063      0      0      0  \n\n[5 rows x 695 columns]",
      "text/html": "<div>\n<style scoped>\n    .dataframe tbody tr th:only-of-type {\n        vertical-align: middle;\n    }\n\n    .dataframe tbody tr th {\n        vertical-align: top;\n    }\n\n    .dataframe thead th {\n        text-align: right;\n    }\n</style>\n<table border=\"1\" class=\"dataframe\">\n  <thead>\n    <tr style=\"text-align: right;\">\n      <th></th>\n      <th>Date</th>\n      <th>0</th>\n      <th>31000</th>\n      <th>31001</th>\n      <th>31002</th>\n      <th>31003</th>\n      <th>31004</th>\n      <th>31005</th>\n      <th>31006</th>\n      <th>31007</th>\n      <th>...</th>\n      <th>32600</th>\n      <th>32601</th>\n      <th>32602</th>\n      <th>32603</th>\n      <th>32604</th>\n      <th>32605</th>\n      <th>32606</th>\n      <th>32607</th>\n      <th>32608</th>\n      <th>32609</th>\n    </tr>\n  </thead>\n  <tbody>\n    <tr>\n      <th>101059</th>\n      <td>2022-03-31 19:00:00</td>\n      <td>20</td>\n      <td>0</td>\n      <td>0</td>\n      <td>0</td>\n      <td>2</td>\n      <td>0</td>\n      <td>0</td>\n      <td>0</td>\n      <td>0</td>\n      <td>...</td>\n      <td>0</td>\n      <td>0</td>\n      <td>0</td>\n      <td>0</td>\n      <td>0</td>\n      <td>0</td>\n      <td>0</td>\n      <td>0</td>\n      <td>0</td>\n      <td>0</td>\n    </tr>\n    <tr>\n      <th>101060</th>\n      <td>2022-03-31 20:00:00</td>\n      <td>12</td>\n      <td>1</td>\n      <td>0</td>\n      <td>1</td>\n      <td>0</td>\n      <td>0</td>\n      <td>2</td>\n      <td>0</td>\n      <td>0</td>\n      <td>...</td>\n      <td>0</td>\n      <td>0</td>\n      <td>0</td>\n      <td>0</td>\n      <td>0</td>\n      <td>1</td>\n      <td>0</td>\n      <td>0</td>\n      <td>0</td>\n      <td>1</td>\n    </tr>\n    <tr>\n      <th>101061</th>\n      <td>2022-03-31 21:00:00</td>\n      <td>6</td>\n      <td>0</td>\n      <td>0</td>\n      <td>0</td>\n      <td>0</td>\n      <td>0</td>\n      <td>0</td>\n      <td>1</td>\n      <td>0</td>\n      <td>...</td>\n      <td>1</td>\n      <td>0</td>\n      <td>0</td>\n      <td>0</td>\n      <td>0</td>\n      <td>0</td>\n      <td>0</td>\n      <td>0</td>\n      <td>0</td>\n      <td>0</td>\n    </tr>\n    <tr>\n      <th>101062</th>\n      <td>2022-03-31 22:00:00</td>\n      <td>13</td>\n      <td>0</td>\n      <td>0</td>\n      <td>0</td>\n      <td>0</td>\n      <td>0</td>\n      <td>0</td>\n      <td>0</td>\n      <td>0</td>\n      <td>...</td>\n      <td>0</td>\n      <td>0</td>\n      <td>0</td>\n      <td>0</td>\n      <td>0</td>\n      <td>0</td>\n      <td>0</td>\n      <td>0</td>\n      <td>0</td>\n      <td>0</td>\n    </tr>\n    <tr>\n      <th>101063</th>\n      <td>2022-03-31 23:00:00</td>\n      <td>5</td>\n      <td>1</td>\n      <td>0</td>\n      <td>0</td>\n      <td>0</td>\n      <td>0</td>\n      <td>0</td>\n      <td>0</td>\n      <td>0</td>\n      <td>...</td>\n      <td>0</td>\n      <td>0</td>\n      <td>0</td>\n      <td>0</td>\n      <td>0</td>\n      <td>0</td>\n      <td>0</td>\n      <td>0</td>\n      <td>0</td>\n      <td>0</td>\n    </tr>\n  </tbody>\n</table>\n<p>5 rows × 695 columns</p>\n</div>"
     },
     "execution_count": 232,
     "metadata": {},
     "output_type": "execute_result"
    }
   ],
   "source": [
    "completeReturnsDf.tail(5)"
   ]
  },
  {
   "cell_type": "markdown",
   "source": [
    "### COMPROBACIÓN DE DATOS NULOS"
   ],
   "metadata": {
    "collapsed": false,
    "pycharm": {
     "name": "#%% md\n"
    }
   }
  },
  {
   "cell_type": "code",
   "execution_count": 233,
   "outputs": [
    {
     "name": "stdout",
     "output_type": "stream",
     "text": [
      " El dataframe de alquileres tiene 0 nulos.\n",
      " El dataframe de devoluciones tiene 0 nulos.\n"
     ]
    }
   ],
   "source": [
    "rentalsNulls = completeRentalsDf.isnull().sum()\n",
    "returnsNulls = completeReturnsDf.isnull().sum()\n",
    "rentalsNullSum, returnsNullSum= 0, 0\n",
    "\n",
    "for row in rentalsNulls:\n",
    "    rentalsNullSum += row\n",
    "\n",
    "for row in returnsNulls:\n",
    "    returnsNullSum += row\n",
    "\n",
    "print(\" El dataframe de alquileres tiene {} nulos.\".format(rentalsNullSum))\n",
    "print(\" El dataframe de devoluciones tiene {} nulos.\".format(returnsNullSum))"
   ],
   "metadata": {
    "collapsed": false,
    "pycharm": {
     "name": "#%%\n"
    }
   }
  },
  {
   "cell_type": "markdown",
   "source": [
    "### GUARDADO DE LOS DATASETS COMPLETOS DE ALQUILERES Y DEVOLUCIONES"
   ],
   "metadata": {
    "collapsed": false,
    "pycharm": {
     "name": "#%% md\n"
    }
   }
  },
  {
   "cell_type": "code",
   "execution_count": 234,
   "id": "aebf771f-da8c-4a1f-b1cd-6bbf14e48cba",
   "metadata": {
    "pycharm": {
     "name": "#%%\n"
    }
   },
   "outputs": [],
   "source": [
    "completeRentalsDf.to_csv('../data/completeData/rentals/completeRentalsDf.csv', index=False)\n",
    "completeReturnsDf.to_csv('../data/completeData/returns/completeReturnsDf.csv', index=False)"
   ]
  },
  {
   "cell_type": "markdown",
   "id": "6f4818d7",
   "metadata": {
    "pycharm": {
     "name": "#%% md\n"
    }
   },
   "source": [
    "### CARGA DE COMPLETE RETURNS Y RENTALS"
   ]
  },
  {
   "cell_type": "code",
   "execution_count": 13,
   "id": "ecac2555",
   "metadata": {
    "pycharm": {
     "name": "#%%\n"
    }
   },
   "outputs": [],
   "source": [
    "completeRentalsDf = pd.read_csv('../data/completeData/rentals/completeRentalsDf.csv')\n",
    "completeReturnsDf = pd.read_csv('../data/completeData/returns/completeReturnsDf.csv')"
   ]
  },
  {
   "cell_type": "code",
   "execution_count": 9,
   "outputs": [],
   "source": [
    "completeRentalsDf.set_index('Date', inplace=True)\n",
    "completeReturnsDf.set_index('Date', inplace=True)"
   ],
   "metadata": {
    "collapsed": false,
    "pycharm": {
     "name": "#%%\n"
    }
   }
  },
  {
   "cell_type": "markdown",
   "source": [
    "### COMPROBAR QUE SE MANTIENE EL ORDEN CRONOLÓGICO"
   ],
   "metadata": {
    "collapsed": false,
    "pycharm": {
     "name": "#%% md\n"
    }
   }
  },
  {
   "cell_type": "code",
   "execution_count": 10,
   "id": "eb4527fe",
   "metadata": {
    "pycharm": {
     "name": "#%%\n"
    }
   },
   "outputs": [
    {
     "data": {
      "text/plain": "<AxesSubplot:xlabel='Date'>"
     },
     "execution_count": 10,
     "metadata": {},
     "output_type": "execute_result"
    },
    {
     "data": {
      "text/plain": "<Figure size 432x288 with 1 Axes>",
      "image/png": "[encoded data removed]"
     },
     "metadata": {
      "needs_background": "light"
     },
     "output_type": "display_data"
    }
   ],
   "source": [
    "completeReturnsDf['Date'] = pd.to_datetime(completeReturnsDf.index.values)\n",
    "times_gaps = completeReturnsDf.Date - completeReturnsDf.Date.shift(1)\n",
    "times_gaps.plot()"
   ]
  },
  {
   "cell_type": "markdown",
   "id": "ee5dfada",
   "metadata": {
    "pycharm": {
     "name": "#%% md\n"
    }
   },
   "source": [
    "Al obtener un valor constante, confirmamos que no existen brechas o repeticiones temporales en el conjunto de datos."
   ]
  },
  {
   "cell_type": "markdown",
   "source": [
    "### LOG1P SOBRE LOS DATOS DE ALQUILERES Y DEVOLUCIONES\n",
    "Hacer uso de una función logarítmica sobre los datos puede resultar efectivo posteriormente para el rendimiento de los modelos. Estos valores son reversible mediante la función expm1 de numpy."
   ],
   "metadata": {
    "collapsed": false,
    "pycharm": {
     "name": "#%% md\n"
    }
   }
  },
  {
   "cell_type": "code",
   "execution_count": 14,
   "outputs": [],
   "source": [
    "for columnName in completeRentalsDf.columns:\n",
    "    if columnName !='Date':\n",
    "        completeRentalsDf[columnName] = np.log1p(completeRentalsDf[columnName])\n",
    "        completeReturnsDf[columnName] = np.log1p(completeReturnsDf[columnName])"
   ],
   "metadata": {
    "collapsed": false,
    "pycharm": {
     "name": "#%%\n"
    }
   }
  },
  {
   "cell_type": "code",
   "execution_count": 16,
   "outputs": [],
   "source": [
    "completeRentalsDf.to_csv('../data/completeData/rentals/completeRentalsDf_LOG1P.csv', index=False)\n",
    "completeReturnsDf.to_csv('../data/completeData/returns/completeReturnsDf_LOG1P.csv', index=False)"
   ],
   "metadata": {
    "collapsed": false,
    "pycharm": {
     "name": "#%%\n"
    }
   }
  },
  {
   "cell_type": "code",
   "execution_count": 17,
   "outputs": [],
   "source": [
    "completeRentalsDf_LOG1P = pd.read_csv('../data/completeData/rentals/completeRentalsDf_LOG1P.csv')\n",
    "completeReturnsDf_LOG1P = pd.read_csv('../data/completeData/returns/completeReturnsDf_LOG1P.csv')"
   ],
   "metadata": {
    "collapsed": false,
    "pycharm": {
     "name": "#%%\n"
    }
   }
  },
  {
   "cell_type": "code",
   "execution_count": 18,
   "outputs": [
    {
     "data": {
      "text/plain": "                       Date         0     31000  31001     31002     31003  \\\n101059  2022-03-31 19:00:00  2.772589  0.000000    0.0  0.000000  0.693147   \n101060  2022-03-31 20:00:00  2.833213  0.693147    0.0  0.693147  0.000000   \n101061  2022-03-31 21:00:00  0.693147  0.000000    0.0  0.000000  0.000000   \n101062  2022-03-31 22:00:00  1.791759  0.000000    0.0  0.000000  0.000000   \n101063  2022-03-31 23:00:00  1.791759  0.000000    0.0  0.000000  0.000000   \n\n        31004     31005     31006  31007  ...  32600  32601  32602  32603  \\\n101059    0.0  0.693147  0.693147    0.0  ...    0.0    0.0    0.0    0.0   \n101060    0.0  0.693147  0.693147    0.0  ...    0.0    0.0    0.0    0.0   \n101061    0.0  0.693147  0.000000    0.0  ...    0.0    0.0    0.0    0.0   \n101062    0.0  0.000000  0.000000    0.0  ...    0.0    0.0    0.0    0.0   \n101063    0.0  0.000000  0.000000    0.0  ...    0.0    0.0    0.0    0.0   \n\n        32604     32605  32606  32607  32608     32609  \n101059    0.0  0.000000    0.0    0.0    0.0  0.693147  \n101060    0.0  1.098612    0.0    0.0    0.0  0.000000  \n101061    0.0  0.000000    0.0    0.0    0.0  0.000000  \n101062    0.0  0.000000    0.0    0.0    0.0  0.000000  \n101063    0.0  0.000000    0.0    0.0    0.0  0.000000  \n\n[5 rows x 695 columns]",
      "text/html": "<div>\n<style scoped>\n    .dataframe tbody tr th:only-of-type {\n        vertical-align: middle;\n    }\n\n    .dataframe tbody tr th {\n        vertical-align: top;\n    }\n\n    .dataframe thead th {\n        text-align: right;\n    }\n</style>\n<table border=\"1\" class=\"dataframe\">\n  <thead>\n    <tr style=\"text-align: right;\">\n      <th></th>\n      <th>Date</th>\n      <th>0</th>\n      <th>31000</th>\n      <th>31001</th>\n      <th>31002</th>\n      <th>31003</th>\n      <th>31004</th>\n      <th>31005</th>\n      <th>31006</th>\n      <th>31007</th>\n      <th>...</th>\n      <th>32600</th>\n      <th>32601</th>\n      <th>32602</th>\n      <th>32603</th>\n      <th>32604</th>\n      <th>32605</th>\n      <th>32606</th>\n      <th>32607</th>\n      <th>32608</th>\n      <th>32609</th>\n    </tr>\n  </thead>\n  <tbody>\n    <tr>\n      <th>101059</th>\n      <td>2022-03-31 19:00:00</td>\n      <td>2.772589</td>\n      <td>0.000000</td>\n      <td>0.0</td>\n      <td>0.000000</td>\n      <td>0.693147</td>\n      <td>0.0</td>\n      <td>0.693147</td>\n      <td>0.693147</td>\n      <td>0.0</td>\n      <td>...</td>\n      <td>0.0</td>\n      <td>0.0</td>\n      <td>0.0</td>\n      <td>0.0</td>\n      <td>0.0</td>\n      <td>0.000000</td>\n      <td>0.0</td>\n      <td>0.0</td>\n      <td>0.0</td>\n      <td>0.693147</td>\n    </tr>\n    <tr>\n      <th>101060</th>\n      <td>2022-03-31 20:00:00</td>\n      <td>2.833213</td>\n      <td>0.693147</td>\n      <td>0.0</td>\n      <td>0.693147</td>\n      <td>0.000000</td>\n      <td>0.0</td>\n      <td>0.693147</td>\n      <td>0.693147</td>\n      <td>0.0</td>\n      <td>...</td>\n      <td>0.0</td>\n      <td>0.0</td>\n      <td>0.0</td>\n      <td>0.0</td>\n      <td>0.0</td>\n      <td>1.098612</td>\n      <td>0.0</td>\n      <td>0.0</td>\n      <td>0.0</td>\n      <td>0.000000</td>\n    </tr>\n    <tr>\n      <th>101061</th>\n      <td>2022-03-31 21:00:00</td>\n      <td>0.693147</td>\n      <td>0.000000</td>\n      <td>0.0</td>\n      <td>0.000000</td>\n      <td>0.000000</td>\n      <td>0.0</td>\n      <td>0.693147</td>\n      <td>0.000000</td>\n      <td>0.0</td>\n      <td>...</td>\n      <td>0.0</td>\n      <td>0.0</td>\n      <td>0.0</td>\n      <td>0.0</td>\n      <td>0.0</td>\n      <td>0.000000</td>\n      <td>0.0</td>\n      <td>0.0</td>\n      <td>0.0</td>\n      <td>0.000000</td>\n    </tr>\n    <tr>\n      <th>101062</th>\n      <td>2022-03-31 22:00:00</td>\n      <td>1.791759</td>\n      <td>0.000000</td>\n      <td>0.0</td>\n      <td>0.000000</td>\n      <td>0.000000</td>\n      <td>0.0</td>\n      <td>0.000000</td>\n      <td>0.000000</td>\n      <td>0.0</td>\n      <td>...</td>\n      <td>0.0</td>\n      <td>0.0</td>\n      <td>0.0</td>\n      <td>0.0</td>\n      <td>0.0</td>\n      <td>0.000000</td>\n      <td>0.0</td>\n      <td>0.0</td>\n      <td>0.0</td>\n      <td>0.000000</td>\n    </tr>\n    <tr>\n      <th>101063</th>\n      <td>2022-03-31 23:00:00</td>\n      <td>1.791759</td>\n      <td>0.000000</td>\n      <td>0.0</td>\n      <td>0.000000</td>\n      <td>0.000000</td>\n      <td>0.0</td>\n      <td>0.000000</td>\n      <td>0.000000</td>\n      <td>0.0</td>\n      <td>...</td>\n      <td>0.0</td>\n      <td>0.0</td>\n      <td>0.0</td>\n      <td>0.0</td>\n      <td>0.0</td>\n      <td>0.000000</td>\n      <td>0.0</td>\n      <td>0.0</td>\n      <td>0.0</td>\n      <td>0.000000</td>\n    </tr>\n  </tbody>\n</table>\n<p>5 rows × 695 columns</p>\n</div>"
     },
     "execution_count": 18,
     "metadata": {},
     "output_type": "execute_result"
    }
   ],
   "source": [
    "completeRentalsDf_LOG1P.tail(5)"
   ],
   "metadata": {
    "collapsed": false,
    "pycharm": {
     "name": "#%%\n"
    }
   }
  },
  {
   "cell_type": "markdown",
   "source": [
    "### NORMALIZACIÓN MIN-MAX SOBRE LOS DATOS DE ALQUILERES Y DEVOLUCIONES\n",
    "Se guarda un conjunto de datos normalizados mediante MIN-MAX."
   ],
   "metadata": {
    "collapsed": false,
    "pycharm": {
     "name": "#%% md\n"
    }
   }
  },
  {
   "cell_type": "code",
   "execution_count": 257,
   "outputs": [],
   "source": [
    "min_max_scaler = preprocessing.MinMaxScaler()\n",
    "completeReturnsDf = pd.DataFrame(min_max_scaler.fit_transform(completeReturnsDf), columns=completeReturnsDf.columns, index=completeReturnsDf.index)\n",
    "completeRentalsDf = pd.DataFrame(min_max_scaler.fit_transform(completeRentalsDf), columns=completeRentalsDf.columns, index=completeRentalsDf.index)"
   ],
   "metadata": {
    "collapsed": false,
    "pycharm": {
     "name": "#%%\n"
    }
   }
  },
  {
   "cell_type": "code",
   "execution_count": 258,
   "outputs": [],
   "source": [
    "completeRentalsDf.to_csv('../data/completeData/rentals/completeRentalsDf_MINMAX.csv', index=False)\n",
    "completeReturnsDf.to_csv('../data/completeData/returns/completeReturnsDf_MINMAX.csv', index=False)"
   ],
   "metadata": {
    "collapsed": false,
    "pycharm": {
     "name": "#%%\n"
    }
   }
  },
  {
   "cell_type": "code",
   "execution_count": 259,
   "outputs": [],
   "source": [
    "completeRentalsDf_MINMAX = pd.read_csv('../data/completeData/rentals/completeRentalsDf_MINMAX.csv')\n",
    "completeReturnsDf_MINMAX = pd.read_csv('../data/completeData/returns/completeReturnsDf_MINMAX.csv')"
   ],
   "metadata": {
    "collapsed": false,
    "pycharm": {
     "name": "#%%\n"
    }
   }
  },
  {
   "cell_type": "code",
   "execution_count": 260,
   "outputs": [
    {
     "data": {
      "text/plain": "               0     31000  31001     31002     31003  31004     31005  \\\n101059  0.363636  0.000000    0.0  0.000000  0.166667    0.0  0.000000   \n101060  0.218182  0.083333    0.0  0.071429  0.000000    0.0  0.133333   \n101061  0.109091  0.000000    0.0  0.000000  0.000000    0.0  0.000000   \n101062  0.236364  0.000000    0.0  0.000000  0.000000    0.0  0.000000   \n101063  0.090909  0.083333    0.0  0.000000  0.000000    0.0  0.000000   \n\n           31006  31007  31008  ...     32600  32601  32602  32603  32604  \\\n101059  0.000000    0.0    0.0  ...  0.000000    0.0    0.0    0.0    0.0   \n101060  0.000000    0.0    0.0  ...  0.000000    0.0    0.0    0.0    0.0   \n101061  0.083333    0.0    0.0  ...  0.142857    0.0    0.0    0.0    0.0   \n101062  0.000000    0.0    0.0  ...  0.000000    0.0    0.0    0.0    0.0   \n101063  0.000000    0.0    0.0  ...  0.000000    0.0    0.0    0.0    0.0   \n\n        32605  32606  32607  32608  32609  \n101059   0.00    0.0    0.0    0.0   0.00  \n101060   0.25    0.0    0.0    0.0   0.25  \n101061   0.00    0.0    0.0    0.0   0.00  \n101062   0.00    0.0    0.0    0.0   0.00  \n101063   0.00    0.0    0.0    0.0   0.00  \n\n[5 rows x 694 columns]",
      "text/html": "<div>\n<style scoped>\n    .dataframe tbody tr th:only-of-type {\n        vertical-align: middle;\n    }\n\n    .dataframe tbody tr th {\n        vertical-align: top;\n    }\n\n    .dataframe thead th {\n        text-align: right;\n    }\n</style>\n<table border=\"1\" class=\"dataframe\">\n  <thead>\n    <tr style=\"text-align: right;\">\n      <th></th>\n      <th>0</th>\n      <th>31000</th>\n      <th>31001</th>\n      <th>31002</th>\n      <th>31003</th>\n      <th>31004</th>\n      <th>31005</th>\n      <th>31006</th>\n      <th>31007</th>\n      <th>31008</th>\n      <th>...</th>\n      <th>32600</th>\n      <th>32601</th>\n      <th>32602</th>\n      <th>32603</th>\n      <th>32604</th>\n      <th>32605</th>\n      <th>32606</th>\n      <th>32607</th>\n      <th>32608</th>\n      <th>32609</th>\n    </tr>\n  </thead>\n  <tbody>\n    <tr>\n      <th>101059</th>\n      <td>0.363636</td>\n      <td>0.000000</td>\n      <td>0.0</td>\n      <td>0.000000</td>\n      <td>0.166667</td>\n      <td>0.0</td>\n      <td>0.000000</td>\n      <td>0.000000</td>\n      <td>0.0</td>\n      <td>0.0</td>\n      <td>...</td>\n      <td>0.000000</td>\n      <td>0.0</td>\n      <td>0.0</td>\n      <td>0.0</td>\n      <td>0.0</td>\n      <td>0.00</td>\n      <td>0.0</td>\n      <td>0.0</td>\n      <td>0.0</td>\n      <td>0.00</td>\n    </tr>\n    <tr>\n      <th>101060</th>\n      <td>0.218182</td>\n      <td>0.083333</td>\n      <td>0.0</td>\n      <td>0.071429</td>\n      <td>0.000000</td>\n      <td>0.0</td>\n      <td>0.133333</td>\n      <td>0.000000</td>\n      <td>0.0</td>\n      <td>0.0</td>\n      <td>...</td>\n      <td>0.000000</td>\n      <td>0.0</td>\n      <td>0.0</td>\n      <td>0.0</td>\n      <td>0.0</td>\n      <td>0.25</td>\n      <td>0.0</td>\n      <td>0.0</td>\n      <td>0.0</td>\n      <td>0.25</td>\n    </tr>\n    <tr>\n      <th>101061</th>\n      <td>0.109091</td>\n      <td>0.000000</td>\n      <td>0.0</td>\n      <td>0.000000</td>\n      <td>0.000000</td>\n      <td>0.0</td>\n      <td>0.000000</td>\n      <td>0.083333</td>\n      <td>0.0</td>\n      <td>0.0</td>\n      <td>...</td>\n      <td>0.142857</td>\n      <td>0.0</td>\n      <td>0.0</td>\n      <td>0.0</td>\n      <td>0.0</td>\n      <td>0.00</td>\n      <td>0.0</td>\n      <td>0.0</td>\n      <td>0.0</td>\n      <td>0.00</td>\n    </tr>\n    <tr>\n      <th>101062</th>\n      <td>0.236364</td>\n      <td>0.000000</td>\n      <td>0.0</td>\n      <td>0.000000</td>\n      <td>0.000000</td>\n      <td>0.0</td>\n      <td>0.000000</td>\n      <td>0.000000</td>\n      <td>0.0</td>\n      <td>0.0</td>\n      <td>...</td>\n      <td>0.000000</td>\n      <td>0.0</td>\n      <td>0.0</td>\n      <td>0.0</td>\n      <td>0.0</td>\n      <td>0.00</td>\n      <td>0.0</td>\n      <td>0.0</td>\n      <td>0.0</td>\n      <td>0.00</td>\n    </tr>\n    <tr>\n      <th>101063</th>\n      <td>0.090909</td>\n      <td>0.083333</td>\n      <td>0.0</td>\n      <td>0.000000</td>\n      <td>0.000000</td>\n      <td>0.0</td>\n      <td>0.000000</td>\n      <td>0.000000</td>\n      <td>0.0</td>\n      <td>0.0</td>\n      <td>...</td>\n      <td>0.000000</td>\n      <td>0.0</td>\n      <td>0.0</td>\n      <td>0.0</td>\n      <td>0.0</td>\n      <td>0.00</td>\n      <td>0.0</td>\n      <td>0.0</td>\n      <td>0.0</td>\n      <td>0.00</td>\n    </tr>\n  </tbody>\n</table>\n<p>5 rows × 694 columns</p>\n</div>"
     },
     "execution_count": 260,
     "metadata": {},
     "output_type": "execute_result"
    }
   ],
   "source": [
    "completeReturnsDf_MINMAX.tail(5)"
   ],
   "metadata": {
    "collapsed": false,
    "pycharm": {
     "name": "#%%\n"
    }
   }
  },
  {
   "cell_type": "code",
   "execution_count": 261,
   "outputs": [
    {
     "data": {
      "text/plain": "                   0          31000          31001          31002  \\\ncount  101064.000000  101064.000000  101064.000000  101064.000000   \nmean        0.028557       0.013435       0.022428       0.043052   \nstd         0.090728       0.044201       0.058029       0.086688   \nmin         0.000000       0.000000       0.000000       0.000000   \n25%         0.000000       0.000000       0.000000       0.000000   \n50%         0.000000       0.000000       0.000000       0.000000   \n75%         0.000000       0.000000       0.000000       0.071429   \nmax         1.000000       1.000000       1.000000       1.000000   \n\n               31003          31004          31005          31006  \\\ncount  101064.000000  101064.000000  101064.000000  101064.000000   \nmean        0.038225       0.025377       0.037632       0.036032   \nstd         0.079838       0.067383       0.075514       0.075534   \nmin         0.000000       0.000000       0.000000       0.000000   \n25%         0.000000       0.000000       0.000000       0.000000   \n50%         0.000000       0.000000       0.000000       0.000000   \n75%         0.083333       0.000000       0.066667       0.083333   \nmax         1.000000       1.000000       1.000000       1.000000   \n\n               31007          31008  ...          32600          32601  \\\ncount  101064.000000  101064.000000  ...  101064.000000  101064.000000   \nmean        0.042632       0.024579  ...       0.001565       0.001018   \nstd         0.081922       0.061959  ...       0.018685       0.015115   \nmin         0.000000       0.000000  ...       0.000000       0.000000   \n25%         0.000000       0.000000  ...       0.000000       0.000000   \n50%         0.000000       0.000000  ...       0.000000       0.000000   \n75%         0.055556       0.000000  ...       0.000000       0.000000   \nmax         1.000000       1.000000  ...       1.000000       1.000000   \n\n               32602          32603          32604          32605  \\\ncount  101064.000000  101064.000000  101064.000000  101064.000000   \nmean        0.002899       0.002430       0.001689       0.003248   \nstd         0.029224       0.027009       0.019260       0.032040   \nmin         0.000000       0.000000       0.000000       0.000000   \n25%         0.000000       0.000000       0.000000       0.000000   \n50%         0.000000       0.000000       0.000000       0.000000   \n75%         0.000000       0.000000       0.000000       0.000000   \nmax         1.000000       1.000000       1.000000       1.000000   \n\n               32606          32607          32608          32609  \ncount  101064.000000  101064.000000  101064.000000  101064.000000  \nmean        0.003374       0.003758       0.001720       0.003389  \nstd         0.028226       0.035135       0.020157       0.033266  \nmin         0.000000       0.000000       0.000000       0.000000  \n25%         0.000000       0.000000       0.000000       0.000000  \n50%         0.000000       0.000000       0.000000       0.000000  \n75%         0.000000       0.000000       0.000000       0.000000  \nmax         1.000000       1.000000       1.000000       1.000000  \n\n[8 rows x 694 columns]",
      "text/html": "<div>\n<style scoped>\n    .dataframe tbody tr th:only-of-type {\n        vertical-align: middle;\n    }\n\n    .dataframe tbody tr th {\n        vertical-align: top;\n    }\n\n    .dataframe thead th {\n        text-align: right;\n    }\n</style>\n<table border=\"1\" class=\"dataframe\">\n  <thead>\n    <tr style=\"text-align: right;\">\n      <th></th>\n      <th>0</th>\n      <th>31000</th>\n      <th>31001</th>\n      <th>31002</th>\n      <th>31003</th>\n      <th>31004</th>\n      <th>31005</th>\n      <th>31006</th>\n      <th>31007</th>\n      <th>31008</th>\n      <th>...</th>\n      <th>32600</th>\n      <th>32601</th>\n      <th>32602</th>\n      <th>32603</th>\n      <th>32604</th>\n      <th>32605</th>\n      <th>32606</th>\n      <th>32607</th>\n      <th>32608</th>\n      <th>32609</th>\n    </tr>\n  </thead>\n  <tbody>\n    <tr>\n      <th>count</th>\n      <td>101064.000000</td>\n      <td>101064.000000</td>\n      <td>101064.000000</td>\n      <td>101064.000000</td>\n      <td>101064.000000</td>\n      <td>101064.000000</td>\n      <td>101064.000000</td>\n      <td>101064.000000</td>\n      <td>101064.000000</td>\n      <td>101064.000000</td>\n      <td>...</td>\n      <td>101064.000000</td>\n      <td>101064.000000</td>\n      <td>101064.000000</td>\n      <td>101064.000000</td>\n      <td>101064.000000</td>\n      <td>101064.000000</td>\n      <td>101064.000000</td>\n      <td>101064.000000</td>\n      <td>101064.000000</td>\n      <td>101064.000000</td>\n    </tr>\n    <tr>\n      <th>mean</th>\n      <td>0.028557</td>\n      <td>0.013435</td>\n      <td>0.022428</td>\n      <td>0.043052</td>\n      <td>0.038225</td>\n      <td>0.025377</td>\n      <td>0.037632</td>\n      <td>0.036032</td>\n      <td>0.042632</td>\n      <td>0.024579</td>\n      <td>...</td>\n      <td>0.001565</td>\n      <td>0.001018</td>\n      <td>0.002899</td>\n      <td>0.002430</td>\n      <td>0.001689</td>\n      <td>0.003248</td>\n      <td>0.003374</td>\n      <td>0.003758</td>\n      <td>0.001720</td>\n      <td>0.003389</td>\n    </tr>\n    <tr>\n      <th>std</th>\n      <td>0.090728</td>\n      <td>0.044201</td>\n      <td>0.058029</td>\n      <td>0.086688</td>\n      <td>0.079838</td>\n      <td>0.067383</td>\n      <td>0.075514</td>\n      <td>0.075534</td>\n      <td>0.081922</td>\n      <td>0.061959</td>\n      <td>...</td>\n      <td>0.018685</td>\n      <td>0.015115</td>\n      <td>0.029224</td>\n      <td>0.027009</td>\n      <td>0.019260</td>\n      <td>0.032040</td>\n      <td>0.028226</td>\n      <td>0.035135</td>\n      <td>0.020157</td>\n      <td>0.033266</td>\n    </tr>\n    <tr>\n      <th>min</th>\n      <td>0.000000</td>\n      <td>0.000000</td>\n      <td>0.000000</td>\n      <td>0.000000</td>\n      <td>0.000000</td>\n      <td>0.000000</td>\n      <td>0.000000</td>\n      <td>0.000000</td>\n      <td>0.000000</td>\n      <td>0.000000</td>\n      <td>...</td>\n      <td>0.000000</td>\n      <td>0.000000</td>\n      <td>0.000000</td>\n      <td>0.000000</td>\n      <td>0.000000</td>\n      <td>0.000000</td>\n      <td>0.000000</td>\n      <td>0.000000</td>\n      <td>0.000000</td>\n      <td>0.000000</td>\n    </tr>\n    <tr>\n      <th>25%</th>\n      <td>0.000000</td>\n      <td>0.000000</td>\n      <td>0.000000</td>\n      <td>0.000000</td>\n      <td>0.000000</td>\n      <td>0.000000</td>\n      <td>0.000000</td>\n      <td>0.000000</td>\n      <td>0.000000</td>\n      <td>0.000000</td>\n      <td>...</td>\n      <td>0.000000</td>\n      <td>0.000000</td>\n      <td>0.000000</td>\n      <td>0.000000</td>\n      <td>0.000000</td>\n      <td>0.000000</td>\n      <td>0.000000</td>\n      <td>0.000000</td>\n      <td>0.000000</td>\n      <td>0.000000</td>\n    </tr>\n    <tr>\n      <th>50%</th>\n      <td>0.000000</td>\n      <td>0.000000</td>\n      <td>0.000000</td>\n      <td>0.000000</td>\n      <td>0.000000</td>\n      <td>0.000000</td>\n      <td>0.000000</td>\n      <td>0.000000</td>\n      <td>0.000000</td>\n      <td>0.000000</td>\n      <td>...</td>\n      <td>0.000000</td>\n      <td>0.000000</td>\n      <td>0.000000</td>\n      <td>0.000000</td>\n      <td>0.000000</td>\n      <td>0.000000</td>\n      <td>0.000000</td>\n      <td>0.000000</td>\n      <td>0.000000</td>\n      <td>0.000000</td>\n    </tr>\n    <tr>\n      <th>75%</th>\n      <td>0.000000</td>\n      <td>0.000000</td>\n      <td>0.000000</td>\n      <td>0.071429</td>\n      <td>0.083333</td>\n      <td>0.000000</td>\n      <td>0.066667</td>\n      <td>0.083333</td>\n      <td>0.055556</td>\n      <td>0.000000</td>\n      <td>...</td>\n      <td>0.000000</td>\n      <td>0.000000</td>\n      <td>0.000000</td>\n      <td>0.000000</td>\n      <td>0.000000</td>\n      <td>0.000000</td>\n      <td>0.000000</td>\n      <td>0.000000</td>\n      <td>0.000000</td>\n      <td>0.000000</td>\n    </tr>\n    <tr>\n      <th>max</th>\n      <td>1.000000</td>\n      <td>1.000000</td>\n      <td>1.000000</td>\n      <td>1.000000</td>\n      <td>1.000000</td>\n      <td>1.000000</td>\n      <td>1.000000</td>\n      <td>1.000000</td>\n      <td>1.000000</td>\n      <td>1.000000</td>\n      <td>...</td>\n      <td>1.000000</td>\n      <td>1.000000</td>\n      <td>1.000000</td>\n      <td>1.000000</td>\n      <td>1.000000</td>\n      <td>1.000000</td>\n      <td>1.000000</td>\n      <td>1.000000</td>\n      <td>1.000000</td>\n      <td>1.000000</td>\n    </tr>\n  </tbody>\n</table>\n<p>8 rows × 694 columns</p>\n</div>"
     },
     "execution_count": 261,
     "metadata": {},
     "output_type": "execute_result"
    }
   ],
   "source": [
    "completeReturnsDf_MINMAX.describe()"
   ],
   "metadata": {
    "collapsed": false,
    "pycharm": {
     "name": "#%%\n"
    }
   }
  },
  {
   "cell_type": "markdown",
   "id": "14c4b46e-eefb-4e17-a08a-a1d525e421f4",
   "metadata": {
    "pycharm": {
     "name": "#%% md\n"
    }
   },
   "source": [
    "## METEOROLOGÍA"
   ]
  },
  {
   "cell_type": "markdown",
   "id": "8b9fcca2-ddd6-4948-ac78-6c4e1ed69c95",
   "metadata": {
    "pycharm": {
     "name": "#%% md\n"
    }
   },
   "source": [
    "<img src=\"weather.png\">"
   ]
  },
  {
   "cell_type": "markdown",
   "id": "db6625d6",
   "metadata": {
    "pycharm": {
     "name": "#%% md\n"
    }
   },
   "source": [
    "### RECOPILACIÓN DE LOS DATOS METEOROLÓGICOS"
   ]
  },
  {
   "cell_type": "code",
   "execution_count": 320,
   "id": "4d7e595c",
   "metadata": {
    "pycharm": {
     "name": "#%%\n"
    }
   },
   "outputs": [
    {
     "name": "stdout",
     "output_type": "stream",
     "text": [
      "El conjunto de datos meteorológicos tiene 107351 filas y 24 columnas\n"
     ]
    }
   ],
   "source": [
    "completeWeatherDf = pd.DataFrame()\n",
    "for year in range(2010, 2023):\n",
    "    df = pd.read_csv(\"../data/weather/\" + str(year) + \".csv\")\n",
    "    completeWeatherDf = completeWeatherDf.append(df, ignore_index=True)\n",
    "print(\"El conjunto de datos meteorológicos tiene {} filas y {} columnas\".format(completeWeatherDf.shape[0], completeWeatherDf.shape[1]))"
   ]
  },
  {
   "cell_type": "code",
   "execution_count": 321,
   "id": "1f8bd2dc",
   "metadata": {
    "pycharm": {
     "name": "#%%\n"
    }
   },
   "outputs": [
    {
     "name": "stdout",
     "output_type": "stream",
     "text": [
      "El conjunto de datos meteorológicos tiene 101064 filas y 24 columnas\n"
     ]
    }
   ],
   "source": [
    "completeWeatherDf = completeWeatherDf.loc[6287:len(completeWeatherDf)] #Eliminamos los primeros meses de 2010\n",
    "completeWeatherDf.reset_index(drop=True, inplace=True)\n",
    "print(\"El conjunto de datos meteorológicos tiene {} filas y {} columnas\".format(completeWeatherDf.shape[0], completeWeatherDf.shape[1]))"
   ]
  },
  {
   "cell_type": "code",
   "execution_count": 322,
   "id": "b6335b2f",
   "metadata": {
    "pycharm": {
     "name": "#%%\n"
    }
   },
   "outputs": [
    {
     "data": {
      "text/plain": "              name             datetime  temp  feelslike   dew  humidity  \\\n101059  Washington  2022-03-31T19:00:00  20.7       20.7  14.5     67.78   \n101060  Washington  2022-03-31T20:00:00  18.5       18.5  14.1     75.37   \n101061  Washington  2022-03-31T21:00:00  21.1       21.1  15.1     68.67   \n101062  Washington  2022-03-31T22:00:00  21.1       21.1  14.4     65.91   \n101063  Washington  2022-03-31T23:00:00  20.0       20.0  13.9     68.11   \n\n        precip  precipprob preciptype  snow  ...  sealevelpressure  \\\n101059     0.0         0.0       rain   0.0  ...             997.3   \n101060     0.0         0.0       rain   0.0  ...             997.1   \n101061     0.0         0.0       rain   0.0  ...             996.8   \n101062     0.0         0.0       rain   0.0  ...             998.1   \n101063     0.0         0.0       rain   0.0  ...             997.7   \n\n        cloudcover  visibility  solarradiation  solarenergy  uvindex  \\\n101059        94.2        16.0            25.0          0.1      0.0   \n101060        92.7        16.0             5.0          0.0      0.0   \n101061        94.4        16.0             0.0          NaN      0.0   \n101062        92.4        16.0             0.0          NaN      0.0   \n101063        81.3        16.0             0.0          NaN      0.0   \n\n        severerisk        conditions                 icon  \\\n101059        10.0          Overcast               cloudy   \n101060        10.0          Overcast               cloudy   \n101061        10.0          Overcast                 wind   \n101062        10.0          Overcast               cloudy   \n101063        10.0  Partially cloudy  partly-cloudy-night   \n\n                                                 stations  \n101059  KDCA,72405013743,72403793728,F0198,KADW,KDAA,7...  \n101060  KDCA,72405013743,72403793728,E5309,KADW,KDAA,7...  \n101061  KDCA,72405013743,72403793728,KADW,KDAA,7459401...  \n101062  KDCA,72405013743,72403793728,KADW,KDAA,7459401...  \n101063  KDCA,72405013743,72403793728,KADW,KDAA,7459401...  \n\n[5 rows x 24 columns]",
      "text/html": "<div>\n<style scoped>\n    .dataframe tbody tr th:only-of-type {\n        vertical-align: middle;\n    }\n\n    .dataframe tbody tr th {\n        vertical-align: top;\n    }\n\n    .dataframe thead th {\n        text-align: right;\n    }\n</style>\n<table border=\"1\" class=\"dataframe\">\n  <thead>\n    <tr style=\"text-align: right;\">\n      <th></th>\n      <th>name</th>\n      <th>datetime</th>\n      <th>temp</th>\n      <th>feelslike</th>\n      <th>dew</th>\n      <th>humidity</th>\n      <th>precip</th>\n      <th>precipprob</th>\n      <th>preciptype</th>\n      <th>snow</th>\n      <th>...</th>\n      <th>sealevelpressure</th>\n      <th>cloudcover</th>\n      <th>visibility</th>\n      <th>solarradiation</th>\n      <th>solarenergy</th>\n      <th>uvindex</th>\n      <th>severerisk</th>\n      <th>conditions</th>\n      <th>icon</th>\n      <th>stations</th>\n    </tr>\n  </thead>\n  <tbody>\n    <tr>\n      <th>101059</th>\n      <td>Washington</td>\n      <td>2022-03-31T19:00:00</td>\n      <td>20.7</td>\n      <td>20.7</td>\n      <td>14.5</td>\n      <td>67.78</td>\n      <td>0.0</td>\n      <td>0.0</td>\n      <td>rain</td>\n      <td>0.0</td>\n      <td>...</td>\n      <td>997.3</td>\n      <td>94.2</td>\n      <td>16.0</td>\n      <td>25.0</td>\n      <td>0.1</td>\n      <td>0.0</td>\n      <td>10.0</td>\n      <td>Overcast</td>\n      <td>cloudy</td>\n      <td>KDCA,72405013743,72403793728,F0198,KADW,KDAA,7...</td>\n    </tr>\n    <tr>\n      <th>101060</th>\n      <td>Washington</td>\n      <td>2022-03-31T20:00:00</td>\n      <td>18.5</td>\n      <td>18.5</td>\n      <td>14.1</td>\n      <td>75.37</td>\n      <td>0.0</td>\n      <td>0.0</td>\n      <td>rain</td>\n      <td>0.0</td>\n      <td>...</td>\n      <td>997.1</td>\n      <td>92.7</td>\n      <td>16.0</td>\n      <td>5.0</td>\n      <td>0.0</td>\n      <td>0.0</td>\n      <td>10.0</td>\n      <td>Overcast</td>\n      <td>cloudy</td>\n      <td>KDCA,72405013743,72403793728,E5309,KADW,KDAA,7...</td>\n    </tr>\n    <tr>\n      <th>101061</th>\n      <td>Washington</td>\n      <td>2022-03-31T21:00:00</td>\n      <td>21.1</td>\n      <td>21.1</td>\n      <td>15.1</td>\n      <td>68.67</td>\n      <td>0.0</td>\n      <td>0.0</td>\n      <td>rain</td>\n      <td>0.0</td>\n      <td>...</td>\n      <td>996.8</td>\n      <td>94.4</td>\n      <td>16.0</td>\n      <td>0.0</td>\n      <td>NaN</td>\n      <td>0.0</td>\n      <td>10.0</td>\n      <td>Overcast</td>\n      <td>wind</td>\n      <td>KDCA,72405013743,72403793728,KADW,KDAA,7459401...</td>\n    </tr>\n    <tr>\n      <th>101062</th>\n      <td>Washington</td>\n      <td>2022-03-31T22:00:00</td>\n      <td>21.1</td>\n      <td>21.1</td>\n      <td>14.4</td>\n      <td>65.91</td>\n      <td>0.0</td>\n      <td>0.0</td>\n      <td>rain</td>\n      <td>0.0</td>\n      <td>...</td>\n      <td>998.1</td>\n      <td>92.4</td>\n      <td>16.0</td>\n      <td>0.0</td>\n      <td>NaN</td>\n      <td>0.0</td>\n      <td>10.0</td>\n      <td>Overcast</td>\n      <td>cloudy</td>\n      <td>KDCA,72405013743,72403793728,KADW,KDAA,7459401...</td>\n    </tr>\n    <tr>\n      <th>101063</th>\n      <td>Washington</td>\n      <td>2022-03-31T23:00:00</td>\n      <td>20.0</td>\n      <td>20.0</td>\n      <td>13.9</td>\n      <td>68.11</td>\n      <td>0.0</td>\n      <td>0.0</td>\n      <td>rain</td>\n      <td>0.0</td>\n      <td>...</td>\n      <td>997.7</td>\n      <td>81.3</td>\n      <td>16.0</td>\n      <td>0.0</td>\n      <td>NaN</td>\n      <td>0.0</td>\n      <td>10.0</td>\n      <td>Partially cloudy</td>\n      <td>partly-cloudy-night</td>\n      <td>KDCA,72405013743,72403793728,KADW,KDAA,7459401...</td>\n    </tr>\n  </tbody>\n</table>\n<p>5 rows × 24 columns</p>\n</div>"
     },
     "execution_count": 322,
     "metadata": {},
     "output_type": "execute_result"
    }
   ],
   "source": [
    "completeWeatherDf.tail(5)"
   ]
  },
  {
   "cell_type": "markdown",
   "source": [
    "### COMPROBACIÓN DE DATOS METEOROLÓGICOS NULOS"
   ],
   "metadata": {
    "collapsed": false,
    "pycharm": {
     "name": "#%% md\n"
    }
   }
  },
  {
   "cell_type": "code",
   "execution_count": 323,
   "id": "0acdb01b",
   "metadata": {
    "pycharm": {
     "name": "#%%\n"
    }
   },
   "outputs": [
    {
     "data": {
      "text/plain": "name                     0\ndatetime                 0\ntemp                     0\nfeelslike                0\ndew                      0\nhumidity                 0\nprecip                 336\nprecipprob           99121\npreciptype          100790\nsnow                 46297\nsnowdepth            46125\nwindgust             82081\nwindspeed                1\nwinddir                 96\nsealevelpressure        32\ncloudcover               0\nvisibility               0\nsolarradiation       84171\nsolarenergy          85074\nuvindex                123\nsevererisk           99128\nconditions               0\nicon                     0\nstations                 0\ndtype: int64"
     },
     "execution_count": 323,
     "metadata": {},
     "output_type": "execute_result"
    }
   ],
   "source": [
    "completeWeatherDf.isnull().sum()"
   ]
  },
  {
   "cell_type": "markdown",
   "source": [
    "El atributo 'windspeed' solo contiene un dato nulo, procedemos a arreglarlo haciendo una media entre la hora anterior y posterior."
   ],
   "metadata": {
    "collapsed": false,
    "pycharm": {
     "name": "#%% md\n"
    }
   }
  },
  {
   "cell_type": "code",
   "execution_count": 324,
   "id": "80fc389d",
   "metadata": {
    "pycharm": {
     "name": "#%%\n"
    }
   },
   "outputs": [
    {
     "name": "stdout",
     "output_type": "stream",
     "text": [
      "67879 es el indice en el que el atributo windspeed es nulo\n"
     ]
    }
   ],
   "source": [
    "for i, isnull in enumerate(completeWeatherDf['windspeed'].isnull()):\n",
    "    if isnull==1: \n",
    "        nullIndex = i\n",
    "print(\"{} es el indice en el que el atributo windspeed es nulo\".format(nullIndex))"
   ]
  },
  {
   "cell_type": "code",
   "execution_count": 325,
   "id": "7c7ce8a1",
   "metadata": {
    "pycharm": {
     "name": "#%%\n"
    }
   },
   "outputs": [
    {
     "name": "stdout",
     "output_type": "stream",
     "text": [
      "67877     5.4\n",
      "67878     5.4\n",
      "67879     NaN\n",
      "67880     7.6\n",
      "67881    11.2\n",
      "Name: windspeed, dtype: float64\n"
     ]
    }
   ],
   "source": [
    "print(completeWeatherDf.iloc[nullIndex-2:nullIndex+3].windspeed)"
   ]
  },
  {
   "cell_type": "code",
   "execution_count": 326,
   "id": "dee4c0c6",
   "metadata": {
    "pycharm": {
     "name": "#%%\n"
    }
   },
   "outputs": [],
   "source": [
    "completeWeatherDf.loc[nullIndex,'windspeed'] = 6.5"
   ]
  },
  {
   "cell_type": "markdown",
   "source": [
    "Por otro lado, vamos a sustituir los 336 valores nulos del atributo 'precip' por el valor más frecuentado, en este caso, que no existan precipitaciones."
   ],
   "metadata": {
    "collapsed": false,
    "pycharm": {
     "name": "#%% md\n"
    }
   }
  },
  {
   "cell_type": "code",
   "execution_count": 327,
   "id": "951c00c9",
   "metadata": {
    "pycharm": {
     "name": "#%%\n"
    }
   },
   "outputs": [
    {
     "data": {
      "text/plain": "0.00    90978\n0.02      729\n0.01      478\n0.30      423\n0.04      392\n        ...  \n8.10        1\n6.44        1\n4.77        1\n4.88        1\n6.93        1\nName: precip, Length: 851, dtype: int64"
     },
     "execution_count": 327,
     "metadata": {},
     "output_type": "execute_result"
    }
   ],
   "source": [
    "completeWeatherDf['precip'].value_counts()"
   ]
  },
  {
   "cell_type": "code",
   "execution_count": 328,
   "id": "5676f240",
   "metadata": {
    "pycharm": {
     "name": "#%%\n"
    }
   },
   "outputs": [],
   "source": [
    "completeWeatherDf['precip'] = completeWeatherDf['precip'].fillna(0)"
   ]
  },
  {
   "cell_type": "markdown",
   "source": [
    "Se eliminan el resto de atributos que contienen nulos."
   ],
   "metadata": {
    "collapsed": false,
    "pycharm": {
     "name": "#%% md\n"
    }
   }
  },
  {
   "cell_type": "code",
   "execution_count": 329,
   "id": "49ea4cb6",
   "metadata": {
    "pycharm": {
     "name": "#%%\n"
    }
   },
   "outputs": [],
   "source": [
    "completeWeatherDf.drop(['name', 'precipprob', 'preciptype', 'snow', 'snowdepth', 'windgust', 'winddir', 'sealevelpressure', 'solarradiation', 'solarenergy', 'severerisk', 'icon', 'stations'], axis=1, inplace=True)"
   ]
  },
  {
   "cell_type": "code",
   "execution_count": 330,
   "id": "6cc508b8",
   "metadata": {
    "pycharm": {
     "name": "#%%\n"
    }
   },
   "outputs": [
    {
     "data": {
      "text/plain": "              datetime  temp  feelslike   dew  humidity  precip  windspeed  \\\n0  2010-09-20T00:00:00  22.8       22.8  16.0     65.41     0.0        0.0   \n1  2010-09-20T01:00:00  22.0       22.0  16.0     69.12     0.0        0.0   \n2  2010-09-20T02:00:00  22.0       22.0  16.8     72.26     0.0        5.6   \n3  2010-09-20T03:00:00  21.0       21.0  16.8     77.01     0.0        7.7   \n4  2010-09-20T04:00:00  20.9       20.9  16.8     77.20     0.0       11.2   \n\n   cloudcover  visibility  uvindex        conditions  \n0        49.0        16.0      0.0  Partially cloudy  \n1        88.9        16.0      0.0  Partially cloudy  \n2        86.4        16.0      0.0  Partially cloudy  \n3        49.0        16.0      0.0  Partially cloudy  \n4        26.2        16.0      0.0  Partially cloudy  ",
      "text/html": "<div>\n<style scoped>\n    .dataframe tbody tr th:only-of-type {\n        vertical-align: middle;\n    }\n\n    .dataframe tbody tr th {\n        vertical-align: top;\n    }\n\n    .dataframe thead th {\n        text-align: right;\n    }\n</style>\n<table border=\"1\" class=\"dataframe\">\n  <thead>\n    <tr style=\"text-align: right;\">\n      <th></th>\n      <th>datetime</th>\n      <th>temp</th>\n      <th>feelslike</th>\n      <th>dew</th>\n      <th>humidity</th>\n      <th>precip</th>\n      <th>windspeed</th>\n      <th>cloudcover</th>\n      <th>visibility</th>\n      <th>uvindex</th>\n      <th>conditions</th>\n    </tr>\n  </thead>\n  <tbody>\n    <tr>\n      <th>0</th>\n      <td>2010-09-20T00:00:00</td>\n      <td>22.8</td>\n      <td>22.8</td>\n      <td>16.0</td>\n      <td>65.41</td>\n      <td>0.0</td>\n      <td>0.0</td>\n      <td>49.0</td>\n      <td>16.0</td>\n      <td>0.0</td>\n      <td>Partially cloudy</td>\n    </tr>\n    <tr>\n      <th>1</th>\n      <td>2010-09-20T01:00:00</td>\n      <td>22.0</td>\n      <td>22.0</td>\n      <td>16.0</td>\n      <td>69.12</td>\n      <td>0.0</td>\n      <td>0.0</td>\n      <td>88.9</td>\n      <td>16.0</td>\n      <td>0.0</td>\n      <td>Partially cloudy</td>\n    </tr>\n    <tr>\n      <th>2</th>\n      <td>2010-09-20T02:00:00</td>\n      <td>22.0</td>\n      <td>22.0</td>\n      <td>16.8</td>\n      <td>72.26</td>\n      <td>0.0</td>\n      <td>5.6</td>\n      <td>86.4</td>\n      <td>16.0</td>\n      <td>0.0</td>\n      <td>Partially cloudy</td>\n    </tr>\n    <tr>\n      <th>3</th>\n      <td>2010-09-20T03:00:00</td>\n      <td>21.0</td>\n      <td>21.0</td>\n      <td>16.8</td>\n      <td>77.01</td>\n      <td>0.0</td>\n      <td>7.7</td>\n      <td>49.0</td>\n      <td>16.0</td>\n      <td>0.0</td>\n      <td>Partially cloudy</td>\n    </tr>\n    <tr>\n      <th>4</th>\n      <td>2010-09-20T04:00:00</td>\n      <td>20.9</td>\n      <td>20.9</td>\n      <td>16.8</td>\n      <td>77.20</td>\n      <td>0.0</td>\n      <td>11.2</td>\n      <td>26.2</td>\n      <td>16.0</td>\n      <td>0.0</td>\n      <td>Partially cloudy</td>\n    </tr>\n  </tbody>\n</table>\n</div>"
     },
     "execution_count": 330,
     "metadata": {},
     "output_type": "execute_result"
    }
   ],
   "source": [
    "completeWeatherDf.head(5)"
   ]
  },
  {
   "cell_type": "markdown",
   "source": [
    "Se transforma la columna categórica 'conditions' a numérica generando las variables dummies."
   ],
   "metadata": {
    "collapsed": false,
    "pycharm": {
     "name": "#%% md\n"
    }
   }
  },
  {
   "cell_type": "code",
   "execution_count": 331,
   "id": "0a2f2289",
   "metadata": {
    "pycharm": {
     "name": "#%%\n"
    }
   },
   "outputs": [
    {
     "data": {
      "text/plain": "array(['Partially cloudy', 'Clear', 'Overcast', 'Rain, Overcast',\n       'Rain, Partially cloudy', 'Snow, Partially cloudy',\n       'Snow, Overcast', 'Rain', 'Snow', 'Snow, Rain, Partially cloudy',\n       'Freezing Drizzle/Freezing Rain, Overcast', 'Snow, Rain, Overcast',\n       'Ice, Overcast'], dtype=object)"
     },
     "execution_count": 331,
     "metadata": {},
     "output_type": "execute_result"
    }
   ],
   "source": [
    "completeWeatherDf['conditions'].unique()"
   ]
  },
  {
   "cell_type": "code",
   "execution_count": 332,
   "id": "cc3afdce",
   "metadata": {
    "pycharm": {
     "name": "#%%\n"
    }
   },
   "outputs": [
    {
     "data": {
      "text/plain": "              datetime  temp  feelslike   dew  humidity  precip  windspeed  \\\n0  2010-09-20T00:00:00  22.8       22.8  16.0     65.41     0.0        0.0   \n1  2010-09-20T01:00:00  22.0       22.0  16.0     69.12     0.0        0.0   \n2  2010-09-20T02:00:00  22.0       22.0  16.8     72.26     0.0        5.6   \n3  2010-09-20T03:00:00  21.0       21.0  16.8     77.01     0.0        7.7   \n4  2010-09-20T04:00:00  20.9       20.9  16.8     77.20     0.0       11.2   \n\n   cloudcover  visibility  uvindex  ...  conditions_Overcast  \\\n0        49.0        16.0      0.0  ...                    0   \n1        88.9        16.0      0.0  ...                    0   \n2        86.4        16.0      0.0  ...                    0   \n3        49.0        16.0      0.0  ...                    0   \n4        26.2        16.0      0.0  ...                    0   \n\n   conditions_Partially cloudy  conditions_Rain  conditions_Rain, Overcast  \\\n0                            1                0                          0   \n1                            1                0                          0   \n2                            1                0                          0   \n3                            1                0                          0   \n4                            1                0                          0   \n\n   conditions_Rain, Partially cloudy  conditions_Snow  \\\n0                                  0                0   \n1                                  0                0   \n2                                  0                0   \n3                                  0                0   \n4                                  0                0   \n\n   conditions_Snow, Overcast  conditions_Snow, Partially cloudy  \\\n0                          0                                  0   \n1                          0                                  0   \n2                          0                                  0   \n3                          0                                  0   \n4                          0                                  0   \n\n   conditions_Snow, Rain, Overcast  conditions_Snow, Rain, Partially cloudy  \n0                                0                                        0  \n1                                0                                        0  \n2                                0                                        0  \n3                                0                                        0  \n4                                0                                        0  \n\n[5 rows x 23 columns]",
      "text/html": "<div>\n<style scoped>\n    .dataframe tbody tr th:only-of-type {\n        vertical-align: middle;\n    }\n\n    .dataframe tbody tr th {\n        vertical-align: top;\n    }\n\n    .dataframe thead th {\n        text-align: right;\n    }\n</style>\n<table border=\"1\" class=\"dataframe\">\n  <thead>\n    <tr style=\"text-align: right;\">\n      <th></th>\n      <th>datetime</th>\n      <th>temp</th>\n      <th>feelslike</th>\n      <th>dew</th>\n      <th>humidity</th>\n      <th>precip</th>\n      <th>windspeed</th>\n      <th>cloudcover</th>\n      <th>visibility</th>\n      <th>uvindex</th>\n      <th>...</th>\n      <th>conditions_Overcast</th>\n      <th>conditions_Partially cloudy</th>\n      <th>conditions_Rain</th>\n      <th>conditions_Rain, Overcast</th>\n      <th>conditions_Rain, Partially cloudy</th>\n      <th>conditions_Snow</th>\n      <th>conditions_Snow, Overcast</th>\n      <th>conditions_Snow, Partially cloudy</th>\n      <th>conditions_Snow, Rain, Overcast</th>\n      <th>conditions_Snow, Rain, Partially cloudy</th>\n    </tr>\n  </thead>\n  <tbody>\n    <tr>\n      <th>0</th>\n      <td>2010-09-20T00:00:00</td>\n      <td>22.8</td>\n      <td>22.8</td>\n      <td>16.0</td>\n      <td>65.41</td>\n      <td>0.0</td>\n      <td>0.0</td>\n      <td>49.0</td>\n      <td>16.0</td>\n      <td>0.0</td>\n      <td>...</td>\n      <td>0</td>\n      <td>1</td>\n      <td>0</td>\n      <td>0</td>\n      <td>0</td>\n      <td>0</td>\n      <td>0</td>\n      <td>0</td>\n      <td>0</td>\n      <td>0</td>\n    </tr>\n    <tr>\n      <th>1</th>\n      <td>2010-09-20T01:00:00</td>\n      <td>22.0</td>\n      <td>22.0</td>\n      <td>16.0</td>\n      <td>69.12</td>\n      <td>0.0</td>\n      <td>0.0</td>\n      <td>88.9</td>\n      <td>16.0</td>\n      <td>0.0</td>\n      <td>...</td>\n      <td>0</td>\n      <td>1</td>\n      <td>0</td>\n      <td>0</td>\n      <td>0</td>\n      <td>0</td>\n      <td>0</td>\n      <td>0</td>\n      <td>0</td>\n      <td>0</td>\n    </tr>\n    <tr>\n      <th>2</th>\n      <td>2010-09-20T02:00:00</td>\n      <td>22.0</td>\n      <td>22.0</td>\n      <td>16.8</td>\n      <td>72.26</td>\n      <td>0.0</td>\n      <td>5.6</td>\n      <td>86.4</td>\n      <td>16.0</td>\n      <td>0.0</td>\n      <td>...</td>\n      <td>0</td>\n      <td>1</td>\n      <td>0</td>\n      <td>0</td>\n      <td>0</td>\n      <td>0</td>\n      <td>0</td>\n      <td>0</td>\n      <td>0</td>\n      <td>0</td>\n    </tr>\n    <tr>\n      <th>3</th>\n      <td>2010-09-20T03:00:00</td>\n      <td>21.0</td>\n      <td>21.0</td>\n      <td>16.8</td>\n      <td>77.01</td>\n      <td>0.0</td>\n      <td>7.7</td>\n      <td>49.0</td>\n      <td>16.0</td>\n      <td>0.0</td>\n      <td>...</td>\n      <td>0</td>\n      <td>1</td>\n      <td>0</td>\n      <td>0</td>\n      <td>0</td>\n      <td>0</td>\n      <td>0</td>\n      <td>0</td>\n      <td>0</td>\n      <td>0</td>\n    </tr>\n    <tr>\n      <th>4</th>\n      <td>2010-09-20T04:00:00</td>\n      <td>20.9</td>\n      <td>20.9</td>\n      <td>16.8</td>\n      <td>77.20</td>\n      <td>0.0</td>\n      <td>11.2</td>\n      <td>26.2</td>\n      <td>16.0</td>\n      <td>0.0</td>\n      <td>...</td>\n      <td>0</td>\n      <td>1</td>\n      <td>0</td>\n      <td>0</td>\n      <td>0</td>\n      <td>0</td>\n      <td>0</td>\n      <td>0</td>\n      <td>0</td>\n      <td>0</td>\n    </tr>\n  </tbody>\n</table>\n<p>5 rows × 23 columns</p>\n</div>"
     },
     "execution_count": 332,
     "metadata": {},
     "output_type": "execute_result"
    }
   ],
   "source": [
    "completeWeatherDf = pd.get_dummies(completeWeatherDf, columns=['conditions'])\n",
    "completeWeatherDf.head(5)"
   ]
  },
  {
   "cell_type": "code",
   "execution_count": 333,
   "id": "3eb210ac",
   "metadata": {
    "pycharm": {
     "name": "#%%\n"
    }
   },
   "outputs": [],
   "source": [
    "completeWeatherDf = completeWeatherDf.rename(columns={\"datetime\": \"Date\"})"
   ]
  },
  {
   "cell_type": "markdown",
   "source": [
    "### COMPROBACIÓN DEL ORDEN CRONOLÓGICO DE LOS DATOS METEOROLÓGICOS"
   ],
   "metadata": {
    "collapsed": false,
    "pycharm": {
     "name": "#%% md\n"
    }
   }
  },
  {
   "cell_type": "code",
   "execution_count": 334,
   "id": "a3ce62fc",
   "metadata": {
    "pycharm": {
     "name": "#%%\n"
    }
   },
   "outputs": [
    {
     "data": {
      "text/plain": "<AxesSubplot:>"
     },
     "execution_count": 334,
     "metadata": {},
     "output_type": "execute_result"
    },
    {
     "data": {
      "text/plain": "<Figure size 432x288 with 1 Axes>",
      "image/png": "[encoded data removed]"
     },
     "metadata": {
      "needs_background": "light"
     },
     "output_type": "display_data"
    }
   ],
   "source": [
    "completeWeatherDf['Date'] = pd.to_datetime(completeWeatherDf['Date'])\n",
    "times_gaps = completeWeatherDf.Date - completeWeatherDf.Date.shift(1)\n",
    "times_gaps.plot()"
   ]
  },
  {
   "cell_type": "markdown",
   "source": [
    "Al no obtener una línea recta significa que no se sigue el orden cronológico, esto es debido a la repetición y salto de horas durante el cambio horario."
   ],
   "metadata": {
    "collapsed": false,
    "pycharm": {
     "name": "#%% md\n"
    }
   }
  },
  {
   "cell_type": "code",
   "execution_count": 335,
   "outputs": [
    {
     "name": "stdout",
     "output_type": "stream",
     "text": [
      "i --> 1154, Anterior --> 2010-11-07 01:00:00, Repetido --> 2010-11-07 01:00:00, Siguiente --> 2010-11-07 02:00:00\n",
      "i --> 9890, Anterior --> 2011-11-06 01:00:00, Repetido --> 2011-11-06 01:00:00, Siguiente --> 2011-11-06 02:00:00\n",
      "i --> 18626, Anterior --> 2012-11-04 01:00:00, Repetido --> 2012-11-04 01:00:00, Siguiente --> 2012-11-04 02:00:00\n",
      "i --> 27362, Anterior --> 2013-11-03 01:00:00, Repetido --> 2013-11-03 01:00:00, Siguiente --> 2013-11-03 02:00:00\n",
      "i --> 36098, Anterior --> 2014-11-02 01:00:00, Repetido --> 2014-11-02 01:00:00, Siguiente --> 2014-11-02 02:00:00\n",
      "i --> 44834, Anterior --> 2015-11-01 01:00:00, Repetido --> 2015-11-01 01:00:00, Siguiente --> 2015-11-01 02:00:00\n",
      "i --> 53738, Anterior --> 2016-11-06 01:00:00, Repetido --> 2016-11-06 01:00:00, Siguiente --> 2016-11-06 02:00:00\n",
      "i --> 62474, Anterior --> 2017-11-05 01:00:00, Repetido --> 2017-11-05 01:00:00, Siguiente --> 2017-11-05 02:00:00\n",
      "i --> 71210, Anterior --> 2018-11-04 01:00:00, Repetido --> 2018-11-04 01:00:00, Siguiente --> 2018-11-04 02:00:00\n",
      "i --> 79946, Anterior --> 2019-11-03 01:00:00, Repetido --> 2019-11-03 01:00:00, Siguiente --> 2019-11-03 02:00:00\n",
      "i --> 88682, Anterior --> 2020-11-01 01:00:00, Repetido --> 2020-11-01 01:00:00, Siguiente --> 2020-11-01 02:00:00\n",
      "i --> 97586, Anterior --> 2021-11-07 01:00:00, Repetido --> 2021-11-07 01:00:00, Siguiente --> 2021-11-07 02:00:00\n"
     ]
    }
   ],
   "source": [
    "for i,isDuplicated in enumerate(completeWeatherDf.duplicated(subset=['Date'])):\n",
    "    if isDuplicated:\n",
    "        print(\"i --> {}, Anterior --> {}, Repetido --> {}, Siguiente --> {}\".format(i,completeWeatherDf.iloc[i-1].Date,completeWeatherDf.iloc[i].Date,completeWeatherDf.iloc[i+1].Date))"
   ],
   "metadata": {
    "collapsed": false,
    "pycharm": {
     "name": "#%%\n"
    }
   }
  },
  {
   "cell_type": "markdown",
   "id": "68dea6c8",
   "metadata": {
    "pycharm": {
     "name": "#%% md\n"
    }
   },
   "source": [
    "Observando estos resultados podemos comprobar que el cambio horario se ve presente en el conjunto de datos meteorologicos, por lo que lo adaptare al mismo formato que los datasets de alquileres y devoluciones."
   ]
  },
  {
   "cell_type": "code",
   "execution_count": 336,
   "id": "75672332",
   "metadata": {
    "pycharm": {
     "name": "#%%\n"
    }
   },
   "outputs": [],
   "source": [
    "# Establecemos correctamente las fechas\n",
    "initDate, endDate = datetime(2010,9,20), datetime(2022,4,1)\n",
    "for i,step in enumerate(np.arange(initDate, endDate, timedelta(minutes=60)).astype(datetime)):\n",
    "    completeWeatherDf.at[i, 'Date'] = step"
   ]
  },
  {
   "cell_type": "code",
   "execution_count": 337,
   "id": "684acc27",
   "metadata": {
    "pycharm": {
     "name": "#%%\n"
    }
   },
   "outputs": [
    {
     "data": {
      "text/plain": "<AxesSubplot:>"
     },
     "execution_count": 337,
     "metadata": {},
     "output_type": "execute_result"
    },
    {
     "data": {
      "text/plain": "<Figure size 432x288 with 1 Axes>",
      "image/png": "[encoded data removed]"
     },
     "metadata": {
      "needs_background": "light"
     },
     "output_type": "display_data"
    }
   ],
   "source": [
    "completeWeatherDf['Date'] = pd.to_datetime(completeWeatherDf['Date'])\n",
    "times_gaps = completeWeatherDf.Date - completeWeatherDf.Date.shift(1)\n",
    "times_gaps.plot()"
   ]
  },
  {
   "cell_type": "markdown",
   "id": "22bc226a",
   "metadata": {
    "pycharm": {
     "name": "#%% md\n"
    }
   },
   "source": [
    "### GUARDADO DEL DATAFRAME METEOROLOGICO COMPLETO"
   ]
  },
  {
   "cell_type": "code",
   "execution_count": 338,
   "id": "1b3ee6d6",
   "metadata": {
    "pycharm": {
     "name": "#%%\n"
    }
   },
   "outputs": [],
   "source": [
    "completeWeatherDf.to_csv('../data/completeData/weather/completeWeatherDf.csv', index=False)"
   ]
  },
  {
   "cell_type": "markdown",
   "id": "76b89d14",
   "metadata": {
    "pycharm": {
     "name": "#%% md\n"
    }
   },
   "source": [
    "### CARGA DEL DATAFRAME METEOROLOGICO COMPLETO"
   ]
  },
  {
   "cell_type": "code",
   "execution_count": 341,
   "id": "66fa3774",
   "metadata": {
    "pycharm": {
     "name": "#%%\n"
    }
   },
   "outputs": [],
   "source": [
    "completeWeatherDf = pd.read_csv('../data/completeData/weather/completeWeatherDf.csv')"
   ]
  }
 ],
 "metadata": {
  "kernelspec": {
   "display_name": "Python 3",
   "language": "python",
   "name": "python3"
  },
  "language_info": {
   "codemirror_mode": {
    "name": "ipython",
    "version": 3
   },
   "file_extension": ".py",
   "mimetype": "text/x-python",
   "name": "python",
   "nbconvert_exporter": "python",
   "pygments_lexer": "ipython3",
   "version": "3.9.7"
  }
 },
 "nbformat": 4,
 "nbformat_minor": 5
}