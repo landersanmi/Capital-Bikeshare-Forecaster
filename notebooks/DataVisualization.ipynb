{
 "cells": [
  {
   "cell_type": "markdown",
   "id": "5ffaa2f8",
   "metadata": {
    "pycharm": {
     "name": "#%% md\n"
    }
   },
   "source": [
    "# DATA VISUALIZATION\n",
    "Notebook que contiene el proceso de análisis exploratorio de los datos, en él se observara la correlación entre distintas variables y la distribución de alquileres y devoluciones en relación con ciertos atributos."
   ]
  },
  {
   "cell_type": "markdown",
   "source": [
    "### LIBRERIAS"
   ],
   "metadata": {
    "collapsed": false,
    "pycharm": {
     "name": "#%% md\n"
    }
   }
  },
  {
   "cell_type": "code",
   "execution_count": 57,
   "id": "5029a0bc",
   "metadata": {
    "pycharm": {
     "name": "#%%\n"
    }
   },
   "outputs": [],
   "source": [
    "%matplotlib inline\n",
    "import pandas as pd\n",
    "import matplotlib.pyplot as plt\n",
    "import numpy as np\n",
    "import operator\n",
    "import seaborn as sn\n",
    "import holidays\n",
    "import calendar\n",
    "\n",
    "from scipy.stats import gaussian_kde\n",
    "from datetime import datetime, timedelta, date\n",
    "from statsmodels.tsa.seasonal import seasonal_decompose\n",
    "from statsmodels.graphics.tsaplots import plot_acf, plot_pacf"
   ]
  },
  {
   "cell_type": "markdown",
   "source": [
    "### CARGA DE DATOS"
   ],
   "metadata": {
    "collapsed": false,
    "pycharm": {
     "name": "#%% md\n"
    }
   }
  },
  {
   "cell_type": "code",
   "execution_count": 58,
   "id": "63033e89",
   "metadata": {
    "pycharm": {
     "name": "#%%\n"
    }
   },
   "outputs": [],
   "source": [
    "completeRentalsDf = pd.read_csv('../data/completeData/rentals/completeRentalsDf.csv')\n",
    "completeReturnsDf = pd.read_csv('../data/completeData/returns/completeReturnsDf.csv')"
   ]
  },
  {
   "cell_type": "code",
   "execution_count": 134,
   "outputs": [],
   "source": [
    "completeRentalsDf = pd.read_csv('../data/completeData/rentals/completeRentalsDf_LOG1P.csv')\n",
    "completeReturnsDf = pd.read_csv('../data/completeData/returns/completeReturnsDf_LOG1P.csv')"
   ],
   "metadata": {
    "collapsed": false,
    "pycharm": {
     "name": "#%%\n"
    }
   }
  },
  {
   "cell_type": "code",
   "execution_count": 59,
   "outputs": [],
   "source": [
    "completeRentalsDf['Date'] = pd.to_datetime(completeRentalsDf['Date'])\n",
    "completeReturnsDf['Date'] = pd.to_datetime(completeReturnsDf['Date'])\n",
    "\n",
    "completeRentalsDf.set_index('Date', inplace=True)\n",
    "completeReturnsDf.set_index('Date', inplace=True)"
   ],
   "metadata": {
    "collapsed": false,
    "pycharm": {
     "name": "#%%\n"
    }
   }
  },
  {
   "cell_type": "code",
   "execution_count": 60,
   "outputs": [],
   "source": [
    "weatherDf = pd.read_csv('../data/completeData/weather/completeWeatherDf.csv')\n",
    "weatherDf.drop(columns=['Date'], inplace=True)"
   ],
   "metadata": {
    "collapsed": false,
    "pycharm": {
     "name": "#%%\n"
    }
   }
  },
  {
   "cell_type": "code",
   "execution_count": 61,
   "outputs": [
    {
     "name": "stdout",
     "output_type": "stream",
     "text": [
      "completeRentals DF tiene 101064 filas y 694 columnas\n",
      "completeReturns DF tiene 101064 filas y 694 columnas\n",
      "weather DF tiene 101064 filas y 22 columnas\n"
     ]
    }
   ],
   "source": [
    "print(\"completeRentals DF tiene {} filas y {} columnas\".format(completeRentalsDf.shape[0], completeRentalsDf.shape[1]))\n",
    "print(\"completeReturns DF tiene {} filas y {} columnas\".format(completeReturnsDf.shape[0], completeReturnsDf.shape[1]))\n",
    "print(\"weather DF tiene {} filas y {} columnas\".format(weatherDf.shape[0], weatherDf.shape[1]))"
   ],
   "metadata": {
    "collapsed": false,
    "pycharm": {
     "name": "#%%\n"
    }
   }
  },
  {
   "cell_type": "markdown",
   "source": [
    "## DESCOMPOSICIÓN ESTACIONAL\n",
    "La descomposición de series temporales es una técnica que separa las series temporales en múltiples componentes, representando un patrón de categoría, tendencia, estacionalidad y ruido."
   ],
   "metadata": {
    "collapsed": false,
    "pycharm": {
     "name": "#%% md\n"
    }
   }
  },
  {
   "cell_type": "markdown",
   "source": [
    "### ALQUILERES"
   ],
   "metadata": {
    "collapsed": false,
    "pycharm": {
     "name": "#%% md\n"
    }
   }
  },
  {
   "cell_type": "code",
   "execution_count": null,
   "outputs": [],
   "source": [
    "plt.rcParams[\"figure.figsize\"] = (20,14)"
   ],
   "metadata": {
    "collapsed": false,
    "pycharm": {
     "name": "#%%\n"
    }
   }
  },
  {
   "cell_type": "code",
   "execution_count": null,
   "outputs": [],
   "source": [
    "# Periodo diario\n",
    "additive_decomposition_rentals = seasonal_decompose(completeRentalsDf['31201'], model='additive', period=24)\n",
    "additive_decomposition_rentals.plot().suptitle('Additive Decomposition Rentals', fontsize=14)"
   ],
   "metadata": {
    "collapsed": false,
    "pycharm": {
     "name": "#%%\n"
    }
   }
  },
  {
   "cell_type": "code",
   "execution_count": null,
   "outputs": [],
   "source": [
    "# Periodo semanal\n",
    "additive_decomposition_rentals = seasonal_decompose(completeRentalsDf['31201'], model='additive', period=168)\n",
    "additive_decomposition_rentals.plot().suptitle('Additive Decomposition Rentals', fontsize=14)"
   ],
   "metadata": {
    "collapsed": false,
    "pycharm": {
     "name": "#%%\n"
    }
   }
  },
  {
   "cell_type": "code",
   "execution_count": null,
   "outputs": [],
   "source": [
    "# Periodo mensual\n",
    "additive_decomposition_rentals = seasonal_decompose(completeRentalsDf['31201'], model='additive', period=672)\n",
    "additive_decomposition_rentals.plot().suptitle('Additive Decomposition Rentals', fontsize=18)"
   ],
   "metadata": {
    "collapsed": false,
    "pycharm": {
     "name": "#%%\n"
    }
   }
  },
  {
   "cell_type": "code",
   "execution_count": null,
   "outputs": [],
   "source": [
    "# Periodo anual\n",
    "additive_decomposition_rentals = seasonal_decompose(completeRentalsDf['31201'], model='additive', period=8760)\n",
    "additive_decomposition_rentals.plot().suptitle('Additive Decomposition Rentals', fontsize=14)"
   ],
   "metadata": {
    "collapsed": false,
    "pycharm": {
     "name": "#%%\n"
    }
   }
  },
  {
   "cell_type": "markdown",
   "source": [
    "### DEVOLUCIONES\n",
    "Comprobamos que el aspecto de la descomposición de las devoluciones sea similar."
   ],
   "metadata": {
    "collapsed": false,
    "pycharm": {
     "name": "#%% md\n"
    }
   }
  },
  {
   "cell_type": "code",
   "execution_count": null,
   "outputs": [],
   "source": [
    "# Periodo mensual\n",
    "additive_decomposition_rentals = seasonal_decompose(completeReturnsDf['31201'], model='additive', period=672)\n",
    "additive_decomposition_rentals.plot().suptitle('Additive Decomposition Returns', fontsize=14)"
   ],
   "metadata": {
    "collapsed": false,
    "pycharm": {
     "name": "#%%\n"
    }
   }
  },
  {
   "cell_type": "markdown",
   "source": [
    "## AUTOCORRELACIÓN Y AUTOCORRELACIÓN PARCIAL\n",
    "Es de interés observar cuáles son los lags con los que la serie temporal de cada estación se relaciona más consigo misma."
   ],
   "metadata": {
    "collapsed": false,
    "pycharm": {
     "name": "#%% md\n"
    }
   }
  },
  {
   "cell_type": "markdown",
   "source": [
    "### ALQUILERES"
   ],
   "metadata": {
    "collapsed": false,
    "pycharm": {
     "name": "#%% md\n"
    }
   }
  },
  {
   "cell_type": "code",
   "execution_count": null,
   "outputs": [],
   "source": [
    "fig, (ax1, ax2) = plt.subplots(nrows=2, ncols=1, figsize = (15,12))\n",
    "plot_acf(completeRentalsDf['31201'], lags =672, ax = ax1)\n",
    "plot_pacf(completeRentalsDf['31201'], lags =672, ax = ax2)\n",
    "plt.show()"
   ],
   "metadata": {
    "collapsed": false,
    "pycharm": {
     "name": "#%%\n"
    }
   }
  },
  {
   "cell_type": "code",
   "execution_count": null,
   "outputs": [],
   "source": [
    "fig, (ax1, ax2) = plt.subplots(nrows=2, ncols=1, figsize = (15,12))\n",
    "plot_acf(completeRentalsDf['31201'], lags =170, ax = ax1)\n",
    "plot_pacf(completeRentalsDf['31201'], lags =170, ax = ax2)\n",
    "plt.show()"
   ],
   "metadata": {
    "collapsed": false,
    "pycharm": {
     "name": "#%%\n"
    }
   }
  },
  {
   "cell_type": "markdown",
   "source": [
    "Al parecer, los lags mútiplos de 24 generan picos de auto correlación parcial. Cabe destacar que para el modelo predictivo de un día completo, no se contara con los datos de las primeras 23 horas, por lo que estas se descartan del análisis."
   ],
   "metadata": {
    "collapsed": false,
    "pycharm": {
     "name": "#%% md\n"
    }
   }
  },
  {
   "cell_type": "markdown",
   "source": [
    "### DEVOLUCIONES"
   ],
   "metadata": {
    "collapsed": false,
    "pycharm": {
     "name": "#%% md\n"
    }
   }
  },
  {
   "cell_type": "code",
   "execution_count": null,
   "outputs": [],
   "source": [
    "fig, (ax1, ax2) = plt.subplots(nrows=2, ncols=1, figsize = (15,12))\n",
    "plot_acf(completeReturnsDf['31201'], lags =170, ax = ax1)\n",
    "plot_pacf(completeReturnsDf['31201'], lags =170, ax = ax2)\n",
    "plt.show()"
   ],
   "metadata": {
    "collapsed": false,
    "pycharm": {
     "name": "#%%\n"
    }
   }
  },
  {
   "cell_type": "markdown",
   "source": [
    "Al parecer, esta correlación también se mantiene en los datos de devoluciónes."
   ],
   "metadata": {
    "collapsed": false,
    "pycharm": {
     "name": "#%% md\n"
    }
   }
  },
  {
   "cell_type": "code",
   "execution_count": null,
   "outputs": [],
   "source": [
    "fig, (ax1, ax2) = plt.subplots(nrows=2, ncols=1, figsize = (15,12))\n",
    "plot_acf(completeReturnsDf['31105'], lags =170, ax = ax1)\n",
    "plot_pacf(completeReturnsDf['31105'], lags =170, ax = ax2)\n",
    "plt.show()"
   ],
   "metadata": {
    "collapsed": false,
    "pycharm": {
     "name": "#%%\n"
    }
   }
  },
  {
   "cell_type": "markdown",
   "source": [
    "... y en los datos de otras estaciones."
   ],
   "metadata": {
    "collapsed": false,
    "pycharm": {
     "name": "#%% md\n"
    }
   }
  },
  {
   "cell_type": "markdown",
   "source": [
    "## AGREGAR DATOS HISTÓRICOS PREVIOS\n",
    "Para el análisis de los datos existentes, se van a agregar ciertos datos históricos previos derivados de los mismos."
   ],
   "metadata": {
    "collapsed": false,
    "pycharm": {
     "name": "#%% md\n"
    }
   }
  },
  {
   "cell_type": "markdown",
   "source": [
    "#### DATOS DE ALQUILERES Y DEVOLUCIONES"
   ],
   "metadata": {
    "collapsed": false,
    "pycharm": {
     "name": "#%% md\n"
    }
   }
  },
  {
   "cell_type": "code",
   "execution_count": null,
   "outputs": [],
   "source": [
    "completeRentalsLaggedDf = completeRentalsDf.copy()\n",
    "completeReturnsLaggedDf = completeReturnsDf.copy()\n",
    "\n",
    "lags = [24, 48, 168]\n",
    "for lag in lags:\n",
    "    shiftedRentals = completeRentalsDf.shift(lag)\n",
    "    shiftedRentals.columns = [columnName + \"_lag\" + str(lag) for columnName in completeRentalsDf.columns]\n",
    "    completeRentalsLaggedDf = pd.concat((completeRentalsLaggedDf, shiftedRentals), axis=1)\n",
    "\n",
    "    shiftedReturns = completeReturnsDf.shift(lag)\n",
    "    shiftedReturns.columns = [columnName + \"_lag\" + str(lag) for columnName in completeReturnsDf.columns]\n",
    "    completeReturnsLaggedDf = pd.concat((completeReturnsLaggedDf, shiftedReturns), axis=1)\n",
    "\n",
    "completeRentalsLaggedDf.dropna(inplace=True)\n",
    "completeReturnsLaggedDf.dropna(inplace=True)"
   ],
   "metadata": {
    "collapsed": false,
    "pycharm": {
     "name": "#%%\n"
    }
   }
  },
  {
   "cell_type": "code",
   "execution_count": null,
   "outputs": [],
   "source": [
    "print(\"El dataframe de alquileres con datos laggeados tiene {} filas y {} columnas\".format(completeRentalsLaggedDf.shape[0], completeRentalsLaggedDf.shape[1]))\n",
    "print(\"El dataframe de devoluciones con datos laggeados tiene {} filas y {} columnas\".format(completeReturnsLaggedDf.shape[0], completeReturnsLaggedDf.shape[1]))"
   ],
   "metadata": {
    "collapsed": false,
    "pycharm": {
     "name": "#%%\n"
    }
   }
  },
  {
   "cell_type": "code",
   "execution_count": null,
   "outputs": [],
   "source": [
    "dates = completeRentalsLaggedDf.index # Se almacenan las fechas para un uso posteriorr\n",
    "completeRentalsDf = completeRentalsLaggedDf\n",
    "completeReturnsDf = completeReturnsLaggedDf"
   ],
   "metadata": {
    "collapsed": false,
    "pycharm": {
     "name": "#%%\n"
    }
   }
  },
  {
   "cell_type": "markdown",
   "source": [
    "Comprobamos que los lags se han generado correctamente."
   ],
   "metadata": {
    "collapsed": false,
    "pycharm": {
     "name": "#%% md\n"
    }
   }
  },
  {
   "cell_type": "code",
   "execution_count": null,
   "outputs": [],
   "source": [
    "completeRentalsDf[['0', '0_lag24', '0_lag48', '0_lag168']].tail(49)"
   ],
   "metadata": {
    "collapsed": false,
    "pycharm": {
     "name": "#%%\n"
    }
   }
  },
  {
   "cell_type": "markdown",
   "source": [
    "### DATOS METEOROLÓGICOS\n",
    "Tras comprobar que la temperatura, humedad y la condición 'parcialmente nublado' son las variables meteorológicas que más correlación mantienen con los datos de alquileres y devoluciones, se hará uso de esos atributos y se añadirán lags de los mismos."
   ],
   "metadata": {
    "collapsed": false,
    "pycharm": {
     "name": "#%% md\n"
    }
   }
  },
  {
   "cell_type": "code",
   "execution_count": null,
   "outputs": [],
   "source": [
    "weatherDf = weatherDf[['temp', 'humidity', 'conditions_Partially cloudy']]\n",
    "weatherLaggedDf = weatherDf.copy()\n",
    "\n",
    "lags = [1, 24, 48, 168]\n",
    "for lag in lags:\n",
    "    shiftedWeather = weatherDf.shift(lag)\n",
    "    shiftedWeather.columns = [columnName + \"_lag\" + str(lag) for columnName in weatherDf.columns]\n",
    "    weatherLaggedDf = pd.concat((weatherLaggedDf, shiftedWeather), axis=1)\n",
    "\n",
    "weatherLaggedDf.dropna(inplace=True)\n",
    "weatherLaggedDf['temp^2'] = weatherLaggedDf['temp']**2\n",
    "weatherLaggedDf['temp^2_lag1'] = weatherLaggedDf['temp_lag1']**2\n",
    "weatherLaggedDf['temp^2_lag24'] = weatherLaggedDf['temp_lag24']**2\n",
    "weatherLaggedDf['temp^2_lag168'] = weatherLaggedDf['temp_lag168']**2\n",
    "weatherDf = weatherLaggedDf"
   ],
   "metadata": {
    "collapsed": false,
    "pycharm": {
     "name": "#%%\n"
    }
   }
  },
  {
   "cell_type": "markdown",
   "source": [
    "### DATOS RELACIONADOS CON LA FECHA\n",
    "En último lugar, vamos a añadir ciertas características nuevas derivadas de la fecha, como puede ser la hora, día, festivo, etc. Se hace sobre weatherDf para solo tener que modificar un DataFrame."
   ],
   "metadata": {
    "collapsed": false,
    "pycharm": {
     "name": "#%% md\n"
    }
   }
  },
  {
   "cell_type": "code",
   "execution_count": null,
   "outputs": [],
   "source": [
    "weekdays = { 0: 'Monday', 1: 'Tuesday', 2: 'Wednesday', 3: 'Thursday', 4: 'Friday', 5: 'Saturday', 6: 'Sunday'}\n",
    "holidays_dc = holidays.US(state='DC')"
   ],
   "metadata": {
    "collapsed": false,
    "pycharm": {
     "name": "#%%\n"
    }
   }
  },
  {
   "cell_type": "code",
   "execution_count": null,
   "outputs": [],
   "source": [
    "weatherDf['Hour'], weatherDf['Day'], weatherDf['Month'], weatherDf['Year'], weatherDf['Holiday'], weatherDf['After-Holiday'], weatherDf['System OOS'] = -1, -1, -1, -1, -1, -1, -1\n",
    "weatherDf['Weekday'] = \"\"\n",
    "weatherDf['Date'] = dates"
   ],
   "metadata": {
    "collapsed": false,
    "pycharm": {
     "name": "#%%\n"
    }
   }
  },
  {
   "cell_type": "code",
   "execution_count": null,
   "outputs": [],
   "source": [
    "weatherDf.reset_index(inplace=True)\n",
    "for i, row in enumerate(weatherDf.itertuples()):\n",
    "    weatherDf.at[i, 'Hour'] = row.Date.hour\n",
    "    weatherDf.at[i, 'Day'] = row.Date.day\n",
    "    weatherDf.at[i, 'Month'] = row.Date.month\n",
    "    weatherDf.at[i, 'Year'] = row.Date.year\n",
    "    weatherDf.at[i, 'Weekday'] = weekdays.get(row.Date.weekday())\n",
    "    weatherDf.at[i, 'Holiday'] = 1 if row.Date.date() in holidays_dc else 0\n",
    "    weatherDf.at[i, 'After-Holiday'] = 1 if row.Date.date()- timedelta(days=1) in holidays_dc else 0\n",
    "    weatherDf.at[i, 'System OOS'] = 1 if row.Date.date() >= date(2016, 1, 23) and row.Date.date() <= date(2016, 1, 26) else 0\n",
    "\n",
    "weatherDf = pd.get_dummies(weatherDf, columns=['Weekday'])\n",
    "weatherDf.set_index('Date', inplace=True)\n",
    "weatherDf.drop('index', axis=1, inplace=True)"
   ],
   "metadata": {
    "collapsed": false,
    "pycharm": {
     "name": "#%%\n"
    }
   }
  },
  {
   "cell_type": "code",
   "execution_count": null,
   "outputs": [],
   "source": [
    "weatherDf.tail(5)"
   ],
   "metadata": {
    "collapsed": false,
    "pycharm": {
     "name": "#%%\n"
    }
   }
  },
  {
   "cell_type": "markdown",
   "source": [
    "## MATRIZ DE CORRELACIÓN\n",
    "Como calcular una matriz de correlación para las 680 estaciones resulta computacionalmente costoso y lento, se observaran solo algunas de las estaciones."
   ],
   "metadata": {
    "collapsed": false,
    "pycharm": {
     "name": "#%% md\n"
    }
   }
  },
  {
   "cell_type": "code",
   "execution_count": null,
   "outputs": [],
   "source": [
    "stations = []\n",
    "for stationNumber in range(31200, 31205, 1):\n",
    "    stations.append('%05i' % stationNumber)\n",
    "    stations.append('%05i' % stationNumber + '_lag24')\n",
    "    stations.append('%05i' % stationNumber + '_lag48')\n",
    "    stations.append('%05i' % stationNumber + '_lag168')\n",
    "\n",
    "completeRentalsDf = completeRentalsDf.loc[:, completeRentalsDf.columns.isin(stations)]\n",
    "completeReturnsDf = completeReturnsDf.loc[:, completeReturnsDf.columns.isin(stations)]"
   ],
   "metadata": {
    "collapsed": false,
    "pycharm": {
     "name": "#%%\n"
    }
   }
  },
  {
   "cell_type": "code",
   "execution_count": null,
   "outputs": [],
   "source": [
    "print(\"completeRentals DF tiene {} filas y {} columnas\".format(completeRentalsDf.shape[0], completeRentalsDf.shape[1]))\n",
    "print(\"completeReturns DF tiene {} filas y {} columnas\".format(completeReturnsDf.shape[0], completeReturnsDf.shape[1]))\n",
    "print(\"weather DF tiene {} filas y {} columnas\".format(weatherDf.shape[0], weatherDf.shape[1]))"
   ],
   "metadata": {
    "collapsed": false,
    "pycharm": {
     "name": "#%%\n"
    }
   }
  },
  {
   "cell_type": "code",
   "execution_count": null,
   "outputs": [],
   "source": [
    "completeRentalsDf = pd.concat([completeRentalsDf.reset_index(drop=True), weatherDf.reset_index(drop=True)], axis=1)\n",
    "completeReturnsDf = pd.concat([completeReturnsDf.reset_index(drop=True), weatherDf.reset_index(drop=True)], axis=1)"
   ],
   "metadata": {
    "collapsed": false,
    "pycharm": {
     "name": "#%%\n"
    }
   }
  },
  {
   "cell_type": "code",
   "execution_count": null,
   "outputs": [],
   "source": [
    "print(\"completeRentals DF tiene {} filas y {} columnas\".format(completeRentalsDf.shape[0], completeRentalsDf.shape[1]))\n",
    "print(\"completeReturns DF tiene {} filas y {} columnas\".format(completeReturnsDf.shape[0], completeReturnsDf.shape[1]))"
   ],
   "metadata": {
    "collapsed": false,
    "pycharm": {
     "name": "#%%\n"
    }
   }
  },
  {
   "cell_type": "code",
   "execution_count": null,
   "outputs": [],
   "source": [
    "completeRentalsDf['Date'] = dates\n",
    "completeReturnsDf['Date'] = dates\n",
    "completeRentalsDf.set_index('Date', inplace=True)\n",
    "completeReturnsDf.set_index('Date', inplace=True)"
   ],
   "metadata": {
    "collapsed": false,
    "pycharm": {
     "name": "#%%\n"
    }
   }
  },
  {
   "cell_type": "code",
   "execution_count": null,
   "outputs": [],
   "source": [
    "completeRentalsDf.tail(5)"
   ],
   "metadata": {
    "collapsed": false,
    "pycharm": {
     "name": "#%%\n"
    }
   }
  },
  {
   "cell_type": "markdown",
   "source": [
    "### CORRELACIÓN ENTRE VARIABLES - ALQUILERES"
   ],
   "metadata": {
    "collapsed": false,
    "pycharm": {
     "name": "#%% md\n"
    }
   }
  },
  {
   "cell_type": "code",
   "execution_count": null,
   "outputs": [],
   "source": [
    "plt.rcParams[\"figure.figsize\"] = (50,40)\n",
    "corrMatrixRentals = completeRentalsDf.corr()\n",
    "sn.heatmap(corrMatrixRentals, annot=True)\n",
    "plt.show()"
   ],
   "metadata": {
    "collapsed": false,
    "pycharm": {
     "name": "#%%\n"
    }
   }
  },
  {
   "cell_type": "markdown",
   "source": [
    "### CORRELACIÓN ENTRE VARIABLES - DEVOLUCIONES"
   ],
   "metadata": {
    "collapsed": false,
    "pycharm": {
     "name": "#%% md\n"
    }
   }
  },
  {
   "cell_type": "code",
   "execution_count": null,
   "outputs": [],
   "source": [
    "corrMatrixReturns = completeReturnsDf.corr()\n",
    "sn.heatmap(corrMatrixReturns, annot=True)\n",
    "plt.show()"
   ],
   "metadata": {
    "collapsed": false,
    "pycharm": {
     "name": "#%%\n"
    }
   }
  },
  {
   "cell_type": "markdown",
   "source": [
    "## DISTRIBUCION DE LOS ALQUILERES Y DEVOLUCIONES RESPECTO A OTRAS VARIABLES"
   ],
   "metadata": {
    "collapsed": false,
    "pycharm": {
     "name": "#%% md\n"
    }
   }
  },
  {
   "cell_type": "code",
   "execution_count": null,
   "outputs": [],
   "source": [
    "completeRentalsDf['Date'] = dates\n",
    "completeReturnsDf['Date'] = dates\n",
    "weatherDf['Date'] = dates"
   ],
   "metadata": {
    "collapsed": false,
    "pycharm": {
     "name": "#%%\n"
    }
   }
  },
  {
   "cell_type": "code",
   "execution_count": null,
   "outputs": [],
   "source": [
    "def scatterPlot(df, startDate, endDate, columns, colors, xColumn, yLabel):\n",
    "    df['Date'] = pd.to_datetime(df['Date'])\n",
    "    dfFiltered = df[ (df['Date'] >= startDate) & (df['Date'] < endDate) ]\n",
    "\n",
    "    for i,column in enumerate(columns):\n",
    "        if i==0:\n",
    "            ax1 = dfFiltered.plot(kind='scatter', x=xColumn, y=column, color=colors[i], figsize=(30,10), label=column)\n",
    "        else:\n",
    "            ax = dfFiltered.plot(kind='scatter', x=xColumn, y=column, color=colors[i], ax=ax1, label=column)\n",
    "        ax1.set_ylabel(yLabel)\n",
    "\n",
    "def densityScatterPlot(x, y, cmap, xLabel, yLabel, title):\n",
    "    plt.rcParams[\"figure.figsize\"] = (15,5)\n",
    "    xy = np.vstack([x, y])\n",
    "    z = gaussian_kde(xy)(xy)\n",
    "    fig, ax = plt.subplots()\n",
    "    plt.scatter(x, y, c=z, s=15,cmap = cmap)\n",
    "    plt.xlabel(xLabel,size = 10)\n",
    "    plt.ylabel(yLabel,size = 10)\n",
    "    plt.title(title)\n",
    "    cb = plt.colorbar()\n",
    "    plt.show()\n",
    "\n",
    "def groupedLinePlot(df, startDate, endDate, groupVariable, columns, yColumn, yLabel, title ):\n",
    "    df['Date'] = pd.to_datetime(df['Date'])\n",
    "    dfFiltered = df[ (df['Date'] >= startDate) & (df['Date'] < endDate) ]\n",
    "    for i,column in enumerate(columns):\n",
    "        dfFiltered2 = dfFiltered[dfFiltered[column]>0]\n",
    "        dfGrouped = dfFiltered2.groupby([groupVariable]).mean()\n",
    "        dfGrouped['Hour'] = dfGrouped.index.values\n",
    "        if i==0:\n",
    "            ax1 = dfGrouped.plot.line(x=groupVariable, y=yColumn, title=title)\n",
    "        else:\n",
    "            dfGrouped.plot.line(x=groupVariable, y=yColumn, ax=ax1)\n",
    "    ax1.set_ylabel(yLabel)\n",
    "    ax1.legend(columns)\n",
    "\n",
    "def monthlyScatterPlot(df, startDate, endDate, station, column, months):\n",
    "    df['Date'] = pd.to_datetime(df['Date'])\n",
    "    dfFiltered = df[ (df['Date'] >= startDate) & (df['Date'] < endDate) ]\n",
    "\n",
    "    fig, ax = plt.subplots(3, 4, sharey=True, figsize=(30,15))\n",
    "    if column == 'Hour':\n",
    "        xlim = [-1, 24]\n",
    "    elif column == 'temp':\n",
    "        xlim = [-20, 45]\n",
    "    elif column == 'humidity':\n",
    "        xlim = [0, 110]\n",
    "\n",
    "    month=1\n",
    "    for x in range(0,3,1):\n",
    "        for y in range(0,4,1):\n",
    "            dfFiltered2 = dfFiltered[dfFiltered['Month'] == month]\n",
    "            ax[x,y].scatter(dfFiltered2[column], dfFiltered2[station])\n",
    "            ax[x,y].set_xlim(xlim)\n",
    "            ax[x,y].set_ylabel(station)\n",
    "            ax[x,y].set_title(months[month-1])\n",
    "            month+=1\n",
    "\n",
    "def hourlyScatterPlot(df, startDate, endDate, station, column, hours):\n",
    "    df['Date'] = pd.to_datetime(df['Date'])\n",
    "    dfFiltered = df[ (df['Date'] >= startDate) & (df['Date'] < endDate) ]\n",
    "\n",
    "    fig, ax = plt.subplots(4, 6, sharey=True, figsize=(30,15))\n",
    "    if column == 'temp':\n",
    "        xlim = [-20, 45]\n",
    "    elif column == 'humidity':\n",
    "        xlim = [0, 110]\n",
    "\n",
    "    hour=0\n",
    "    for x in range(0,4,1):\n",
    "        for y in range(0,6,1):\n",
    "            dfFiltered2 = dfFiltered[dfFiltered['Hour'] == hour]\n",
    "            ax[x,y].scatter(dfFiltered2[column], dfFiltered2[station])\n",
    "            ax[x,y].set_xlim(xlim)\n",
    "            ax[x,y].set_ylabel(station)\n",
    "            ax[x,y].set_title(hours[hour])\n",
    "            hour+=1\n"
   ],
   "metadata": {
    "collapsed": false,
    "pycharm": {
     "name": "#%%\n"
    }
   }
  },
  {
   "cell_type": "code",
   "execution_count": null,
   "outputs": [],
   "source": [
    "columns = ['31200','31201', '31202']\n",
    "colors = ['r', 'b', 'g']\n",
    "weekdays = ['Weekday_Monday', 'Weekday_Tuesday', 'Weekday_Wednesday', 'Weekday_Thursday', 'Weekday_Friday', 'Weekday_Saturday', 'Weekday_Sunday']\n",
    "months = [x for x in calendar.month_name if x]\n",
    "hours = ['00:00', '01:00', '02:00', '03:00', '04:00', '05:00', '06:00', '07:00', '08:00', '09:00', '10:00', '11:00', '12:00', '13:00', '14:00', '15:00', '16:00', '17:00', '18:00', '19:00', '20:00', '21:00', '22:00', '23:00']"
   ],
   "metadata": {
    "collapsed": false,
    "pycharm": {
     "name": "#%%\n"
    }
   }
  },
  {
   "cell_type": "code",
   "execution_count": null,
   "outputs": [],
   "source": [
    "plt.rcParams[\"figure.figsize\"] = (15,5)"
   ],
   "metadata": {
    "collapsed": false,
    "pycharm": {
     "name": "#%%\n"
    }
   }
  },
  {
   "cell_type": "code",
   "execution_count": null,
   "outputs": [],
   "source": [
    "groupedLinePlot(completeRentalsDf, datetime(2010,9,27), datetime(2022,4,1), 'Hour', weekdays, '31201', \"Nº Rentals\", \"Rentals mean per weekday\")"
   ],
   "metadata": {
    "collapsed": false,
    "pycharm": {
     "name": "#%%\n"
    }
   }
  },
  {
   "cell_type": "code",
   "execution_count": null,
   "outputs": [],
   "source": [
    "groupedLinePlot(completeReturnsDf, datetime(2010,9,27), datetime(2022,4,1), 'Hour', weekdays, '31201', \"Nº Returns\", \"Returns mean per weekday\")"
   ],
   "metadata": {
    "collapsed": false,
    "pycharm": {
     "name": "#%%\n"
    }
   }
  },
  {
   "cell_type": "code",
   "execution_count": null,
   "outputs": [],
   "source": [
    "groupedLinePlot(completeReturnsDf, datetime(2010,9,27), datetime(2022,4,1), 'Hour', weekdays, '31203', \"Nº Returns\", \"Returns mean per weekday\")"
   ],
   "metadata": {
    "collapsed": false,
    "pycharm": {
     "name": "#%%\n"
    }
   }
  },
  {
   "cell_type": "code",
   "execution_count": null,
   "outputs": [],
   "source": [
    "groupedLinePlot(completeReturnsDf, datetime(2010,9,27), datetime(2022,4,1), 'Hour', weekdays, '31204', \"Nº Returns\", \"Returns mean per weekday\")"
   ],
   "metadata": {
    "collapsed": false,
    "pycharm": {
     "name": "#%%\n"
    }
   }
  },
  {
   "cell_type": "code",
   "execution_count": null,
   "outputs": [],
   "source": [
    "scatterPlot(completeRentalsDf, datetime(2018,1,1), datetime(2018,2,1), columns, colors, \"Date\", \"Nº Rentals\")"
   ],
   "metadata": {
    "collapsed": false,
    "pycharm": {
     "name": "#%%\n"
    }
   }
  },
  {
   "cell_type": "code",
   "execution_count": null,
   "outputs": [],
   "source": [
    "scatterPlot(completeRentalsDf, datetime(2020,1,1), datetime(2020,2,1), columns, colors, \"Date\", \"Nº Rentals\")"
   ],
   "metadata": {
    "collapsed": false,
    "pycharm": {
     "name": "#%%\n"
    }
   }
  },
  {
   "cell_type": "code",
   "execution_count": null,
   "outputs": [],
   "source": [
    "scatterPlot(completeRentalsDf, datetime(2022,1,1), datetime(2022,2,1), columns, colors, \"Date\", \"Nº Rentals\")"
   ],
   "metadata": {
    "collapsed": false,
    "pycharm": {
     "name": "#%%\n"
    }
   }
  },
  {
   "cell_type": "code",
   "execution_count": null,
   "outputs": [],
   "source": [
    "scatterPlot(completeReturnsDf, datetime(2018,1,1), datetime(2018,2,1), columns, colors, \"Date\", \"Nº Returns\")"
   ],
   "metadata": {
    "collapsed": false,
    "pycharm": {
     "name": "#%%\n"
    }
   }
  },
  {
   "cell_type": "code",
   "execution_count": null,
   "outputs": [],
   "source": [
    "scatterPlot(completeReturnsDf, datetime(2020,1,1), datetime(2020,2,1), columns, colors, \"Date\", \"Nº Returns\")"
   ],
   "metadata": {
    "collapsed": false,
    "pycharm": {
     "name": "#%%\n"
    }
   }
  },
  {
   "cell_type": "code",
   "execution_count": null,
   "outputs": [],
   "source": [
    "scatterPlot(completeReturnsDf, datetime(2022,1,1), datetime(2022,2,1), columns, colors, \"Date\", \"Nº Returns\")"
   ],
   "metadata": {
    "collapsed": false,
    "pycharm": {
     "name": "#%%\n"
    }
   }
  },
  {
   "cell_type": "code",
   "execution_count": null,
   "outputs": [],
   "source": [
    "scatterPlot(completeRentalsDf, datetime(2010,9,27), datetime(2022,4,1), ['31201'], colors, \"Date\", \"Nº Rentals\")"
   ],
   "metadata": {
    "collapsed": false,
    "pycharm": {
     "name": "#%%\n"
    }
   }
  },
  {
   "cell_type": "code",
   "execution_count": null,
   "outputs": [],
   "source": [
    "scatterPlot(weatherDf, datetime(2010,9,27), datetime(2022,4,1), ['humidity','temp'], colors, \"Date\", \"Temperature\")"
   ],
   "metadata": {
    "collapsed": false,
    "pycharm": {
     "name": "#%%\n"
    }
   }
  },
  {
   "cell_type": "code",
   "execution_count": null,
   "outputs": [],
   "source": [
    "scatterPlot(completeReturnsDf, datetime(2010,9,27), datetime(2022,4,1), ['31201'], colors, \"Date\", \"Nº Returns\")"
   ],
   "metadata": {
    "collapsed": false,
    "pycharm": {
     "name": "#%%\n"
    }
   }
  },
  {
   "cell_type": "code",
   "execution_count": null,
   "outputs": [],
   "source": [
    "densityScatterPlot(completeRentalsDf['temp'], completeRentalsDf['31201'], 'viridis', 'Temperature' , 'Nº Rentals', 'Rentals per temperature')"
   ],
   "metadata": {
    "collapsed": false,
    "pycharm": {
     "name": "#%%\n"
    }
   }
  },
  {
   "cell_type": "code",
   "execution_count": null,
   "outputs": [],
   "source": [
    "densityScatterPlot(completeReturnsDf['temp'], completeReturnsDf['31201'], 'viridis', 'Temperature' , 'Nº Returns', 'Returns per temperature')"
   ],
   "metadata": {
    "collapsed": false,
    "pycharm": {
     "name": "#%%\n"
    }
   }
  },
  {
   "cell_type": "code",
   "execution_count": null,
   "outputs": [],
   "source": [
    "monthlyScatterPlot(completeRentalsDf, datetime(2010,9,27), datetime(2022,4,1), '31201', 'Hour', months)"
   ],
   "metadata": {
    "collapsed": false,
    "pycharm": {
     "name": "#%%\n"
    }
   }
  },
  {
   "cell_type": "code",
   "execution_count": null,
   "outputs": [],
   "source": [
    "monthlyScatterPlot(completeReturnsDf, datetime(2010,9,27), datetime(2022,4,1), '31201', 'Hour', months)"
   ],
   "metadata": {
    "collapsed": false,
    "pycharm": {
     "name": "#%%\n"
    }
   }
  },
  {
   "cell_type": "code",
   "execution_count": null,
   "outputs": [],
   "source": [
    "monthlyScatterPlot(completeRentalsDf, datetime(2010,9,27), datetime(2022,4,1), '31201', 'temp', months)"
   ],
   "metadata": {
    "collapsed": false,
    "pycharm": {
     "name": "#%%\n"
    }
   }
  },
  {
   "cell_type": "code",
   "execution_count": null,
   "outputs": [],
   "source": [
    "monthlyScatterPlot(completeReturnsDf, datetime(2010,9,27), datetime(2022,4,1), '31201', 'temp', months)"
   ],
   "metadata": {
    "collapsed": false,
    "pycharm": {
     "name": "#%%\n"
    }
   }
  },
  {
   "cell_type": "code",
   "execution_count": null,
   "outputs": [],
   "source": [
    "monthlyScatterPlot(completeRentalsDf, datetime(2010,9,27), datetime(2022,4,1), '31201', 'humidity', months)"
   ],
   "metadata": {
    "collapsed": false,
    "pycharm": {
     "name": "#%%\n"
    }
   }
  },
  {
   "cell_type": "code",
   "execution_count": null,
   "outputs": [],
   "source": [
    "monthlyScatterPlot(completeReturnsDf, datetime(2010,9,27), datetime(2022,4,1), '31201', 'humidity', months)"
   ],
   "metadata": {
    "collapsed": false,
    "pycharm": {
     "name": "#%%\n"
    }
   }
  },
  {
   "cell_type": "code",
   "execution_count": null,
   "outputs": [],
   "source": [
    "hourlyScatterPlot(completeRentalsDf, datetime(2010,9,27), datetime(2022,4,1), '31201', 'temp', hours)"
   ],
   "metadata": {
    "collapsed": false,
    "pycharm": {
     "name": "#%%\n"
    }
   }
  },
  {
   "cell_type": "code",
   "execution_count": null,
   "outputs": [],
   "source": [
    "hourlyScatterPlot(completeReturnsDf, datetime(2010,9,27), datetime(2022,4,1), '31201', 'temp', hours)"
   ],
   "metadata": {
    "collapsed": false,
    "pycharm": {
     "name": "#%%\n"
    }
   }
  },
  {
   "cell_type": "code",
   "execution_count": null,
   "outputs": [],
   "source": [
    "hourlyScatterPlot(completeRentalsDf, datetime(2010,9,27), datetime(2022,4,1), '31201', 'humidity', hours)"
   ],
   "metadata": {
    "collapsed": false,
    "pycharm": {
     "name": "#%%\n"
    }
   }
  },
  {
   "cell_type": "code",
   "execution_count": null,
   "outputs": [],
   "source": [
    "hourlyScatterPlot(completeReturnsDf, datetime(2010,9,27), datetime(2022,4,1), '31201', 'humidity', hours)"
   ],
   "metadata": {
    "collapsed": false,
    "pycharm": {
     "name": "#%%\n"
    }
   }
  },
  {
   "cell_type": "markdown",
   "source": [
    "### GUARDAR DATAFRAME CON VARIABLES EXOGENAS"
   ],
   "metadata": {
    "collapsed": false,
    "pycharm": {
     "name": "#%% md\n"
    }
   }
  },
  {
   "cell_type": "code",
   "execution_count": null,
   "outputs": [],
   "source": [
    "completeRentalsDf.to_csv(\"../data/completeData/rentals/completeRentalsDf_EXOGVAR.csv\")\n",
    "completeReturnsDf.to_csv(\"../data/completeData/returns/completeReturnsDf_EXOGVAR.csv\")"
   ],
   "metadata": {
    "collapsed": false,
    "pycharm": {
     "name": "#%%\n"
    }
   }
  },
  {
   "cell_type": "code",
   "execution_count": null,
   "outputs": [],
   "source": [
    "completeRentalsDf.to_csv(\"../data/completeData/rentals/completeRentalsDf_LOG1P_EXOGVAR.csv\")\n",
    "completeReturnsDf.to_csv(\"../data/completeData/returns/completeReturnsDf_LOG1P_EXOGVAR.csv\")"
   ],
   "metadata": {
    "collapsed": false,
    "pycharm": {
     "name": "#%%\n"
    }
   }
  },
  {
   "cell_type": "markdown",
   "source": [
    "### ESTACIONES CON MAYOR NUMERO DE ALQUILERES Y DEVOLUCIONES"
   ],
   "metadata": {
    "collapsed": false,
    "pycharm": {
     "name": "#%% md\n"
    }
   }
  },
  {
   "cell_type": "code",
   "execution_count": null,
   "outputs": [],
   "source": [
    "nullCountRentals, nullCountReturns, nullCount = {}, {}, {}\n",
    "for columnName in completeRentalsDf.columns:\n",
    "    nullCountRentals[columnName] = (completeRentalsDf[columnName] == 0).sum()\n",
    "    nullCountReturns[columnName] = (completeReturnsDf[columnName] == 0).sum()\n",
    "    nullCount[columnName] = (completeRentalsDf[columnName] == 0).sum() + (completeReturnsDf[columnName] == 0).sum()\n",
    "\n",
    "sortedNullCountRentals = sorted(nullCountRentals.items(), key=operator.itemgetter(1))\n",
    "sortedNullCountReturns = sorted(nullCountReturns.items(), key=operator.itemgetter(1))\n",
    "sortedNullCount = sorted(nullCount.items(), key=operator.itemgetter(1))"
   ],
   "metadata": {
    "collapsed": false,
    "pycharm": {
     "name": "#%%\n"
    }
   }
  },
  {
   "cell_type": "code",
   "execution_count": null,
   "outputs": [],
   "source": [
    "plt.rcParams[\"figure.figsize\"] = (30,10)\n",
    "plt.bar(*zip(*sortedNullCountRentals[0:40]))\n",
    "plt.title(\"Nº de horas sin alquileres\")\n",
    "plt.show()"
   ],
   "metadata": {
    "collapsed": false,
    "pycharm": {
     "name": "#%%\n"
    }
   }
  },
  {
   "cell_type": "code",
   "execution_count": null,
   "outputs": [],
   "source": [
    "file = open(\"../data/completeData/stations/frequentedRentalsStations.txt\", \"w\")\n",
    "for row in sortedNullCountRentals[0:49]:\n",
    "    file.write(str(row[0]) + \"\\n\")\n",
    "file.close()"
   ],
   "metadata": {
    "collapsed": false,
    "pycharm": {
     "name": "#%%\n"
    }
   }
  },
  {
   "cell_type": "code",
   "execution_count": null,
   "outputs": [],
   "source": [
    "plt.bar(*zip(*sortedNullCountReturns[0:40]))\n",
    "plt.title(\"Nº de horas sin devoluciones\")\n",
    "plt.show()"
   ],
   "metadata": {
    "collapsed": false,
    "pycharm": {
     "name": "#%%\n"
    }
   }
  },
  {
   "cell_type": "code",
   "execution_count": null,
   "outputs": [],
   "source": [
    "plt.rcParams[\"figure.figsize\"] = (15,5)\n",
    "plt.bar(*zip(*sortedNullCount[0:15]))\n",
    "plt.title(\"Nº de horas sin alquileres ni devoluciones\")\n",
    "plt.show()"
   ],
   "metadata": {
    "collapsed": false,
    "pycharm": {
     "name": "#%%\n"
    }
   }
  },
  {
   "cell_type": "code",
   "execution_count": null,
   "outputs": [],
   "source": [
    "file = open(\"../data/completeData/stations/frequentedStations.txt\", \"w\")\n",
    "for row in sortedNullCount[0:100]:\n",
    "    file.write(str(row[0]) + \"\\n\")\n",
    "file.close()"
   ],
   "metadata": {
    "collapsed": false,
    "pycharm": {
     "name": "#%%\n"
    }
   }
  },
  {
   "cell_type": "code",
   "execution_count": null,
   "outputs": [],
   "source": [
    "plt.rcParams[\"figure.figsize\"] = (15,5)\n",
    "len(sortedNullCount)\n",
    "plt.bar(*zip(*sortedNullCount[679:694]))\n",
    "plt.title(\"Nº de horas sin alquileres ni devoluciones\")\n",
    "plt.show()"
   ],
   "metadata": {
    "collapsed": false,
    "pycharm": {
     "name": "#%%\n"
    }
   }
  },
  {
   "cell_type": "code",
   "execution_count": null,
   "outputs": [],
   "source": [],
   "metadata": {
    "collapsed": false,
    "pycharm": {
     "name": "#%%\n"
    }
   }
  },
  {
   "cell_type": "code",
   "execution_count": 63,
   "outputs": [
    {
     "data": {
      "text/plain": "<Figure size 2160x720 with 1 Axes>",
      "image/png": "[encoded data removed]"
     },
     "metadata": {
      "needs_background": "light"
     },
     "output_type": "display_data"
    }
   ],
   "source": [
    "plt.rcParams[\"figure.figsize\"] = (30,10)\n",
    "plt.bar(*zip(*sortedNullCountRentals[0:40]))\n",
    "plt.title(\"Nº de horas sin alquileres\")\n",
    "plt.show()"
   ],
   "metadata": {
    "collapsed": false,
    "pycharm": {
     "name": "#%%\n"
    }
   }
  },
  {
   "cell_type": "code",
   "execution_count": 64,
   "outputs": [],
   "source": [
    "file = open(\"../data/completeData/stations/frequentedRentalsStations.txt\", \"w\")\n",
    "for row in sortedNullCountRentals[0:49]:\n",
    "    file.write(str(row[0]) + \"\\n\")\n",
    "file.close()"
   ],
   "metadata": {
    "collapsed": false,
    "pycharm": {
     "name": "#%%\n"
    }
   }
  },
  {
   "cell_type": "code",
   "execution_count": 65,
   "outputs": [
    {
     "data": {
      "text/plain": "<Figure size 2160x720 with 1 Axes>",
      "image/png": "[encoded data removed]"
     },
     "metadata": {
      "needs_background": "light"
     },
     "output_type": "display_data"
    }
   ],
   "source": [
    "plt.bar(*zip(*sortedNullCountReturns[0:40]))\n",
    "plt.title(\"Nº de horas sin devoluciones\")\n",
    "plt.show()"
   ],
   "metadata": {
    "collapsed": false,
    "pycharm": {
     "name": "#%%\n"
    }
   }
  },
  {
   "cell_type": "code",
   "execution_count": 80,
   "outputs": [
    {
     "data": {
      "text/plain": "<Figure size 1080x360 with 1 Axes>",
      "image/png": "[encoded data removed]"
     },
     "metadata": {
      "needs_background": "light"
     },
     "output_type": "display_data"
    }
   ],
   "source": [
    "plt.rcParams[\"figure.figsize\"] = (15,5)\n",
    "plt.bar(*zip(*sortedNullCount[0:15]))\n",
    "plt.title(\"Nº de horas sin alquileres ni devoluciones\")\n",
    "plt.show()"
   ],
   "metadata": {
    "collapsed": false,
    "pycharm": {
     "name": "#%%\n"
    }
   }
  },
  {
   "cell_type": "code",
   "execution_count": 67,
   "outputs": [],
   "source": [
    "file = open(\"../data/completeData/stations/frequentedStations.txt\", \"w\")\n",
    "for row in sortedNullCount[0:100]:\n",
    "    file.write(str(row[0]) + \"\\n\")\n",
    "file.close()"
   ],
   "metadata": {
    "collapsed": false,
    "pycharm": {
     "name": "#%%\n"
    }
   }
  },
  {
   "cell_type": "code",
   "execution_count": 87,
   "outputs": [
    {
     "data": {
      "text/plain": "<Figure size 1080x360 with 1 Axes>",
      "image/png": "[encoded data removed]"
     },
     "metadata": {
      "needs_background": "light"
     },
     "output_type": "display_data"
    }
   ],
   "source": [
    "plt.rcParams[\"figure.figsize\"] = (15,5)\n",
    "len(sortedNullCount)\n",
    "plt.bar(*zip(*sortedNullCount[679:694]))\n",
    "plt.title(\"Nº de horas sin alquileres ni devoluciones\")\n",
    "plt.show()"
   ],
   "metadata": {
    "collapsed": false,
    "pycharm": {
     "name": "#%%\n"
    }
   }
  },
  {
   "cell_type": "code",
   "execution_count": null,
   "outputs": [],
   "source": [],
   "metadata": {
    "collapsed": false,
    "pycharm": {
     "name": "#%%\n"
    }
   }
  }
 ],
 "metadata": {
  "kernelspec": {
   "display_name": "Python 3",
   "language": "python",
   "name": "python3"
  },
  "language_info": {
   "codemirror_mode": {
    "name": "ipython",
    "version": 3
   },
   "file_extension": ".py",
   "mimetype": "text/x-python",
   "name": "python",
   "nbconvert_exporter": "python",
   "pygments_lexer": "ipython3",
   "version": "3.9.7"
  }
 },
 "nbformat": 4,
 "nbformat_minor": 5
}